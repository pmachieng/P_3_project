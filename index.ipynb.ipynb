{
 "cells": [
  {
   "cell_type": "markdown",
   "metadata": {},
   "source": [
    "**P_Gaduel_PROJECT**\n"
   ]
  },
  {
   "cell_type": "markdown",
   "metadata": {},
   "source": [
    "**2: Importing the neccessary python libraries and loading the data**"
   ]
  },
  {
   "cell_type": "code",
   "execution_count": 1,
   "metadata": {},
   "outputs": [
    {
     "name": "stdout",
     "output_type": "stream",
     "text": [
      "Index(['event_id_cnty', 'event_date', 'year', 'time_precision',\n",
      "       'disorder_type', 'event_type', 'sub_event_type', 'actor1',\n",
      "       'assoc_actor_1', 'inter1', 'actor2', 'assoc_actor_2', 'inter2',\n",
      "       'interaction', 'civilian_targeting', 'iso', 'region', 'country',\n",
      "       'admin1', 'admin2', 'admin3', 'location', 'latitude', 'longitude',\n",
      "       'geo_precision', 'source', 'source_scale', 'notes', 'fatalities',\n",
      "       'tags', 'timestamp'],\n",
      "      dtype='object')\n"
     ]
    }
   ],
   "source": [
    "import pandas as pd\n",
    "import matplotlib.pyplot as plt\n",
    "%matplotlib inline\n",
    "import seaborn as sns\n",
    "import statistics\n",
    "import plotly.express as px\n",
    "import plotly.graph_objects as go\n",
    "from plotly.subplots import make_subplots\n",
    "\n",
    "df = pd.read_csv(r'C:\\Users\\pgaduel\\Desktop\\Gaduel_Phase3_Project\\Sudan_1997-2024_Dec06.csv')\n",
    "print(df.columns)"
   ]
  },
  {
   "cell_type": "markdown",
   "metadata": {},
   "source": [
    "**3: Data inspection, cleaning and preprocessing**"
   ]
  },
  {
   "cell_type": "code",
   "execution_count": 2,
   "metadata": {},
   "outputs": [
    {
     "name": "stdout",
     "output_type": "stream",
     "text": [
      "Shape of the data: (35057, 31)\n"
     ]
    },
    {
     "data": {
      "text/html": [
       "<div>\n",
       "<style scoped>\n",
       "    .dataframe tbody tr th:only-of-type {\n",
       "        vertical-align: middle;\n",
       "    }\n",
       "\n",
       "    .dataframe tbody tr th {\n",
       "        vertical-align: top;\n",
       "    }\n",
       "\n",
       "    .dataframe thead th {\n",
       "        text-align: right;\n",
       "    }\n",
       "</style>\n",
       "<table border=\"1\" class=\"dataframe\">\n",
       "  <thead>\n",
       "    <tr style=\"text-align: right;\">\n",
       "      <th></th>\n",
       "      <th>event_id_cnty</th>\n",
       "      <th>event_date</th>\n",
       "      <th>year</th>\n",
       "      <th>time_precision</th>\n",
       "      <th>disorder_type</th>\n",
       "      <th>event_type</th>\n",
       "      <th>sub_event_type</th>\n",
       "      <th>actor1</th>\n",
       "      <th>assoc_actor_1</th>\n",
       "      <th>inter1</th>\n",
       "      <th>...</th>\n",
       "      <th>location</th>\n",
       "      <th>latitude</th>\n",
       "      <th>longitude</th>\n",
       "      <th>geo_precision</th>\n",
       "      <th>source</th>\n",
       "      <th>source_scale</th>\n",
       "      <th>notes</th>\n",
       "      <th>fatalities</th>\n",
       "      <th>tags</th>\n",
       "      <th>timestamp</th>\n",
       "    </tr>\n",
       "  </thead>\n",
       "  <tbody>\n",
       "    <tr>\n",
       "      <th>0</th>\n",
       "      <td>SUD31794</td>\n",
       "      <td>12/6/2024</td>\n",
       "      <td>2024</td>\n",
       "      <td>1</td>\n",
       "      <td>Political violence</td>\n",
       "      <td>Battles</td>\n",
       "      <td>Armed clash</td>\n",
       "      <td>Military Forces of Sudan (2019-)</td>\n",
       "      <td>NaN</td>\n",
       "      <td>State forces</td>\n",
       "      <td>...</td>\n",
       "      <td>El Fasher</td>\n",
       "      <td>13.6264</td>\n",
       "      <td>25.3559</td>\n",
       "      <td>1</td>\n",
       "      <td>Twitter; WikiLeaks - El Fasher 'Darfur News'</td>\n",
       "      <td>New media</td>\n",
       "      <td>On 6 December 2024, SAF airstrikes targeted RS...</td>\n",
       "      <td>0</td>\n",
       "      <td>NaN</td>\n",
       "      <td>1733789073</td>\n",
       "    </tr>\n",
       "    <tr>\n",
       "      <th>1</th>\n",
       "      <td>SUD31815</td>\n",
       "      <td>12/6/2024</td>\n",
       "      <td>2024</td>\n",
       "      <td>1</td>\n",
       "      <td>Political violence; Demonstrations</td>\n",
       "      <td>Protests</td>\n",
       "      <td>Excessive force against protesters</td>\n",
       "      <td>Protesters (Sudan)</td>\n",
       "      <td>NaN</td>\n",
       "      <td>Protesters</td>\n",
       "      <td>...</td>\n",
       "      <td>Malha</td>\n",
       "      <td>15.0934</td>\n",
       "      <td>26.1591</td>\n",
       "      <td>1</td>\n",
       "      <td>Darfur 24; WikiLeaks - El Fasher 'Darfur News'</td>\n",
       "      <td>New media-Subnational</td>\n",
       "      <td>On 6 December 2024, residents staged a protest...</td>\n",
       "      <td>1</td>\n",
       "      <td>crowd size=no report</td>\n",
       "      <td>1733789073</td>\n",
       "    </tr>\n",
       "    <tr>\n",
       "      <th>2</th>\n",
       "      <td>SUD31831</td>\n",
       "      <td>12/6/2024</td>\n",
       "      <td>2024</td>\n",
       "      <td>1</td>\n",
       "      <td>Political violence</td>\n",
       "      <td>Explosions/Remote violence</td>\n",
       "      <td>Air/drone strike</td>\n",
       "      <td>Military Forces of Sudan (2019-)</td>\n",
       "      <td>NaN</td>\n",
       "      <td>State forces</td>\n",
       "      <td>...</td>\n",
       "      <td>Khartoum North - Shambat</td>\n",
       "      <td>15.6594</td>\n",
       "      <td>32.5300</td>\n",
       "      <td>1</td>\n",
       "      <td>Alhamish Voice; Beam reports; Emergency Lawyer...</td>\n",
       "      <td>New media-National</td>\n",
       "      <td>On 6 December 2024, SAF airstrikes targeted a ...</td>\n",
       "      <td>5</td>\n",
       "      <td>NaN</td>\n",
       "      <td>1733789073</td>\n",
       "    </tr>\n",
       "    <tr>\n",
       "      <th>3</th>\n",
       "      <td>SUD31839</td>\n",
       "      <td>12/6/2024</td>\n",
       "      <td>2024</td>\n",
       "      <td>1</td>\n",
       "      <td>Demonstrations</td>\n",
       "      <td>Protests</td>\n",
       "      <td>Peaceful protest</td>\n",
       "      <td>Protesters (Sudan)</td>\n",
       "      <td>NaN</td>\n",
       "      <td>Protesters</td>\n",
       "      <td>...</td>\n",
       "      <td>Sunta</td>\n",
       "      <td>11.0432</td>\n",
       "      <td>25.6139</td>\n",
       "      <td>1</td>\n",
       "      <td>Darfur 24</td>\n",
       "      <td>Subnational</td>\n",
       "      <td>On 6 December 2024, residents staged a protest...</td>\n",
       "      <td>0</td>\n",
       "      <td>crowd size=no report</td>\n",
       "      <td>1733789073</td>\n",
       "    </tr>\n",
       "    <tr>\n",
       "      <th>4</th>\n",
       "      <td>SUD31842</td>\n",
       "      <td>12/6/2024</td>\n",
       "      <td>2024</td>\n",
       "      <td>2</td>\n",
       "      <td>Strategic developments</td>\n",
       "      <td>Strategic developments</td>\n",
       "      <td>Change to group/activity</td>\n",
       "      <td>Military Forces of Sudan (2019-)</td>\n",
       "      <td>NaN</td>\n",
       "      <td>State forces</td>\n",
       "      <td>...</td>\n",
       "      <td>Al Sharif Wad El Obeid</td>\n",
       "      <td>14.4121</td>\n",
       "      <td>33.7298</td>\n",
       "      <td>1</td>\n",
       "      <td>Twitter</td>\n",
       "      <td>New media</td>\n",
       "      <td>Movement of forces: Around 6 December 2024 (as...</td>\n",
       "      <td>0</td>\n",
       "      <td>NaN</td>\n",
       "      <td>1733789073</td>\n",
       "    </tr>\n",
       "  </tbody>\n",
       "</table>\n",
       "<p>5 rows × 31 columns</p>\n",
       "</div>"
      ],
      "text/plain": [
       "  event_id_cnty event_date  year  time_precision  \\\n",
       "0      SUD31794  12/6/2024  2024               1   \n",
       "1      SUD31815  12/6/2024  2024               1   \n",
       "2      SUD31831  12/6/2024  2024               1   \n",
       "3      SUD31839  12/6/2024  2024               1   \n",
       "4      SUD31842  12/6/2024  2024               2   \n",
       "\n",
       "                        disorder_type                  event_type  \\\n",
       "0                  Political violence                     Battles   \n",
       "1  Political violence; Demonstrations                    Protests   \n",
       "2                  Political violence  Explosions/Remote violence   \n",
       "3                      Demonstrations                    Protests   \n",
       "4              Strategic developments      Strategic developments   \n",
       "\n",
       "                       sub_event_type                            actor1  \\\n",
       "0                         Armed clash  Military Forces of Sudan (2019-)   \n",
       "1  Excessive force against protesters                Protesters (Sudan)   \n",
       "2                    Air/drone strike  Military Forces of Sudan (2019-)   \n",
       "3                    Peaceful protest                Protesters (Sudan)   \n",
       "4            Change to group/activity  Military Forces of Sudan (2019-)   \n",
       "\n",
       "  assoc_actor_1        inter1  ...                  location latitude  \\\n",
       "0           NaN  State forces  ...                 El Fasher  13.6264   \n",
       "1           NaN    Protesters  ...                     Malha  15.0934   \n",
       "2           NaN  State forces  ...  Khartoum North - Shambat  15.6594   \n",
       "3           NaN    Protesters  ...                     Sunta  11.0432   \n",
       "4           NaN  State forces  ...    Al Sharif Wad El Obeid  14.4121   \n",
       "\n",
       "  longitude geo_precision                                             source  \\\n",
       "0   25.3559             1       Twitter; WikiLeaks - El Fasher 'Darfur News'   \n",
       "1   26.1591             1     Darfur 24; WikiLeaks - El Fasher 'Darfur News'   \n",
       "2   32.5300             1  Alhamish Voice; Beam reports; Emergency Lawyer...   \n",
       "3   25.6139             1                                          Darfur 24   \n",
       "4   33.7298             1                                            Twitter   \n",
       "\n",
       "            source_scale                                              notes  \\\n",
       "0              New media  On 6 December 2024, SAF airstrikes targeted RS...   \n",
       "1  New media-Subnational  On 6 December 2024, residents staged a protest...   \n",
       "2     New media-National  On 6 December 2024, SAF airstrikes targeted a ...   \n",
       "3            Subnational  On 6 December 2024, residents staged a protest...   \n",
       "4              New media  Movement of forces: Around 6 December 2024 (as...   \n",
       "\n",
       "  fatalities                  tags   timestamp  \n",
       "0          0                   NaN  1733789073  \n",
       "1          1  crowd size=no report  1733789073  \n",
       "2          5                   NaN  1733789073  \n",
       "3          0  crowd size=no report  1733789073  \n",
       "4          0                   NaN  1733789073  \n",
       "\n",
       "[5 rows x 31 columns]"
      ]
     },
     "execution_count": 2,
     "metadata": {},
     "output_type": "execute_result"
    }
   ],
   "source": [
    "#Inspecting the dataset\n",
    "\n",
    "print(\"Shape of the data:\", df.shape)\n",
    "Rows,Cols=df.shape\n",
    "df.head()"
   ]
  },
  {
   "cell_type": "code",
   "execution_count": 3,
   "metadata": {},
   "outputs": [
    {
     "data": {
      "text/html": [
       "<div>\n",
       "<style scoped>\n",
       "    .dataframe tbody tr th:only-of-type {\n",
       "        vertical-align: middle;\n",
       "    }\n",
       "\n",
       "    .dataframe tbody tr th {\n",
       "        vertical-align: top;\n",
       "    }\n",
       "\n",
       "    .dataframe thead th {\n",
       "        text-align: right;\n",
       "    }\n",
       "</style>\n",
       "<table border=\"1\" class=\"dataframe\">\n",
       "  <thead>\n",
       "    <tr style=\"text-align: right;\">\n",
       "      <th></th>\n",
       "      <th>year</th>\n",
       "      <th>disorder_type</th>\n",
       "      <th>event_type</th>\n",
       "      <th>actor1</th>\n",
       "      <th>inter1</th>\n",
       "      <th>location</th>\n",
       "      <th>fatalities</th>\n",
       "      <th>actor1</th>\n",
       "      <th>admin1</th>\n",
       "      <th>geo_precision</th>\n",
       "      <th>source_scale</th>\n",
       "    </tr>\n",
       "  </thead>\n",
       "  <tbody>\n",
       "    <tr>\n",
       "      <th>0</th>\n",
       "      <td>2024</td>\n",
       "      <td>Political violence</td>\n",
       "      <td>Battles</td>\n",
       "      <td>Military Forces of Sudan (2019-)</td>\n",
       "      <td>State forces</td>\n",
       "      <td>El Fasher</td>\n",
       "      <td>0</td>\n",
       "      <td>Military Forces of Sudan (2019-)</td>\n",
       "      <td>North Darfur</td>\n",
       "      <td>1</td>\n",
       "      <td>New media</td>\n",
       "    </tr>\n",
       "    <tr>\n",
       "      <th>1</th>\n",
       "      <td>2024</td>\n",
       "      <td>Political violence; Demonstrations</td>\n",
       "      <td>Protests</td>\n",
       "      <td>Protesters (Sudan)</td>\n",
       "      <td>Protesters</td>\n",
       "      <td>Malha</td>\n",
       "      <td>1</td>\n",
       "      <td>Protesters (Sudan)</td>\n",
       "      <td>North Darfur</td>\n",
       "      <td>1</td>\n",
       "      <td>New media-Subnational</td>\n",
       "    </tr>\n",
       "    <tr>\n",
       "      <th>2</th>\n",
       "      <td>2024</td>\n",
       "      <td>Political violence</td>\n",
       "      <td>Explosions/Remote violence</td>\n",
       "      <td>Military Forces of Sudan (2019-)</td>\n",
       "      <td>State forces</td>\n",
       "      <td>Khartoum North - Shambat</td>\n",
       "      <td>5</td>\n",
       "      <td>Military Forces of Sudan (2019-)</td>\n",
       "      <td>Khartoum</td>\n",
       "      <td>1</td>\n",
       "      <td>New media-National</td>\n",
       "    </tr>\n",
       "    <tr>\n",
       "      <th>3</th>\n",
       "      <td>2024</td>\n",
       "      <td>Demonstrations</td>\n",
       "      <td>Protests</td>\n",
       "      <td>Protesters (Sudan)</td>\n",
       "      <td>Protesters</td>\n",
       "      <td>Sunta</td>\n",
       "      <td>0</td>\n",
       "      <td>Protesters (Sudan)</td>\n",
       "      <td>South Darfur</td>\n",
       "      <td>1</td>\n",
       "      <td>Subnational</td>\n",
       "    </tr>\n",
       "    <tr>\n",
       "      <th>4</th>\n",
       "      <td>2024</td>\n",
       "      <td>Strategic developments</td>\n",
       "      <td>Strategic developments</td>\n",
       "      <td>Military Forces of Sudan (2019-)</td>\n",
       "      <td>State forces</td>\n",
       "      <td>Al Sharif Wad El Obeid</td>\n",
       "      <td>0</td>\n",
       "      <td>Military Forces of Sudan (2019-)</td>\n",
       "      <td>Al Jazirah</td>\n",
       "      <td>1</td>\n",
       "      <td>New media</td>\n",
       "    </tr>\n",
       "    <tr>\n",
       "      <th>5</th>\n",
       "      <td>2024</td>\n",
       "      <td>Political violence</td>\n",
       "      <td>Explosions/Remote violence</td>\n",
       "      <td>Military Forces of Sudan (2019-)</td>\n",
       "      <td>State forces</td>\n",
       "      <td>Um Talha</td>\n",
       "      <td>8</td>\n",
       "      <td>Military Forces of Sudan (2019-)</td>\n",
       "      <td>Al Jazirah</td>\n",
       "      <td>1</td>\n",
       "      <td>International</td>\n",
       "    </tr>\n",
       "    <tr>\n",
       "      <th>6</th>\n",
       "      <td>2024</td>\n",
       "      <td>Strategic developments</td>\n",
       "      <td>Strategic developments</td>\n",
       "      <td>Military Forces of Sudan (2019-)</td>\n",
       "      <td>State forces</td>\n",
       "      <td>Um Algura</td>\n",
       "      <td>0</td>\n",
       "      <td>Military Forces of Sudan (2019-)</td>\n",
       "      <td>Al Jazirah</td>\n",
       "      <td>2</td>\n",
       "      <td>New media</td>\n",
       "    </tr>\n",
       "    <tr>\n",
       "      <th>7</th>\n",
       "      <td>2024</td>\n",
       "      <td>Political violence</td>\n",
       "      <td>Explosions/Remote violence</td>\n",
       "      <td>Military Forces of Sudan (2019-)</td>\n",
       "      <td>State forces</td>\n",
       "      <td>Ombada</td>\n",
       "      <td>10</td>\n",
       "      <td>Military Forces of Sudan (2019-)</td>\n",
       "      <td>Khartoum</td>\n",
       "      <td>1</td>\n",
       "      <td>National</td>\n",
       "    </tr>\n",
       "    <tr>\n",
       "      <th>8</th>\n",
       "      <td>2024</td>\n",
       "      <td>Political violence</td>\n",
       "      <td>Violence against civilians</td>\n",
       "      <td>Murle Ethnic Militia (South Sudan)</td>\n",
       "      <td>Identity militia</td>\n",
       "      <td>Yuai</td>\n",
       "      <td>1</td>\n",
       "      <td>Murle Ethnic Militia (South Sudan)</td>\n",
       "      <td>Jonglei</td>\n",
       "      <td>3</td>\n",
       "      <td>National</td>\n",
       "    </tr>\n",
       "    <tr>\n",
       "      <th>9</th>\n",
       "      <td>2024</td>\n",
       "      <td>Political violence</td>\n",
       "      <td>Battles</td>\n",
       "      <td>Unidentified Communal Militia (South Sudan)</td>\n",
       "      <td>Identity militia</td>\n",
       "      <td>Cueibet</td>\n",
       "      <td>0</td>\n",
       "      <td>Unidentified Communal Militia (South Sudan)</td>\n",
       "      <td>Lakes</td>\n",
       "      <td>2</td>\n",
       "      <td>National</td>\n",
       "    </tr>\n",
       "    <tr>\n",
       "      <th>10</th>\n",
       "      <td>2024</td>\n",
       "      <td>Political violence</td>\n",
       "      <td>Battles</td>\n",
       "      <td>Titweng Ethnic Militia (South Sudan)</td>\n",
       "      <td>Identity militia</td>\n",
       "      <td>Athony (Tiitcok boma)</td>\n",
       "      <td>5</td>\n",
       "      <td>Titweng Ethnic Militia (South Sudan)</td>\n",
       "      <td>Warrap</td>\n",
       "      <td>2</td>\n",
       "      <td>New media</td>\n",
       "    </tr>\n",
       "    <tr>\n",
       "      <th>11</th>\n",
       "      <td>2024</td>\n",
       "      <td>Political violence</td>\n",
       "      <td>Battles</td>\n",
       "      <td>Titweng Ethnic Militia (South Sudan)</td>\n",
       "      <td>Identity militia</td>\n",
       "      <td>Nyin Deng Ayuel</td>\n",
       "      <td>0</td>\n",
       "      <td>Titweng Ethnic Militia (South Sudan)</td>\n",
       "      <td>Warrap</td>\n",
       "      <td>2</td>\n",
       "      <td>New media</td>\n",
       "    </tr>\n",
       "    <tr>\n",
       "      <th>12</th>\n",
       "      <td>2024</td>\n",
       "      <td>Political violence</td>\n",
       "      <td>Violence against civilians</td>\n",
       "      <td>Darfur Communal Militia (Sudan)</td>\n",
       "      <td>Identity militia</td>\n",
       "      <td>Tendelti</td>\n",
       "      <td>1</td>\n",
       "      <td>Darfur Communal Militia (Sudan)</td>\n",
       "      <td>West Darfur</td>\n",
       "      <td>1</td>\n",
       "      <td>Subnational</td>\n",
       "    </tr>\n",
       "    <tr>\n",
       "      <th>13</th>\n",
       "      <td>2024</td>\n",
       "      <td>Strategic developments</td>\n",
       "      <td>Strategic developments</td>\n",
       "      <td>Government of Sudan (2019-)</td>\n",
       "      <td>State forces</td>\n",
       "      <td>El Fasher</td>\n",
       "      <td>0</td>\n",
       "      <td>Government of Sudan (2019-)</td>\n",
       "      <td>North Darfur</td>\n",
       "      <td>1</td>\n",
       "      <td>New media-National</td>\n",
       "    </tr>\n",
       "    <tr>\n",
       "      <th>14</th>\n",
       "      <td>2024</td>\n",
       "      <td>Strategic developments</td>\n",
       "      <td>Strategic developments</td>\n",
       "      <td>Government of Sudan (2019-)</td>\n",
       "      <td>State forces</td>\n",
       "      <td>Ed Damer</td>\n",
       "      <td>0</td>\n",
       "      <td>Government of Sudan (2019-)</td>\n",
       "      <td>River Nile</td>\n",
       "      <td>1</td>\n",
       "      <td>National</td>\n",
       "    </tr>\n",
       "    <tr>\n",
       "      <th>15</th>\n",
       "      <td>2024</td>\n",
       "      <td>Strategic developments</td>\n",
       "      <td>Strategic developments</td>\n",
       "      <td>Government of Sudan (2019-)</td>\n",
       "      <td>State forces</td>\n",
       "      <td>Nyala</td>\n",
       "      <td>0</td>\n",
       "      <td>Government of Sudan (2019-)</td>\n",
       "      <td>South Darfur</td>\n",
       "      <td>3</td>\n",
       "      <td>New media-National</td>\n",
       "    </tr>\n",
       "    <tr>\n",
       "      <th>16</th>\n",
       "      <td>2024</td>\n",
       "      <td>Strategic developments</td>\n",
       "      <td>Strategic developments</td>\n",
       "      <td>Military Forces of Sudan (2019-)</td>\n",
       "      <td>State forces</td>\n",
       "      <td>Al Fawwar</td>\n",
       "      <td>0</td>\n",
       "      <td>Military Forces of Sudan (2019-)</td>\n",
       "      <td>Al Jazirah</td>\n",
       "      <td>1</td>\n",
       "      <td>New media</td>\n",
       "    </tr>\n",
       "    <tr>\n",
       "      <th>17</th>\n",
       "      <td>2024</td>\n",
       "      <td>Strategic developments</td>\n",
       "      <td>Strategic developments</td>\n",
       "      <td>Military Forces of Sudan (2019-)</td>\n",
       "      <td>State forces</td>\n",
       "      <td>El Jebelain</td>\n",
       "      <td>0</td>\n",
       "      <td>Military Forces of Sudan (2019-)</td>\n",
       "      <td>White Nile</td>\n",
       "      <td>1</td>\n",
       "      <td>New media-National</td>\n",
       "    </tr>\n",
       "    <tr>\n",
       "      <th>18</th>\n",
       "      <td>2024</td>\n",
       "      <td>Political violence</td>\n",
       "      <td>Battles</td>\n",
       "      <td>Military Forces of Sudan (2019-)</td>\n",
       "      <td>State forces</td>\n",
       "      <td>Al Remila</td>\n",
       "      <td>0</td>\n",
       "      <td>Military Forces of Sudan (2019-)</td>\n",
       "      <td>Al Jazirah</td>\n",
       "      <td>1</td>\n",
       "      <td>New media</td>\n",
       "    </tr>\n",
       "    <tr>\n",
       "      <th>19</th>\n",
       "      <td>2024</td>\n",
       "      <td>Strategic developments</td>\n",
       "      <td>Strategic developments</td>\n",
       "      <td>Government of Sudan (2019-)</td>\n",
       "      <td>State forces</td>\n",
       "      <td>Port Sudan</td>\n",
       "      <td>0</td>\n",
       "      <td>Government of Sudan (2019-)</td>\n",
       "      <td>Red Sea</td>\n",
       "      <td>1</td>\n",
       "      <td>National</td>\n",
       "    </tr>\n",
       "  </tbody>\n",
       "</table>\n",
       "</div>"
      ],
      "text/plain": [
       "    year                       disorder_type                  event_type  \\\n",
       "0   2024                  Political violence                     Battles   \n",
       "1   2024  Political violence; Demonstrations                    Protests   \n",
       "2   2024                  Political violence  Explosions/Remote violence   \n",
       "3   2024                      Demonstrations                    Protests   \n",
       "4   2024              Strategic developments      Strategic developments   \n",
       "5   2024                  Political violence  Explosions/Remote violence   \n",
       "6   2024              Strategic developments      Strategic developments   \n",
       "7   2024                  Political violence  Explosions/Remote violence   \n",
       "8   2024                  Political violence  Violence against civilians   \n",
       "9   2024                  Political violence                     Battles   \n",
       "10  2024                  Political violence                     Battles   \n",
       "11  2024                  Political violence                     Battles   \n",
       "12  2024                  Political violence  Violence against civilians   \n",
       "13  2024              Strategic developments      Strategic developments   \n",
       "14  2024              Strategic developments      Strategic developments   \n",
       "15  2024              Strategic developments      Strategic developments   \n",
       "16  2024              Strategic developments      Strategic developments   \n",
       "17  2024              Strategic developments      Strategic developments   \n",
       "18  2024                  Political violence                     Battles   \n",
       "19  2024              Strategic developments      Strategic developments   \n",
       "\n",
       "                                         actor1            inter1  \\\n",
       "0              Military Forces of Sudan (2019-)      State forces   \n",
       "1                            Protesters (Sudan)        Protesters   \n",
       "2              Military Forces of Sudan (2019-)      State forces   \n",
       "3                            Protesters (Sudan)        Protesters   \n",
       "4              Military Forces of Sudan (2019-)      State forces   \n",
       "5              Military Forces of Sudan (2019-)      State forces   \n",
       "6              Military Forces of Sudan (2019-)      State forces   \n",
       "7              Military Forces of Sudan (2019-)      State forces   \n",
       "8            Murle Ethnic Militia (South Sudan)  Identity militia   \n",
       "9   Unidentified Communal Militia (South Sudan)  Identity militia   \n",
       "10         Titweng Ethnic Militia (South Sudan)  Identity militia   \n",
       "11         Titweng Ethnic Militia (South Sudan)  Identity militia   \n",
       "12              Darfur Communal Militia (Sudan)  Identity militia   \n",
       "13                  Government of Sudan (2019-)      State forces   \n",
       "14                  Government of Sudan (2019-)      State forces   \n",
       "15                  Government of Sudan (2019-)      State forces   \n",
       "16             Military Forces of Sudan (2019-)      State forces   \n",
       "17             Military Forces of Sudan (2019-)      State forces   \n",
       "18             Military Forces of Sudan (2019-)      State forces   \n",
       "19                  Government of Sudan (2019-)      State forces   \n",
       "\n",
       "                    location  fatalities  \\\n",
       "0                  El Fasher           0   \n",
       "1                      Malha           1   \n",
       "2   Khartoum North - Shambat           5   \n",
       "3                      Sunta           0   \n",
       "4     Al Sharif Wad El Obeid           0   \n",
       "5                   Um Talha           8   \n",
       "6                  Um Algura           0   \n",
       "7                     Ombada          10   \n",
       "8                       Yuai           1   \n",
       "9                    Cueibet           0   \n",
       "10     Athony (Tiitcok boma)           5   \n",
       "11           Nyin Deng Ayuel           0   \n",
       "12                  Tendelti           1   \n",
       "13                 El Fasher           0   \n",
       "14                  Ed Damer           0   \n",
       "15                     Nyala           0   \n",
       "16                 Al Fawwar           0   \n",
       "17               El Jebelain           0   \n",
       "18                 Al Remila           0   \n",
       "19                Port Sudan           0   \n",
       "\n",
       "                                         actor1        admin1  geo_precision  \\\n",
       "0              Military Forces of Sudan (2019-)  North Darfur              1   \n",
       "1                            Protesters (Sudan)  North Darfur              1   \n",
       "2              Military Forces of Sudan (2019-)      Khartoum              1   \n",
       "3                            Protesters (Sudan)  South Darfur              1   \n",
       "4              Military Forces of Sudan (2019-)    Al Jazirah              1   \n",
       "5              Military Forces of Sudan (2019-)    Al Jazirah              1   \n",
       "6              Military Forces of Sudan (2019-)    Al Jazirah              2   \n",
       "7              Military Forces of Sudan (2019-)      Khartoum              1   \n",
       "8            Murle Ethnic Militia (South Sudan)       Jonglei              3   \n",
       "9   Unidentified Communal Militia (South Sudan)         Lakes              2   \n",
       "10         Titweng Ethnic Militia (South Sudan)        Warrap              2   \n",
       "11         Titweng Ethnic Militia (South Sudan)        Warrap              2   \n",
       "12              Darfur Communal Militia (Sudan)   West Darfur              1   \n",
       "13                  Government of Sudan (2019-)  North Darfur              1   \n",
       "14                  Government of Sudan (2019-)    River Nile              1   \n",
       "15                  Government of Sudan (2019-)  South Darfur              3   \n",
       "16             Military Forces of Sudan (2019-)    Al Jazirah              1   \n",
       "17             Military Forces of Sudan (2019-)    White Nile              1   \n",
       "18             Military Forces of Sudan (2019-)    Al Jazirah              1   \n",
       "19                  Government of Sudan (2019-)       Red Sea              1   \n",
       "\n",
       "             source_scale  \n",
       "0               New media  \n",
       "1   New media-Subnational  \n",
       "2      New media-National  \n",
       "3             Subnational  \n",
       "4               New media  \n",
       "5           International  \n",
       "6               New media  \n",
       "7                National  \n",
       "8                National  \n",
       "9                National  \n",
       "10              New media  \n",
       "11              New media  \n",
       "12            Subnational  \n",
       "13     New media-National  \n",
       "14               National  \n",
       "15     New media-National  \n",
       "16              New media  \n",
       "17     New media-National  \n",
       "18              New media  \n",
       "19               National  "
      ]
     },
     "execution_count": 3,
     "metadata": {},
     "output_type": "execute_result"
    }
   ],
   "source": [
    "# Selecting certain columns\n",
    "selected_columns = ['year','disorder_type', 'event_type' , 'actor1', 'inter1',  'location', 'fatalities', 'actor1', 'admin1', 'geo_precision', 'source_scale']\n",
    "\n",
    "# Creating a new DataFrame with selected columns\n",
    "\n",
    "df_selected = df[selected_columns]\n",
    "\n",
    "df_selected.head(20)\n"
   ]
  },
  {
   "cell_type": "code",
   "execution_count": 4,
   "metadata": {},
   "outputs": [
    {
     "name": "stdout",
     "output_type": "stream",
     "text": [
      "<class 'pandas.core.frame.DataFrame'>\n",
      "RangeIndex: 35057 entries, 0 to 35056\n",
      "Data columns (total 11 columns):\n",
      " #   Column         Non-Null Count  Dtype \n",
      "---  ------         --------------  ----- \n",
      " 0   year           35057 non-null  int64 \n",
      " 1   disorder_type  35057 non-null  object\n",
      " 2   event_type     35057 non-null  object\n",
      " 3   actor1         35057 non-null  object\n",
      " 4   inter1         35057 non-null  object\n",
      " 5   location       35057 non-null  object\n",
      " 6   fatalities     35057 non-null  int64 \n",
      " 7   actor1         35057 non-null  object\n",
      " 8   admin1         35057 non-null  object\n",
      " 9   geo_precision  35057 non-null  int64 \n",
      " 10  source_scale   35057 non-null  object\n",
      "dtypes: int64(3), object(8)\n",
      "memory usage: 2.9+ MB\n",
      "None\n"
     ]
    }
   ],
   "source": [
    "print(df_selected.info())"
   ]
  },
  {
   "cell_type": "code",
   "execution_count": 5,
   "metadata": {},
   "outputs": [
    {
     "data": {
      "text/plain": [
       "(35057, 11)"
      ]
     },
     "execution_count": 5,
     "metadata": {},
     "output_type": "execute_result"
    }
   ],
   "source": [
    "df_selected.shape"
   ]
  },
  {
   "cell_type": "code",
   "execution_count": 6,
   "metadata": {},
   "outputs": [
    {
     "data": {
      "text/plain": [
       "<Axes: >"
      ]
     },
     "execution_count": 6,
     "metadata": {},
     "output_type": "execute_result"
    },
    {
     "data": {
      "image/png": "[encoded data removed]",
      "text/plain": [
       "<Figure size 640x480 with 1 Axes>"
      ]
     },
     "metadata": {},
     "output_type": "display_data"
    }
   ],
   "source": [
    "sns.heatmap(df_selected.isnull(), yticklabels=False, cbar=False)"
   ]
  },
  {
   "cell_type": "markdown",
   "metadata": {},
   "source": [
    "## 4: Data Visualisation ##\n",
    "\n",
    " **Understanding the data and preparing the target Variables**\n",
    "\n",
    "The aim of this step is to classify conflict in Sudan by type for example;  disorder_type (e.g., \"Protests\", \"Battles\", etc.) \n",
    "\n",
    " *What is the most common source of violence in Sudan?*"
   ]
  },
  {
   "cell_type": "code",
   "execution_count": 7,
   "metadata": {},
   "outputs": [
    {
     "name": "stdout",
     "output_type": "stream",
     "text": [
      "event_type\n",
      "Battles                       11282\n",
      "Violence against civilians     9355\n",
      "Protests                       6282\n",
      "Explosions/Remote violence     4058\n",
      "Strategic developments         3086\n",
      "Riots                           994\n",
      "Name: count, dtype: int64\n"
     ]
    }
   ],
   "source": [
    "print(df_selected['event_type'].value_counts())"
   ]
  },
  {
   "cell_type": "code",
   "execution_count": 8,
   "metadata": {},
   "outputs": [
    {
     "name": "stdout",
     "output_type": "stream",
     "text": [
      "event_type\n",
      "Battles                       11282\n",
      "Violence against civilians     9355\n",
      "Protests                       6282\n",
      "Explosions/Remote violence     4058\n",
      "Strategic developments         3086\n",
      "Riots                           994\n",
      "Name: count, dtype: int64\n"
     ]
    }
   ],
   "source": [
    "print(df_selected['event_type'].value_counts())"
   ]
  },
  {
   "cell_type": "code",
   "execution_count": 9,
   "metadata": {},
   "outputs": [
    {
     "name": "stderr",
     "output_type": "stream",
     "text": [
      "C:\\Users\\pgaduel\\AppData\\Local\\Temp\\ipykernel_28128\\793652818.py:6: FutureWarning: \n",
      "\n",
      "Passing `palette` without assigning `hue` is deprecated and will be removed in v0.14.0. Assign the `y` variable to `hue` and set `legend=False` for the same effect.\n",
      "\n",
      "  sns.barplot(x=event_counts.values, y=event_counts.index, palette='viridis')\n"
     ]
    },
    {
     "data": {
      "image/png": "[encoded data removed]",
      "text/plain": [
       "<Figure size 640x480 with 1 Axes>"
      ]
     },
     "metadata": {},
     "output_type": "display_data"
    }
   ],
   "source": [
    "# Count occurrences of each 'event_type'\n",
    "\n",
    "event_counts = df_selected['event_type'].value_counts()\n",
    "\n",
    "# Create a barplot\n",
    "sns.barplot(x=event_counts.values, y=event_counts.index, palette='viridis')\n",
    "\n",
    "# Add titles and labels\n",
    "plt.title('Event Type Counts')\n",
    "plt.xlabel('Count')\n",
    "plt.ylabel('Event Type')\n",
    "\n",
    "# Display the plot\n",
    "plt.show()"
   ]
  },
  {
   "cell_type": "code",
   "execution_count": 10,
   "metadata": {},
   "outputs": [
    {
     "data": {
      "application/vnd.plotly.v1+json": {
       "config": {
        "plotlyServerURL": "https://plot.ly"
       },
       "data": [
        {
         "domain": {
          "x": [
           0,
           1
          ],
          "y": [
           0,
           1
          ]
         },
         "hovertemplate": "event_type=%{label}<br>value=%{value}<extra></extra>",
         "labels": [
          "Battles",
          "Violence against civilians",
          "Protests",
          "Explosions/Remote violence",
          "Strategic developments",
          "Riots"
         ],
         "legendgroup": "",
         "name": "",
         "showlegend": true,
         "type": "pie",
         "values": [
          11282,
          9355,
          6282,
          4058,
          3086,
          994
         ]
        }
       ],
       "layout": {
        "legend": {
         "tracegroupgap": 0
        },
        "template": {
         "data": {
          "bar": [
           {
            "error_x": {
             "color": "#2a3f5f"
            },
            "error_y": {
             "color": "#2a3f5f"
            },
            "marker": {
             "line": {
              "color": "#E5ECF6",
              "width": 0.5
             },
             "pattern": {
              "fillmode": "overlay",
              "size": 10,
              "solidity": 0.2
             }
            },
            "type": "bar"
           }
          ],
          "barpolar": [
           {
            "marker": {
             "line": {
              "color": "#E5ECF6",
              "width": 0.5
             },
             "pattern": {
              "fillmode": "overlay",
              "size": 10,
              "solidity": 0.2
             }
            },
            "type": "barpolar"
           }
          ],
          "carpet": [
           {
            "aaxis": {
             "endlinecolor": "#2a3f5f",
             "gridcolor": "white",
             "linecolor": "white",
             "minorgridcolor": "white",
             "startlinecolor": "#2a3f5f"
            },
            "baxis": {
             "endlinecolor": "#2a3f5f",
             "gridcolor": "white",
             "linecolor": "white",
             "minorgridcolor": "white",
             "startlinecolor": "#2a3f5f"
            },
            "type": "carpet"
           }
          ],
          "choropleth": [
           {
            "colorbar": {
             "outlinewidth": 0,
             "ticks": ""
            },
            "type": "choropleth"
           }
          ],
          "contour": [
           {
            "colorbar": {
             "outlinewidth": 0,
             "ticks": ""
            },
            "colorscale": [
             [
              0,
              "#0d0887"
             ],
             [
              0.1111111111111111,
              "#46039f"
             ],
             [
              0.2222222222222222,
              "#7201a8"
             ],
             [
              0.3333333333333333,
              "#9c179e"
             ],
             [
              0.4444444444444444,
              "#bd3786"
             ],
             [
              0.5555555555555556,
              "#d8576b"
             ],
             [
              0.6666666666666666,
              "#ed7953"
             ],
             [
              0.7777777777777778,
              "#fb9f3a"
             ],
             [
              0.8888888888888888,
              "#fdca26"
             ],
             [
              1,
              "#f0f921"
             ]
            ],
            "type": "contour"
           }
          ],
          "contourcarpet": [
           {
            "colorbar": {
             "outlinewidth": 0,
             "ticks": ""
            },
            "type": "contourcarpet"
           }
          ],
          "heatmap": [
           {
            "colorbar": {
             "outlinewidth": 0,
             "ticks": ""
            },
            "colorscale": [
             [
              0,
              "#0d0887"
             ],
             [
              0.1111111111111111,
              "#46039f"
             ],
             [
              0.2222222222222222,
              "#7201a8"
             ],
             [
              0.3333333333333333,
              "#9c179e"
             ],
             [
              0.4444444444444444,
              "#bd3786"
             ],
             [
              0.5555555555555556,
              "#d8576b"
             ],
             [
              0.6666666666666666,
              "#ed7953"
             ],
             [
              0.7777777777777778,
              "#fb9f3a"
             ],
             [
              0.8888888888888888,
              "#fdca26"
             ],
             [
              1,
              "#f0f921"
             ]
            ],
            "type": "heatmap"
           }
          ],
          "heatmapgl": [
           {
            "colorbar": {
             "outlinewidth": 0,
             "ticks": ""
            },
            "colorscale": [
             [
              0,
              "#0d0887"
             ],
             [
              0.1111111111111111,
              "#46039f"
             ],
             [
              0.2222222222222222,
              "#7201a8"
             ],
             [
              0.3333333333333333,
              "#9c179e"
             ],
             [
              0.4444444444444444,
              "#bd3786"
             ],
             [
              0.5555555555555556,
              "#d8576b"
             ],
             [
              0.6666666666666666,
              "#ed7953"
             ],
             [
              0.7777777777777778,
              "#fb9f3a"
             ],
             [
              0.8888888888888888,
              "#fdca26"
             ],
             [
              1,
              "#f0f921"
             ]
            ],
            "type": "heatmapgl"
           }
          ],
          "histogram": [
           {
            "marker": {
             "pattern": {
              "fillmode": "overlay",
              "size": 10,
              "solidity": 0.2
             }
            },
            "type": "histogram"
           }
          ],
          "histogram2d": [
           {
            "colorbar": {
             "outlinewidth": 0,
             "ticks": ""
            },
            "colorscale": [
             [
              0,
              "#0d0887"
             ],
             [
              0.1111111111111111,
              "#46039f"
             ],
             [
              0.2222222222222222,
              "#7201a8"
             ],
             [
              0.3333333333333333,
              "#9c179e"
             ],
             [
              0.4444444444444444,
              "#bd3786"
             ],
             [
              0.5555555555555556,
              "#d8576b"
             ],
             [
              0.6666666666666666,
              "#ed7953"
             ],
             [
              0.7777777777777778,
              "#fb9f3a"
             ],
             [
              0.8888888888888888,
              "#fdca26"
             ],
             [
              1,
              "#f0f921"
             ]
            ],
            "type": "histogram2d"
           }
          ],
          "histogram2dcontour": [
           {
            "colorbar": {
             "outlinewidth": 0,
             "ticks": ""
            },
            "colorscale": [
             [
              0,
              "#0d0887"
             ],
             [
              0.1111111111111111,
              "#46039f"
             ],
             [
              0.2222222222222222,
              "#7201a8"
             ],
             [
              0.3333333333333333,
              "#9c179e"
             ],
             [
              0.4444444444444444,
              "#bd3786"
             ],
             [
              0.5555555555555556,
              "#d8576b"
             ],
             [
              0.6666666666666666,
              "#ed7953"
             ],
             [
              0.7777777777777778,
              "#fb9f3a"
             ],
             [
              0.8888888888888888,
              "#fdca26"
             ],
             [
              1,
              "#f0f921"
             ]
            ],
            "type": "histogram2dcontour"
           }
          ],
          "mesh3d": [
           {
            "colorbar": {
             "outlinewidth": 0,
             "ticks": ""
            },
            "type": "mesh3d"
           }
          ],
          "parcoords": [
           {
            "line": {
             "colorbar": {
              "outlinewidth": 0,
              "ticks": ""
             }
            },
            "type": "parcoords"
           }
          ],
          "pie": [
           {
            "automargin": true,
            "type": "pie"
           }
          ],
          "scatter": [
           {
            "fillpattern": {
             "fillmode": "overlay",
             "size": 10,
             "solidity": 0.2
            },
            "type": "scatter"
           }
          ],
          "scatter3d": [
           {
            "line": {
             "colorbar": {
              "outlinewidth": 0,
              "ticks": ""
             }
            },
            "marker": {
             "colorbar": {
              "outlinewidth": 0,
              "ticks": ""
             }
            },
            "type": "scatter3d"
           }
          ],
          "scattercarpet": [
           {
            "marker": {
             "colorbar": {
              "outlinewidth": 0,
              "ticks": ""
             }
            },
            "type": "scattercarpet"
           }
          ],
          "scattergeo": [
           {
            "marker": {
             "colorbar": {
              "outlinewidth": 0,
              "ticks": ""
             }
            },
            "type": "scattergeo"
           }
          ],
          "scattergl": [
           {
            "marker": {
             "colorbar": {
              "outlinewidth": 0,
              "ticks": ""
             }
            },
            "type": "scattergl"
           }
          ],
          "scattermapbox": [
           {
            "marker": {
             "colorbar": {
              "outlinewidth": 0,
              "ticks": ""
             }
            },
            "type": "scattermapbox"
           }
          ],
          "scatterpolar": [
           {
            "marker": {
             "colorbar": {
              "outlinewidth": 0,
              "ticks": ""
             }
            },
            "type": "scatterpolar"
           }
          ],
          "scatterpolargl": [
           {
            "marker": {
             "colorbar": {
              "outlinewidth": 0,
              "ticks": ""
             }
            },
            "type": "scatterpolargl"
           }
          ],
          "scatterternary": [
           {
            "marker": {
             "colorbar": {
              "outlinewidth": 0,
              "ticks": ""
             }
            },
            "type": "scatterternary"
           }
          ],
          "surface": [
           {
            "colorbar": {
             "outlinewidth": 0,
             "ticks": ""
            },
            "colorscale": [
             [
              0,
              "#0d0887"
             ],
             [
              0.1111111111111111,
              "#46039f"
             ],
             [
              0.2222222222222222,
              "#7201a8"
             ],
             [
              0.3333333333333333,
              "#9c179e"
             ],
             [
              0.4444444444444444,
              "#bd3786"
             ],
             [
              0.5555555555555556,
              "#d8576b"
             ],
             [
              0.6666666666666666,
              "#ed7953"
             ],
             [
              0.7777777777777778,
              "#fb9f3a"
             ],
             [
              0.8888888888888888,
              "#fdca26"
             ],
             [
              1,
              "#f0f921"
             ]
            ],
            "type": "surface"
           }
          ],
          "table": [
           {
            "cells": {
             "fill": {
              "color": "#EBF0F8"
             },
             "line": {
              "color": "white"
             }
            },
            "header": {
             "fill": {
              "color": "#C8D4E3"
             },
             "line": {
              "color": "white"
             }
            },
            "type": "table"
           }
          ]
         },
         "layout": {
          "annotationdefaults": {
           "arrowcolor": "#2a3f5f",
           "arrowhead": 0,
           "arrowwidth": 1
          },
          "autotypenumbers": "strict",
          "coloraxis": {
           "colorbar": {
            "outlinewidth": 0,
            "ticks": ""
           }
          },
          "colorscale": {
           "diverging": [
            [
             0,
             "#8e0152"
            ],
            [
             0.1,
             "#c51b7d"
            ],
            [
             0.2,
             "#de77ae"
            ],
            [
             0.3,
             "#f1b6da"
            ],
            [
             0.4,
             "#fde0ef"
            ],
            [
             0.5,
             "#f7f7f7"
            ],
            [
             0.6,
             "#e6f5d0"
            ],
            [
             0.7,
             "#b8e186"
            ],
            [
             0.8,
             "#7fbc41"
            ],
            [
             0.9,
             "#4d9221"
            ],
            [
             1,
             "#276419"
            ]
           ],
           "sequential": [
            [
             0,
             "#0d0887"
            ],
            [
             0.1111111111111111,
             "#46039f"
            ],
            [
             0.2222222222222222,
             "#7201a8"
            ],
            [
             0.3333333333333333,
             "#9c179e"
            ],
            [
             0.4444444444444444,
             "#bd3786"
            ],
            [
             0.5555555555555556,
             "#d8576b"
            ],
            [
             0.6666666666666666,
             "#ed7953"
            ],
            [
             0.7777777777777778,
             "#fb9f3a"
            ],
            [
             0.8888888888888888,
             "#fdca26"
            ],
            [
             1,
             "#f0f921"
            ]
           ],
           "sequentialminus": [
            [
             0,
             "#0d0887"
            ],
            [
             0.1111111111111111,
             "#46039f"
            ],
            [
             0.2222222222222222,
             "#7201a8"
            ],
            [
             0.3333333333333333,
             "#9c179e"
            ],
            [
             0.4444444444444444,
             "#bd3786"
            ],
            [
             0.5555555555555556,
             "#d8576b"
            ],
            [
             0.6666666666666666,
             "#ed7953"
            ],
            [
             0.7777777777777778,
             "#fb9f3a"
            ],
            [
             0.8888888888888888,
             "#fdca26"
            ],
            [
             1,
             "#f0f921"
            ]
           ]
          },
          "colorway": [
           "#636efa",
           "#EF553B",
           "#00cc96",
           "#ab63fa",
           "#FFA15A",
           "#19d3f3",
           "#FF6692",
           "#B6E880",
           "#FF97FF",
           "#FECB52"
          ],
          "font": {
           "color": "#2a3f5f"
          },
          "geo": {
           "bgcolor": "white",
           "lakecolor": "white",
           "landcolor": "#E5ECF6",
           "showlakes": true,
           "showland": true,
           "subunitcolor": "white"
          },
          "hoverlabel": {
           "align": "left"
          },
          "hovermode": "closest",
          "mapbox": {
           "style": "light"
          },
          "paper_bgcolor": "white",
          "plot_bgcolor": "#E5ECF6",
          "polar": {
           "angularaxis": {
            "gridcolor": "white",
            "linecolor": "white",
            "ticks": ""
           },
           "bgcolor": "#E5ECF6",
           "radialaxis": {
            "gridcolor": "white",
            "linecolor": "white",
            "ticks": ""
           }
          },
          "scene": {
           "xaxis": {
            "backgroundcolor": "#E5ECF6",
            "gridcolor": "white",
            "gridwidth": 2,
            "linecolor": "white",
            "showbackground": true,
            "ticks": "",
            "zerolinecolor": "white"
           },
           "yaxis": {
            "backgroundcolor": "#E5ECF6",
            "gridcolor": "white",
            "gridwidth": 2,
            "linecolor": "white",
            "showbackground": true,
            "ticks": "",
            "zerolinecolor": "white"
           },
           "zaxis": {
            "backgroundcolor": "#E5ECF6",
            "gridcolor": "white",
            "gridwidth": 2,
            "linecolor": "white",
            "showbackground": true,
            "ticks": "",
            "zerolinecolor": "white"
           }
          },
          "shapedefaults": {
           "line": {
            "color": "#2a3f5f"
           }
          },
          "ternary": {
           "aaxis": {
            "gridcolor": "white",
            "linecolor": "white",
            "ticks": ""
           },
           "baxis": {
            "gridcolor": "white",
            "linecolor": "white",
            "ticks": ""
           },
           "bgcolor": "#E5ECF6",
           "caxis": {
            "gridcolor": "white",
            "linecolor": "white",
            "ticks": ""
           }
          },
          "title": {
           "x": 0.05
          },
          "xaxis": {
           "automargin": true,
           "gridcolor": "white",
           "linecolor": "white",
           "ticks": "",
           "title": {
            "standoff": 15
           },
           "zerolinecolor": "white",
           "zerolinewidth": 2
          },
          "yaxis": {
           "automargin": true,
           "gridcolor": "white",
           "linecolor": "white",
           "ticks": "",
           "title": {
            "standoff": 15
           },
           "zerolinecolor": "white",
           "zerolinewidth": 2
          }
         }
        },
        "title": {
         "text": "Total Type of Event percentage in Sudan"
        }
       }
      }
     },
     "metadata": {},
     "output_type": "display_data"
    }
   ],
   "source": [
    "import plotly.express as px\n",
    "\n",
    "# Calculate the value counts of event types\n",
    "event_type = df_selected[\"event_type\"].value_counts()\n",
    "\n",
    "# Create a pie chart using Plotly\n",
    "fig = px.pie(event_type, values=event_type.values, names=event_type.index, title='Total Type of Event percentage in Sudan')\n",
    "# Show the plot\n",
    "\n",
    "fig.show()"
   ]
  },
  {
   "cell_type": "markdown",
   "metadata": {},
   "source": [
    "_The pie_chart shows the propportions of violent in Sudan by event percentage._\n",
    "\n",
    "_Battles constitute the largest proportion of violence followed by violence againts civilians_"
   ]
  },
  {
   "cell_type": "code",
   "execution_count": 11,
   "metadata": {},
   "outputs": [
    {
     "data": {
      "application/vnd.plotly.v1+json": {
       "config": {
        "plotlyServerURL": "https://plot.ly"
       },
       "data": [
        {
         "branchvalues": "total",
         "domain": {
          "x": [
           0,
           1
          ],
          "y": [
           0,
           1
          ]
         },
         "hovertemplate": "labels=%{label}<br>count=%{value}<br>parent=%{parent}<br>id=%{id}<extra></extra>",
         "ids": [
          "Violence against civilians/Abduction/forced disappearance",
          "Strategic developments/Agreement",
          "Explosions/Remote violence/Air/drone strike",
          "Battles/Armed clash",
          "Strategic developments/Arrests",
          "Violence against civilians/Attack",
          "Strategic developments/Change to group/activity",
          "Explosions/Remote violence/Chemical weapon",
          "Strategic developments/Disrupted weapons use",
          "Protests/Excessive force against protesters",
          "Battles/Government regains territory",
          "Explosions/Remote violence/Grenade",
          "Strategic developments/Headquarters or base established",
          "Strategic developments/Looting/property destruction",
          "Riots/Mob violence",
          "Battles/Non-state actor overtakes territory",
          "Strategic developments/Non-violent transfer of territory",
          "Strategic developments/Other",
          "Protests/Peaceful protest",
          "Protests/Protest with intervention",
          "Explosions/Remote violence/Remote explosive/landmine/IED",
          "Violence against civilians/Sexual violence",
          "Explosions/Remote violence/Shelling/artillery/missile attack",
          "Riots/Violent demonstration",
          "Battles",
          "Explosions/Remote violence",
          "Protests",
          "Riots",
          "Strategic developments",
          "Violence against civilians"
         ],
         "labels": [
          "Abduction/forced disappearance",
          "Agreement",
          "Air/drone strike",
          "Armed clash",
          "Arrests",
          "Attack",
          "Change to group/activity",
          "Chemical weapon",
          "Disrupted weapons use",
          "Excessive force against protesters",
          "Government regains territory",
          "Grenade",
          "Headquarters or base established",
          "Looting/property destruction",
          "Mob violence",
          "Non-state actor overtakes territory",
          "Non-violent transfer of territory",
          "Other",
          "Peaceful protest",
          "Protest with intervention",
          "Remote explosive/landmine/IED",
          "Sexual violence",
          "Shelling/artillery/missile attack",
          "Violent demonstration",
          "Battles",
          "Explosions/Remote violence",
          "Protests",
          "Riots",
          "Strategic developments",
          "Violence against civilians"
         ],
         "name": "",
         "parents": [
          "Violence against civilians",
          "Strategic developments",
          "Explosions/Remote violence",
          "Battles",
          "Strategic developments",
          "Violence against civilians",
          "Strategic developments",
          "Explosions/Remote violence",
          "Strategic developments",
          "Protests",
          "Battles",
          "Explosions/Remote violence",
          "Strategic developments",
          "Strategic developments",
          "Riots",
          "Battles",
          "Strategic developments",
          "Strategic developments",
          "Protests",
          "Protests",
          "Explosions/Remote violence",
          "Violence against civilians",
          "Explosions/Remote violence",
          "Riots",
          "",
          "",
          "",
          "",
          "",
          ""
         ],
         "textinfo": "label+percent parent",
         "type": "sunburst",
         "values": [
          720,
          284,
          2639,
          10339,
          198,
          7804,
          886,
          20,
          152,
          459,
          513,
          60,
          23,
          812,
          342,
          430,
          153,
          578,
          4903,
          920,
          365,
          831,
          974,
          652,
          11282,
          4058,
          6282,
          994,
          3086,
          9355
         ]
        }
       ],
       "layout": {
        "height": 600,
        "legend": {
         "tracegroupgap": 0
        },
        "margin": {
         "t": 60
        },
        "template": {
         "data": {
          "bar": [
           {
            "error_x": {
             "color": "#2a3f5f"
            },
            "error_y": {
             "color": "#2a3f5f"
            },
            "marker": {
             "line": {
              "color": "#E5ECF6",
              "width": 0.5
             },
             "pattern": {
              "fillmode": "overlay",
              "size": 10,
              "solidity": 0.2
             }
            },
            "type": "bar"
           }
          ],
          "barpolar": [
           {
            "marker": {
             "line": {
              "color": "#E5ECF6",
              "width": 0.5
             },
             "pattern": {
              "fillmode": "overlay",
              "size": 10,
              "solidity": 0.2
             }
            },
            "type": "barpolar"
           }
          ],
          "carpet": [
           {
            "aaxis": {
             "endlinecolor": "#2a3f5f",
             "gridcolor": "white",
             "linecolor": "white",
             "minorgridcolor": "white",
             "startlinecolor": "#2a3f5f"
            },
            "baxis": {
             "endlinecolor": "#2a3f5f",
             "gridcolor": "white",
             "linecolor": "white",
             "minorgridcolor": "white",
             "startlinecolor": "#2a3f5f"
            },
            "type": "carpet"
           }
          ],
          "choropleth": [
           {
            "colorbar": {
             "outlinewidth": 0,
             "ticks": ""
            },
            "type": "choropleth"
           }
          ],
          "contour": [
           {
            "colorbar": {
             "outlinewidth": 0,
             "ticks": ""
            },
            "colorscale": [
             [
              0,
              "#0d0887"
             ],
             [
              0.1111111111111111,
              "#46039f"
             ],
             [
              0.2222222222222222,
              "#7201a8"
             ],
             [
              0.3333333333333333,
              "#9c179e"
             ],
             [
              0.4444444444444444,
              "#bd3786"
             ],
             [
              0.5555555555555556,
              "#d8576b"
             ],
             [
              0.6666666666666666,
              "#ed7953"
             ],
             [
              0.7777777777777778,
              "#fb9f3a"
             ],
             [
              0.8888888888888888,
              "#fdca26"
             ],
             [
              1,
              "#f0f921"
             ]
            ],
            "type": "contour"
           }
          ],
          "contourcarpet": [
           {
            "colorbar": {
             "outlinewidth": 0,
             "ticks": ""
            },
            "type": "contourcarpet"
           }
          ],
          "heatmap": [
           {
            "colorbar": {
             "outlinewidth": 0,
             "ticks": ""
            },
            "colorscale": [
             [
              0,
              "#0d0887"
             ],
             [
              0.1111111111111111,
              "#46039f"
             ],
             [
              0.2222222222222222,
              "#7201a8"
             ],
             [
              0.3333333333333333,
              "#9c179e"
             ],
             [
              0.4444444444444444,
              "#bd3786"
             ],
             [
              0.5555555555555556,
              "#d8576b"
             ],
             [
              0.6666666666666666,
              "#ed7953"
             ],
             [
              0.7777777777777778,
              "#fb9f3a"
             ],
             [
              0.8888888888888888,
              "#fdca26"
             ],
             [
              1,
              "#f0f921"
             ]
            ],
            "type": "heatmap"
           }
          ],
          "heatmapgl": [
           {
            "colorbar": {
             "outlinewidth": 0,
             "ticks": ""
            },
            "colorscale": [
             [
              0,
              "#0d0887"
             ],
             [
              0.1111111111111111,
              "#46039f"
             ],
             [
              0.2222222222222222,
              "#7201a8"
             ],
             [
              0.3333333333333333,
              "#9c179e"
             ],
             [
              0.4444444444444444,
              "#bd3786"
             ],
             [
              0.5555555555555556,
              "#d8576b"
             ],
             [
              0.6666666666666666,
              "#ed7953"
             ],
             [
              0.7777777777777778,
              "#fb9f3a"
             ],
             [
              0.8888888888888888,
              "#fdca26"
             ],
             [
              1,
              "#f0f921"
             ]
            ],
            "type": "heatmapgl"
           }
          ],
          "histogram": [
           {
            "marker": {
             "pattern": {
              "fillmode": "overlay",
              "size": 10,
              "solidity": 0.2
             }
            },
            "type": "histogram"
           }
          ],
          "histogram2d": [
           {
            "colorbar": {
             "outlinewidth": 0,
             "ticks": ""
            },
            "colorscale": [
             [
              0,
              "#0d0887"
             ],
             [
              0.1111111111111111,
              "#46039f"
             ],
             [
              0.2222222222222222,
              "#7201a8"
             ],
             [
              0.3333333333333333,
              "#9c179e"
             ],
             [
              0.4444444444444444,
              "#bd3786"
             ],
             [
              0.5555555555555556,
              "#d8576b"
             ],
             [
              0.6666666666666666,
              "#ed7953"
             ],
             [
              0.7777777777777778,
              "#fb9f3a"
             ],
             [
              0.8888888888888888,
              "#fdca26"
             ],
             [
              1,
              "#f0f921"
             ]
            ],
            "type": "histogram2d"
           }
          ],
          "histogram2dcontour": [
           {
            "colorbar": {
             "outlinewidth": 0,
             "ticks": ""
            },
            "colorscale": [
             [
              0,
              "#0d0887"
             ],
             [
              0.1111111111111111,
              "#46039f"
             ],
             [
              0.2222222222222222,
              "#7201a8"
             ],
             [
              0.3333333333333333,
              "#9c179e"
             ],
             [
              0.4444444444444444,
              "#bd3786"
             ],
             [
              0.5555555555555556,
              "#d8576b"
             ],
             [
              0.6666666666666666,
              "#ed7953"
             ],
             [
              0.7777777777777778,
              "#fb9f3a"
             ],
             [
              0.8888888888888888,
              "#fdca26"
             ],
             [
              1,
              "#f0f921"
             ]
            ],
            "type": "histogram2dcontour"
           }
          ],
          "mesh3d": [
           {
            "colorbar": {
             "outlinewidth": 0,
             "ticks": ""
            },
            "type": "mesh3d"
           }
          ],
          "parcoords": [
           {
            "line": {
             "colorbar": {
              "outlinewidth": 0,
              "ticks": ""
             }
            },
            "type": "parcoords"
           }
          ],
          "pie": [
           {
            "automargin": true,
            "type": "pie"
           }
          ],
          "scatter": [
           {
            "fillpattern": {
             "fillmode": "overlay",
             "size": 10,
             "solidity": 0.2
            },
            "type": "scatter"
           }
          ],
          "scatter3d": [
           {
            "line": {
             "colorbar": {
              "outlinewidth": 0,
              "ticks": ""
             }
            },
            "marker": {
             "colorbar": {
              "outlinewidth": 0,
              "ticks": ""
             }
            },
            "type": "scatter3d"
           }
          ],
          "scattercarpet": [
           {
            "marker": {
             "colorbar": {
              "outlinewidth": 0,
              "ticks": ""
             }
            },
            "type": "scattercarpet"
           }
          ],
          "scattergeo": [
           {
            "marker": {
             "colorbar": {
              "outlinewidth": 0,
              "ticks": ""
             }
            },
            "type": "scattergeo"
           }
          ],
          "scattergl": [
           {
            "marker": {
             "colorbar": {
              "outlinewidth": 0,
              "ticks": ""
             }
            },
            "type": "scattergl"
           }
          ],
          "scattermapbox": [
           {
            "marker": {
             "colorbar": {
              "outlinewidth": 0,
              "ticks": ""
             }
            },
            "type": "scattermapbox"
           }
          ],
          "scatterpolar": [
           {
            "marker": {
             "colorbar": {
              "outlinewidth": 0,
              "ticks": ""
             }
            },
            "type": "scatterpolar"
           }
          ],
          "scatterpolargl": [
           {
            "marker": {
             "colorbar": {
              "outlinewidth": 0,
              "ticks": ""
             }
            },
            "type": "scatterpolargl"
           }
          ],
          "scatterternary": [
           {
            "marker": {
             "colorbar": {
              "outlinewidth": 0,
              "ticks": ""
             }
            },
            "type": "scatterternary"
           }
          ],
          "surface": [
           {
            "colorbar": {
             "outlinewidth": 0,
             "ticks": ""
            },
            "colorscale": [
             [
              0,
              "#0d0887"
             ],
             [
              0.1111111111111111,
              "#46039f"
             ],
             [
              0.2222222222222222,
              "#7201a8"
             ],
             [
              0.3333333333333333,
              "#9c179e"
             ],
             [
              0.4444444444444444,
              "#bd3786"
             ],
             [
              0.5555555555555556,
              "#d8576b"
             ],
             [
              0.6666666666666666,
              "#ed7953"
             ],
             [
              0.7777777777777778,
              "#fb9f3a"
             ],
             [
              0.8888888888888888,
              "#fdca26"
             ],
             [
              1,
              "#f0f921"
             ]
            ],
            "type": "surface"
           }
          ],
          "table": [
           {
            "cells": {
             "fill": {
              "color": "#EBF0F8"
             },
             "line": {
              "color": "white"
             }
            },
            "header": {
             "fill": {
              "color": "#C8D4E3"
             },
             "line": {
              "color": "white"
             }
            },
            "type": "table"
           }
          ]
         },
         "layout": {
          "annotationdefaults": {
           "arrowcolor": "#2a3f5f",
           "arrowhead": 0,
           "arrowwidth": 1
          },
          "autotypenumbers": "strict",
          "coloraxis": {
           "colorbar": {
            "outlinewidth": 0,
            "ticks": ""
           }
          },
          "colorscale": {
           "diverging": [
            [
             0,
             "#8e0152"
            ],
            [
             0.1,
             "#c51b7d"
            ],
            [
             0.2,
             "#de77ae"
            ],
            [
             0.3,
             "#f1b6da"
            ],
            [
             0.4,
             "#fde0ef"
            ],
            [
             0.5,
             "#f7f7f7"
            ],
            [
             0.6,
             "#e6f5d0"
            ],
            [
             0.7,
             "#b8e186"
            ],
            [
             0.8,
             "#7fbc41"
            ],
            [
             0.9,
             "#4d9221"
            ],
            [
             1,
             "#276419"
            ]
           ],
           "sequential": [
            [
             0,
             "#0d0887"
            ],
            [
             0.1111111111111111,
             "#46039f"
            ],
            [
             0.2222222222222222,
             "#7201a8"
            ],
            [
             0.3333333333333333,
             "#9c179e"
            ],
            [
             0.4444444444444444,
             "#bd3786"
            ],
            [
             0.5555555555555556,
             "#d8576b"
            ],
            [
             0.6666666666666666,
             "#ed7953"
            ],
            [
             0.7777777777777778,
             "#fb9f3a"
            ],
            [
             0.8888888888888888,
             "#fdca26"
            ],
            [
             1,
             "#f0f921"
            ]
           ],
           "sequentialminus": [
            [
             0,
             "#0d0887"
            ],
            [
             0.1111111111111111,
             "#46039f"
            ],
            [
             0.2222222222222222,
             "#7201a8"
            ],
            [
             0.3333333333333333,
             "#9c179e"
            ],
            [
             0.4444444444444444,
             "#bd3786"
            ],
            [
             0.5555555555555556,
             "#d8576b"
            ],
            [
             0.6666666666666666,
             "#ed7953"
            ],
            [
             0.7777777777777778,
             "#fb9f3a"
            ],
            [
             0.8888888888888888,
             "#fdca26"
            ],
            [
             1,
             "#f0f921"
            ]
           ]
          },
          "colorway": [
           "#636efa",
           "#EF553B",
           "#00cc96",
           "#ab63fa",
           "#FFA15A",
           "#19d3f3",
           "#FF6692",
           "#B6E880",
           "#FF97FF",
           "#FECB52"
          ],
          "font": {
           "color": "#2a3f5f"
          },
          "geo": {
           "bgcolor": "white",
           "lakecolor": "white",
           "landcolor": "#E5ECF6",
           "showlakes": true,
           "showland": true,
           "subunitcolor": "white"
          },
          "hoverlabel": {
           "align": "left"
          },
          "hovermode": "closest",
          "mapbox": {
           "style": "light"
          },
          "paper_bgcolor": "white",
          "plot_bgcolor": "#E5ECF6",
          "polar": {
           "angularaxis": {
            "gridcolor": "white",
            "linecolor": "white",
            "ticks": ""
           },
           "bgcolor": "#E5ECF6",
           "radialaxis": {
            "gridcolor": "white",
            "linecolor": "white",
            "ticks": ""
           }
          },
          "scene": {
           "xaxis": {
            "backgroundcolor": "#E5ECF6",
            "gridcolor": "white",
            "gridwidth": 2,
            "linecolor": "white",
            "showbackground": true,
            "ticks": "",
            "zerolinecolor": "white"
           },
           "yaxis": {
            "backgroundcolor": "#E5ECF6",
            "gridcolor": "white",
            "gridwidth": 2,
            "linecolor": "white",
            "showbackground": true,
            "ticks": "",
            "zerolinecolor": "white"
           },
           "zaxis": {
            "backgroundcolor": "#E5ECF6",
            "gridcolor": "white",
            "gridwidth": 2,
            "linecolor": "white",
            "showbackground": true,
            "ticks": "",
            "zerolinecolor": "white"
           }
          },
          "shapedefaults": {
           "line": {
            "color": "#2a3f5f"
           }
          },
          "ternary": {
           "aaxis": {
            "gridcolor": "white",
            "linecolor": "white",
            "ticks": ""
           },
           "baxis": {
            "gridcolor": "white",
            "linecolor": "white",
            "ticks": ""
           },
           "bgcolor": "#E5ECF6",
           "caxis": {
            "gridcolor": "white",
            "linecolor": "white",
            "ticks": ""
           }
          },
          "title": {
           "x": 0.05
          },
          "xaxis": {
           "automargin": true,
           "gridcolor": "white",
           "linecolor": "white",
           "ticks": "",
           "title": {
            "standoff": 15
           },
           "zerolinecolor": "white",
           "zerolinewidth": 2
          },
          "yaxis": {
           "automargin": true,
           "gridcolor": "white",
           "linecolor": "white",
           "ticks": "",
           "title": {
            "standoff": 15
           },
           "zerolinecolor": "white",
           "zerolinewidth": 2
          }
         }
        },
        "title": {
         "font": {
          "family": "San-Serif",
          "size": 15
         },
         "text": "<b> Event type and Sub event type percentage in Sudan (ACLED)<b>"
        },
        "width": 600
       }
      }
     },
     "metadata": {},
     "output_type": "display_data"
    }
   ],
   "source": [
    "# Group by event_type and sub_event_type and count the occurrences\n",
    "sub_event = df.groupby([\"event_type\", \"sub_event_type\"])[\"event_date\"].agg({'count'}).reset_index()\n",
    "\n",
    "# Create a sunburst chart using Plotly\n",
    "fig = px.sunburst(sub_event, \n",
    "                  path=['event_type', 'sub_event_type'], \n",
    "                  values='count',\n",
    "                  width=600, # Width of map\n",
    "                  height=600)\n",
    "\n",
    "fig.update_traces(textinfo=\"label+percent parent\")\n",
    "fig.layout.update(title=\"<b> Event type and Sub event type percentage in Sudan (ACLED)<b>\",\n",
    "                  titlefont={'color':None, 'size': 15, 'family': 'San-Serif'})\n",
    "\n",
    "fig.show()"
   ]
  },
  {
   "cell_type": "code",
   "execution_count": 12,
   "metadata": {},
   "outputs": [
    {
     "data": {
      "text/plain": [
       "inter1\n",
       "State forces             13484\n",
       "Identity militia          6309\n",
       "Protesters                6218\n",
       "Political militia         4889\n",
       "Rebel group               2715\n",
       "Rioters                    941\n",
       "External/Other forces      360\n",
       "Civilians                  141\n",
       "Name: count, dtype: int64"
      ]
     },
     "execution_count": 12,
     "metadata": {},
     "output_type": "execute_result"
    }
   ],
   "source": [
    "#Summary of events by actor_type1\n",
    "actor_type1=df[\"inter1\"].value_counts()\n",
    "actor_type1"
   ]
  },
  {
   "cell_type": "code",
   "execution_count": 13,
   "metadata": {},
   "outputs": [
    {
     "name": "stderr",
     "output_type": "stream",
     "text": [
      "C:\\Users\\pgaduel\\AppData\\Local\\Temp\\ipykernel_28128\\2717016390.py:6: FutureWarning:\n",
      "\n",
      "\n",
      "\n",
      "Passing `palette` without assigning `hue` is deprecated and will be removed in v0.14.0. Assign the `y` variable to `hue` and set `legend=False` for the same effect.\n",
      "\n",
      "\n"
     ]
    },
    {
     "data": {
      "image/png": "[encoded data removed]",
      "text/plain": [
       "<Figure size 1000x600 with 1 Axes>"
      ]
     },
     "metadata": {},
     "output_type": "display_data"
    }
   ],
   "source": [
    "# Count occurrences of each 'inter1' value\n",
    "actor_type1 = df[\"inter1\"].value_counts()\n",
    "\n",
    "# Create a bar plot\n",
    "plt.figure(figsize=(10, 6))\n",
    "sns.barplot(x=actor_type1.values, y=actor_type1.index, palette='coolwarm')\n",
    "\n",
    "# Add titles and labels\n",
    "plt.title('Actor Type 1 Counts', fontsize=16)\n",
    "plt.xlabel('Count', fontsize=12)\n",
    "plt.ylabel('Actor Type 1', fontsize=12)\n",
    "\n",
    "# Show the plot\n",
    "plt.tight_layout()\n",
    "plt.show()"
   ]
  },
  {
   "cell_type": "code",
   "execution_count": 14,
   "metadata": {},
   "outputs": [
    {
     "data": {
      "application/vnd.plotly.v1+json": {
       "config": {
        "plotlyServerURL": "https://plot.ly"
       },
       "data": [
        {
         "domain": {
          "x": [
           0,
           0.45
          ],
          "y": [
           0,
           1
          ]
         },
         "hole": 0.6,
         "hoverinfo": "label+percent+name",
         "labels": [
          "State forces",
          "Identity militia",
          "Protesters",
          "Political militia",
          "Rebel group",
          "Rioters",
          "External/Other forces",
          "Civilians"
         ],
         "name": "Actor type1",
         "type": "pie",
         "values": [
          13484,
          6309,
          6218,
          4889,
          2715,
          941,
          360,
          141
         ]
        }
       ],
       "layout": {
        "annotations": [
         {
          "font": {
           "size": 20
          },
          "showarrow": false,
          "text": "<b>instigator",
          "x": 0.16,
          "y": 0.5
         },
         {
          "font": {
           "size": 20
          },
          "showarrow": false,
          "text": "<b>victim/hit back",
          "x": 0.88,
          "y": 0.5
         }
        ],
        "height": 600,
        "template": {
         "data": {
          "bar": [
           {
            "error_x": {
             "color": "#2a3f5f"
            },
            "error_y": {
             "color": "#2a3f5f"
            },
            "marker": {
             "line": {
              "color": "#E5ECF6",
              "width": 0.5
             },
             "pattern": {
              "fillmode": "overlay",
              "size": 10,
              "solidity": 0.2
             }
            },
            "type": "bar"
           }
          ],
          "barpolar": [
           {
            "marker": {
             "line": {
              "color": "#E5ECF6",
              "width": 0.5
             },
             "pattern": {
              "fillmode": "overlay",
              "size": 10,
              "solidity": 0.2
             }
            },
            "type": "barpolar"
           }
          ],
          "carpet": [
           {
            "aaxis": {
             "endlinecolor": "#2a3f5f",
             "gridcolor": "white",
             "linecolor": "white",
             "minorgridcolor": "white",
             "startlinecolor": "#2a3f5f"
            },
            "baxis": {
             "endlinecolor": "#2a3f5f",
             "gridcolor": "white",
             "linecolor": "white",
             "minorgridcolor": "white",
             "startlinecolor": "#2a3f5f"
            },
            "type": "carpet"
           }
          ],
          "choropleth": [
           {
            "colorbar": {
             "outlinewidth": 0,
             "ticks": ""
            },
            "type": "choropleth"
           }
          ],
          "contour": [
           {
            "colorbar": {
             "outlinewidth": 0,
             "ticks": ""
            },
            "colorscale": [
             [
              0,
              "#0d0887"
             ],
             [
              0.1111111111111111,
              "#46039f"
             ],
             [
              0.2222222222222222,
              "#7201a8"
             ],
             [
              0.3333333333333333,
              "#9c179e"
             ],
             [
              0.4444444444444444,
              "#bd3786"
             ],
             [
              0.5555555555555556,
              "#d8576b"
             ],
             [
              0.6666666666666666,
              "#ed7953"
             ],
             [
              0.7777777777777778,
              "#fb9f3a"
             ],
             [
              0.8888888888888888,
              "#fdca26"
             ],
             [
              1,
              "#f0f921"
             ]
            ],
            "type": "contour"
           }
          ],
          "contourcarpet": [
           {
            "colorbar": {
             "outlinewidth": 0,
             "ticks": ""
            },
            "type": "contourcarpet"
           }
          ],
          "heatmap": [
           {
            "colorbar": {
             "outlinewidth": 0,
             "ticks": ""
            },
            "colorscale": [
             [
              0,
              "#0d0887"
             ],
             [
              0.1111111111111111,
              "#46039f"
             ],
             [
              0.2222222222222222,
              "#7201a8"
             ],
             [
              0.3333333333333333,
              "#9c179e"
             ],
             [
              0.4444444444444444,
              "#bd3786"
             ],
             [
              0.5555555555555556,
              "#d8576b"
             ],
             [
              0.6666666666666666,
              "#ed7953"
             ],
             [
              0.7777777777777778,
              "#fb9f3a"
             ],
             [
              0.8888888888888888,
              "#fdca26"
             ],
             [
              1,
              "#f0f921"
             ]
            ],
            "type": "heatmap"
           }
          ],
          "heatmapgl": [
           {
            "colorbar": {
             "outlinewidth": 0,
             "ticks": ""
            },
            "colorscale": [
             [
              0,
              "#0d0887"
             ],
             [
              0.1111111111111111,
              "#46039f"
             ],
             [
              0.2222222222222222,
              "#7201a8"
             ],
             [
              0.3333333333333333,
              "#9c179e"
             ],
             [
              0.4444444444444444,
              "#bd3786"
             ],
             [
              0.5555555555555556,
              "#d8576b"
             ],
             [
              0.6666666666666666,
              "#ed7953"
             ],
             [
              0.7777777777777778,
              "#fb9f3a"
             ],
             [
              0.8888888888888888,
              "#fdca26"
             ],
             [
              1,
              "#f0f921"
             ]
            ],
            "type": "heatmapgl"
           }
          ],
          "histogram": [
           {
            "marker": {
             "pattern": {
              "fillmode": "overlay",
              "size": 10,
              "solidity": 0.2
             }
            },
            "type": "histogram"
           }
          ],
          "histogram2d": [
           {
            "colorbar": {
             "outlinewidth": 0,
             "ticks": ""
            },
            "colorscale": [
             [
              0,
              "#0d0887"
             ],
             [
              0.1111111111111111,
              "#46039f"
             ],
             [
              0.2222222222222222,
              "#7201a8"
             ],
             [
              0.3333333333333333,
              "#9c179e"
             ],
             [
              0.4444444444444444,
              "#bd3786"
             ],
             [
              0.5555555555555556,
              "#d8576b"
             ],
             [
              0.6666666666666666,
              "#ed7953"
             ],
             [
              0.7777777777777778,
              "#fb9f3a"
             ],
             [
              0.8888888888888888,
              "#fdca26"
             ],
             [
              1,
              "#f0f921"
             ]
            ],
            "type": "histogram2d"
           }
          ],
          "histogram2dcontour": [
           {
            "colorbar": {
             "outlinewidth": 0,
             "ticks": ""
            },
            "colorscale": [
             [
              0,
              "#0d0887"
             ],
             [
              0.1111111111111111,
              "#46039f"
             ],
             [
              0.2222222222222222,
              "#7201a8"
             ],
             [
              0.3333333333333333,
              "#9c179e"
             ],
             [
              0.4444444444444444,
              "#bd3786"
             ],
             [
              0.5555555555555556,
              "#d8576b"
             ],
             [
              0.6666666666666666,
              "#ed7953"
             ],
             [
              0.7777777777777778,
              "#fb9f3a"
             ],
             [
              0.8888888888888888,
              "#fdca26"
             ],
             [
              1,
              "#f0f921"
             ]
            ],
            "type": "histogram2dcontour"
           }
          ],
          "mesh3d": [
           {
            "colorbar": {
             "outlinewidth": 0,
             "ticks": ""
            },
            "type": "mesh3d"
           }
          ],
          "parcoords": [
           {
            "line": {
             "colorbar": {
              "outlinewidth": 0,
              "ticks": ""
             }
            },
            "type": "parcoords"
           }
          ],
          "pie": [
           {
            "automargin": true,
            "type": "pie"
           }
          ],
          "scatter": [
           {
            "fillpattern": {
             "fillmode": "overlay",
             "size": 10,
             "solidity": 0.2
            },
            "type": "scatter"
           }
          ],
          "scatter3d": [
           {
            "line": {
             "colorbar": {
              "outlinewidth": 0,
              "ticks": ""
             }
            },
            "marker": {
             "colorbar": {
              "outlinewidth": 0,
              "ticks": ""
             }
            },
            "type": "scatter3d"
           }
          ],
          "scattercarpet": [
           {
            "marker": {
             "colorbar": {
              "outlinewidth": 0,
              "ticks": ""
             }
            },
            "type": "scattercarpet"
           }
          ],
          "scattergeo": [
           {
            "marker": {
             "colorbar": {
              "outlinewidth": 0,
              "ticks": ""
             }
            },
            "type": "scattergeo"
           }
          ],
          "scattergl": [
           {
            "marker": {
             "colorbar": {
              "outlinewidth": 0,
              "ticks": ""
             }
            },
            "type": "scattergl"
           }
          ],
          "scattermapbox": [
           {
            "marker": {
             "colorbar": {
              "outlinewidth": 0,
              "ticks": ""
             }
            },
            "type": "scattermapbox"
           }
          ],
          "scatterpolar": [
           {
            "marker": {
             "colorbar": {
              "outlinewidth": 0,
              "ticks": ""
             }
            },
            "type": "scatterpolar"
           }
          ],
          "scatterpolargl": [
           {
            "marker": {
             "colorbar": {
              "outlinewidth": 0,
              "ticks": ""
             }
            },
            "type": "scatterpolargl"
           }
          ],
          "scatterternary": [
           {
            "marker": {
             "colorbar": {
              "outlinewidth": 0,
              "ticks": ""
             }
            },
            "type": "scatterternary"
           }
          ],
          "surface": [
           {
            "colorbar": {
             "outlinewidth": 0,
             "ticks": ""
            },
            "colorscale": [
             [
              0,
              "#0d0887"
             ],
             [
              0.1111111111111111,
              "#46039f"
             ],
             [
              0.2222222222222222,
              "#7201a8"
             ],
             [
              0.3333333333333333,
              "#9c179e"
             ],
             [
              0.4444444444444444,
              "#bd3786"
             ],
             [
              0.5555555555555556,
              "#d8576b"
             ],
             [
              0.6666666666666666,
              "#ed7953"
             ],
             [
              0.7777777777777778,
              "#fb9f3a"
             ],
             [
              0.8888888888888888,
              "#fdca26"
             ],
             [
              1,
              "#f0f921"
             ]
            ],
            "type": "surface"
           }
          ],
          "table": [
           {
            "cells": {
             "fill": {
              "color": "#EBF0F8"
             },
             "line": {
              "color": "white"
             }
            },
            "header": {
             "fill": {
              "color": "#C8D4E3"
             },
             "line": {
              "color": "white"
             }
            },
            "type": "table"
           }
          ]
         },
         "layout": {
          "annotationdefaults": {
           "arrowcolor": "#2a3f5f",
           "arrowhead": 0,
           "arrowwidth": 1
          },
          "autotypenumbers": "strict",
          "coloraxis": {
           "colorbar": {
            "outlinewidth": 0,
            "ticks": ""
           }
          },
          "colorscale": {
           "diverging": [
            [
             0,
             "#8e0152"
            ],
            [
             0.1,
             "#c51b7d"
            ],
            [
             0.2,
             "#de77ae"
            ],
            [
             0.3,
             "#f1b6da"
            ],
            [
             0.4,
             "#fde0ef"
            ],
            [
             0.5,
             "#f7f7f7"
            ],
            [
             0.6,
             "#e6f5d0"
            ],
            [
             0.7,
             "#b8e186"
            ],
            [
             0.8,
             "#7fbc41"
            ],
            [
             0.9,
             "#4d9221"
            ],
            [
             1,
             "#276419"
            ]
           ],
           "sequential": [
            [
             0,
             "#0d0887"
            ],
            [
             0.1111111111111111,
             "#46039f"
            ],
            [
             0.2222222222222222,
             "#7201a8"
            ],
            [
             0.3333333333333333,
             "#9c179e"
            ],
            [
             0.4444444444444444,
             "#bd3786"
            ],
            [
             0.5555555555555556,
             "#d8576b"
            ],
            [
             0.6666666666666666,
             "#ed7953"
            ],
            [
             0.7777777777777778,
             "#fb9f3a"
            ],
            [
             0.8888888888888888,
             "#fdca26"
            ],
            [
             1,
             "#f0f921"
            ]
           ],
           "sequentialminus": [
            [
             0,
             "#0d0887"
            ],
            [
             0.1111111111111111,
             "#46039f"
            ],
            [
             0.2222222222222222,
             "#7201a8"
            ],
            [
             0.3333333333333333,
             "#9c179e"
            ],
            [
             0.4444444444444444,
             "#bd3786"
            ],
            [
             0.5555555555555556,
             "#d8576b"
            ],
            [
             0.6666666666666666,
             "#ed7953"
            ],
            [
             0.7777777777777778,
             "#fb9f3a"
            ],
            [
             0.8888888888888888,
             "#fdca26"
            ],
            [
             1,
             "#f0f921"
            ]
           ]
          },
          "colorway": [
           "#636efa",
           "#EF553B",
           "#00cc96",
           "#ab63fa",
           "#FFA15A",
           "#19d3f3",
           "#FF6692",
           "#B6E880",
           "#FF97FF",
           "#FECB52"
          ],
          "font": {
           "color": "#2a3f5f"
          },
          "geo": {
           "bgcolor": "white",
           "lakecolor": "white",
           "landcolor": "#E5ECF6",
           "showlakes": true,
           "showland": true,
           "subunitcolor": "white"
          },
          "hoverlabel": {
           "align": "left"
          },
          "hovermode": "closest",
          "mapbox": {
           "style": "light"
          },
          "paper_bgcolor": "white",
          "plot_bgcolor": "#E5ECF6",
          "polar": {
           "angularaxis": {
            "gridcolor": "white",
            "linecolor": "white",
            "ticks": ""
           },
           "bgcolor": "#E5ECF6",
           "radialaxis": {
            "gridcolor": "white",
            "linecolor": "white",
            "ticks": ""
           }
          },
          "scene": {
           "xaxis": {
            "backgroundcolor": "#E5ECF6",
            "gridcolor": "white",
            "gridwidth": 2,
            "linecolor": "white",
            "showbackground": true,
            "ticks": "",
            "zerolinecolor": "white"
           },
           "yaxis": {
            "backgroundcolor": "#E5ECF6",
            "gridcolor": "white",
            "gridwidth": 2,
            "linecolor": "white",
            "showbackground": true,
            "ticks": "",
            "zerolinecolor": "white"
           },
           "zaxis": {
            "backgroundcolor": "#E5ECF6",
            "gridcolor": "white",
            "gridwidth": 2,
            "linecolor": "white",
            "showbackground": true,
            "ticks": "",
            "zerolinecolor": "white"
           }
          },
          "shapedefaults": {
           "line": {
            "color": "#2a3f5f"
           }
          },
          "ternary": {
           "aaxis": {
            "gridcolor": "white",
            "linecolor": "white",
            "ticks": ""
           },
           "baxis": {
            "gridcolor": "white",
            "linecolor": "white",
            "ticks": ""
           },
           "bgcolor": "#E5ECF6",
           "caxis": {
            "gridcolor": "white",
            "linecolor": "white",
            "ticks": ""
           }
          },
          "title": {
           "x": 0.05
          },
          "xaxis": {
           "automargin": true,
           "gridcolor": "white",
           "linecolor": "white",
           "ticks": "",
           "title": {
            "standoff": 15
           },
           "zerolinecolor": "white",
           "zerolinewidth": 2
          },
          "yaxis": {
           "automargin": true,
           "gridcolor": "white",
           "linecolor": "white",
           "ticks": "",
           "title": {
            "standoff": 15
           },
           "zerolinecolor": "white",
           "zerolinewidth": 2
          }
         }
        },
        "title": {
         "font": {
          "family": "San-Serif",
          "size": 20
         },
         "text": "<b> Actor type involved in Sudan conflict<b>"
        },
        "width": 1000
       }
      }
     },
     "metadata": {},
     "output_type": "display_data"
    }
   ],
   "source": [
    "# Create subplots\n",
    "fig = make_subplots(rows=1, cols=2, specs=[[{'type':'domain'}, {'type':'domain'}]])\n",
    "\n",
    "# Add pie charts to subplots\n",
    "fig.add_trace(go.Pie(labels=actor_type1.index, values=actor_type1, name=\"Actor type1\"), 1, 1)\n",
    "#fig.add_trace(go.Pie(labels=actor_type2.index, values=actor_type2, name=\"Actor type2\"), 1, 2)\n",
    "\n",
    "# Update traces to create donut-like pie charts\n",
    "fig.update_traces(hole=.6, hoverinfo=\"label+percent+name\")\n",
    "\n",
    "# Update layout with title and annotations\n",
    "fig.update_layout(\n",
    "    title=\"<b> Actor type involved in Sudan conflict<b>\",\n",
    "    titlefont={'color':None, 'size': 20, 'family': 'San-Serif'},\n",
    "    height=600,\n",
    "    width=1000,\n",
    "    annotations=[\n",
    "        dict(text='<b>instigator', x=0.16, y=0.5, font_size=20, showarrow=False),\n",
    "        dict(text='<b>victim/hit back', x=0.88, y=0.5, font_size=20, showarrow=False)\n",
    "    ]\n",
    ")\n",
    "\n",
    "# Show the plot\n",
    "fig.show()"
   ]
  },
  {
   "cell_type": "markdown",
   "metadata": {},
   "source": [
    "**Based on the visualization of the instigators (Actor type1) involved in the Sudan conflict, several insights can be drawn:**\n",
    "\n",
    "_The state forces are the main dominant actors in Sudan conflict responsible for most fatalities._\n",
    "\n",
    "\n",
    "_The civilians are least perpertartors_"
   ]
  },
  {
   "cell_type": "code",
   "execution_count": 15,
   "metadata": {},
   "outputs": [
    {
     "name": "stderr",
     "output_type": "stream",
     "text": [
      "C:\\Users\\pgaduel\\AppData\\Local\\Temp\\ipykernel_28128\\13868416.py:9: FutureWarning:\n",
      "\n",
      "\n",
      "\n",
      "Passing `palette` without assigning `hue` is deprecated and will be removed in v0.14.0. Assign the `y` variable to `hue` and set `legend=False` for the same effect.\n",
      "\n",
      "\n"
     ]
    },
    {
     "data": {
      "image/png": "[encoded data removed]",
      "text/plain": [
       "<Figure size 1000x600 with 1 Axes>"
      ]
     },
     "metadata": {},
     "output_type": "display_data"
    }
   ],
   "source": [
    "# Grouping by 'admin1', summing, and sorting by 'fatalities'\n",
    "df_grouped = df_selected.groupby('admin1').sum().sort_values(by='fatalities', ascending=False)\n",
    "\n",
    "# Selecting the top 10 rows\n",
    "top_10 = df_grouped.head(12).reset_index()\n",
    "\n",
    "# Create a horizontal bar plot\n",
    "plt.figure(figsize=(10, 6))\n",
    "sns.barplot(data=top_10, x='fatalities', y='admin1', palette='coolwarm')\n",
    "\n",
    "# Add titles and labels\n",
    "plt.title('Top 10 Regions by Fatalities', fontsize=14)\n",
    "plt.xlabel('Fatalities', fontsize=12)\n",
    "plt.ylabel('Region (admin1)', fontsize=12)\n",
    "\n",
    "# Show the plot\n",
    "plt.tight_layout()\n",
    "plt.show()"
   ]
  },
  {
   "cell_type": "markdown",
   "metadata": {},
   "source": [
    "_There are no null or missing values in the select columns_"
   ]
  },
  {
   "cell_type": "markdown",
   "metadata": {},
   "source": [
    "* Visualisation based actors, count of fatalities, and event type using filtered data for Sudan*"
   ]
  },
  {
   "cell_type": "code",
   "execution_count": 61,
   "metadata": {},
   "outputs": [
    {
     "ename": "NameError",
     "evalue": "name 'disorder_count_by_year' is not defined",
     "output_type": "error",
     "traceback": [
      "\u001b[1;31m---------------------------------------------------------------------------\u001b[0m",
      "\u001b[1;31mNameError\u001b[0m                                 Traceback (most recent call last)",
      "Cell \u001b[1;32mIn[61], line 3\u001b[0m\n\u001b[0;32m      1\u001b[0m \u001b[38;5;66;03m# Plot the data\u001b[39;00m\n\u001b[0;32m      2\u001b[0m plt\u001b[38;5;241m.\u001b[39mfigure(figsize\u001b[38;5;241m=\u001b[39m(\u001b[38;5;241m10\u001b[39m,\u001b[38;5;241m6\u001b[39m))\n\u001b[1;32m----> 3\u001b[0m \u001b[38;5;28;01mfor\u001b[39;00m disorder \u001b[38;5;129;01min\u001b[39;00m disorder_count_by_year[\u001b[38;5;124m'\u001b[39m\u001b[38;5;124mdisorder_type\u001b[39m\u001b[38;5;124m'\u001b[39m]\u001b[38;5;241m.\u001b[39munique():\n\u001b[0;32m      4\u001b[0m     subset \u001b[38;5;241m=\u001b[39m disorder_count_by_year[disorder_count_by_year[\u001b[38;5;124m'\u001b[39m\u001b[38;5;124mdisorder_type\u001b[39m\u001b[38;5;124m'\u001b[39m] \u001b[38;5;241m==\u001b[39m disorder]\n\u001b[0;32m      5\u001b[0m     plt\u001b[38;5;241m.\u001b[39mplot(subset[\u001b[38;5;124m'\u001b[39m\u001b[38;5;124myear\u001b[39m\u001b[38;5;124m'\u001b[39m], subset[\u001b[38;5;124m'\u001b[39m\u001b[38;5;124mfatalities\u001b[39m\u001b[38;5;124m'\u001b[39m], label\u001b[38;5;241m=\u001b[39mdisorder)\n",
      "\u001b[1;31mNameError\u001b[0m: name 'disorder_count_by_year' is not defined"
     ]
    },
    {
     "data": {
      "text/plain": [
       "<Figure size 1000x600 with 0 Axes>"
      ]
     },
     "metadata": {},
     "output_type": "display_data"
    }
   ],
   "source": [
    "# Plot the data\n",
    "plt.figure(figsize=(10,6))\n",
    "for disorder in disorder_count_by_year['disorder_type'].unique():\n",
    "    subset = disorder_count_by_year[disorder_count_by_year['disorder_type'] == disorder]\n",
    "    plt.plot(subset['year'], subset['fatalities'], label=disorder)\n",
    "\n",
    "plt.title('Number of Disorder Types by Year Aggregated by Fatalities in Sudan')\n",
    "plt.xlabel('Year')\n",
    "plt.ylabel('Number of Fatalities')\n",
    "plt.legend()\n",
    "plt.grid(True)\n",
    "plt.show()"
   ]
  },
  {
   "cell_type": "markdown",
   "metadata": {},
   "source": [
    "Sudan has been in conflict for more than three decades. The number of incidents were lower during the first two decades and rose up in the last two decades 2010, and 2020."
   ]
  },
  {
   "cell_type": "markdown",
   "metadata": {},
   "source": [
    "## Feature engineering ##"
   ]
  },
  {
   "cell_type": "code",
   "execution_count": null,
   "metadata": {},
   "outputs": [
    {
     "name": "stdout",
     "output_type": "stream",
     "text": [
      "    year  total_events  unique_event_types  total_fatalities  \\\n",
      "0   1997           219                  15              3739   \n",
      "1   1998           250                  15              3946   \n",
      "2   1999           212                  16              2892   \n",
      "3   2000           234                  13              3305   \n",
      "4   2001           224                  15              4264   \n",
      "5   2002           267                  16              7722   \n",
      "6   2003           167                  13              5154   \n",
      "7   2004           344                  17              7692   \n",
      "8   2005           239                  16              1227   \n",
      "9   2006           154                  14              1085   \n",
      "10  2007           113                  13              1377   \n",
      "11  2008           262                  17              1327   \n",
      "12  2009           267                  15              2363   \n",
      "13  2010           196                  18              1596   \n",
      "14  2011           332                  20              5399   \n",
      "15  2012           887                  23              6238   \n",
      "16  2013          1352                  23             10670   \n",
      "17  2014          2042                  23             10051   \n",
      "18  2015          2069                  24              6866   \n",
      "19  2016          2269                  24              7512   \n",
      "20  2017          1994                  22              6011   \n",
      "21  2018          1611                  23              2686   \n",
      "22  2019          2107                  21              2496   \n",
      "23  2020          1877                  21              3305   \n",
      "24  2021          2407                  20              3705   \n",
      "25  2022          3420                  20              4502   \n",
      "26  2023          5309                  23             11148   \n",
      "27  2024          4233                  23              7542   \n",
      "\n",
      "    average_fatalities  \n",
      "0            17.073059  \n",
      "1            15.784000  \n",
      "2            13.641509  \n",
      "3            14.123932  \n",
      "4            19.035714  \n",
      "5            28.921348  \n",
      "6            30.862275  \n",
      "7            22.360465  \n",
      "8             5.133891  \n",
      "9             7.045455  \n",
      "10           12.185841  \n",
      "11            5.064885  \n",
      "12            8.850187  \n",
      "13            8.142857  \n",
      "14           16.262048  \n",
      "15            7.032694  \n",
      "16            7.892012  \n",
      "17            4.922135  \n",
      "18            3.318511  \n",
      "19            3.310710  \n",
      "20            3.014544  \n",
      "21            1.667287  \n",
      "22            1.184623  \n",
      "23            1.760788  \n",
      "24            1.539260  \n",
      "25            1.316374  \n",
      "26            2.099830  \n",
      "27            1.781715  \n"
     ]
    }
   ],
   "source": [
    "# Grouping data by 'year' and aggregating\n",
    "yearly_summary = (df.groupby('year').agg(total_events=('sub_event_type', 'count'),\n",
    "        unique_event_types=('sub_event_type', 'nunique'),\n",
    "        unique_actor\n",
    "        total_fatalities=('fatalities', 'sum'),\n",
    "        average_fatalities=('fatalities', 'mean')).reset_index())\n",
    "\n",
    "# Display the yearly summary\n",
    "print(yearly_summary)"
   ]
  },
  {
   "cell_type": "code",
   "execution_count": 19,
   "metadata": {},
   "outputs": [
    {
     "data": {
      "text/plain": [
       "<Axes: >"
      ]
     },
     "execution_count": 19,
     "metadata": {},
     "output_type": "execute_result"
    },
    {
     "data": {
      "image/png": "[encoded data removed]",
      "text/plain": [
       "<Figure size 640x480 with 2 Axes>"
      ]
     },
     "metadata": {},
     "output_type": "display_data"
    }
   ],
   "source": [
    "sns.heatmap(yearly_summary.corr(), annot =True)"
   ]
  },
  {
   "cell_type": "markdown",
   "metadata": {},
   "source": [
    "Hotencoding of categorical valuesin the dataset"
   ]
  },
  {
   "cell_type": "code",
   "execution_count": 46,
   "metadata": {},
   "outputs": [
    {
     "data": {
      "text/html": [
       "<div>\n",
       "<style scoped>\n",
       "    .dataframe tbody tr th:only-of-type {\n",
       "        vertical-align: middle;\n",
       "    }\n",
       "\n",
       "    .dataframe tbody tr th {\n",
       "        vertical-align: top;\n",
       "    }\n",
       "\n",
       "    .dataframe thead th {\n",
       "        text-align: right;\n",
       "    }\n",
       "</style>\n",
       "<table border=\"1\" class=\"dataframe\">\n",
       "  <thead>\n",
       "    <tr style=\"text-align: right;\">\n",
       "      <th></th>\n",
       "      <th>year</th>\n",
       "      <th>fatalities</th>\n",
       "      <th>geo_precision</th>\n",
       "      <th>disorder_type_Demonstrations</th>\n",
       "      <th>disorder_type_Political violence</th>\n",
       "      <th>disorder_type_Political violence; Demonstrations</th>\n",
       "      <th>disorder_type_Strategic developments</th>\n",
       "      <th>event_type_Battles</th>\n",
       "      <th>event_type_Explosions/Remote violence</th>\n",
       "      <th>event_type_Protests</th>\n",
       "      <th>...</th>\n",
       "      <th>source_scale_Other-National</th>\n",
       "      <th>source_scale_Other-New media</th>\n",
       "      <th>source_scale_Other-Regional</th>\n",
       "      <th>source_scale_Other-Subnational</th>\n",
       "      <th>source_scale_Regional</th>\n",
       "      <th>source_scale_Regional-International</th>\n",
       "      <th>source_scale_Subnational</th>\n",
       "      <th>source_scale_Subnational-International</th>\n",
       "      <th>source_scale_Subnational-National</th>\n",
       "      <th>source_scale_Subnational-Regional</th>\n",
       "    </tr>\n",
       "  </thead>\n",
       "  <tbody>\n",
       "    <tr>\n",
       "      <th>0</th>\n",
       "      <td>2024</td>\n",
       "      <td>0</td>\n",
       "      <td>1</td>\n",
       "      <td>False</td>\n",
       "      <td>True</td>\n",
       "      <td>False</td>\n",
       "      <td>False</td>\n",
       "      <td>True</td>\n",
       "      <td>False</td>\n",
       "      <td>False</td>\n",
       "      <td>...</td>\n",
       "      <td>False</td>\n",
       "      <td>False</td>\n",
       "      <td>False</td>\n",
       "      <td>False</td>\n",
       "      <td>False</td>\n",
       "      <td>False</td>\n",
       "      <td>False</td>\n",
       "      <td>False</td>\n",
       "      <td>False</td>\n",
       "      <td>False</td>\n",
       "    </tr>\n",
       "    <tr>\n",
       "      <th>1</th>\n",
       "      <td>2024</td>\n",
       "      <td>1</td>\n",
       "      <td>1</td>\n",
       "      <td>False</td>\n",
       "      <td>False</td>\n",
       "      <td>True</td>\n",
       "      <td>False</td>\n",
       "      <td>False</td>\n",
       "      <td>False</td>\n",
       "      <td>True</td>\n",
       "      <td>...</td>\n",
       "      <td>False</td>\n",
       "      <td>False</td>\n",
       "      <td>False</td>\n",
       "      <td>False</td>\n",
       "      <td>False</td>\n",
       "      <td>False</td>\n",
       "      <td>False</td>\n",
       "      <td>False</td>\n",
       "      <td>False</td>\n",
       "      <td>False</td>\n",
       "    </tr>\n",
       "    <tr>\n",
       "      <th>2</th>\n",
       "      <td>2024</td>\n",
       "      <td>5</td>\n",
       "      <td>1</td>\n",
       "      <td>False</td>\n",
       "      <td>True</td>\n",
       "      <td>False</td>\n",
       "      <td>False</td>\n",
       "      <td>False</td>\n",
       "      <td>True</td>\n",
       "      <td>False</td>\n",
       "      <td>...</td>\n",
       "      <td>False</td>\n",
       "      <td>False</td>\n",
       "      <td>False</td>\n",
       "      <td>False</td>\n",
       "      <td>False</td>\n",
       "      <td>False</td>\n",
       "      <td>False</td>\n",
       "      <td>False</td>\n",
       "      <td>False</td>\n",
       "      <td>False</td>\n",
       "    </tr>\n",
       "    <tr>\n",
       "      <th>3</th>\n",
       "      <td>2024</td>\n",
       "      <td>0</td>\n",
       "      <td>1</td>\n",
       "      <td>True</td>\n",
       "      <td>False</td>\n",
       "      <td>False</td>\n",
       "      <td>False</td>\n",
       "      <td>False</td>\n",
       "      <td>False</td>\n",
       "      <td>True</td>\n",
       "      <td>...</td>\n",
       "      <td>False</td>\n",
       "      <td>False</td>\n",
       "      <td>False</td>\n",
       "      <td>False</td>\n",
       "      <td>False</td>\n",
       "      <td>False</td>\n",
       "      <td>True</td>\n",
       "      <td>False</td>\n",
       "      <td>False</td>\n",
       "      <td>False</td>\n",
       "    </tr>\n",
       "    <tr>\n",
       "      <th>4</th>\n",
       "      <td>2024</td>\n",
       "      <td>0</td>\n",
       "      <td>1</td>\n",
       "      <td>False</td>\n",
       "      <td>False</td>\n",
       "      <td>False</td>\n",
       "      <td>True</td>\n",
       "      <td>False</td>\n",
       "      <td>False</td>\n",
       "      <td>False</td>\n",
       "      <td>...</td>\n",
       "      <td>False</td>\n",
       "      <td>False</td>\n",
       "      <td>False</td>\n",
       "      <td>False</td>\n",
       "      <td>False</td>\n",
       "      <td>False</td>\n",
       "      <td>False</td>\n",
       "      <td>False</td>\n",
       "      <td>False</td>\n",
       "      <td>False</td>\n",
       "    </tr>\n",
       "    <tr>\n",
       "      <th>5</th>\n",
       "      <td>2024</td>\n",
       "      <td>8</td>\n",
       "      <td>1</td>\n",
       "      <td>False</td>\n",
       "      <td>True</td>\n",
       "      <td>False</td>\n",
       "      <td>False</td>\n",
       "      <td>False</td>\n",
       "      <td>True</td>\n",
       "      <td>False</td>\n",
       "      <td>...</td>\n",
       "      <td>False</td>\n",
       "      <td>False</td>\n",
       "      <td>False</td>\n",
       "      <td>False</td>\n",
       "      <td>False</td>\n",
       "      <td>False</td>\n",
       "      <td>False</td>\n",
       "      <td>False</td>\n",
       "      <td>False</td>\n",
       "      <td>False</td>\n",
       "    </tr>\n",
       "    <tr>\n",
       "      <th>6</th>\n",
       "      <td>2024</td>\n",
       "      <td>0</td>\n",
       "      <td>2</td>\n",
       "      <td>False</td>\n",
       "      <td>False</td>\n",
       "      <td>False</td>\n",
       "      <td>True</td>\n",
       "      <td>False</td>\n",
       "      <td>False</td>\n",
       "      <td>False</td>\n",
       "      <td>...</td>\n",
       "      <td>False</td>\n",
       "      <td>False</td>\n",
       "      <td>False</td>\n",
       "      <td>False</td>\n",
       "      <td>False</td>\n",
       "      <td>False</td>\n",
       "      <td>False</td>\n",
       "      <td>False</td>\n",
       "      <td>False</td>\n",
       "      <td>False</td>\n",
       "    </tr>\n",
       "    <tr>\n",
       "      <th>7</th>\n",
       "      <td>2024</td>\n",
       "      <td>10</td>\n",
       "      <td>1</td>\n",
       "      <td>False</td>\n",
       "      <td>True</td>\n",
       "      <td>False</td>\n",
       "      <td>False</td>\n",
       "      <td>False</td>\n",
       "      <td>True</td>\n",
       "      <td>False</td>\n",
       "      <td>...</td>\n",
       "      <td>False</td>\n",
       "      <td>False</td>\n",
       "      <td>False</td>\n",
       "      <td>False</td>\n",
       "      <td>False</td>\n",
       "      <td>False</td>\n",
       "      <td>False</td>\n",
       "      <td>False</td>\n",
       "      <td>False</td>\n",
       "      <td>False</td>\n",
       "    </tr>\n",
       "    <tr>\n",
       "      <th>8</th>\n",
       "      <td>2024</td>\n",
       "      <td>1</td>\n",
       "      <td>3</td>\n",
       "      <td>False</td>\n",
       "      <td>True</td>\n",
       "      <td>False</td>\n",
       "      <td>False</td>\n",
       "      <td>False</td>\n",
       "      <td>False</td>\n",
       "      <td>False</td>\n",
       "      <td>...</td>\n",
       "      <td>False</td>\n",
       "      <td>False</td>\n",
       "      <td>False</td>\n",
       "      <td>False</td>\n",
       "      <td>False</td>\n",
       "      <td>False</td>\n",
       "      <td>False</td>\n",
       "      <td>False</td>\n",
       "      <td>False</td>\n",
       "      <td>False</td>\n",
       "    </tr>\n",
       "    <tr>\n",
       "      <th>9</th>\n",
       "      <td>2024</td>\n",
       "      <td>0</td>\n",
       "      <td>2</td>\n",
       "      <td>False</td>\n",
       "      <td>True</td>\n",
       "      <td>False</td>\n",
       "      <td>False</td>\n",
       "      <td>True</td>\n",
       "      <td>False</td>\n",
       "      <td>False</td>\n",
       "      <td>...</td>\n",
       "      <td>False</td>\n",
       "      <td>False</td>\n",
       "      <td>False</td>\n",
       "      <td>False</td>\n",
       "      <td>False</td>\n",
       "      <td>False</td>\n",
       "      <td>False</td>\n",
       "      <td>False</td>\n",
       "      <td>False</td>\n",
       "      <td>False</td>\n",
       "    </tr>\n",
       "  </tbody>\n",
       "</table>\n",
       "<p>10 rows × 4959 columns</p>\n",
       "</div>"
      ],
      "text/plain": [
       "   year  fatalities  geo_precision  disorder_type_Demonstrations  \\\n",
       "0  2024           0              1                         False   \n",
       "1  2024           1              1                         False   \n",
       "2  2024           5              1                         False   \n",
       "3  2024           0              1                          True   \n",
       "4  2024           0              1                         False   \n",
       "5  2024           8              1                         False   \n",
       "6  2024           0              2                         False   \n",
       "7  2024          10              1                         False   \n",
       "8  2024           1              3                         False   \n",
       "9  2024           0              2                         False   \n",
       "\n",
       "   disorder_type_Political violence  \\\n",
       "0                              True   \n",
       "1                             False   \n",
       "2                              True   \n",
       "3                             False   \n",
       "4                             False   \n",
       "5                              True   \n",
       "6                             False   \n",
       "7                              True   \n",
       "8                              True   \n",
       "9                              True   \n",
       "\n",
       "   disorder_type_Political violence; Demonstrations  \\\n",
       "0                                             False   \n",
       "1                                              True   \n",
       "2                                             False   \n",
       "3                                             False   \n",
       "4                                             False   \n",
       "5                                             False   \n",
       "6                                             False   \n",
       "7                                             False   \n",
       "8                                             False   \n",
       "9                                             False   \n",
       "\n",
       "   disorder_type_Strategic developments  event_type_Battles  \\\n",
       "0                                 False                True   \n",
       "1                                 False               False   \n",
       "2                                 False               False   \n",
       "3                                 False               False   \n",
       "4                                  True               False   \n",
       "5                                 False               False   \n",
       "6                                  True               False   \n",
       "7                                 False               False   \n",
       "8                                 False               False   \n",
       "9                                 False                True   \n",
       "\n",
       "   event_type_Explosions/Remote violence  event_type_Protests  ...  \\\n",
       "0                                  False                False  ...   \n",
       "1                                  False                 True  ...   \n",
       "2                                   True                False  ...   \n",
       "3                                  False                 True  ...   \n",
       "4                                  False                False  ...   \n",
       "5                                   True                False  ...   \n",
       "6                                  False                False  ...   \n",
       "7                                   True                False  ...   \n",
       "8                                  False                False  ...   \n",
       "9                                  False                False  ...   \n",
       "\n",
       "   source_scale_Other-National  source_scale_Other-New media  \\\n",
       "0                        False                         False   \n",
       "1                        False                         False   \n",
       "2                        False                         False   \n",
       "3                        False                         False   \n",
       "4                        False                         False   \n",
       "5                        False                         False   \n",
       "6                        False                         False   \n",
       "7                        False                         False   \n",
       "8                        False                         False   \n",
       "9                        False                         False   \n",
       "\n",
       "   source_scale_Other-Regional  source_scale_Other-Subnational  \\\n",
       "0                        False                           False   \n",
       "1                        False                           False   \n",
       "2                        False                           False   \n",
       "3                        False                           False   \n",
       "4                        False                           False   \n",
       "5                        False                           False   \n",
       "6                        False                           False   \n",
       "7                        False                           False   \n",
       "8                        False                           False   \n",
       "9                        False                           False   \n",
       "\n",
       "   source_scale_Regional  source_scale_Regional-International  \\\n",
       "0                  False                                False   \n",
       "1                  False                                False   \n",
       "2                  False                                False   \n",
       "3                  False                                False   \n",
       "4                  False                                False   \n",
       "5                  False                                False   \n",
       "6                  False                                False   \n",
       "7                  False                                False   \n",
       "8                  False                                False   \n",
       "9                  False                                False   \n",
       "\n",
       "   source_scale_Subnational  source_scale_Subnational-International  \\\n",
       "0                     False                                   False   \n",
       "1                     False                                   False   \n",
       "2                     False                                   False   \n",
       "3                      True                                   False   \n",
       "4                     False                                   False   \n",
       "5                     False                                   False   \n",
       "6                     False                                   False   \n",
       "7                     False                                   False   \n",
       "8                     False                                   False   \n",
       "9                     False                                   False   \n",
       "\n",
       "   source_scale_Subnational-National  source_scale_Subnational-Regional  \n",
       "0                              False                              False  \n",
       "1                              False                              False  \n",
       "2                              False                              False  \n",
       "3                              False                              False  \n",
       "4                              False                              False  \n",
       "5                              False                              False  \n",
       "6                              False                              False  \n",
       "7                              False                              False  \n",
       "8                              False                              False  \n",
       "9                              False                              False  \n",
       "\n",
       "[10 rows x 4959 columns]"
      ]
     },
     "execution_count": 46,
     "metadata": {},
     "output_type": "execute_result"
    }
   ],
   "source": [
    "df_encoded = pd.get_dummies(df_selected)\n",
    "df_encoded.head(10)"
   ]
  },
  {
   "cell_type": "code",
   "execution_count": 43,
   "metadata": {},
   "outputs": [
    {
     "data": {
      "text/plain": [
       "(35057, 4959)"
      ]
     },
     "execution_count": 43,
     "metadata": {},
     "output_type": "execute_result"
    }
   ],
   "source": [
    "df_encoded.shape"
   ]
  },
  {
   "cell_type": "code",
   "execution_count": 29,
   "metadata": {},
   "outputs": [
    {
     "data": {
      "text/plain": [
       "Index(['year', 'fatalities', 'geo_precision', 'disorder_type_Demonstrations',\n",
       "       'disorder_type_Political violence',\n",
       "       'disorder_type_Political violence; Demonstrations',\n",
       "       'disorder_type_Strategic developments', 'event_type_Battles',\n",
       "       'event_type_Explosions/Remote violence', 'event_type_Protests',\n",
       "       ...\n",
       "       'source_scale_Other-National', 'source_scale_Other-New media',\n",
       "       'source_scale_Other-Regional', 'source_scale_Other-Subnational',\n",
       "       'source_scale_Regional', 'source_scale_Regional-International',\n",
       "       'source_scale_Subnational', 'source_scale_Subnational-International',\n",
       "       'source_scale_Subnational-National',\n",
       "       'source_scale_Subnational-Regional'],\n",
       "      dtype='object', length=4959)"
      ]
     },
     "execution_count": 29,
     "metadata": {},
     "output_type": "execute_result"
    }
   ],
   "source": [
    "df_encoded.columns"
   ]
  },
  {
   "cell_type": "code",
   "execution_count": 53,
   "metadata": {},
   "outputs": [
    {
     "data": {
      "text/html": [
       "<div>\n",
       "<style scoped>\n",
       "    .dataframe tbody tr th:only-of-type {\n",
       "        vertical-align: middle;\n",
       "    }\n",
       "\n",
       "    .dataframe tbody tr th {\n",
       "        vertical-align: top;\n",
       "    }\n",
       "\n",
       "    .dataframe thead th {\n",
       "        text-align: right;\n",
       "    }\n",
       "</style>\n",
       "<table border=\"1\" class=\"dataframe\">\n",
       "  <thead>\n",
       "    <tr style=\"text-align: right;\">\n",
       "      <th></th>\n",
       "      <th>year</th>\n",
       "      <th>fatalities</th>\n",
       "      <th>geo_precision</th>\n",
       "      <th>disorder_type_Demonstrations</th>\n",
       "      <th>disorder_type_Political violence</th>\n",
       "      <th>disorder_type_Political violence; Demonstrations</th>\n",
       "      <th>disorder_type_Strategic developments</th>\n",
       "      <th>event_type_Battles</th>\n",
       "      <th>event_type_Explosions/Remote violence</th>\n",
       "      <th>event_type_Protests</th>\n",
       "      <th>...</th>\n",
       "      <th>source_scale_Other-National</th>\n",
       "      <th>source_scale_Other-New media</th>\n",
       "      <th>source_scale_Other-Regional</th>\n",
       "      <th>source_scale_Other-Subnational</th>\n",
       "      <th>source_scale_Regional</th>\n",
       "      <th>source_scale_Regional-International</th>\n",
       "      <th>source_scale_Subnational</th>\n",
       "      <th>source_scale_Subnational-International</th>\n",
       "      <th>source_scale_Subnational-National</th>\n",
       "      <th>source_scale_Subnational-Regional</th>\n",
       "    </tr>\n",
       "  </thead>\n",
       "  <tbody>\n",
       "    <tr>\n",
       "      <th>0</th>\n",
       "      <td>2024</td>\n",
       "      <td>0</td>\n",
       "      <td>1</td>\n",
       "      <td>0</td>\n",
       "      <td>1</td>\n",
       "      <td>0</td>\n",
       "      <td>0</td>\n",
       "      <td>1</td>\n",
       "      <td>0</td>\n",
       "      <td>0</td>\n",
       "      <td>...</td>\n",
       "      <td>0</td>\n",
       "      <td>0</td>\n",
       "      <td>0</td>\n",
       "      <td>0</td>\n",
       "      <td>0</td>\n",
       "      <td>0</td>\n",
       "      <td>0</td>\n",
       "      <td>0</td>\n",
       "      <td>0</td>\n",
       "      <td>0</td>\n",
       "    </tr>\n",
       "    <tr>\n",
       "      <th>1</th>\n",
       "      <td>2024</td>\n",
       "      <td>1</td>\n",
       "      <td>1</td>\n",
       "      <td>0</td>\n",
       "      <td>0</td>\n",
       "      <td>1</td>\n",
       "      <td>0</td>\n",
       "      <td>0</td>\n",
       "      <td>0</td>\n",
       "      <td>1</td>\n",
       "      <td>...</td>\n",
       "      <td>0</td>\n",
       "      <td>0</td>\n",
       "      <td>0</td>\n",
       "      <td>0</td>\n",
       "      <td>0</td>\n",
       "      <td>0</td>\n",
       "      <td>0</td>\n",
       "      <td>0</td>\n",
       "      <td>0</td>\n",
       "      <td>0</td>\n",
       "    </tr>\n",
       "    <tr>\n",
       "      <th>2</th>\n",
       "      <td>2024</td>\n",
       "      <td>5</td>\n",
       "      <td>1</td>\n",
       "      <td>0</td>\n",
       "      <td>1</td>\n",
       "      <td>0</td>\n",
       "      <td>0</td>\n",
       "      <td>0</td>\n",
       "      <td>1</td>\n",
       "      <td>0</td>\n",
       "      <td>...</td>\n",
       "      <td>0</td>\n",
       "      <td>0</td>\n",
       "      <td>0</td>\n",
       "      <td>0</td>\n",
       "      <td>0</td>\n",
       "      <td>0</td>\n",
       "      <td>0</td>\n",
       "      <td>0</td>\n",
       "      <td>0</td>\n",
       "      <td>0</td>\n",
       "    </tr>\n",
       "    <tr>\n",
       "      <th>3</th>\n",
       "      <td>2024</td>\n",
       "      <td>0</td>\n",
       "      <td>1</td>\n",
       "      <td>1</td>\n",
       "      <td>0</td>\n",
       "      <td>0</td>\n",
       "      <td>0</td>\n",
       "      <td>0</td>\n",
       "      <td>0</td>\n",
       "      <td>1</td>\n",
       "      <td>...</td>\n",
       "      <td>0</td>\n",
       "      <td>0</td>\n",
       "      <td>0</td>\n",
       "      <td>0</td>\n",
       "      <td>0</td>\n",
       "      <td>0</td>\n",
       "      <td>1</td>\n",
       "      <td>0</td>\n",
       "      <td>0</td>\n",
       "      <td>0</td>\n",
       "    </tr>\n",
       "    <tr>\n",
       "      <th>4</th>\n",
       "      <td>2024</td>\n",
       "      <td>0</td>\n",
       "      <td>1</td>\n",
       "      <td>0</td>\n",
       "      <td>0</td>\n",
       "      <td>0</td>\n",
       "      <td>1</td>\n",
       "      <td>0</td>\n",
       "      <td>0</td>\n",
       "      <td>0</td>\n",
       "      <td>...</td>\n",
       "      <td>0</td>\n",
       "      <td>0</td>\n",
       "      <td>0</td>\n",
       "      <td>0</td>\n",
       "      <td>0</td>\n",
       "      <td>0</td>\n",
       "      <td>0</td>\n",
       "      <td>0</td>\n",
       "      <td>0</td>\n",
       "      <td>0</td>\n",
       "    </tr>\n",
       "    <tr>\n",
       "      <th>...</th>\n",
       "      <td>...</td>\n",
       "      <td>...</td>\n",
       "      <td>...</td>\n",
       "      <td>...</td>\n",
       "      <td>...</td>\n",
       "      <td>...</td>\n",
       "      <td>...</td>\n",
       "      <td>...</td>\n",
       "      <td>...</td>\n",
       "      <td>...</td>\n",
       "      <td>...</td>\n",
       "      <td>...</td>\n",
       "      <td>...</td>\n",
       "      <td>...</td>\n",
       "      <td>...</td>\n",
       "      <td>...</td>\n",
       "      <td>...</td>\n",
       "      <td>...</td>\n",
       "      <td>...</td>\n",
       "      <td>...</td>\n",
       "      <td>...</td>\n",
       "    </tr>\n",
       "    <tr>\n",
       "      <th>35052</th>\n",
       "      <td>1997</td>\n",
       "      <td>0</td>\n",
       "      <td>1</td>\n",
       "      <td>1</td>\n",
       "      <td>0</td>\n",
       "      <td>0</td>\n",
       "      <td>0</td>\n",
       "      <td>0</td>\n",
       "      <td>0</td>\n",
       "      <td>1</td>\n",
       "      <td>...</td>\n",
       "      <td>0</td>\n",
       "      <td>0</td>\n",
       "      <td>0</td>\n",
       "      <td>0</td>\n",
       "      <td>0</td>\n",
       "      <td>0</td>\n",
       "      <td>0</td>\n",
       "      <td>0</td>\n",
       "      <td>0</td>\n",
       "      <td>0</td>\n",
       "    </tr>\n",
       "    <tr>\n",
       "      <th>35053</th>\n",
       "      <td>1997</td>\n",
       "      <td>0</td>\n",
       "      <td>1</td>\n",
       "      <td>0</td>\n",
       "      <td>0</td>\n",
       "      <td>1</td>\n",
       "      <td>0</td>\n",
       "      <td>0</td>\n",
       "      <td>0</td>\n",
       "      <td>1</td>\n",
       "      <td>...</td>\n",
       "      <td>0</td>\n",
       "      <td>0</td>\n",
       "      <td>0</td>\n",
       "      <td>0</td>\n",
       "      <td>0</td>\n",
       "      <td>0</td>\n",
       "      <td>0</td>\n",
       "      <td>0</td>\n",
       "      <td>0</td>\n",
       "      <td>0</td>\n",
       "    </tr>\n",
       "    <tr>\n",
       "      <th>35054</th>\n",
       "      <td>1997</td>\n",
       "      <td>7</td>\n",
       "      <td>3</td>\n",
       "      <td>0</td>\n",
       "      <td>1</td>\n",
       "      <td>0</td>\n",
       "      <td>0</td>\n",
       "      <td>0</td>\n",
       "      <td>0</td>\n",
       "      <td>0</td>\n",
       "      <td>...</td>\n",
       "      <td>0</td>\n",
       "      <td>0</td>\n",
       "      <td>0</td>\n",
       "      <td>0</td>\n",
       "      <td>0</td>\n",
       "      <td>0</td>\n",
       "      <td>0</td>\n",
       "      <td>0</td>\n",
       "      <td>0</td>\n",
       "      <td>0</td>\n",
       "    </tr>\n",
       "    <tr>\n",
       "      <th>35055</th>\n",
       "      <td>1997</td>\n",
       "      <td>0</td>\n",
       "      <td>1</td>\n",
       "      <td>0</td>\n",
       "      <td>1</td>\n",
       "      <td>0</td>\n",
       "      <td>0</td>\n",
       "      <td>1</td>\n",
       "      <td>0</td>\n",
       "      <td>0</td>\n",
       "      <td>...</td>\n",
       "      <td>0</td>\n",
       "      <td>0</td>\n",
       "      <td>0</td>\n",
       "      <td>0</td>\n",
       "      <td>0</td>\n",
       "      <td>0</td>\n",
       "      <td>0</td>\n",
       "      <td>0</td>\n",
       "      <td>0</td>\n",
       "      <td>0</td>\n",
       "    </tr>\n",
       "    <tr>\n",
       "      <th>35056</th>\n",
       "      <td>1997</td>\n",
       "      <td>0</td>\n",
       "      <td>2</td>\n",
       "      <td>0</td>\n",
       "      <td>1</td>\n",
       "      <td>0</td>\n",
       "      <td>0</td>\n",
       "      <td>1</td>\n",
       "      <td>0</td>\n",
       "      <td>0</td>\n",
       "      <td>...</td>\n",
       "      <td>0</td>\n",
       "      <td>0</td>\n",
       "      <td>0</td>\n",
       "      <td>0</td>\n",
       "      <td>0</td>\n",
       "      <td>0</td>\n",
       "      <td>0</td>\n",
       "      <td>0</td>\n",
       "      <td>0</td>\n",
       "      <td>0</td>\n",
       "    </tr>\n",
       "  </tbody>\n",
       "</table>\n",
       "<p>35057 rows × 4959 columns</p>\n",
       "</div>"
      ],
      "text/plain": [
       "       year  fatalities  geo_precision  disorder_type_Demonstrations  \\\n",
       "0      2024           0              1                             0   \n",
       "1      2024           1              1                             0   \n",
       "2      2024           5              1                             0   \n",
       "3      2024           0              1                             1   \n",
       "4      2024           0              1                             0   \n",
       "...     ...         ...            ...                           ...   \n",
       "35052  1997           0              1                             1   \n",
       "35053  1997           0              1                             0   \n",
       "35054  1997           7              3                             0   \n",
       "35055  1997           0              1                             0   \n",
       "35056  1997           0              2                             0   \n",
       "\n",
       "       disorder_type_Political violence  \\\n",
       "0                                     1   \n",
       "1                                     0   \n",
       "2                                     1   \n",
       "3                                     0   \n",
       "4                                     0   \n",
       "...                                 ...   \n",
       "35052                                 0   \n",
       "35053                                 0   \n",
       "35054                                 1   \n",
       "35055                                 1   \n",
       "35056                                 1   \n",
       "\n",
       "       disorder_type_Political violence; Demonstrations  \\\n",
       "0                                                     0   \n",
       "1                                                     1   \n",
       "2                                                     0   \n",
       "3                                                     0   \n",
       "4                                                     0   \n",
       "...                                                 ...   \n",
       "35052                                                 0   \n",
       "35053                                                 1   \n",
       "35054                                                 0   \n",
       "35055                                                 0   \n",
       "35056                                                 0   \n",
       "\n",
       "       disorder_type_Strategic developments  event_type_Battles  \\\n",
       "0                                         0                   1   \n",
       "1                                         0                   0   \n",
       "2                                         0                   0   \n",
       "3                                         0                   0   \n",
       "4                                         1                   0   \n",
       "...                                     ...                 ...   \n",
       "35052                                     0                   0   \n",
       "35053                                     0                   0   \n",
       "35054                                     0                   0   \n",
       "35055                                     0                   1   \n",
       "35056                                     0                   1   \n",
       "\n",
       "       event_type_Explosions/Remote violence  event_type_Protests  ...  \\\n",
       "0                                          0                    0  ...   \n",
       "1                                          0                    1  ...   \n",
       "2                                          1                    0  ...   \n",
       "3                                          0                    1  ...   \n",
       "4                                          0                    0  ...   \n",
       "...                                      ...                  ...  ...   \n",
       "35052                                      0                    1  ...   \n",
       "35053                                      0                    1  ...   \n",
       "35054                                      0                    0  ...   \n",
       "35055                                      0                    0  ...   \n",
       "35056                                      0                    0  ...   \n",
       "\n",
       "       source_scale_Other-National  source_scale_Other-New media  \\\n",
       "0                                0                             0   \n",
       "1                                0                             0   \n",
       "2                                0                             0   \n",
       "3                                0                             0   \n",
       "4                                0                             0   \n",
       "...                            ...                           ...   \n",
       "35052                            0                             0   \n",
       "35053                            0                             0   \n",
       "35054                            0                             0   \n",
       "35055                            0                             0   \n",
       "35056                            0                             0   \n",
       "\n",
       "       source_scale_Other-Regional  source_scale_Other-Subnational  \\\n",
       "0                                0                               0   \n",
       "1                                0                               0   \n",
       "2                                0                               0   \n",
       "3                                0                               0   \n",
       "4                                0                               0   \n",
       "...                            ...                             ...   \n",
       "35052                            0                               0   \n",
       "35053                            0                               0   \n",
       "35054                            0                               0   \n",
       "35055                            0                               0   \n",
       "35056                            0                               0   \n",
       "\n",
       "       source_scale_Regional  source_scale_Regional-International  \\\n",
       "0                          0                                    0   \n",
       "1                          0                                    0   \n",
       "2                          0                                    0   \n",
       "3                          0                                    0   \n",
       "4                          0                                    0   \n",
       "...                      ...                                  ...   \n",
       "35052                      0                                    0   \n",
       "35053                      0                                    0   \n",
       "35054                      0                                    0   \n",
       "35055                      0                                    0   \n",
       "35056                      0                                    0   \n",
       "\n",
       "       source_scale_Subnational  source_scale_Subnational-International  \\\n",
       "0                             0                                       0   \n",
       "1                             0                                       0   \n",
       "2                             0                                       0   \n",
       "3                             1                                       0   \n",
       "4                             0                                       0   \n",
       "...                         ...                                     ...   \n",
       "35052                         0                                       0   \n",
       "35053                         0                                       0   \n",
       "35054                         0                                       0   \n",
       "35055                         0                                       0   \n",
       "35056                         0                                       0   \n",
       "\n",
       "       source_scale_Subnational-National  source_scale_Subnational-Regional  \n",
       "0                                      0                                  0  \n",
       "1                                      0                                  0  \n",
       "2                                      0                                  0  \n",
       "3                                      0                                  0  \n",
       "4                                      0                                  0  \n",
       "...                                  ...                                ...  \n",
       "35052                                  0                                  0  \n",
       "35053                                  0                                  0  \n",
       "35054                                  0                                  0  \n",
       "35055                                  0                                  0  \n",
       "35056                                  0                                  0  \n",
       "\n",
       "[35057 rows x 4959 columns]"
      ]
     },
     "execution_count": 53,
     "metadata": {},
     "output_type": "execute_result"
    }
   ],
   "source": [
    "# Columns to exclude\n",
    "exclude_columns = ['col1', 'col2', 'col3']\n",
    "\n",
    "# Identify True/False columns that are not in exclude_columns\n",
    "columns_to_convert = [\n",
    "    col for col in df_encoded.columns \n",
    "    if col not in exclude_columns and pd.api.types.is_bool_dtype(df_encoded[col])\n",
    "]\n",
    "\n",
    "# Convert the identified columns to numeric (0/1)\n",
    "df_encoded[columns_to_convert] = df_encoded[columns_to_convert].astype(int)\n",
    "\n",
    "# Display the modified DataFrame\n",
    "df_encoded"
   ]
  },
  {
   "cell_type": "code",
   "execution_count": 60,
   "metadata": {},
   "outputs": [
    {
     "data": {
      "text/html": [
       "<div>\n",
       "<style scoped>\n",
       "    .dataframe tbody tr th:only-of-type {\n",
       "        vertical-align: middle;\n",
       "    }\n",
       "\n",
       "    .dataframe tbody tr th {\n",
       "        vertical-align: top;\n",
       "    }\n",
       "\n",
       "    .dataframe thead tr th {\n",
       "        text-align: left;\n",
       "    }\n",
       "\n",
       "    .dataframe thead tr:last-of-type th {\n",
       "        text-align: right;\n",
       "    }\n",
       "</style>\n",
       "<table border=\"1\" class=\"dataframe\">\n",
       "  <thead>\n",
       "    <tr>\n",
       "      <th></th>\n",
       "      <th colspan=\"2\" halign=\"left\">fatalities</th>\n",
       "      <th colspan=\"2\" halign=\"left\">geo_precision</th>\n",
       "      <th colspan=\"2\" halign=\"left\">disorder_type_Demonstrations</th>\n",
       "      <th colspan=\"2\" halign=\"left\">disorder_type_Political violence</th>\n",
       "      <th colspan=\"2\" halign=\"left\">disorder_type_Political violence; Demonstrations</th>\n",
       "      <th>...</th>\n",
       "      <th colspan=\"2\" halign=\"left\">source_scale_Regional-International</th>\n",
       "      <th colspan=\"2\" halign=\"left\">source_scale_Subnational</th>\n",
       "      <th colspan=\"2\" halign=\"left\">source_scale_Subnational-International</th>\n",
       "      <th colspan=\"2\" halign=\"left\">source_scale_Subnational-National</th>\n",
       "      <th colspan=\"2\" halign=\"left\">source_scale_Subnational-Regional</th>\n",
       "    </tr>\n",
       "    <tr>\n",
       "      <th></th>\n",
       "      <th>mean</th>\n",
       "      <th>count</th>\n",
       "      <th>mean</th>\n",
       "      <th>count</th>\n",
       "      <th>mean</th>\n",
       "      <th>count</th>\n",
       "      <th>mean</th>\n",
       "      <th>count</th>\n",
       "      <th>mean</th>\n",
       "      <th>count</th>\n",
       "      <th>...</th>\n",
       "      <th>mean</th>\n",
       "      <th>count</th>\n",
       "      <th>mean</th>\n",
       "      <th>count</th>\n",
       "      <th>mean</th>\n",
       "      <th>count</th>\n",
       "      <th>mean</th>\n",
       "      <th>count</th>\n",
       "      <th>mean</th>\n",
       "      <th>count</th>\n",
       "    </tr>\n",
       "    <tr>\n",
       "      <th>year</th>\n",
       "      <th></th>\n",
       "      <th></th>\n",
       "      <th></th>\n",
       "      <th></th>\n",
       "      <th></th>\n",
       "      <th></th>\n",
       "      <th></th>\n",
       "      <th></th>\n",
       "      <th></th>\n",
       "      <th></th>\n",
       "      <th></th>\n",
       "      <th></th>\n",
       "      <th></th>\n",
       "      <th></th>\n",
       "      <th></th>\n",
       "      <th></th>\n",
       "      <th></th>\n",
       "      <th></th>\n",
       "      <th></th>\n",
       "      <th></th>\n",
       "      <th></th>\n",
       "    </tr>\n",
       "  </thead>\n",
       "  <tbody>\n",
       "    <tr>\n",
       "      <th>1997</th>\n",
       "      <td>17.073059</td>\n",
       "      <td>219</td>\n",
       "      <td>1.474886</td>\n",
       "      <td>219</td>\n",
       "      <td>0.077626</td>\n",
       "      <td>219</td>\n",
       "      <td>0.872146</td>\n",
       "      <td>219</td>\n",
       "      <td>0.009132</td>\n",
       "      <td>219</td>\n",
       "      <td>...</td>\n",
       "      <td>0.000000</td>\n",
       "      <td>219</td>\n",
       "      <td>0.000000</td>\n",
       "      <td>219</td>\n",
       "      <td>0.000000</td>\n",
       "      <td>219</td>\n",
       "      <td>0.000000</td>\n",
       "      <td>219</td>\n",
       "      <td>0.000000</td>\n",
       "      <td>219</td>\n",
       "    </tr>\n",
       "    <tr>\n",
       "      <th>1998</th>\n",
       "      <td>15.784000</td>\n",
       "      <td>250</td>\n",
       "      <td>1.700000</td>\n",
       "      <td>250</td>\n",
       "      <td>0.048000</td>\n",
       "      <td>250</td>\n",
       "      <td>0.928000</td>\n",
       "      <td>250</td>\n",
       "      <td>0.000000</td>\n",
       "      <td>250</td>\n",
       "      <td>...</td>\n",
       "      <td>0.000000</td>\n",
       "      <td>250</td>\n",
       "      <td>0.000000</td>\n",
       "      <td>250</td>\n",
       "      <td>0.000000</td>\n",
       "      <td>250</td>\n",
       "      <td>0.000000</td>\n",
       "      <td>250</td>\n",
       "      <td>0.000000</td>\n",
       "      <td>250</td>\n",
       "    </tr>\n",
       "    <tr>\n",
       "      <th>1999</th>\n",
       "      <td>13.641509</td>\n",
       "      <td>212</td>\n",
       "      <td>1.655660</td>\n",
       "      <td>212</td>\n",
       "      <td>0.080189</td>\n",
       "      <td>212</td>\n",
       "      <td>0.896226</td>\n",
       "      <td>212</td>\n",
       "      <td>0.000000</td>\n",
       "      <td>212</td>\n",
       "      <td>...</td>\n",
       "      <td>0.000000</td>\n",
       "      <td>212</td>\n",
       "      <td>0.000000</td>\n",
       "      <td>212</td>\n",
       "      <td>0.000000</td>\n",
       "      <td>212</td>\n",
       "      <td>0.000000</td>\n",
       "      <td>212</td>\n",
       "      <td>0.000000</td>\n",
       "      <td>212</td>\n",
       "    </tr>\n",
       "    <tr>\n",
       "      <th>2000</th>\n",
       "      <td>14.123932</td>\n",
       "      <td>234</td>\n",
       "      <td>1.517094</td>\n",
       "      <td>234</td>\n",
       "      <td>0.076923</td>\n",
       "      <td>234</td>\n",
       "      <td>0.905983</td>\n",
       "      <td>234</td>\n",
       "      <td>0.008547</td>\n",
       "      <td>234</td>\n",
       "      <td>...</td>\n",
       "      <td>0.000000</td>\n",
       "      <td>234</td>\n",
       "      <td>0.000000</td>\n",
       "      <td>234</td>\n",
       "      <td>0.000000</td>\n",
       "      <td>234</td>\n",
       "      <td>0.000000</td>\n",
       "      <td>234</td>\n",
       "      <td>0.000000</td>\n",
       "      <td>234</td>\n",
       "    </tr>\n",
       "    <tr>\n",
       "      <th>2001</th>\n",
       "      <td>19.035714</td>\n",
       "      <td>224</td>\n",
       "      <td>1.616071</td>\n",
       "      <td>224</td>\n",
       "      <td>0.098214</td>\n",
       "      <td>224</td>\n",
       "      <td>0.879464</td>\n",
       "      <td>224</td>\n",
       "      <td>0.000000</td>\n",
       "      <td>224</td>\n",
       "      <td>...</td>\n",
       "      <td>0.000000</td>\n",
       "      <td>224</td>\n",
       "      <td>0.000000</td>\n",
       "      <td>224</td>\n",
       "      <td>0.000000</td>\n",
       "      <td>224</td>\n",
       "      <td>0.000000</td>\n",
       "      <td>224</td>\n",
       "      <td>0.000000</td>\n",
       "      <td>224</td>\n",
       "    </tr>\n",
       "    <tr>\n",
       "      <th>2002</th>\n",
       "      <td>28.921348</td>\n",
       "      <td>267</td>\n",
       "      <td>1.505618</td>\n",
       "      <td>267</td>\n",
       "      <td>0.056180</td>\n",
       "      <td>267</td>\n",
       "      <td>0.932584</td>\n",
       "      <td>267</td>\n",
       "      <td>0.000000</td>\n",
       "      <td>267</td>\n",
       "      <td>...</td>\n",
       "      <td>0.000000</td>\n",
       "      <td>267</td>\n",
       "      <td>0.000000</td>\n",
       "      <td>267</td>\n",
       "      <td>0.000000</td>\n",
       "      <td>267</td>\n",
       "      <td>0.000000</td>\n",
       "      <td>267</td>\n",
       "      <td>0.000000</td>\n",
       "      <td>267</td>\n",
       "    </tr>\n",
       "    <tr>\n",
       "      <th>2003</th>\n",
       "      <td>30.862275</td>\n",
       "      <td>167</td>\n",
       "      <td>1.425150</td>\n",
       "      <td>167</td>\n",
       "      <td>0.077844</td>\n",
       "      <td>167</td>\n",
       "      <td>0.892216</td>\n",
       "      <td>167</td>\n",
       "      <td>0.000000</td>\n",
       "      <td>167</td>\n",
       "      <td>...</td>\n",
       "      <td>0.000000</td>\n",
       "      <td>167</td>\n",
       "      <td>0.000000</td>\n",
       "      <td>167</td>\n",
       "      <td>0.000000</td>\n",
       "      <td>167</td>\n",
       "      <td>0.000000</td>\n",
       "      <td>167</td>\n",
       "      <td>0.000000</td>\n",
       "      <td>167</td>\n",
       "    </tr>\n",
       "    <tr>\n",
       "      <th>2004</th>\n",
       "      <td>22.360465</td>\n",
       "      <td>344</td>\n",
       "      <td>1.441860</td>\n",
       "      <td>344</td>\n",
       "      <td>0.008721</td>\n",
       "      <td>344</td>\n",
       "      <td>0.947674</td>\n",
       "      <td>344</td>\n",
       "      <td>0.000000</td>\n",
       "      <td>344</td>\n",
       "      <td>...</td>\n",
       "      <td>0.000000</td>\n",
       "      <td>344</td>\n",
       "      <td>0.000000</td>\n",
       "      <td>344</td>\n",
       "      <td>0.000000</td>\n",
       "      <td>344</td>\n",
       "      <td>0.000000</td>\n",
       "      <td>344</td>\n",
       "      <td>0.000000</td>\n",
       "      <td>344</td>\n",
       "    </tr>\n",
       "    <tr>\n",
       "      <th>2005</th>\n",
       "      <td>5.133891</td>\n",
       "      <td>239</td>\n",
       "      <td>1.761506</td>\n",
       "      <td>239</td>\n",
       "      <td>0.062762</td>\n",
       "      <td>239</td>\n",
       "      <td>0.903766</td>\n",
       "      <td>239</td>\n",
       "      <td>0.004184</td>\n",
       "      <td>239</td>\n",
       "      <td>...</td>\n",
       "      <td>0.000000</td>\n",
       "      <td>239</td>\n",
       "      <td>0.000000</td>\n",
       "      <td>239</td>\n",
       "      <td>0.000000</td>\n",
       "      <td>239</td>\n",
       "      <td>0.000000</td>\n",
       "      <td>239</td>\n",
       "      <td>0.000000</td>\n",
       "      <td>239</td>\n",
       "    </tr>\n",
       "    <tr>\n",
       "      <th>2006</th>\n",
       "      <td>7.045455</td>\n",
       "      <td>154</td>\n",
       "      <td>1.467532</td>\n",
       "      <td>154</td>\n",
       "      <td>0.038961</td>\n",
       "      <td>154</td>\n",
       "      <td>0.902597</td>\n",
       "      <td>154</td>\n",
       "      <td>0.000000</td>\n",
       "      <td>154</td>\n",
       "      <td>...</td>\n",
       "      <td>0.000000</td>\n",
       "      <td>154</td>\n",
       "      <td>0.000000</td>\n",
       "      <td>154</td>\n",
       "      <td>0.000000</td>\n",
       "      <td>154</td>\n",
       "      <td>0.000000</td>\n",
       "      <td>154</td>\n",
       "      <td>0.000000</td>\n",
       "      <td>154</td>\n",
       "    </tr>\n",
       "    <tr>\n",
       "      <th>2007</th>\n",
       "      <td>12.185841</td>\n",
       "      <td>113</td>\n",
       "      <td>1.539823</td>\n",
       "      <td>113</td>\n",
       "      <td>0.008850</td>\n",
       "      <td>113</td>\n",
       "      <td>0.938053</td>\n",
       "      <td>113</td>\n",
       "      <td>0.000000</td>\n",
       "      <td>113</td>\n",
       "      <td>...</td>\n",
       "      <td>0.000000</td>\n",
       "      <td>113</td>\n",
       "      <td>0.000000</td>\n",
       "      <td>113</td>\n",
       "      <td>0.000000</td>\n",
       "      <td>113</td>\n",
       "      <td>0.000000</td>\n",
       "      <td>113</td>\n",
       "      <td>0.000000</td>\n",
       "      <td>113</td>\n",
       "    </tr>\n",
       "    <tr>\n",
       "      <th>2008</th>\n",
       "      <td>5.064885</td>\n",
       "      <td>262</td>\n",
       "      <td>1.564885</td>\n",
       "      <td>262</td>\n",
       "      <td>0.019084</td>\n",
       "      <td>262</td>\n",
       "      <td>0.908397</td>\n",
       "      <td>262</td>\n",
       "      <td>0.003817</td>\n",
       "      <td>262</td>\n",
       "      <td>...</td>\n",
       "      <td>0.000000</td>\n",
       "      <td>262</td>\n",
       "      <td>0.000000</td>\n",
       "      <td>262</td>\n",
       "      <td>0.000000</td>\n",
       "      <td>262</td>\n",
       "      <td>0.000000</td>\n",
       "      <td>262</td>\n",
       "      <td>0.000000</td>\n",
       "      <td>262</td>\n",
       "    </tr>\n",
       "    <tr>\n",
       "      <th>2009</th>\n",
       "      <td>8.850187</td>\n",
       "      <td>267</td>\n",
       "      <td>1.558052</td>\n",
       "      <td>267</td>\n",
       "      <td>0.048689</td>\n",
       "      <td>267</td>\n",
       "      <td>0.928839</td>\n",
       "      <td>267</td>\n",
       "      <td>0.000000</td>\n",
       "      <td>267</td>\n",
       "      <td>...</td>\n",
       "      <td>0.000000</td>\n",
       "      <td>267</td>\n",
       "      <td>0.000000</td>\n",
       "      <td>267</td>\n",
       "      <td>0.000000</td>\n",
       "      <td>267</td>\n",
       "      <td>0.000000</td>\n",
       "      <td>267</td>\n",
       "      <td>0.000000</td>\n",
       "      <td>267</td>\n",
       "    </tr>\n",
       "    <tr>\n",
       "      <th>2010</th>\n",
       "      <td>8.142857</td>\n",
       "      <td>196</td>\n",
       "      <td>1.459184</td>\n",
       "      <td>196</td>\n",
       "      <td>0.076531</td>\n",
       "      <td>196</td>\n",
       "      <td>0.882653</td>\n",
       "      <td>196</td>\n",
       "      <td>0.005102</td>\n",
       "      <td>196</td>\n",
       "      <td>...</td>\n",
       "      <td>0.000000</td>\n",
       "      <td>196</td>\n",
       "      <td>0.000000</td>\n",
       "      <td>196</td>\n",
       "      <td>0.000000</td>\n",
       "      <td>196</td>\n",
       "      <td>0.000000</td>\n",
       "      <td>196</td>\n",
       "      <td>0.000000</td>\n",
       "      <td>196</td>\n",
       "    </tr>\n",
       "    <tr>\n",
       "      <th>2011</th>\n",
       "      <td>16.262048</td>\n",
       "      <td>332</td>\n",
       "      <td>1.451807</td>\n",
       "      <td>332</td>\n",
       "      <td>0.126506</td>\n",
       "      <td>332</td>\n",
       "      <td>0.822289</td>\n",
       "      <td>332</td>\n",
       "      <td>0.012048</td>\n",
       "      <td>332</td>\n",
       "      <td>...</td>\n",
       "      <td>0.000000</td>\n",
       "      <td>332</td>\n",
       "      <td>0.000000</td>\n",
       "      <td>332</td>\n",
       "      <td>0.000000</td>\n",
       "      <td>332</td>\n",
       "      <td>0.000000</td>\n",
       "      <td>332</td>\n",
       "      <td>0.000000</td>\n",
       "      <td>332</td>\n",
       "    </tr>\n",
       "    <tr>\n",
       "      <th>2012</th>\n",
       "      <td>7.032694</td>\n",
       "      <td>887</td>\n",
       "      <td>1.422773</td>\n",
       "      <td>887</td>\n",
       "      <td>0.149944</td>\n",
       "      <td>887</td>\n",
       "      <td>0.786922</td>\n",
       "      <td>887</td>\n",
       "      <td>0.005637</td>\n",
       "      <td>887</td>\n",
       "      <td>...</td>\n",
       "      <td>0.000000</td>\n",
       "      <td>887</td>\n",
       "      <td>0.000000</td>\n",
       "      <td>887</td>\n",
       "      <td>0.000000</td>\n",
       "      <td>887</td>\n",
       "      <td>0.000000</td>\n",
       "      <td>887</td>\n",
       "      <td>0.000000</td>\n",
       "      <td>887</td>\n",
       "    </tr>\n",
       "    <tr>\n",
       "      <th>2013</th>\n",
       "      <td>7.892012</td>\n",
       "      <td>1352</td>\n",
       "      <td>1.348373</td>\n",
       "      <td>1352</td>\n",
       "      <td>0.106509</td>\n",
       "      <td>1352</td>\n",
       "      <td>0.830621</td>\n",
       "      <td>1352</td>\n",
       "      <td>0.008876</td>\n",
       "      <td>1352</td>\n",
       "      <td>...</td>\n",
       "      <td>0.000000</td>\n",
       "      <td>1352</td>\n",
       "      <td>0.000740</td>\n",
       "      <td>1352</td>\n",
       "      <td>0.000000</td>\n",
       "      <td>1352</td>\n",
       "      <td>0.000000</td>\n",
       "      <td>1352</td>\n",
       "      <td>0.000000</td>\n",
       "      <td>1352</td>\n",
       "    </tr>\n",
       "    <tr>\n",
       "      <th>2014</th>\n",
       "      <td>4.922135</td>\n",
       "      <td>2042</td>\n",
       "      <td>1.428991</td>\n",
       "      <td>2042</td>\n",
       "      <td>0.113614</td>\n",
       "      <td>2042</td>\n",
       "      <td>0.791381</td>\n",
       "      <td>2042</td>\n",
       "      <td>0.009305</td>\n",
       "      <td>2042</td>\n",
       "      <td>...</td>\n",
       "      <td>0.001959</td>\n",
       "      <td>2042</td>\n",
       "      <td>0.000490</td>\n",
       "      <td>2042</td>\n",
       "      <td>0.000000</td>\n",
       "      <td>2042</td>\n",
       "      <td>0.000000</td>\n",
       "      <td>2042</td>\n",
       "      <td>0.000000</td>\n",
       "      <td>2042</td>\n",
       "    </tr>\n",
       "    <tr>\n",
       "      <th>2015</th>\n",
       "      <td>3.318511</td>\n",
       "      <td>2069</td>\n",
       "      <td>1.400193</td>\n",
       "      <td>2069</td>\n",
       "      <td>0.086032</td>\n",
       "      <td>2069</td>\n",
       "      <td>0.877719</td>\n",
       "      <td>2069</td>\n",
       "      <td>0.006283</td>\n",
       "      <td>2069</td>\n",
       "      <td>...</td>\n",
       "      <td>0.000483</td>\n",
       "      <td>2069</td>\n",
       "      <td>0.001450</td>\n",
       "      <td>2069</td>\n",
       "      <td>0.000000</td>\n",
       "      <td>2069</td>\n",
       "      <td>0.001933</td>\n",
       "      <td>2069</td>\n",
       "      <td>0.000000</td>\n",
       "      <td>2069</td>\n",
       "    </tr>\n",
       "    <tr>\n",
       "      <th>2016</th>\n",
       "      <td>3.310710</td>\n",
       "      <td>2269</td>\n",
       "      <td>1.394006</td>\n",
       "      <td>2269</td>\n",
       "      <td>0.085500</td>\n",
       "      <td>2269</td>\n",
       "      <td>0.835170</td>\n",
       "      <td>2269</td>\n",
       "      <td>0.016747</td>\n",
       "      <td>2269</td>\n",
       "      <td>...</td>\n",
       "      <td>0.000000</td>\n",
       "      <td>2269</td>\n",
       "      <td>0.000441</td>\n",
       "      <td>2269</td>\n",
       "      <td>0.000000</td>\n",
       "      <td>2269</td>\n",
       "      <td>0.000000</td>\n",
       "      <td>2269</td>\n",
       "      <td>0.000000</td>\n",
       "      <td>2269</td>\n",
       "    </tr>\n",
       "    <tr>\n",
       "      <th>2017</th>\n",
       "      <td>3.014544</td>\n",
       "      <td>1994</td>\n",
       "      <td>1.460381</td>\n",
       "      <td>1994</td>\n",
       "      <td>0.091775</td>\n",
       "      <td>1994</td>\n",
       "      <td>0.812437</td>\n",
       "      <td>1994</td>\n",
       "      <td>0.008526</td>\n",
       "      <td>1994</td>\n",
       "      <td>...</td>\n",
       "      <td>0.002508</td>\n",
       "      <td>1994</td>\n",
       "      <td>0.000000</td>\n",
       "      <td>1994</td>\n",
       "      <td>0.000000</td>\n",
       "      <td>1994</td>\n",
       "      <td>0.000000</td>\n",
       "      <td>1994</td>\n",
       "      <td>0.000000</td>\n",
       "      <td>1994</td>\n",
       "    </tr>\n",
       "    <tr>\n",
       "      <th>2018</th>\n",
       "      <td>1.667287</td>\n",
       "      <td>1611</td>\n",
       "      <td>1.538796</td>\n",
       "      <td>1611</td>\n",
       "      <td>0.130354</td>\n",
       "      <td>1611</td>\n",
       "      <td>0.778399</td>\n",
       "      <td>1611</td>\n",
       "      <td>0.005587</td>\n",
       "      <td>1611</td>\n",
       "      <td>...</td>\n",
       "      <td>0.001241</td>\n",
       "      <td>1611</td>\n",
       "      <td>0.000000</td>\n",
       "      <td>1611</td>\n",
       "      <td>0.000000</td>\n",
       "      <td>1611</td>\n",
       "      <td>0.000000</td>\n",
       "      <td>1611</td>\n",
       "      <td>0.000000</td>\n",
       "      <td>1611</td>\n",
       "    </tr>\n",
       "    <tr>\n",
       "      <th>2019</th>\n",
       "      <td>1.184623</td>\n",
       "      <td>2107</td>\n",
       "      <td>1.312292</td>\n",
       "      <td>2107</td>\n",
       "      <td>0.526815</td>\n",
       "      <td>2107</td>\n",
       "      <td>0.402468</td>\n",
       "      <td>2107</td>\n",
       "      <td>0.037019</td>\n",
       "      <td>2107</td>\n",
       "      <td>...</td>\n",
       "      <td>0.001424</td>\n",
       "      <td>2107</td>\n",
       "      <td>0.006170</td>\n",
       "      <td>2107</td>\n",
       "      <td>0.000000</td>\n",
       "      <td>2107</td>\n",
       "      <td>0.003797</td>\n",
       "      <td>2107</td>\n",
       "      <td>0.000000</td>\n",
       "      <td>2107</td>\n",
       "    </tr>\n",
       "    <tr>\n",
       "      <th>2020</th>\n",
       "      <td>1.760788</td>\n",
       "      <td>1877</td>\n",
       "      <td>1.464038</td>\n",
       "      <td>1877</td>\n",
       "      <td>0.328183</td>\n",
       "      <td>1877</td>\n",
       "      <td>0.640384</td>\n",
       "      <td>1877</td>\n",
       "      <td>0.006926</td>\n",
       "      <td>1877</td>\n",
       "      <td>...</td>\n",
       "      <td>0.000533</td>\n",
       "      <td>1877</td>\n",
       "      <td>0.028769</td>\n",
       "      <td>1877</td>\n",
       "      <td>0.001066</td>\n",
       "      <td>1877</td>\n",
       "      <td>0.027171</td>\n",
       "      <td>1877</td>\n",
       "      <td>0.000000</td>\n",
       "      <td>1877</td>\n",
       "    </tr>\n",
       "    <tr>\n",
       "      <th>2021</th>\n",
       "      <td>1.539260</td>\n",
       "      <td>2407</td>\n",
       "      <td>1.425426</td>\n",
       "      <td>2407</td>\n",
       "      <td>0.369755</td>\n",
       "      <td>2407</td>\n",
       "      <td>0.567511</td>\n",
       "      <td>2407</td>\n",
       "      <td>0.017865</td>\n",
       "      <td>2407</td>\n",
       "      <td>...</td>\n",
       "      <td>0.000831</td>\n",
       "      <td>2407</td>\n",
       "      <td>0.019942</td>\n",
       "      <td>2407</td>\n",
       "      <td>0.000415</td>\n",
       "      <td>2407</td>\n",
       "      <td>0.021604</td>\n",
       "      <td>2407</td>\n",
       "      <td>0.000415</td>\n",
       "      <td>2407</td>\n",
       "    </tr>\n",
       "    <tr>\n",
       "      <th>2022</th>\n",
       "      <td>1.316374</td>\n",
       "      <td>3420</td>\n",
       "      <td>1.286550</td>\n",
       "      <td>3420</td>\n",
       "      <td>0.493275</td>\n",
       "      <td>3420</td>\n",
       "      <td>0.391520</td>\n",
       "      <td>3420</td>\n",
       "      <td>0.051462</td>\n",
       "      <td>3420</td>\n",
       "      <td>...</td>\n",
       "      <td>0.000877</td>\n",
       "      <td>3420</td>\n",
       "      <td>0.019006</td>\n",
       "      <td>3420</td>\n",
       "      <td>0.000877</td>\n",
       "      <td>3420</td>\n",
       "      <td>0.025439</td>\n",
       "      <td>3420</td>\n",
       "      <td>0.000000</td>\n",
       "      <td>3420</td>\n",
       "    </tr>\n",
       "    <tr>\n",
       "      <th>2023</th>\n",
       "      <td>2.099830</td>\n",
       "      <td>5309</td>\n",
       "      <td>1.261066</td>\n",
       "      <td>5309</td>\n",
       "      <td>0.110190</td>\n",
       "      <td>5309</td>\n",
       "      <td>0.728762</td>\n",
       "      <td>5309</td>\n",
       "      <td>0.004332</td>\n",
       "      <td>5309</td>\n",
       "      <td>...</td>\n",
       "      <td>0.001319</td>\n",
       "      <td>5309</td>\n",
       "      <td>0.012243</td>\n",
       "      <td>5309</td>\n",
       "      <td>0.000377</td>\n",
       "      <td>5309</td>\n",
       "      <td>0.012432</td>\n",
       "      <td>5309</td>\n",
       "      <td>0.000000</td>\n",
       "      <td>5309</td>\n",
       "    </tr>\n",
       "    <tr>\n",
       "      <th>2024</th>\n",
       "      <td>1.781715</td>\n",
       "      <td>4233</td>\n",
       "      <td>1.310418</td>\n",
       "      <td>4233</td>\n",
       "      <td>0.023388</td>\n",
       "      <td>4233</td>\n",
       "      <td>0.768249</td>\n",
       "      <td>4233</td>\n",
       "      <td>0.000472</td>\n",
       "      <td>4233</td>\n",
       "      <td>...</td>\n",
       "      <td>0.002835</td>\n",
       "      <td>4233</td>\n",
       "      <td>0.042996</td>\n",
       "      <td>4233</td>\n",
       "      <td>0.000236</td>\n",
       "      <td>4233</td>\n",
       "      <td>0.011339</td>\n",
       "      <td>4233</td>\n",
       "      <td>0.000000</td>\n",
       "      <td>4233</td>\n",
       "    </tr>\n",
       "  </tbody>\n",
       "</table>\n",
       "<p>28 rows × 9916 columns</p>\n",
       "</div>"
      ],
      "text/plain": [
       "     fatalities       geo_precision       disorder_type_Demonstrations        \\\n",
       "           mean count          mean count                         mean count   \n",
       "year                                                                           \n",
       "1997  17.073059   219      1.474886   219                     0.077626   219   \n",
       "1998  15.784000   250      1.700000   250                     0.048000   250   \n",
       "1999  13.641509   212      1.655660   212                     0.080189   212   \n",
       "2000  14.123932   234      1.517094   234                     0.076923   234   \n",
       "2001  19.035714   224      1.616071   224                     0.098214   224   \n",
       "2002  28.921348   267      1.505618   267                     0.056180   267   \n",
       "2003  30.862275   167      1.425150   167                     0.077844   167   \n",
       "2004  22.360465   344      1.441860   344                     0.008721   344   \n",
       "2005   5.133891   239      1.761506   239                     0.062762   239   \n",
       "2006   7.045455   154      1.467532   154                     0.038961   154   \n",
       "2007  12.185841   113      1.539823   113                     0.008850   113   \n",
       "2008   5.064885   262      1.564885   262                     0.019084   262   \n",
       "2009   8.850187   267      1.558052   267                     0.048689   267   \n",
       "2010   8.142857   196      1.459184   196                     0.076531   196   \n",
       "2011  16.262048   332      1.451807   332                     0.126506   332   \n",
       "2012   7.032694   887      1.422773   887                     0.149944   887   \n",
       "2013   7.892012  1352      1.348373  1352                     0.106509  1352   \n",
       "2014   4.922135  2042      1.428991  2042                     0.113614  2042   \n",
       "2015   3.318511  2069      1.400193  2069                     0.086032  2069   \n",
       "2016   3.310710  2269      1.394006  2269                     0.085500  2269   \n",
       "2017   3.014544  1994      1.460381  1994                     0.091775  1994   \n",
       "2018   1.667287  1611      1.538796  1611                     0.130354  1611   \n",
       "2019   1.184623  2107      1.312292  2107                     0.526815  2107   \n",
       "2020   1.760788  1877      1.464038  1877                     0.328183  1877   \n",
       "2021   1.539260  2407      1.425426  2407                     0.369755  2407   \n",
       "2022   1.316374  3420      1.286550  3420                     0.493275  3420   \n",
       "2023   2.099830  5309      1.261066  5309                     0.110190  5309   \n",
       "2024   1.781715  4233      1.310418  4233                     0.023388  4233   \n",
       "\n",
       "     disorder_type_Political violence        \\\n",
       "                                 mean count   \n",
       "year                                          \n",
       "1997                         0.872146   219   \n",
       "1998                         0.928000   250   \n",
       "1999                         0.896226   212   \n",
       "2000                         0.905983   234   \n",
       "2001                         0.879464   224   \n",
       "2002                         0.932584   267   \n",
       "2003                         0.892216   167   \n",
       "2004                         0.947674   344   \n",
       "2005                         0.903766   239   \n",
       "2006                         0.902597   154   \n",
       "2007                         0.938053   113   \n",
       "2008                         0.908397   262   \n",
       "2009                         0.928839   267   \n",
       "2010                         0.882653   196   \n",
       "2011                         0.822289   332   \n",
       "2012                         0.786922   887   \n",
       "2013                         0.830621  1352   \n",
       "2014                         0.791381  2042   \n",
       "2015                         0.877719  2069   \n",
       "2016                         0.835170  2269   \n",
       "2017                         0.812437  1994   \n",
       "2018                         0.778399  1611   \n",
       "2019                         0.402468  2107   \n",
       "2020                         0.640384  1877   \n",
       "2021                         0.567511  2407   \n",
       "2022                         0.391520  3420   \n",
       "2023                         0.728762  5309   \n",
       "2024                         0.768249  4233   \n",
       "\n",
       "     disorder_type_Political violence; Demonstrations        ...  \\\n",
       "                                                 mean count  ...   \n",
       "year                                                         ...   \n",
       "1997                                         0.009132   219  ...   \n",
       "1998                                         0.000000   250  ...   \n",
       "1999                                         0.000000   212  ...   \n",
       "2000                                         0.008547   234  ...   \n",
       "2001                                         0.000000   224  ...   \n",
       "2002                                         0.000000   267  ...   \n",
       "2003                                         0.000000   167  ...   \n",
       "2004                                         0.000000   344  ...   \n",
       "2005                                         0.004184   239  ...   \n",
       "2006                                         0.000000   154  ...   \n",
       "2007                                         0.000000   113  ...   \n",
       "2008                                         0.003817   262  ...   \n",
       "2009                                         0.000000   267  ...   \n",
       "2010                                         0.005102   196  ...   \n",
       "2011                                         0.012048   332  ...   \n",
       "2012                                         0.005637   887  ...   \n",
       "2013                                         0.008876  1352  ...   \n",
       "2014                                         0.009305  2042  ...   \n",
       "2015                                         0.006283  2069  ...   \n",
       "2016                                         0.016747  2269  ...   \n",
       "2017                                         0.008526  1994  ...   \n",
       "2018                                         0.005587  1611  ...   \n",
       "2019                                         0.037019  2107  ...   \n",
       "2020                                         0.006926  1877  ...   \n",
       "2021                                         0.017865  2407  ...   \n",
       "2022                                         0.051462  3420  ...   \n",
       "2023                                         0.004332  5309  ...   \n",
       "2024                                         0.000472  4233  ...   \n",
       "\n",
       "     source_scale_Regional-International       source_scale_Subnational        \\\n",
       "                                    mean count                     mean count   \n",
       "year                                                                            \n",
       "1997                            0.000000   219                 0.000000   219   \n",
       "1998                            0.000000   250                 0.000000   250   \n",
       "1999                            0.000000   212                 0.000000   212   \n",
       "2000                            0.000000   234                 0.000000   234   \n",
       "2001                            0.000000   224                 0.000000   224   \n",
       "2002                            0.000000   267                 0.000000   267   \n",
       "2003                            0.000000   167                 0.000000   167   \n",
       "2004                            0.000000   344                 0.000000   344   \n",
       "2005                            0.000000   239                 0.000000   239   \n",
       "2006                            0.000000   154                 0.000000   154   \n",
       "2007                            0.000000   113                 0.000000   113   \n",
       "2008                            0.000000   262                 0.000000   262   \n",
       "2009                            0.000000   267                 0.000000   267   \n",
       "2010                            0.000000   196                 0.000000   196   \n",
       "2011                            0.000000   332                 0.000000   332   \n",
       "2012                            0.000000   887                 0.000000   887   \n",
       "2013                            0.000000  1352                 0.000740  1352   \n",
       "2014                            0.001959  2042                 0.000490  2042   \n",
       "2015                            0.000483  2069                 0.001450  2069   \n",
       "2016                            0.000000  2269                 0.000441  2269   \n",
       "2017                            0.002508  1994                 0.000000  1994   \n",
       "2018                            0.001241  1611                 0.000000  1611   \n",
       "2019                            0.001424  2107                 0.006170  2107   \n",
       "2020                            0.000533  1877                 0.028769  1877   \n",
       "2021                            0.000831  2407                 0.019942  2407   \n",
       "2022                            0.000877  3420                 0.019006  3420   \n",
       "2023                            0.001319  5309                 0.012243  5309   \n",
       "2024                            0.002835  4233                 0.042996  4233   \n",
       "\n",
       "     source_scale_Subnational-International        \\\n",
       "                                       mean count   \n",
       "year                                                \n",
       "1997                               0.000000   219   \n",
       "1998                               0.000000   250   \n",
       "1999                               0.000000   212   \n",
       "2000                               0.000000   234   \n",
       "2001                               0.000000   224   \n",
       "2002                               0.000000   267   \n",
       "2003                               0.000000   167   \n",
       "2004                               0.000000   344   \n",
       "2005                               0.000000   239   \n",
       "2006                               0.000000   154   \n",
       "2007                               0.000000   113   \n",
       "2008                               0.000000   262   \n",
       "2009                               0.000000   267   \n",
       "2010                               0.000000   196   \n",
       "2011                               0.000000   332   \n",
       "2012                               0.000000   887   \n",
       "2013                               0.000000  1352   \n",
       "2014                               0.000000  2042   \n",
       "2015                               0.000000  2069   \n",
       "2016                               0.000000  2269   \n",
       "2017                               0.000000  1994   \n",
       "2018                               0.000000  1611   \n",
       "2019                               0.000000  2107   \n",
       "2020                               0.001066  1877   \n",
       "2021                               0.000415  2407   \n",
       "2022                               0.000877  3420   \n",
       "2023                               0.000377  5309   \n",
       "2024                               0.000236  4233   \n",
       "\n",
       "     source_scale_Subnational-National        \\\n",
       "                                  mean count   \n",
       "year                                           \n",
       "1997                          0.000000   219   \n",
       "1998                          0.000000   250   \n",
       "1999                          0.000000   212   \n",
       "2000                          0.000000   234   \n",
       "2001                          0.000000   224   \n",
       "2002                          0.000000   267   \n",
       "2003                          0.000000   167   \n",
       "2004                          0.000000   344   \n",
       "2005                          0.000000   239   \n",
       "2006                          0.000000   154   \n",
       "2007                          0.000000   113   \n",
       "2008                          0.000000   262   \n",
       "2009                          0.000000   267   \n",
       "2010                          0.000000   196   \n",
       "2011                          0.000000   332   \n",
       "2012                          0.000000   887   \n",
       "2013                          0.000000  1352   \n",
       "2014                          0.000000  2042   \n",
       "2015                          0.001933  2069   \n",
       "2016                          0.000000  2269   \n",
       "2017                          0.000000  1994   \n",
       "2018                          0.000000  1611   \n",
       "2019                          0.003797  2107   \n",
       "2020                          0.027171  1877   \n",
       "2021                          0.021604  2407   \n",
       "2022                          0.025439  3420   \n",
       "2023                          0.012432  5309   \n",
       "2024                          0.011339  4233   \n",
       "\n",
       "     source_scale_Subnational-Regional        \n",
       "                                  mean count  \n",
       "year                                          \n",
       "1997                          0.000000   219  \n",
       "1998                          0.000000   250  \n",
       "1999                          0.000000   212  \n",
       "2000                          0.000000   234  \n",
       "2001                          0.000000   224  \n",
       "2002                          0.000000   267  \n",
       "2003                          0.000000   167  \n",
       "2004                          0.000000   344  \n",
       "2005                          0.000000   239  \n",
       "2006                          0.000000   154  \n",
       "2007                          0.000000   113  \n",
       "2008                          0.000000   262  \n",
       "2009                          0.000000   267  \n",
       "2010                          0.000000   196  \n",
       "2011                          0.000000   332  \n",
       "2012                          0.000000   887  \n",
       "2013                          0.000000  1352  \n",
       "2014                          0.000000  2042  \n",
       "2015                          0.000000  2069  \n",
       "2016                          0.000000  2269  \n",
       "2017                          0.000000  1994  \n",
       "2018                          0.000000  1611  \n",
       "2019                          0.000000  2107  \n",
       "2020                          0.000000  1877  \n",
       "2021                          0.000415  2407  \n",
       "2022                          0.000000  3420  \n",
       "2023                          0.000000  5309  \n",
       "2024                          0.000000  4233  \n",
       "\n",
       "[28 rows x 9916 columns]"
      ]
     },
     "execution_count": 60,
     "metadata": {},
     "output_type": "execute_result"
    }
   ],
   "source": [
    "# Assuming 'year' is the column containing year information\n",
    "grouped_df = df_encoded.groupby('year')\n",
    "\n",
    "# Calculate summary statistics (e.g., mean, count) for each column in each group\n",
    "summary_stats = grouped_df.agg(['mean', 'count'])\n",
    "\n",
    "summary_stats "
   ]
  },
  {
   "cell_type": "code",
   "execution_count": null,
   "metadata": {},
   "outputs": [],
   "source": [
    "sns.heatmap(summary_stats .corr(), annot =True)"
   ]
  },
  {
   "cell_type": "code",
   "execution_count": 71,
   "metadata": {},
   "outputs": [
    {
     "data": {
      "image/png": "[encoded data removed]",
      "text/plain": [
       "<Figure size 1000x600 with 1 Axes>"
      ]
     },
     "metadata": {},
     "output_type": "display_data"
    },
    {
     "name": "stdout",
     "output_type": "stream",
     "text": [
      "    year  fatalities  number_of_incidents\n",
      "0   2004        7692                  344\n",
      "1   2005        1227                  239\n",
      "2   2006        1085                  154\n",
      "3   2007        1377                  113\n",
      "4   2008        1327                  262\n",
      "5   2009        2363                  267\n",
      "6   2010        1596                  196\n",
      "7   2011        5399                  332\n",
      "8   2012        6238                  887\n",
      "9   2013       10670                 1352\n",
      "10  2014       10051                 2042\n",
      "11  2015        6866                 2069\n",
      "12  2016        7512                 2269\n",
      "13  2017        6011                 1994\n",
      "14  2018        2686                 1611\n",
      "15  2019        2496                 2107\n",
      "16  2020        3305                 1877\n",
      "17  2021        3705                 2407\n",
      "18  2022        4502                 3420\n",
      "19  2023       11148                 5309\n",
      "20  2024        7542                 4233\n"
     ]
    }
   ],
   "source": [
    "# Convert the 'event_date' column to datetime format\n",
    "df['event_date'] = pd.to_datetime(df['event_date'])\n",
    "\n",
    "# Extract the year from the 'event_date' column\n",
    "df['year'] = df['event_date'].dt.year\n",
    "\n",
    "# Group the data by year and sum the 'fatalities' and count the number of incidents\n",
    "annual_data = df.groupby('year').agg({'fatalities': 'sum', 'event_date': 'count'}).reset_index()\n",
    "annual_data.rename(columns={'event_date': 'number_of_incidents'}, inplace=True)\n",
    "\n",
    "# Create a scatter plot with a regression line to investigate the correlation\n",
    "plt.figure(figsize=(10, 6))\n",
    "sns.regplot(x='number_of_incidents', y='fatalities', data=annual_data, scatter_kws={'s': 50}, line_kws={'color': 'red'})\n",
    "plt.xlabel('Number of Incidents')\n",
    "plt.ylabel('Number of Fatalities')\n",
    "plt.title('Correlation between Frequency of Political Violence Events and Number of Fatalities in Sudan')\n",
    "plt.grid(True)\n",
    "plt.tight_layout()\n",
    "\n",
    "# Save the plot as an image file\n",
    "plt.savefig('correlation_incidents_fatalities.png')\n",
    "\n",
    "# Show the plot\n",
    "plt.show()\n",
    "\n",
    "# Display the DataFrame\n",
    "print(annual_data)"
   ]
  },
  {
   "cell_type": "code",
   "execution_count": null,
   "metadata": {},
   "outputs": [],
   "source": [
    "# Univariate Analysis: Line Plot for Trends Over Time\n",
    "plt.figure(figsize=(14, 7))\n",
    "sns.lineplot(x='year', y='fatalities', data=annual_data, label='Fatalities', marker='o', color='red')\n",
    "sns.lineplot(x='year', y='number_of_incidents', data=annual_data, label='Number of Incidents', marker='o', color='blue')\n",
    "plt.title(\"Trends in Sudan Fatalities and Incidents Over Time (1997-2024)\", fontsize=16)\n",
    "plt.xlabel(\"Year\", fontsize=12)\n",
    "plt.ylabel(\"Count\", fontsize=12)\n",
    "plt.legend(title=\"Metrics\", fontsize=10)\n",
    "plt.grid(True, linestyle='--', alpha=0.7)\n",
    "plt.xticks(rotation=45)\n",
    "plt.tight_layout()\n",
    "plt.show()"
   ]
  },
  {
   "cell_type": "code",
   "execution_count": null,
   "metadata": {},
   "outputs": [],
   "source": [
    "# Plot histograms for fatalities and number of incidents\n",
    "plt.figure(figsize=(14, 6))\n",
    "\n",
    "# Histogram for Fatalities\n",
    "plt.subplot(1, 2, 1)\n",
    "plt.hist(annual_data['fatalities'], bins=15, color='red', edgecolor='black', alpha=0.7)\n",
    "plt.title(\"Distribution of Fatalities\", fontsize=14)\n",
    "plt.xlabel(\"Fatalities\", fontsize=12)\n",
    "plt.ylabel(\"Frequency\", fontsize=12)\n",
    "plt.grid(axis='y', linestyle='--', alpha=0.7)\n",
    "\n",
    "# Histogram for Number of Incidents\n",
    "plt.subplot(1, 2, 2)\n",
    "plt.hist(annual_data['number_of_incidents'], bins=15, color='blue', edgecolor='black', alpha=0.7)\n",
    "plt.title(\"Distribution of Number of Incidents\", fontsize=14)\n",
    "plt.xlabel(\"Number of Incidents\", fontsize=12)\n",
    "plt.ylabel(\"Frequency\", fontsize=12)\n",
    "plt.grid(axis='y', linestyle='--', alpha=0.7)\n",
    "\n",
    "plt.tight_layout()\n",
    "plt.show()"
   ]
  },
  {
   "cell_type": "code",
   "execution_count": null,
   "metadata": {},
   "outputs": [],
   "source": [
    "# Create a new DataFrame with columns containing: fatalities, number_of_incidents\n",
    "new_df = annual_data[['fatalities', 'number_of_incidents']].reset_index(drop=True)\n",
    "\n",
    "# Display the new DataFrame\n",
    "print(new_df)"
   ]
  },
  {
   "cell_type": "code",
   "execution_count": null,
   "metadata": {},
   "outputs": [],
   "source": [
    "# Create a new DataFrame with columns containing: fatalities, number_of_incidents\n",
    "new_df = annual_data[['fatalities', 'number_of_incidents']].reset_index(drop=True)\n",
    "\n",
    "# Create a scatter plot with a regression line to investigate the correlation\n",
    "plt.figure(figsize=(10, 6))\n",
    "sns.regplot(x='number_of_incidents', y='fatalities', data=new_df, scatter_kws={'s': 50}, line_kws={'color': 'red'})\n",
    "plt.xlabel('Number of Incidents')\n",
    "plt.ylabel('Number of Fatalities')\n",
    "plt.title('Correlation between Frequency of Political Violence Events and Number of Fatalities in Sudan')\n",
    "plt.grid(True)\n",
    "plt.tight_layout()\n",
    "\n",
    "# Show the plot\n",
    "plt.show()\n",
    "\n",
    "# Display the DataFrame\n",
    "print(new_df)"
   ]
  },
  {
   "cell_type": "markdown",
   "metadata": {},
   "source": [
    "\n",
    "\n",
    "**5: Multivariate Analysis**"
   ]
  },
  {
   "cell_type": "code",
   "execution_count": null,
   "metadata": {},
   "outputs": [],
   "source": [
    "correlation = df_2.corr()\n",
    "correlation"
   ]
  },
  {
   "cell_type": "code",
   "execution_count": null,
   "metadata": {},
   "outputs": [],
   "source": [
    "#### Visualizing correlation\n",
    "\n",
    "plt.figure(figsize=(12,7))\n",
    "\n",
    "sns.heatmap(correlation,annot=True,cmap='crest')"
   ]
  },
  {
   "cell_type": "markdown",
   "metadata": {},
   "source": [
    "_There is almost a weak correlation between variables_.\n",
    "\n",
    "_Only Iso and latitude have strong correlation_."
   ]
  },
  {
   "cell_type": "markdown",
   "metadata": {},
   "source": [
    "**6: Statistical modelling and forecasting**"
   ]
  },
  {
   "cell_type": "code",
   "execution_count": null,
   "metadata": {},
   "outputs": [],
   "source": [
    "#From annual data let's try to predict the future fatalities and number_of_incidents\n",
    "annual_data"
   ]
  },
  {
   "cell_type": "code",
   "execution_count": null,
   "metadata": {},
   "outputs": [],
   "source": [
    "y = annual_data['fatalities']\n",
    "x = annual_data['number_of_incidents']\n",
    "x"
   ]
  },
  {
   "cell_type": "code",
   "execution_count": null,
   "metadata": {},
   "outputs": [],
   "source": [
    "sns.kdeplot(x=annual_data[\"fatalities\"])"
   ]
  },
  {
   "cell_type": "code",
   "execution_count": null,
   "metadata": {},
   "outputs": [],
   "source": [
    "sns.kdeplot(x=annual_data[\"number_of_incidents\"])"
   ]
  },
  {
   "cell_type": "markdown",
   "metadata": {},
   "source": [
    "## Statsmodel test"
   ]
  },
  {
   "cell_type": "code",
   "execution_count": null,
   "metadata": {},
   "outputs": [],
   "source": [
    "import statsmodels.api as sm\n",
    "\n",
    "y = annual_data['fatalities']\n",
    "x = annual_data['number_of_incidents']\n",
    "\n",
    "model = sm.OLS(y, sm.add_constant(x))\n",
    "results = model.fit()\n",
    "\n",
    "print(results.summary())"
   ]
  },
  {
   "cell_type": "markdown",
   "metadata": {},
   "source": [
    "_The model explains a small portion of the variance in fatalities and is not statistically significant._\n",
    "\n",
    "_The coefficient for number_of_incidents is not significant, suggesting that it may not be a strong predictor of fatalities._\n",
    "\n",
    "_Additionally, the diagnostics indicate potential issues with normality and autocorrelation in the residuals._"
   ]
  },
  {
   "cell_type": "code",
   "execution_count": null,
   "metadata": {},
   "outputs": [],
   "source": [
    "#Calculating error_based Metrics\n",
    "\n",
    "from sklearn.metrics import mean_absolute_error\n",
    "\n",
    "y_pred = results.predict(sm.add_constant(x))\n",
    "mean_absolute_error(y, y_pred)"
   ]
  },
  {
   "cell_type": "markdown",
   "metadata": {},
   "source": [
    "## Feature Selcetion ##"
   ]
  },
  {
   "cell_type": "code",
   "execution_count": 79,
   "metadata": {},
   "outputs": [],
   "source": [
    "from sklearn.model_selection import train_test_split\n",
    "from sklearn.ensemble import RandomForestClassifier, RandomForestRegressor\n",
    "from sklearn.preprocessing import LabelEncoder\n",
    "\n",
    "# Assuming df is your dataset\n",
    "df['year'] = pd.to_datetime(df['event_date']).dt.year\n",
    "\n",
    "# Encoding categorical features\n",
    "label_encoder = LabelEncoder()\n",
    "df['inter1_encoded'] = label_encoder.fit_transform(df['inter1'])\n",
    "df['disorder_type_encoded'] = label_encoder.fit_transform(df['disorder_type'])\n",
    "\n",
    "# Aggregating fatalities by year\n",
    "yearly_data = df.groupby('year').agg(\n",
    "    total_fatalities=('fatalities', 'sum'),\n",
    "    unique_disorder_types=('disorder_type', 'nunique')\n",
    ").reset_index()\n",
    "\n",
    "# Feature set\n",
    "X = yearly_data.drop(columns=['year', 'total_fatalities'])\n",
    "y = yearly_data['total_fatalities']\n",
    "\n",
    "# Splitting data\n",
    "X_train, X_test, y_train, y_test = train_test_split(X, y, test_size=0.2, random_state=42)\n",
    "\n"
   ]
  },
  {
   "cell_type": "markdown",
   "metadata": {},
   "source": [
    "## Model Training ##"
   ]
  },
  {
   "cell_type": "code",
   "execution_count": 80,
   "metadata": {},
   "outputs": [
    {
     "name": "stdout",
     "output_type": "stream",
     "text": [
      "Mean Squared Error: 14843931.931316573\n"
     ]
    }
   ],
   "source": [
    "# Model Selection (Random Forest Regressor)\n",
    "model = RandomForestRegressor(n_estimators=100, max_depth=10)\n",
    "\n",
    "# Training the model\n",
    "model.fit(X_train, y_train)\n",
    "\n",
    "# Making predictions\n",
    "y_pred = model.predict(X_test)\n",
    "\n",
    "# Evaluating the model\n",
    "from sklearn.metrics import mean_squared_error\n",
    "mse = mean_squared_error(y_test, y_pred)\n",
    "print(f'Mean Squared Error: {mse}')\n"
   ]
  },
  {
   "cell_type": "markdown",
   "metadata": {},
   "source": [
    "# Model Prediction #"
   ]
  }
 ],
 "metadata": {
  "kernelspec": {
   "display_name": "base",
   "language": "python",
   "name": "python3"
  },
  "language_info": {
   "codemirror_mode": {
    "name": "ipython",
    "version": 3
   },
   "file_extension": ".py",
   "mimetype": "text/x-python",
   "name": "python",
   "nbconvert_exporter": "python",
   "pygments_lexer": "ipython3",
   "version": "3.11.7"
  }
 },
 "nbformat": 4,
 "nbformat_minor": 4
}
