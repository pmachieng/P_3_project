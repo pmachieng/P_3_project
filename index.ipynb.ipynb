{
 "cells": [
  {
   "cell_type": "markdown",
   "metadata": {},
   "source": [
    "## PROJECT: ANALYSIS OF SUDAN CONFLICT(1997-2024) ##\n"
   ]
  },
  {
   "cell_type": "markdown",
   "metadata": {},
   "source": [
    "Violent conflict in Africa has been the leading cause of deaths, injuries, destruction of homes, displacement of populations and and restriction on freedom of expressions. This project is interested exploring the roles of various conflict actors in Sudan conflict and how they impact on civilian fatalities. The dataset for the project is obatined from Armed Conflict Location Events Tracking Data (ACled  at https://acleddata.com/curated-data-files/#regional*). \n",
    "\n",
    "The project seeks to identify the event_types related to violence and related actors. The project will identify the regions with the higest count of fatalities and will project the trends of violent accross time. \n",
    "\n"
   ]
  },
  {
   "cell_type": "markdown",
   "metadata": {},
   "source": [
    "# Business problem #\n",
    "\n",
    "Multilateral agencies and humanitarain organisations are providing aid in Sudan but needs to know prevalence of conflict in Sudan and national actors responsbile for violation of human rights. There is need for situational awareness about the pattern of conflcit and the categories of populations suffering from violence.\n",
    "\n",
    "\n",
    "# Data understanding #\n",
    "\n",
    "The dataset is large but focus is on fatalities, event-types, actors and locations at risk of violent conflict. The overal goal is estbalish a linear relationship between fatalities and violent events."
   ]
  },
  {
   "cell_type": "markdown",
   "metadata": {},
   "source": [
    "## 1: Importing the neccessary python libraries and loading the data ##"
   ]
  },
  {
   "cell_type": "code",
   "execution_count": 1,
   "metadata": {},
   "outputs": [
    {
     "name": "stdout",
     "output_type": "stream",
     "text": [
      "Index(['event_id_cnty', 'event_date', 'year', 'time_precision',\n",
      "       'disorder_type', 'event_type', 'sub_event_type', 'actor1',\n",
      "       'assoc_actor_1', 'inter1', 'actor2', 'assoc_actor_2', 'inter2',\n",
      "       'interaction', 'civilian_targeting', 'iso', 'region', 'country',\n",
      "       'admin1', 'admin2', 'admin3', 'location', 'latitude', 'longitude',\n",
      "       'geo_precision', 'source', 'source_scale', 'notes', 'fatalities',\n",
      "       'tags', 'timestamp'],\n",
      "      dtype='object')\n"
     ]
    }
   ],
   "source": [
    "import pandas as pd\n",
    "import matplotlib.pyplot as plt\n",
    "%matplotlib inline\n",
    "import seaborn as sns\n",
    "import statistics\n",
    "import plotly.express as px\n",
    "import plotly.graph_objects as go\n",
    "from plotly.subplots import make_subplots\n",
    "\n",
    "df = pd.read_csv(r'C:\\Users\\pgaduel\\Desktop\\Gaduel_Phase3_Project\\Sudan_1997-2024_Dec06.csv')\n",
    "print(df.columns)"
   ]
  },
  {
   "cell_type": "markdown",
   "metadata": {},
   "source": [
    "##  2: Data inspection, cleaning and preprocessing ##"
   ]
  },
  {
   "cell_type": "code",
   "execution_count": 2,
   "metadata": {},
   "outputs": [
    {
     "name": "stdout",
     "output_type": "stream",
     "text": [
      "Shape of the data: (35057, 31)\n"
     ]
    },
    {
     "data": {
      "text/html": [
       "<div>\n",
       "<style scoped>\n",
       "    .dataframe tbody tr th:only-of-type {\n",
       "        vertical-align: middle;\n",
       "    }\n",
       "\n",
       "    .dataframe tbody tr th {\n",
       "        vertical-align: top;\n",
       "    }\n",
       "\n",
       "    .dataframe thead th {\n",
       "        text-align: right;\n",
       "    }\n",
       "</style>\n",
       "<table border=\"1\" class=\"dataframe\">\n",
       "  <thead>\n",
       "    <tr style=\"text-align: right;\">\n",
       "      <th></th>\n",
       "      <th>event_id_cnty</th>\n",
       "      <th>event_date</th>\n",
       "      <th>year</th>\n",
       "      <th>time_precision</th>\n",
       "      <th>disorder_type</th>\n",
       "      <th>event_type</th>\n",
       "      <th>sub_event_type</th>\n",
       "      <th>actor1</th>\n",
       "      <th>assoc_actor_1</th>\n",
       "      <th>inter1</th>\n",
       "      <th>...</th>\n",
       "      <th>location</th>\n",
       "      <th>latitude</th>\n",
       "      <th>longitude</th>\n",
       "      <th>geo_precision</th>\n",
       "      <th>source</th>\n",
       "      <th>source_scale</th>\n",
       "      <th>notes</th>\n",
       "      <th>fatalities</th>\n",
       "      <th>tags</th>\n",
       "      <th>timestamp</th>\n",
       "    </tr>\n",
       "  </thead>\n",
       "  <tbody>\n",
       "    <tr>\n",
       "      <th>0</th>\n",
       "      <td>SUD31794</td>\n",
       "      <td>12/6/2024</td>\n",
       "      <td>2024</td>\n",
       "      <td>1</td>\n",
       "      <td>Political violence</td>\n",
       "      <td>Battles</td>\n",
       "      <td>Armed clash</td>\n",
       "      <td>Military Forces of Sudan (2019-)</td>\n",
       "      <td>NaN</td>\n",
       "      <td>State forces</td>\n",
       "      <td>...</td>\n",
       "      <td>El Fasher</td>\n",
       "      <td>13.6264</td>\n",
       "      <td>25.3559</td>\n",
       "      <td>1</td>\n",
       "      <td>Twitter; WikiLeaks - El Fasher 'Darfur News'</td>\n",
       "      <td>New media</td>\n",
       "      <td>On 6 December 2024, SAF airstrikes targeted RS...</td>\n",
       "      <td>0</td>\n",
       "      <td>NaN</td>\n",
       "      <td>1733789073</td>\n",
       "    </tr>\n",
       "    <tr>\n",
       "      <th>1</th>\n",
       "      <td>SUD31815</td>\n",
       "      <td>12/6/2024</td>\n",
       "      <td>2024</td>\n",
       "      <td>1</td>\n",
       "      <td>Political violence; Demonstrations</td>\n",
       "      <td>Protests</td>\n",
       "      <td>Excessive force against protesters</td>\n",
       "      <td>Protesters (Sudan)</td>\n",
       "      <td>NaN</td>\n",
       "      <td>Protesters</td>\n",
       "      <td>...</td>\n",
       "      <td>Malha</td>\n",
       "      <td>15.0934</td>\n",
       "      <td>26.1591</td>\n",
       "      <td>1</td>\n",
       "      <td>Darfur 24; WikiLeaks - El Fasher 'Darfur News'</td>\n",
       "      <td>New media-Subnational</td>\n",
       "      <td>On 6 December 2024, residents staged a protest...</td>\n",
       "      <td>1</td>\n",
       "      <td>crowd size=no report</td>\n",
       "      <td>1733789073</td>\n",
       "    </tr>\n",
       "    <tr>\n",
       "      <th>2</th>\n",
       "      <td>SUD31831</td>\n",
       "      <td>12/6/2024</td>\n",
       "      <td>2024</td>\n",
       "      <td>1</td>\n",
       "      <td>Political violence</td>\n",
       "      <td>Explosions/Remote violence</td>\n",
       "      <td>Air/drone strike</td>\n",
       "      <td>Military Forces of Sudan (2019-)</td>\n",
       "      <td>NaN</td>\n",
       "      <td>State forces</td>\n",
       "      <td>...</td>\n",
       "      <td>Khartoum North - Shambat</td>\n",
       "      <td>15.6594</td>\n",
       "      <td>32.5300</td>\n",
       "      <td>1</td>\n",
       "      <td>Alhamish Voice; Beam reports; Emergency Lawyer...</td>\n",
       "      <td>New media-National</td>\n",
       "      <td>On 6 December 2024, SAF airstrikes targeted a ...</td>\n",
       "      <td>5</td>\n",
       "      <td>NaN</td>\n",
       "      <td>1733789073</td>\n",
       "    </tr>\n",
       "    <tr>\n",
       "      <th>3</th>\n",
       "      <td>SUD31839</td>\n",
       "      <td>12/6/2024</td>\n",
       "      <td>2024</td>\n",
       "      <td>1</td>\n",
       "      <td>Demonstrations</td>\n",
       "      <td>Protests</td>\n",
       "      <td>Peaceful protest</td>\n",
       "      <td>Protesters (Sudan)</td>\n",
       "      <td>NaN</td>\n",
       "      <td>Protesters</td>\n",
       "      <td>...</td>\n",
       "      <td>Sunta</td>\n",
       "      <td>11.0432</td>\n",
       "      <td>25.6139</td>\n",
       "      <td>1</td>\n",
       "      <td>Darfur 24</td>\n",
       "      <td>Subnational</td>\n",
       "      <td>On 6 December 2024, residents staged a protest...</td>\n",
       "      <td>0</td>\n",
       "      <td>crowd size=no report</td>\n",
       "      <td>1733789073</td>\n",
       "    </tr>\n",
       "    <tr>\n",
       "      <th>4</th>\n",
       "      <td>SUD31842</td>\n",
       "      <td>12/6/2024</td>\n",
       "      <td>2024</td>\n",
       "      <td>2</td>\n",
       "      <td>Strategic developments</td>\n",
       "      <td>Strategic developments</td>\n",
       "      <td>Change to group/activity</td>\n",
       "      <td>Military Forces of Sudan (2019-)</td>\n",
       "      <td>NaN</td>\n",
       "      <td>State forces</td>\n",
       "      <td>...</td>\n",
       "      <td>Al Sharif Wad El Obeid</td>\n",
       "      <td>14.4121</td>\n",
       "      <td>33.7298</td>\n",
       "      <td>1</td>\n",
       "      <td>Twitter</td>\n",
       "      <td>New media</td>\n",
       "      <td>Movement of forces: Around 6 December 2024 (as...</td>\n",
       "      <td>0</td>\n",
       "      <td>NaN</td>\n",
       "      <td>1733789073</td>\n",
       "    </tr>\n",
       "  </tbody>\n",
       "</table>\n",
       "<p>5 rows × 31 columns</p>\n",
       "</div>"
      ],
      "text/plain": [
       "  event_id_cnty event_date  year  time_precision  \\\n",
       "0      SUD31794  12/6/2024  2024               1   \n",
       "1      SUD31815  12/6/2024  2024               1   \n",
       "2      SUD31831  12/6/2024  2024               1   \n",
       "3      SUD31839  12/6/2024  2024               1   \n",
       "4      SUD31842  12/6/2024  2024               2   \n",
       "\n",
       "                        disorder_type                  event_type  \\\n",
       "0                  Political violence                     Battles   \n",
       "1  Political violence; Demonstrations                    Protests   \n",
       "2                  Political violence  Explosions/Remote violence   \n",
       "3                      Demonstrations                    Protests   \n",
       "4              Strategic developments      Strategic developments   \n",
       "\n",
       "                       sub_event_type                            actor1  \\\n",
       "0                         Armed clash  Military Forces of Sudan (2019-)   \n",
       "1  Excessive force against protesters                Protesters (Sudan)   \n",
       "2                    Air/drone strike  Military Forces of Sudan (2019-)   \n",
       "3                    Peaceful protest                Protesters (Sudan)   \n",
       "4            Change to group/activity  Military Forces of Sudan (2019-)   \n",
       "\n",
       "  assoc_actor_1        inter1  ...                  location latitude  \\\n",
       "0           NaN  State forces  ...                 El Fasher  13.6264   \n",
       "1           NaN    Protesters  ...                     Malha  15.0934   \n",
       "2           NaN  State forces  ...  Khartoum North - Shambat  15.6594   \n",
       "3           NaN    Protesters  ...                     Sunta  11.0432   \n",
       "4           NaN  State forces  ...    Al Sharif Wad El Obeid  14.4121   \n",
       "\n",
       "  longitude geo_precision                                             source  \\\n",
       "0   25.3559             1       Twitter; WikiLeaks - El Fasher 'Darfur News'   \n",
       "1   26.1591             1     Darfur 24; WikiLeaks - El Fasher 'Darfur News'   \n",
       "2   32.5300             1  Alhamish Voice; Beam reports; Emergency Lawyer...   \n",
       "3   25.6139             1                                          Darfur 24   \n",
       "4   33.7298             1                                            Twitter   \n",
       "\n",
       "            source_scale                                              notes  \\\n",
       "0              New media  On 6 December 2024, SAF airstrikes targeted RS...   \n",
       "1  New media-Subnational  On 6 December 2024, residents staged a protest...   \n",
       "2     New media-National  On 6 December 2024, SAF airstrikes targeted a ...   \n",
       "3            Subnational  On 6 December 2024, residents staged a protest...   \n",
       "4              New media  Movement of forces: Around 6 December 2024 (as...   \n",
       "\n",
       "  fatalities                  tags   timestamp  \n",
       "0          0                   NaN  1733789073  \n",
       "1          1  crowd size=no report  1733789073  \n",
       "2          5                   NaN  1733789073  \n",
       "3          0  crowd size=no report  1733789073  \n",
       "4          0                   NaN  1733789073  \n",
       "\n",
       "[5 rows x 31 columns]"
      ]
     },
     "execution_count": 2,
     "metadata": {},
     "output_type": "execute_result"
    }
   ],
   "source": [
    "#Inspecting the dataset\n",
    "\n",
    "print(\"Shape of the data:\", df.shape)\n",
    "Rows,Cols=df.shape\n",
    "df.head()"
   ]
  },
  {
   "cell_type": "code",
   "execution_count": 3,
   "metadata": {},
   "outputs": [
    {
     "data": {
      "text/html": [
       "<div>\n",
       "<style scoped>\n",
       "    .dataframe tbody tr th:only-of-type {\n",
       "        vertical-align: middle;\n",
       "    }\n",
       "\n",
       "    .dataframe tbody tr th {\n",
       "        vertical-align: top;\n",
       "    }\n",
       "\n",
       "    .dataframe thead th {\n",
       "        text-align: right;\n",
       "    }\n",
       "</style>\n",
       "<table border=\"1\" class=\"dataframe\">\n",
       "  <thead>\n",
       "    <tr style=\"text-align: right;\">\n",
       "      <th></th>\n",
       "      <th>year</th>\n",
       "      <th>disorder_type</th>\n",
       "      <th>event_type</th>\n",
       "      <th>actor1</th>\n",
       "      <th>inter1</th>\n",
       "      <th>location</th>\n",
       "      <th>fatalities</th>\n",
       "      <th>actor1</th>\n",
       "      <th>admin1</th>\n",
       "      <th>geo_precision</th>\n",
       "      <th>source_scale</th>\n",
       "    </tr>\n",
       "  </thead>\n",
       "  <tbody>\n",
       "    <tr>\n",
       "      <th>0</th>\n",
       "      <td>2024</td>\n",
       "      <td>Political violence</td>\n",
       "      <td>Battles</td>\n",
       "      <td>Military Forces of Sudan (2019-)</td>\n",
       "      <td>State forces</td>\n",
       "      <td>El Fasher</td>\n",
       "      <td>0</td>\n",
       "      <td>Military Forces of Sudan (2019-)</td>\n",
       "      <td>North Darfur</td>\n",
       "      <td>1</td>\n",
       "      <td>New media</td>\n",
       "    </tr>\n",
       "    <tr>\n",
       "      <th>1</th>\n",
       "      <td>2024</td>\n",
       "      <td>Political violence; Demonstrations</td>\n",
       "      <td>Protests</td>\n",
       "      <td>Protesters (Sudan)</td>\n",
       "      <td>Protesters</td>\n",
       "      <td>Malha</td>\n",
       "      <td>1</td>\n",
       "      <td>Protesters (Sudan)</td>\n",
       "      <td>North Darfur</td>\n",
       "      <td>1</td>\n",
       "      <td>New media-Subnational</td>\n",
       "    </tr>\n",
       "    <tr>\n",
       "      <th>2</th>\n",
       "      <td>2024</td>\n",
       "      <td>Political violence</td>\n",
       "      <td>Explosions/Remote violence</td>\n",
       "      <td>Military Forces of Sudan (2019-)</td>\n",
       "      <td>State forces</td>\n",
       "      <td>Khartoum North - Shambat</td>\n",
       "      <td>5</td>\n",
       "      <td>Military Forces of Sudan (2019-)</td>\n",
       "      <td>Khartoum</td>\n",
       "      <td>1</td>\n",
       "      <td>New media-National</td>\n",
       "    </tr>\n",
       "    <tr>\n",
       "      <th>3</th>\n",
       "      <td>2024</td>\n",
       "      <td>Demonstrations</td>\n",
       "      <td>Protests</td>\n",
       "      <td>Protesters (Sudan)</td>\n",
       "      <td>Protesters</td>\n",
       "      <td>Sunta</td>\n",
       "      <td>0</td>\n",
       "      <td>Protesters (Sudan)</td>\n",
       "      <td>South Darfur</td>\n",
       "      <td>1</td>\n",
       "      <td>Subnational</td>\n",
       "    </tr>\n",
       "    <tr>\n",
       "      <th>4</th>\n",
       "      <td>2024</td>\n",
       "      <td>Strategic developments</td>\n",
       "      <td>Strategic developments</td>\n",
       "      <td>Military Forces of Sudan (2019-)</td>\n",
       "      <td>State forces</td>\n",
       "      <td>Al Sharif Wad El Obeid</td>\n",
       "      <td>0</td>\n",
       "      <td>Military Forces of Sudan (2019-)</td>\n",
       "      <td>Al Jazirah</td>\n",
       "      <td>1</td>\n",
       "      <td>New media</td>\n",
       "    </tr>\n",
       "    <tr>\n",
       "      <th>5</th>\n",
       "      <td>2024</td>\n",
       "      <td>Political violence</td>\n",
       "      <td>Explosions/Remote violence</td>\n",
       "      <td>Military Forces of Sudan (2019-)</td>\n",
       "      <td>State forces</td>\n",
       "      <td>Um Talha</td>\n",
       "      <td>8</td>\n",
       "      <td>Military Forces of Sudan (2019-)</td>\n",
       "      <td>Al Jazirah</td>\n",
       "      <td>1</td>\n",
       "      <td>International</td>\n",
       "    </tr>\n",
       "    <tr>\n",
       "      <th>6</th>\n",
       "      <td>2024</td>\n",
       "      <td>Strategic developments</td>\n",
       "      <td>Strategic developments</td>\n",
       "      <td>Military Forces of Sudan (2019-)</td>\n",
       "      <td>State forces</td>\n",
       "      <td>Um Algura</td>\n",
       "      <td>0</td>\n",
       "      <td>Military Forces of Sudan (2019-)</td>\n",
       "      <td>Al Jazirah</td>\n",
       "      <td>2</td>\n",
       "      <td>New media</td>\n",
       "    </tr>\n",
       "    <tr>\n",
       "      <th>7</th>\n",
       "      <td>2024</td>\n",
       "      <td>Political violence</td>\n",
       "      <td>Explosions/Remote violence</td>\n",
       "      <td>Military Forces of Sudan (2019-)</td>\n",
       "      <td>State forces</td>\n",
       "      <td>Ombada</td>\n",
       "      <td>10</td>\n",
       "      <td>Military Forces of Sudan (2019-)</td>\n",
       "      <td>Khartoum</td>\n",
       "      <td>1</td>\n",
       "      <td>National</td>\n",
       "    </tr>\n",
       "    <tr>\n",
       "      <th>8</th>\n",
       "      <td>2024</td>\n",
       "      <td>Political violence</td>\n",
       "      <td>Violence against civilians</td>\n",
       "      <td>Murle Ethnic Militia (South Sudan)</td>\n",
       "      <td>Identity militia</td>\n",
       "      <td>Yuai</td>\n",
       "      <td>1</td>\n",
       "      <td>Murle Ethnic Militia (South Sudan)</td>\n",
       "      <td>Jonglei</td>\n",
       "      <td>3</td>\n",
       "      <td>National</td>\n",
       "    </tr>\n",
       "    <tr>\n",
       "      <th>9</th>\n",
       "      <td>2024</td>\n",
       "      <td>Political violence</td>\n",
       "      <td>Battles</td>\n",
       "      <td>Unidentified Communal Militia (South Sudan)</td>\n",
       "      <td>Identity militia</td>\n",
       "      <td>Cueibet</td>\n",
       "      <td>0</td>\n",
       "      <td>Unidentified Communal Militia (South Sudan)</td>\n",
       "      <td>Lakes</td>\n",
       "      <td>2</td>\n",
       "      <td>National</td>\n",
       "    </tr>\n",
       "  </tbody>\n",
       "</table>\n",
       "</div>"
      ],
      "text/plain": [
       "   year                       disorder_type                  event_type  \\\n",
       "0  2024                  Political violence                     Battles   \n",
       "1  2024  Political violence; Demonstrations                    Protests   \n",
       "2  2024                  Political violence  Explosions/Remote violence   \n",
       "3  2024                      Demonstrations                    Protests   \n",
       "4  2024              Strategic developments      Strategic developments   \n",
       "5  2024                  Political violence  Explosions/Remote violence   \n",
       "6  2024              Strategic developments      Strategic developments   \n",
       "7  2024                  Political violence  Explosions/Remote violence   \n",
       "8  2024                  Political violence  Violence against civilians   \n",
       "9  2024                  Political violence                     Battles   \n",
       "\n",
       "                                        actor1            inter1  \\\n",
       "0             Military Forces of Sudan (2019-)      State forces   \n",
       "1                           Protesters (Sudan)        Protesters   \n",
       "2             Military Forces of Sudan (2019-)      State forces   \n",
       "3                           Protesters (Sudan)        Protesters   \n",
       "4             Military Forces of Sudan (2019-)      State forces   \n",
       "5             Military Forces of Sudan (2019-)      State forces   \n",
       "6             Military Forces of Sudan (2019-)      State forces   \n",
       "7             Military Forces of Sudan (2019-)      State forces   \n",
       "8           Murle Ethnic Militia (South Sudan)  Identity militia   \n",
       "9  Unidentified Communal Militia (South Sudan)  Identity militia   \n",
       "\n",
       "                   location  fatalities  \\\n",
       "0                 El Fasher           0   \n",
       "1                     Malha           1   \n",
       "2  Khartoum North - Shambat           5   \n",
       "3                     Sunta           0   \n",
       "4    Al Sharif Wad El Obeid           0   \n",
       "5                  Um Talha           8   \n",
       "6                 Um Algura           0   \n",
       "7                    Ombada          10   \n",
       "8                      Yuai           1   \n",
       "9                   Cueibet           0   \n",
       "\n",
       "                                        actor1        admin1  geo_precision  \\\n",
       "0             Military Forces of Sudan (2019-)  North Darfur              1   \n",
       "1                           Protesters (Sudan)  North Darfur              1   \n",
       "2             Military Forces of Sudan (2019-)      Khartoum              1   \n",
       "3                           Protesters (Sudan)  South Darfur              1   \n",
       "4             Military Forces of Sudan (2019-)    Al Jazirah              1   \n",
       "5             Military Forces of Sudan (2019-)    Al Jazirah              1   \n",
       "6             Military Forces of Sudan (2019-)    Al Jazirah              2   \n",
       "7             Military Forces of Sudan (2019-)      Khartoum              1   \n",
       "8           Murle Ethnic Militia (South Sudan)       Jonglei              3   \n",
       "9  Unidentified Communal Militia (South Sudan)         Lakes              2   \n",
       "\n",
       "            source_scale  \n",
       "0              New media  \n",
       "1  New media-Subnational  \n",
       "2     New media-National  \n",
       "3            Subnational  \n",
       "4              New media  \n",
       "5          International  \n",
       "6              New media  \n",
       "7               National  \n",
       "8               National  \n",
       "9               National  "
      ]
     },
     "execution_count": 3,
     "metadata": {},
     "output_type": "execute_result"
    }
   ],
   "source": [
    "# Selecting certain columns\n",
    "selected_columns = ['year','disorder_type', 'event_type' , 'actor1', 'inter1',  'location', 'fatalities', 'actor1', 'admin1', 'geo_precision', 'source_scale']\n",
    "\n",
    "# Creating a new DataFrame with selected columns\n",
    "\n",
    "df_selected = df[selected_columns]\n",
    "\n",
    "df_selected.head(10)\n"
   ]
  },
  {
   "cell_type": "code",
   "execution_count": 4,
   "metadata": {},
   "outputs": [
    {
     "name": "stdout",
     "output_type": "stream",
     "text": [
      "<class 'pandas.core.frame.DataFrame'>\n",
      "RangeIndex: 35057 entries, 0 to 35056\n",
      "Data columns (total 11 columns):\n",
      " #   Column         Non-Null Count  Dtype \n",
      "---  ------         --------------  ----- \n",
      " 0   year           35057 non-null  int64 \n",
      " 1   disorder_type  35057 non-null  object\n",
      " 2   event_type     35057 non-null  object\n",
      " 3   actor1         35057 non-null  object\n",
      " 4   inter1         35057 non-null  object\n",
      " 5   location       35057 non-null  object\n",
      " 6   fatalities     35057 non-null  int64 \n",
      " 7   actor1         35057 non-null  object\n",
      " 8   admin1         35057 non-null  object\n",
      " 9   geo_precision  35057 non-null  int64 \n",
      " 10  source_scale   35057 non-null  object\n",
      "dtypes: int64(3), object(8)\n",
      "memory usage: 2.9+ MB\n",
      "None\n"
     ]
    }
   ],
   "source": [
    "print(df_selected.info())"
   ]
  },
  {
   "cell_type": "code",
   "execution_count": 5,
   "metadata": {},
   "outputs": [
    {
     "data": {
      "text/plain": [
       "(35057, 11)"
      ]
     },
     "execution_count": 5,
     "metadata": {},
     "output_type": "execute_result"
    }
   ],
   "source": [
    "df_selected.shape"
   ]
  },
  {
   "cell_type": "markdown",
   "metadata": {},
   "source": [
    "_the dataset has 35057 rows and 11 columns_"
   ]
  },
  {
   "cell_type": "code",
   "execution_count": 6,
   "metadata": {},
   "outputs": [
    {
     "data": {
      "text/plain": [
       "<Axes: >"
      ]
     },
     "execution_count": 6,
     "metadata": {},
     "output_type": "execute_result"
    },
    {
     "data": {
      "image/png": "[encoded data removed]",
      "text/plain": [
       "<Figure size 640x480 with 1 Axes>"
      ]
     },
     "metadata": {},
     "output_type": "display_data"
    }
   ],
   "source": [
    "#Visulising missing values through heatmap\n",
    "sns.heatmap(df_selected.isnull(), yticklabels=False, cbar=False)"
   ]
  },
  {
   "cell_type": "markdown",
   "metadata": {},
   "source": [
    "The heatmap shows there are no missing or null values"
   ]
  },
  {
   "cell_type": "markdown",
   "metadata": {},
   "source": [
    "## 3: Expploratory data Analysis ##\n",
    "\n",
    " **Understanding the data and preparing the target Variables**\n",
    "\n",
    "The aim of this step is to map conflict in Sudan by type for example;  disorder_type (e.g., \"Protests\", \"Battles\", etc.) \n",
    "\n",
    " *What is the most common source of violence in Sudan?*"
   ]
  },
  {
   "cell_type": "code",
   "execution_count": 7,
   "metadata": {},
   "outputs": [
    {
     "name": "stdout",
     "output_type": "stream",
     "text": [
      "event_type\n",
      "Battles                       11282\n",
      "Violence against civilians     9355\n",
      "Protests                       6282\n",
      "Explosions/Remote violence     4058\n",
      "Strategic developments         3086\n",
      "Riots                           994\n",
      "Name: count, dtype: int64\n"
     ]
    }
   ],
   "source": [
    "print(df_selected['event_type'].value_counts())"
   ]
  },
  {
   "cell_type": "markdown",
   "metadata": {},
   "source": [
    "_The battles are the most common violent events in Sudan_"
   ]
  },
  {
   "cell_type": "code",
   "execution_count": 8,
   "metadata": {},
   "outputs": [
    {
     "name": "stderr",
     "output_type": "stream",
     "text": [
      "C:\\Users\\pgaduel\\AppData\\Local\\Temp\\ipykernel_29480\\793652818.py:6: FutureWarning: \n",
      "\n",
      "Passing `palette` without assigning `hue` is deprecated and will be removed in v0.14.0. Assign the `y` variable to `hue` and set `legend=False` for the same effect.\n",
      "\n",
      "  sns.barplot(x=event_counts.values, y=event_counts.index, palette='viridis')\n"
     ]
    },
    {
     "data": {
      "image/png": "[encoded data removed]",
      "text/plain": [
       "<Figure size 640x480 with 1 Axes>"
      ]
     },
     "metadata": {},
     "output_type": "display_data"
    }
   ],
   "source": [
    "# Count occurrences of each 'event_type'\n",
    "\n",
    "event_counts = df_selected['event_type'].value_counts()\n",
    "\n",
    "# Create a barplot\n",
    "sns.barplot(x=event_counts.values, y=event_counts.index, palette='viridis')\n",
    "\n",
    "# Add titles and labels\n",
    "plt.title('Event Type Counts')\n",
    "plt.xlabel('Count')\n",
    "plt.ylabel('Event Type')\n",
    "\n",
    "# Display the plot\n",
    "plt.show()"
   ]
  },
  {
   "cell_type": "markdown",
   "metadata": {},
   "source": [
    "_Battles are the leading types of violence, followed by violence against civilains_.\n",
    "\n",
    "_Riots are the least common disorder types in Sudan_."
   ]
  },
  {
   "cell_type": "code",
   "execution_count": 9,
   "metadata": {},
   "outputs": [
    {
     "data": {
      "application/vnd.plotly.v1+json": {
       "config": {
        "plotlyServerURL": "https://plot.ly"
       },
       "data": [
        {
         "domain": {
          "x": [
           0,
           1
          ],
          "y": [
           0,
           1
          ]
         },
         "hovertemplate": "event_type=%{label}<br>value=%{value}<extra></extra>",
         "labels": [
          "Battles",
          "Violence against civilians",
          "Protests",
          "Explosions/Remote violence",
          "Strategic developments",
          "Riots"
         ],
         "legendgroup": "",
         "name": "",
         "showlegend": true,
         "type": "pie",
         "values": [
          11282,
          9355,
          6282,
          4058,
          3086,
          994
         ]
        }
       ],
       "layout": {
        "legend": {
         "tracegroupgap": 0
        },
        "template": {
         "data": {
          "bar": [
           {
            "error_x": {
             "color": "#2a3f5f"
            },
            "error_y": {
             "color": "#2a3f5f"
            },
            "marker": {
             "line": {
              "color": "#E5ECF6",
              "width": 0.5
             },
             "pattern": {
              "fillmode": "overlay",
              "size": 10,
              "solidity": 0.2
             }
            },
            "type": "bar"
           }
          ],
          "barpolar": [
           {
            "marker": {
             "line": {
              "color": "#E5ECF6",
              "width": 0.5
             },
             "pattern": {
              "fillmode": "overlay",
              "size": 10,
              "solidity": 0.2
             }
            },
            "type": "barpolar"
           }
          ],
          "carpet": [
           {
            "aaxis": {
             "endlinecolor": "#2a3f5f",
             "gridcolor": "white",
             "linecolor": "white",
             "minorgridcolor": "white",
             "startlinecolor": "#2a3f5f"
            },
            "baxis": {
             "endlinecolor": "#2a3f5f",
             "gridcolor": "white",
             "linecolor": "white",
             "minorgridcolor": "white",
             "startlinecolor": "#2a3f5f"
            },
            "type": "carpet"
           }
          ],
          "choropleth": [
           {
            "colorbar": {
             "outlinewidth": 0,
             "ticks": ""
            },
            "type": "choropleth"
           }
          ],
          "contour": [
           {
            "colorbar": {
             "outlinewidth": 0,
             "ticks": ""
            },
            "colorscale": [
             [
              0,
              "#0d0887"
             ],
             [
              0.1111111111111111,
              "#46039f"
             ],
             [
              0.2222222222222222,
              "#7201a8"
             ],
             [
              0.3333333333333333,
              "#9c179e"
             ],
             [
              0.4444444444444444,
              "#bd3786"
             ],
             [
              0.5555555555555556,
              "#d8576b"
             ],
             [
              0.6666666666666666,
              "#ed7953"
             ],
             [
              0.7777777777777778,
              "#fb9f3a"
             ],
             [
              0.8888888888888888,
              "#fdca26"
             ],
             [
              1,
              "#f0f921"
             ]
            ],
            "type": "contour"
           }
          ],
          "contourcarpet": [
           {
            "colorbar": {
             "outlinewidth": 0,
             "ticks": ""
            },
            "type": "contourcarpet"
           }
          ],
          "heatmap": [
           {
            "colorbar": {
             "outlinewidth": 0,
             "ticks": ""
            },
            "colorscale": [
             [
              0,
              "#0d0887"
             ],
             [
              0.1111111111111111,
              "#46039f"
             ],
             [
              0.2222222222222222,
              "#7201a8"
             ],
             [
              0.3333333333333333,
              "#9c179e"
             ],
             [
              0.4444444444444444,
              "#bd3786"
             ],
             [
              0.5555555555555556,
              "#d8576b"
             ],
             [
              0.6666666666666666,
              "#ed7953"
             ],
             [
              0.7777777777777778,
              "#fb9f3a"
             ],
             [
              0.8888888888888888,
              "#fdca26"
             ],
             [
              1,
              "#f0f921"
             ]
            ],
            "type": "heatmap"
           }
          ],
          "heatmapgl": [
           {
            "colorbar": {
             "outlinewidth": 0,
             "ticks": ""
            },
            "colorscale": [
             [
              0,
              "#0d0887"
             ],
             [
              0.1111111111111111,
              "#46039f"
             ],
             [
              0.2222222222222222,
              "#7201a8"
             ],
             [
              0.3333333333333333,
              "#9c179e"
             ],
             [
              0.4444444444444444,
              "#bd3786"
             ],
             [
              0.5555555555555556,
              "#d8576b"
             ],
             [
              0.6666666666666666,
              "#ed7953"
             ],
             [
              0.7777777777777778,
              "#fb9f3a"
             ],
             [
              0.8888888888888888,
              "#fdca26"
             ],
             [
              1,
              "#f0f921"
             ]
            ],
            "type": "heatmapgl"
           }
          ],
          "histogram": [
           {
            "marker": {
             "pattern": {
              "fillmode": "overlay",
              "size": 10,
              "solidity": 0.2
             }
            },
            "type": "histogram"
           }
          ],
          "histogram2d": [
           {
            "colorbar": {
             "outlinewidth": 0,
             "ticks": ""
            },
            "colorscale": [
             [
              0,
              "#0d0887"
             ],
             [
              0.1111111111111111,
              "#46039f"
             ],
             [
              0.2222222222222222,
              "#7201a8"
             ],
             [
              0.3333333333333333,
              "#9c179e"
             ],
             [
              0.4444444444444444,
              "#bd3786"
             ],
             [
              0.5555555555555556,
              "#d8576b"
             ],
             [
              0.6666666666666666,
              "#ed7953"
             ],
             [
              0.7777777777777778,
              "#fb9f3a"
             ],
             [
              0.8888888888888888,
              "#fdca26"
             ],
             [
              1,
              "#f0f921"
             ]
            ],
            "type": "histogram2d"
           }
          ],
          "histogram2dcontour": [
           {
            "colorbar": {
             "outlinewidth": 0,
             "ticks": ""
            },
            "colorscale": [
             [
              0,
              "#0d0887"
             ],
             [
              0.1111111111111111,
              "#46039f"
             ],
             [
              0.2222222222222222,
              "#7201a8"
             ],
             [
              0.3333333333333333,
              "#9c179e"
             ],
             [
              0.4444444444444444,
              "#bd3786"
             ],
             [
              0.5555555555555556,
              "#d8576b"
             ],
             [
              0.6666666666666666,
              "#ed7953"
             ],
             [
              0.7777777777777778,
              "#fb9f3a"
             ],
             [
              0.8888888888888888,
              "#fdca26"
             ],
             [
              1,
              "#f0f921"
             ]
            ],
            "type": "histogram2dcontour"
           }
          ],
          "mesh3d": [
           {
            "colorbar": {
             "outlinewidth": 0,
             "ticks": ""
            },
            "type": "mesh3d"
           }
          ],
          "parcoords": [
           {
            "line": {
             "colorbar": {
              "outlinewidth": 0,
              "ticks": ""
             }
            },
            "type": "parcoords"
           }
          ],
          "pie": [
           {
            "automargin": true,
            "type": "pie"
           }
          ],
          "scatter": [
           {
            "fillpattern": {
             "fillmode": "overlay",
             "size": 10,
             "solidity": 0.2
            },
            "type": "scatter"
           }
          ],
          "scatter3d": [
           {
            "line": {
             "colorbar": {
              "outlinewidth": 0,
              "ticks": ""
             }
            },
            "marker": {
             "colorbar": {
              "outlinewidth": 0,
              "ticks": ""
             }
            },
            "type": "scatter3d"
           }
          ],
          "scattercarpet": [
           {
            "marker": {
             "colorbar": {
              "outlinewidth": 0,
              "ticks": ""
             }
            },
            "type": "scattercarpet"
           }
          ],
          "scattergeo": [
           {
            "marker": {
             "colorbar": {
              "outlinewidth": 0,
              "ticks": ""
             }
            },
            "type": "scattergeo"
           }
          ],
          "scattergl": [
           {
            "marker": {
             "colorbar": {
              "outlinewidth": 0,
              "ticks": ""
             }
            },
            "type": "scattergl"
           }
          ],
          "scattermapbox": [
           {
            "marker": {
             "colorbar": {
              "outlinewidth": 0,
              "ticks": ""
             }
            },
            "type": "scattermapbox"
           }
          ],
          "scatterpolar": [
           {
            "marker": {
             "colorbar": {
              "outlinewidth": 0,
              "ticks": ""
             }
            },
            "type": "scatterpolar"
           }
          ],
          "scatterpolargl": [
           {
            "marker": {
             "colorbar": {
              "outlinewidth": 0,
              "ticks": ""
             }
            },
            "type": "scatterpolargl"
           }
          ],
          "scatterternary": [
           {
            "marker": {
             "colorbar": {
              "outlinewidth": 0,
              "ticks": ""
             }
            },
            "type": "scatterternary"
           }
          ],
          "surface": [
           {
            "colorbar": {
             "outlinewidth": 0,
             "ticks": ""
            },
            "colorscale": [
             [
              0,
              "#0d0887"
             ],
             [
              0.1111111111111111,
              "#46039f"
             ],
             [
              0.2222222222222222,
              "#7201a8"
             ],
             [
              0.3333333333333333,
              "#9c179e"
             ],
             [
              0.4444444444444444,
              "#bd3786"
             ],
             [
              0.5555555555555556,
              "#d8576b"
             ],
             [
              0.6666666666666666,
              "#ed7953"
             ],
             [
              0.7777777777777778,
              "#fb9f3a"
             ],
             [
              0.8888888888888888,
              "#fdca26"
             ],
             [
              1,
              "#f0f921"
             ]
            ],
            "type": "surface"
           }
          ],
          "table": [
           {
            "cells": {
             "fill": {
              "color": "#EBF0F8"
             },
             "line": {
              "color": "white"
             }
            },
            "header": {
             "fill": {
              "color": "#C8D4E3"
             },
             "line": {
              "color": "white"
             }
            },
            "type": "table"
           }
          ]
         },
         "layout": {
          "annotationdefaults": {
           "arrowcolor": "#2a3f5f",
           "arrowhead": 0,
           "arrowwidth": 1
          },
          "autotypenumbers": "strict",
          "coloraxis": {
           "colorbar": {
            "outlinewidth": 0,
            "ticks": ""
           }
          },
          "colorscale": {
           "diverging": [
            [
             0,
             "#8e0152"
            ],
            [
             0.1,
             "#c51b7d"
            ],
            [
             0.2,
             "#de77ae"
            ],
            [
             0.3,
             "#f1b6da"
            ],
            [
             0.4,
             "#fde0ef"
            ],
            [
             0.5,
             "#f7f7f7"
            ],
            [
             0.6,
             "#e6f5d0"
            ],
            [
             0.7,
             "#b8e186"
            ],
            [
             0.8,
             "#7fbc41"
            ],
            [
             0.9,
             "#4d9221"
            ],
            [
             1,
             "#276419"
            ]
           ],
           "sequential": [
            [
             0,
             "#0d0887"
            ],
            [
             0.1111111111111111,
             "#46039f"
            ],
            [
             0.2222222222222222,
             "#7201a8"
            ],
            [
             0.3333333333333333,
             "#9c179e"
            ],
            [
             0.4444444444444444,
             "#bd3786"
            ],
            [
             0.5555555555555556,
             "#d8576b"
            ],
            [
             0.6666666666666666,
             "#ed7953"
            ],
            [
             0.7777777777777778,
             "#fb9f3a"
            ],
            [
             0.8888888888888888,
             "#fdca26"
            ],
            [
             1,
             "#f0f921"
            ]
           ],
           "sequentialminus": [
            [
             0,
             "#0d0887"
            ],
            [
             0.1111111111111111,
             "#46039f"
            ],
            [
             0.2222222222222222,
             "#7201a8"
            ],
            [
             0.3333333333333333,
             "#9c179e"
            ],
            [
             0.4444444444444444,
             "#bd3786"
            ],
            [
             0.5555555555555556,
             "#d8576b"
            ],
            [
             0.6666666666666666,
             "#ed7953"
            ],
            [
             0.7777777777777778,
             "#fb9f3a"
            ],
            [
             0.8888888888888888,
             "#fdca26"
            ],
            [
             1,
             "#f0f921"
            ]
           ]
          },
          "colorway": [
           "#636efa",
           "#EF553B",
           "#00cc96",
           "#ab63fa",
           "#FFA15A",
           "#19d3f3",
           "#FF6692",
           "#B6E880",
           "#FF97FF",
           "#FECB52"
          ],
          "font": {
           "color": "#2a3f5f"
          },
          "geo": {
           "bgcolor": "white",
           "lakecolor": "white",
           "landcolor": "#E5ECF6",
           "showlakes": true,
           "showland": true,
           "subunitcolor": "white"
          },
          "hoverlabel": {
           "align": "left"
          },
          "hovermode": "closest",
          "mapbox": {
           "style": "light"
          },
          "paper_bgcolor": "white",
          "plot_bgcolor": "#E5ECF6",
          "polar": {
           "angularaxis": {
            "gridcolor": "white",
            "linecolor": "white",
            "ticks": ""
           },
           "bgcolor": "#E5ECF6",
           "radialaxis": {
            "gridcolor": "white",
            "linecolor": "white",
            "ticks": ""
           }
          },
          "scene": {
           "xaxis": {
            "backgroundcolor": "#E5ECF6",
            "gridcolor": "white",
            "gridwidth": 2,
            "linecolor": "white",
            "showbackground": true,
            "ticks": "",
            "zerolinecolor": "white"
           },
           "yaxis": {
            "backgroundcolor": "#E5ECF6",
            "gridcolor": "white",
            "gridwidth": 2,
            "linecolor": "white",
            "showbackground": true,
            "ticks": "",
            "zerolinecolor": "white"
           },
           "zaxis": {
            "backgroundcolor": "#E5ECF6",
            "gridcolor": "white",
            "gridwidth": 2,
            "linecolor": "white",
            "showbackground": true,
            "ticks": "",
            "zerolinecolor": "white"
           }
          },
          "shapedefaults": {
           "line": {
            "color": "#2a3f5f"
           }
          },
          "ternary": {
           "aaxis": {
            "gridcolor": "white",
            "linecolor": "white",
            "ticks": ""
           },
           "baxis": {
            "gridcolor": "white",
            "linecolor": "white",
            "ticks": ""
           },
           "bgcolor": "#E5ECF6",
           "caxis": {
            "gridcolor": "white",
            "linecolor": "white",
            "ticks": ""
           }
          },
          "title": {
           "x": 0.05
          },
          "xaxis": {
           "automargin": true,
           "gridcolor": "white",
           "linecolor": "white",
           "ticks": "",
           "title": {
            "standoff": 15
           },
           "zerolinecolor": "white",
           "zerolinewidth": 2
          },
          "yaxis": {
           "automargin": true,
           "gridcolor": "white",
           "linecolor": "white",
           "ticks": "",
           "title": {
            "standoff": 15
           },
           "zerolinecolor": "white",
           "zerolinewidth": 2
          }
         }
        },
        "title": {
         "text": "Total Type of Event percentage in Sudan"
        }
       }
      }
     },
     "metadata": {},
     "output_type": "display_data"
    }
   ],
   "source": [
    "import plotly.express as px\n",
    "\n",
    "# Calculate the value counts of event types\n",
    "event_type = df_selected[\"event_type\"].value_counts()\n",
    "\n",
    "# Create a pie chart using Plotly\n",
    "fig = px.pie(event_type, values=event_type.values, names=event_type.index, title='Total Type of Event percentage in Sudan')\n",
    "# Show the plot\n",
    "\n",
    "fig.show()"
   ]
  },
  {
   "cell_type": "markdown",
   "metadata": {},
   "source": [
    "_The pie_chart shows the propportions of violent in Sudan by event percentage._\n",
    "\n",
    "_Battles constitute the largest proportion of violence_."
   ]
  },
  {
   "cell_type": "code",
   "execution_count": 10,
   "metadata": {},
   "outputs": [
    {
     "data": {
      "application/vnd.plotly.v1+json": {
       "config": {
        "plotlyServerURL": "https://plot.ly"
       },
       "data": [
        {
         "branchvalues": "total",
         "domain": {
          "x": [
           0,
           1
          ],
          "y": [
           0,
           1
          ]
         },
         "hovertemplate": "labels=%{label}<br>count=%{value}<br>parent=%{parent}<br>id=%{id}<extra></extra>",
         "ids": [
          "Violence against civilians/Abduction/forced disappearance",
          "Strategic developments/Agreement",
          "Explosions/Remote violence/Air/drone strike",
          "Battles/Armed clash",
          "Strategic developments/Arrests",
          "Violence against civilians/Attack",
          "Strategic developments/Change to group/activity",
          "Explosions/Remote violence/Chemical weapon",
          "Strategic developments/Disrupted weapons use",
          "Protests/Excessive force against protesters",
          "Battles/Government regains territory",
          "Explosions/Remote violence/Grenade",
          "Strategic developments/Headquarters or base established",
          "Strategic developments/Looting/property destruction",
          "Riots/Mob violence",
          "Battles/Non-state actor overtakes territory",
          "Strategic developments/Non-violent transfer of territory",
          "Strategic developments/Other",
          "Protests/Peaceful protest",
          "Protests/Protest with intervention",
          "Explosions/Remote violence/Remote explosive/landmine/IED",
          "Violence against civilians/Sexual violence",
          "Explosions/Remote violence/Shelling/artillery/missile attack",
          "Riots/Violent demonstration",
          "Battles",
          "Explosions/Remote violence",
          "Protests",
          "Riots",
          "Strategic developments",
          "Violence against civilians"
         ],
         "labels": [
          "Abduction/forced disappearance",
          "Agreement",
          "Air/drone strike",
          "Armed clash",
          "Arrests",
          "Attack",
          "Change to group/activity",
          "Chemical weapon",
          "Disrupted weapons use",
          "Excessive force against protesters",
          "Government regains territory",
          "Grenade",
          "Headquarters or base established",
          "Looting/property destruction",
          "Mob violence",
          "Non-state actor overtakes territory",
          "Non-violent transfer of territory",
          "Other",
          "Peaceful protest",
          "Protest with intervention",
          "Remote explosive/landmine/IED",
          "Sexual violence",
          "Shelling/artillery/missile attack",
          "Violent demonstration",
          "Battles",
          "Explosions/Remote violence",
          "Protests",
          "Riots",
          "Strategic developments",
          "Violence against civilians"
         ],
         "name": "",
         "parents": [
          "Violence against civilians",
          "Strategic developments",
          "Explosions/Remote violence",
          "Battles",
          "Strategic developments",
          "Violence against civilians",
          "Strategic developments",
          "Explosions/Remote violence",
          "Strategic developments",
          "Protests",
          "Battles",
          "Explosions/Remote violence",
          "Strategic developments",
          "Strategic developments",
          "Riots",
          "Battles",
          "Strategic developments",
          "Strategic developments",
          "Protests",
          "Protests",
          "Explosions/Remote violence",
          "Violence against civilians",
          "Explosions/Remote violence",
          "Riots",
          "",
          "",
          "",
          "",
          "",
          ""
         ],
         "textinfo": "label+percent parent",
         "type": "sunburst",
         "values": [
          720,
          284,
          2639,
          10339,
          198,
          7804,
          886,
          20,
          152,
          459,
          513,
          60,
          23,
          812,
          342,
          430,
          153,
          578,
          4903,
          920,
          365,
          831,
          974,
          652,
          11282,
          4058,
          6282,
          994,
          3086,
          9355
         ]
        }
       ],
       "layout": {
        "height": 600,
        "legend": {
         "tracegroupgap": 0
        },
        "margin": {
         "t": 60
        },
        "template": {
         "data": {
          "bar": [
           {
            "error_x": {
             "color": "#2a3f5f"
            },
            "error_y": {
             "color": "#2a3f5f"
            },
            "marker": {
             "line": {
              "color": "#E5ECF6",
              "width": 0.5
             },
             "pattern": {
              "fillmode": "overlay",
              "size": 10,
              "solidity": 0.2
             }
            },
            "type": "bar"
           }
          ],
          "barpolar": [
           {
            "marker": {
             "line": {
              "color": "#E5ECF6",
              "width": 0.5
             },
             "pattern": {
              "fillmode": "overlay",
              "size": 10,
              "solidity": 0.2
             }
            },
            "type": "barpolar"
           }
          ],
          "carpet": [
           {
            "aaxis": {
             "endlinecolor": "#2a3f5f",
             "gridcolor": "white",
             "linecolor": "white",
             "minorgridcolor": "white",
             "startlinecolor": "#2a3f5f"
            },
            "baxis": {
             "endlinecolor": "#2a3f5f",
             "gridcolor": "white",
             "linecolor": "white",
             "minorgridcolor": "white",
             "startlinecolor": "#2a3f5f"
            },
            "type": "carpet"
           }
          ],
          "choropleth": [
           {
            "colorbar": {
             "outlinewidth": 0,
             "ticks": ""
            },
            "type": "choropleth"
           }
          ],
          "contour": [
           {
            "colorbar": {
             "outlinewidth": 0,
             "ticks": ""
            },
            "colorscale": [
             [
              0,
              "#0d0887"
             ],
             [
              0.1111111111111111,
              "#46039f"
             ],
             [
              0.2222222222222222,
              "#7201a8"
             ],
             [
              0.3333333333333333,
              "#9c179e"
             ],
             [
              0.4444444444444444,
              "#bd3786"
             ],
             [
              0.5555555555555556,
              "#d8576b"
             ],
             [
              0.6666666666666666,
              "#ed7953"
             ],
             [
              0.7777777777777778,
              "#fb9f3a"
             ],
             [
              0.8888888888888888,
              "#fdca26"
             ],
             [
              1,
              "#f0f921"
             ]
            ],
            "type": "contour"
           }
          ],
          "contourcarpet": [
           {
            "colorbar": {
             "outlinewidth": 0,
             "ticks": ""
            },
            "type": "contourcarpet"
           }
          ],
          "heatmap": [
           {
            "colorbar": {
             "outlinewidth": 0,
             "ticks": ""
            },
            "colorscale": [
             [
              0,
              "#0d0887"
             ],
             [
              0.1111111111111111,
              "#46039f"
             ],
             [
              0.2222222222222222,
              "#7201a8"
             ],
             [
              0.3333333333333333,
              "#9c179e"
             ],
             [
              0.4444444444444444,
              "#bd3786"
             ],
             [
              0.5555555555555556,
              "#d8576b"
             ],
             [
              0.6666666666666666,
              "#ed7953"
             ],
             [
              0.7777777777777778,
              "#fb9f3a"
             ],
             [
              0.8888888888888888,
              "#fdca26"
             ],
             [
              1,
              "#f0f921"
             ]
            ],
            "type": "heatmap"
           }
          ],
          "heatmapgl": [
           {
            "colorbar": {
             "outlinewidth": 0,
             "ticks": ""
            },
            "colorscale": [
             [
              0,
              "#0d0887"
             ],
             [
              0.1111111111111111,
              "#46039f"
             ],
             [
              0.2222222222222222,
              "#7201a8"
             ],
             [
              0.3333333333333333,
              "#9c179e"
             ],
             [
              0.4444444444444444,
              "#bd3786"
             ],
             [
              0.5555555555555556,
              "#d8576b"
             ],
             [
              0.6666666666666666,
              "#ed7953"
             ],
             [
              0.7777777777777778,
              "#fb9f3a"
             ],
             [
              0.8888888888888888,
              "#fdca26"
             ],
             [
              1,
              "#f0f921"
             ]
            ],
            "type": "heatmapgl"
           }
          ],
          "histogram": [
           {
            "marker": {
             "pattern": {
              "fillmode": "overlay",
              "size": 10,
              "solidity": 0.2
             }
            },
            "type": "histogram"
           }
          ],
          "histogram2d": [
           {
            "colorbar": {
             "outlinewidth": 0,
             "ticks": ""
            },
            "colorscale": [
             [
              0,
              "#0d0887"
             ],
             [
              0.1111111111111111,
              "#46039f"
             ],
             [
              0.2222222222222222,
              "#7201a8"
             ],
             [
              0.3333333333333333,
              "#9c179e"
             ],
             [
              0.4444444444444444,
              "#bd3786"
             ],
             [
              0.5555555555555556,
              "#d8576b"
             ],
             [
              0.6666666666666666,
              "#ed7953"
             ],
             [
              0.7777777777777778,
              "#fb9f3a"
             ],
             [
              0.8888888888888888,
              "#fdca26"
             ],
             [
              1,
              "#f0f921"
             ]
            ],
            "type": "histogram2d"
           }
          ],
          "histogram2dcontour": [
           {
            "colorbar": {
             "outlinewidth": 0,
             "ticks": ""
            },
            "colorscale": [
             [
              0,
              "#0d0887"
             ],
             [
              0.1111111111111111,
              "#46039f"
             ],
             [
              0.2222222222222222,
              "#7201a8"
             ],
             [
              0.3333333333333333,
              "#9c179e"
             ],
             [
              0.4444444444444444,
              "#bd3786"
             ],
             [
              0.5555555555555556,
              "#d8576b"
             ],
             [
              0.6666666666666666,
              "#ed7953"
             ],
             [
              0.7777777777777778,
              "#fb9f3a"
             ],
             [
              0.8888888888888888,
              "#fdca26"
             ],
             [
              1,
              "#f0f921"
             ]
            ],
            "type": "histogram2dcontour"
           }
          ],
          "mesh3d": [
           {
            "colorbar": {
             "outlinewidth": 0,
             "ticks": ""
            },
            "type": "mesh3d"
           }
          ],
          "parcoords": [
           {
            "line": {
             "colorbar": {
              "outlinewidth": 0,
              "ticks": ""
             }
            },
            "type": "parcoords"
           }
          ],
          "pie": [
           {
            "automargin": true,
            "type": "pie"
           }
          ],
          "scatter": [
           {
            "fillpattern": {
             "fillmode": "overlay",
             "size": 10,
             "solidity": 0.2
            },
            "type": "scatter"
           }
          ],
          "scatter3d": [
           {
            "line": {
             "colorbar": {
              "outlinewidth": 0,
              "ticks": ""
             }
            },
            "marker": {
             "colorbar": {
              "outlinewidth": 0,
              "ticks": ""
             }
            },
            "type": "scatter3d"
           }
          ],
          "scattercarpet": [
           {
            "marker": {
             "colorbar": {
              "outlinewidth": 0,
              "ticks": ""
             }
            },
            "type": "scattercarpet"
           }
          ],
          "scattergeo": [
           {
            "marker": {
             "colorbar": {
              "outlinewidth": 0,
              "ticks": ""
             }
            },
            "type": "scattergeo"
           }
          ],
          "scattergl": [
           {
            "marker": {
             "colorbar": {
              "outlinewidth": 0,
              "ticks": ""
             }
            },
            "type": "scattergl"
           }
          ],
          "scattermapbox": [
           {
            "marker": {
             "colorbar": {
              "outlinewidth": 0,
              "ticks": ""
             }
            },
            "type": "scattermapbox"
           }
          ],
          "scatterpolar": [
           {
            "marker": {
             "colorbar": {
              "outlinewidth": 0,
              "ticks": ""
             }
            },
            "type": "scatterpolar"
           }
          ],
          "scatterpolargl": [
           {
            "marker": {
             "colorbar": {
              "outlinewidth": 0,
              "ticks": ""
             }
            },
            "type": "scatterpolargl"
           }
          ],
          "scatterternary": [
           {
            "marker": {
             "colorbar": {
              "outlinewidth": 0,
              "ticks": ""
             }
            },
            "type": "scatterternary"
           }
          ],
          "surface": [
           {
            "colorbar": {
             "outlinewidth": 0,
             "ticks": ""
            },
            "colorscale": [
             [
              0,
              "#0d0887"
             ],
             [
              0.1111111111111111,
              "#46039f"
             ],
             [
              0.2222222222222222,
              "#7201a8"
             ],
             [
              0.3333333333333333,
              "#9c179e"
             ],
             [
              0.4444444444444444,
              "#bd3786"
             ],
             [
              0.5555555555555556,
              "#d8576b"
             ],
             [
              0.6666666666666666,
              "#ed7953"
             ],
             [
              0.7777777777777778,
              "#fb9f3a"
             ],
             [
              0.8888888888888888,
              "#fdca26"
             ],
             [
              1,
              "#f0f921"
             ]
            ],
            "type": "surface"
           }
          ],
          "table": [
           {
            "cells": {
             "fill": {
              "color": "#EBF0F8"
             },
             "line": {
              "color": "white"
             }
            },
            "header": {
             "fill": {
              "color": "#C8D4E3"
             },
             "line": {
              "color": "white"
             }
            },
            "type": "table"
           }
          ]
         },
         "layout": {
          "annotationdefaults": {
           "arrowcolor": "#2a3f5f",
           "arrowhead": 0,
           "arrowwidth": 1
          },
          "autotypenumbers": "strict",
          "coloraxis": {
           "colorbar": {
            "outlinewidth": 0,
            "ticks": ""
           }
          },
          "colorscale": {
           "diverging": [
            [
             0,
             "#8e0152"
            ],
            [
             0.1,
             "#c51b7d"
            ],
            [
             0.2,
             "#de77ae"
            ],
            [
             0.3,
             "#f1b6da"
            ],
            [
             0.4,
             "#fde0ef"
            ],
            [
             0.5,
             "#f7f7f7"
            ],
            [
             0.6,
             "#e6f5d0"
            ],
            [
             0.7,
             "#b8e186"
            ],
            [
             0.8,
             "#7fbc41"
            ],
            [
             0.9,
             "#4d9221"
            ],
            [
             1,
             "#276419"
            ]
           ],
           "sequential": [
            [
             0,
             "#0d0887"
            ],
            [
             0.1111111111111111,
             "#46039f"
            ],
            [
             0.2222222222222222,
             "#7201a8"
            ],
            [
             0.3333333333333333,
             "#9c179e"
            ],
            [
             0.4444444444444444,
             "#bd3786"
            ],
            [
             0.5555555555555556,
             "#d8576b"
            ],
            [
             0.6666666666666666,
             "#ed7953"
            ],
            [
             0.7777777777777778,
             "#fb9f3a"
            ],
            [
             0.8888888888888888,
             "#fdca26"
            ],
            [
             1,
             "#f0f921"
            ]
           ],
           "sequentialminus": [
            [
             0,
             "#0d0887"
            ],
            [
             0.1111111111111111,
             "#46039f"
            ],
            [
             0.2222222222222222,
             "#7201a8"
            ],
            [
             0.3333333333333333,
             "#9c179e"
            ],
            [
             0.4444444444444444,
             "#bd3786"
            ],
            [
             0.5555555555555556,
             "#d8576b"
            ],
            [
             0.6666666666666666,
             "#ed7953"
            ],
            [
             0.7777777777777778,
             "#fb9f3a"
            ],
            [
             0.8888888888888888,
             "#fdca26"
            ],
            [
             1,
             "#f0f921"
            ]
           ]
          },
          "colorway": [
           "#636efa",
           "#EF553B",
           "#00cc96",
           "#ab63fa",
           "#FFA15A",
           "#19d3f3",
           "#FF6692",
           "#B6E880",
           "#FF97FF",
           "#FECB52"
          ],
          "font": {
           "color": "#2a3f5f"
          },
          "geo": {
           "bgcolor": "white",
           "lakecolor": "white",
           "landcolor": "#E5ECF6",
           "showlakes": true,
           "showland": true,
           "subunitcolor": "white"
          },
          "hoverlabel": {
           "align": "left"
          },
          "hovermode": "closest",
          "mapbox": {
           "style": "light"
          },
          "paper_bgcolor": "white",
          "plot_bgcolor": "#E5ECF6",
          "polar": {
           "angularaxis": {
            "gridcolor": "white",
            "linecolor": "white",
            "ticks": ""
           },
           "bgcolor": "#E5ECF6",
           "radialaxis": {
            "gridcolor": "white",
            "linecolor": "white",
            "ticks": ""
           }
          },
          "scene": {
           "xaxis": {
            "backgroundcolor": "#E5ECF6",
            "gridcolor": "white",
            "gridwidth": 2,
            "linecolor": "white",
            "showbackground": true,
            "ticks": "",
            "zerolinecolor": "white"
           },
           "yaxis": {
            "backgroundcolor": "#E5ECF6",
            "gridcolor": "white",
            "gridwidth": 2,
            "linecolor": "white",
            "showbackground": true,
            "ticks": "",
            "zerolinecolor": "white"
           },
           "zaxis": {
            "backgroundcolor": "#E5ECF6",
            "gridcolor": "white",
            "gridwidth": 2,
            "linecolor": "white",
            "showbackground": true,
            "ticks": "",
            "zerolinecolor": "white"
           }
          },
          "shapedefaults": {
           "line": {
            "color": "#2a3f5f"
           }
          },
          "ternary": {
           "aaxis": {
            "gridcolor": "white",
            "linecolor": "white",
            "ticks": ""
           },
           "baxis": {
            "gridcolor": "white",
            "linecolor": "white",
            "ticks": ""
           },
           "bgcolor": "#E5ECF6",
           "caxis": {
            "gridcolor": "white",
            "linecolor": "white",
            "ticks": ""
           }
          },
          "title": {
           "x": 0.05
          },
          "xaxis": {
           "automargin": true,
           "gridcolor": "white",
           "linecolor": "white",
           "ticks": "",
           "title": {
            "standoff": 15
           },
           "zerolinecolor": "white",
           "zerolinewidth": 2
          },
          "yaxis": {
           "automargin": true,
           "gridcolor": "white",
           "linecolor": "white",
           "ticks": "",
           "title": {
            "standoff": 15
           },
           "zerolinecolor": "white",
           "zerolinewidth": 2
          }
         }
        },
        "title": {
         "font": {
          "family": "San-Serif",
          "size": 15
         },
         "text": "<b> Event type and Sub event type percentage in Sudan (ACLED)<b>"
        },
        "width": 600
       }
      }
     },
     "metadata": {},
     "output_type": "display_data"
    }
   ],
   "source": [
    "# Group by event_type and sub_event_type and count the occurrences\n",
    "sub_event = df.groupby([\"event_type\", \"sub_event_type\"])[\"event_date\"].agg({'count'}).reset_index()\n",
    "\n",
    "# Create a sunburst chart using Plotly\n",
    "fig = px.sunburst(sub_event, \n",
    "                  path=['event_type', 'sub_event_type'], \n",
    "                  values='count',\n",
    "                  width=600, # Width of map\n",
    "                  height=600)\n",
    "\n",
    "fig.update_traces(textinfo=\"label+percent parent\")\n",
    "fig.layout.update(title=\"<b> Event type and Sub event type percentage in Sudan (ACLED)<b>\",\n",
    "                  titlefont={'color':None, 'size': 15, 'family': 'San-Serif'})\n",
    "\n",
    "fig.show()"
   ]
  },
  {
   "cell_type": "markdown",
   "metadata": {},
   "source": [
    "_Based on the sunburst chart, armed clashes constitute the largest source of sub_violent events._\n",
    "\n",
    "\n",
    "_Attacks , and peaceful protests are other major categories that trigger violence._"
   ]
  },
  {
   "cell_type": "markdown",
   "metadata": {},
   "source": [
    "Who is responsible for most of violent counts in Sudan?"
   ]
  },
  {
   "cell_type": "code",
   "execution_count": 11,
   "metadata": {},
   "outputs": [
    {
     "data": {
      "text/plain": [
       "inter1\n",
       "State forces             13484\n",
       "Identity militia          6309\n",
       "Protesters                6218\n",
       "Political militia         4889\n",
       "Rebel group               2715\n",
       "Rioters                    941\n",
       "External/Other forces      360\n",
       "Civilians                  141\n",
       "Name: count, dtype: int64"
      ]
     },
     "execution_count": 11,
     "metadata": {},
     "output_type": "execute_result"
    }
   ],
   "source": [
    "#Summary of events by actor_type1\n",
    "actor_type1=df[\"inter1\"].value_counts()\n",
    "actor_type1"
   ]
  },
  {
   "cell_type": "markdown",
   "metadata": {},
   "source": [
    "_the state forces are the leading perpertrators responsbile for violence in Sudan_.\n",
    "\n",
    "\n",
    "_violence by civilians is the least_."
   ]
  },
  {
   "cell_type": "code",
   "execution_count": 12,
   "metadata": {},
   "outputs": [
    {
     "name": "stderr",
     "output_type": "stream",
     "text": [
      "C:\\Users\\pgaduel\\AppData\\Local\\Temp\\ipykernel_29480\\2717016390.py:6: FutureWarning:\n",
      "\n",
      "\n",
      "\n",
      "Passing `palette` without assigning `hue` is deprecated and will be removed in v0.14.0. Assign the `y` variable to `hue` and set `legend=False` for the same effect.\n",
      "\n",
      "\n"
     ]
    },
    {
     "data": {
      "image/png": "[encoded data removed]",
      "text/plain": [
       "<Figure size 1000x600 with 1 Axes>"
      ]
     },
     "metadata": {},
     "output_type": "display_data"
    }
   ],
   "source": [
    "# Count occurrences of each 'inter1' value\n",
    "actor_type1 = df[\"inter1\"].value_counts()\n",
    "\n",
    "# Create a bar plot\n",
    "plt.figure(figsize=(10, 6))\n",
    "sns.barplot(x=actor_type1.values, y=actor_type1.index, palette='coolwarm')\n",
    "\n",
    "# Add titles and labels\n",
    "plt.title('Actor Type 1 Counts', fontsize=16)\n",
    "plt.xlabel('Count', fontsize=12)\n",
    "plt.ylabel('Actor Type 1', fontsize=12)\n",
    "\n",
    "# Show the plot\n",
    "plt.tight_layout()\n",
    "plt.show()"
   ]
  },
  {
   "cell_type": "markdown",
   "metadata": {},
   "source": [
    "_The bar chart shows that state forces are the leading source of violent conflict in Sudan_."
   ]
  },
  {
   "cell_type": "code",
   "execution_count": 13,
   "metadata": {},
   "outputs": [
    {
     "data": {
      "application/vnd.plotly.v1+json": {
       "config": {
        "plotlyServerURL": "https://plot.ly"
       },
       "data": [
        {
         "domain": {
          "x": [
           0,
           0.45
          ],
          "y": [
           0,
           1
          ]
         },
         "hole": 0.6,
         "hoverinfo": "label+percent+name",
         "labels": [
          "State forces",
          "Identity militia",
          "Protesters",
          "Political militia",
          "Rebel group",
          "Rioters",
          "External/Other forces",
          "Civilians"
         ],
         "name": "Actor type1",
         "type": "pie",
         "values": [
          13484,
          6309,
          6218,
          4889,
          2715,
          941,
          360,
          141
         ]
        }
       ],
       "layout": {
        "annotations": [
         {
          "font": {
           "size": 20
          },
          "showarrow": false,
          "text": "<b>instigator",
          "x": 0.16,
          "y": 0.5
         },
         {
          "font": {
           "size": 20
          },
          "showarrow": false,
          "text": "<b>victim/hit back",
          "x": 0.88,
          "y": 0.5
         }
        ],
        "height": 600,
        "template": {
         "data": {
          "bar": [
           {
            "error_x": {
             "color": "#2a3f5f"
            },
            "error_y": {
             "color": "#2a3f5f"
            },
            "marker": {
             "line": {
              "color": "#E5ECF6",
              "width": 0.5
             },
             "pattern": {
              "fillmode": "overlay",
              "size": 10,
              "solidity": 0.2
             }
            },
            "type": "bar"
           }
          ],
          "barpolar": [
           {
            "marker": {
             "line": {
              "color": "#E5ECF6",
              "width": 0.5
             },
             "pattern": {
              "fillmode": "overlay",
              "size": 10,
              "solidity": 0.2
             }
            },
            "type": "barpolar"
           }
          ],
          "carpet": [
           {
            "aaxis": {
             "endlinecolor": "#2a3f5f",
             "gridcolor": "white",
             "linecolor": "white",
             "minorgridcolor": "white",
             "startlinecolor": "#2a3f5f"
            },
            "baxis": {
             "endlinecolor": "#2a3f5f",
             "gridcolor": "white",
             "linecolor": "white",
             "minorgridcolor": "white",
             "startlinecolor": "#2a3f5f"
            },
            "type": "carpet"
           }
          ],
          "choropleth": [
           {
            "colorbar": {
             "outlinewidth": 0,
             "ticks": ""
            },
            "type": "choropleth"
           }
          ],
          "contour": [
           {
            "colorbar": {
             "outlinewidth": 0,
             "ticks": ""
            },
            "colorscale": [
             [
              0,
              "#0d0887"
             ],
             [
              0.1111111111111111,
              "#46039f"
             ],
             [
              0.2222222222222222,
              "#7201a8"
             ],
             [
              0.3333333333333333,
              "#9c179e"
             ],
             [
              0.4444444444444444,
              "#bd3786"
             ],
             [
              0.5555555555555556,
              "#d8576b"
             ],
             [
              0.6666666666666666,
              "#ed7953"
             ],
             [
              0.7777777777777778,
              "#fb9f3a"
             ],
             [
              0.8888888888888888,
              "#fdca26"
             ],
             [
              1,
              "#f0f921"
             ]
            ],
            "type": "contour"
           }
          ],
          "contourcarpet": [
           {
            "colorbar": {
             "outlinewidth": 0,
             "ticks": ""
            },
            "type": "contourcarpet"
           }
          ],
          "heatmap": [
           {
            "colorbar": {
             "outlinewidth": 0,
             "ticks": ""
            },
            "colorscale": [
             [
              0,
              "#0d0887"
             ],
             [
              0.1111111111111111,
              "#46039f"
             ],
             [
              0.2222222222222222,
              "#7201a8"
             ],
             [
              0.3333333333333333,
              "#9c179e"
             ],
             [
              0.4444444444444444,
              "#bd3786"
             ],
             [
              0.5555555555555556,
              "#d8576b"
             ],
             [
              0.6666666666666666,
              "#ed7953"
             ],
             [
              0.7777777777777778,
              "#fb9f3a"
             ],
             [
              0.8888888888888888,
              "#fdca26"
             ],
             [
              1,
              "#f0f921"
             ]
            ],
            "type": "heatmap"
           }
          ],
          "heatmapgl": [
           {
            "colorbar": {
             "outlinewidth": 0,
             "ticks": ""
            },
            "colorscale": [
             [
              0,
              "#0d0887"
             ],
             [
              0.1111111111111111,
              "#46039f"
             ],
             [
              0.2222222222222222,
              "#7201a8"
             ],
             [
              0.3333333333333333,
              "#9c179e"
             ],
             [
              0.4444444444444444,
              "#bd3786"
             ],
             [
              0.5555555555555556,
              "#d8576b"
             ],
             [
              0.6666666666666666,
              "#ed7953"
             ],
             [
              0.7777777777777778,
              "#fb9f3a"
             ],
             [
              0.8888888888888888,
              "#fdca26"
             ],
             [
              1,
              "#f0f921"
             ]
            ],
            "type": "heatmapgl"
           }
          ],
          "histogram": [
           {
            "marker": {
             "pattern": {
              "fillmode": "overlay",
              "size": 10,
              "solidity": 0.2
             }
            },
            "type": "histogram"
           }
          ],
          "histogram2d": [
           {
            "colorbar": {
             "outlinewidth": 0,
             "ticks": ""
            },
            "colorscale": [
             [
              0,
              "#0d0887"
             ],
             [
              0.1111111111111111,
              "#46039f"
             ],
             [
              0.2222222222222222,
              "#7201a8"
             ],
             [
              0.3333333333333333,
              "#9c179e"
             ],
             [
              0.4444444444444444,
              "#bd3786"
             ],
             [
              0.5555555555555556,
              "#d8576b"
             ],
             [
              0.6666666666666666,
              "#ed7953"
             ],
             [
              0.7777777777777778,
              "#fb9f3a"
             ],
             [
              0.8888888888888888,
              "#fdca26"
             ],
             [
              1,
              "#f0f921"
             ]
            ],
            "type": "histogram2d"
           }
          ],
          "histogram2dcontour": [
           {
            "colorbar": {
             "outlinewidth": 0,
             "ticks": ""
            },
            "colorscale": [
             [
              0,
              "#0d0887"
             ],
             [
              0.1111111111111111,
              "#46039f"
             ],
             [
              0.2222222222222222,
              "#7201a8"
             ],
             [
              0.3333333333333333,
              "#9c179e"
             ],
             [
              0.4444444444444444,
              "#bd3786"
             ],
             [
              0.5555555555555556,
              "#d8576b"
             ],
             [
              0.6666666666666666,
              "#ed7953"
             ],
             [
              0.7777777777777778,
              "#fb9f3a"
             ],
             [
              0.8888888888888888,
              "#fdca26"
             ],
             [
              1,
              "#f0f921"
             ]
            ],
            "type": "histogram2dcontour"
           }
          ],
          "mesh3d": [
           {
            "colorbar": {
             "outlinewidth": 0,
             "ticks": ""
            },
            "type": "mesh3d"
           }
          ],
          "parcoords": [
           {
            "line": {
             "colorbar": {
              "outlinewidth": 0,
              "ticks": ""
             }
            },
            "type": "parcoords"
           }
          ],
          "pie": [
           {
            "automargin": true,
            "type": "pie"
           }
          ],
          "scatter": [
           {
            "fillpattern": {
             "fillmode": "overlay",
             "size": 10,
             "solidity": 0.2
            },
            "type": "scatter"
           }
          ],
          "scatter3d": [
           {
            "line": {
             "colorbar": {
              "outlinewidth": 0,
              "ticks": ""
             }
            },
            "marker": {
             "colorbar": {
              "outlinewidth": 0,
              "ticks": ""
             }
            },
            "type": "scatter3d"
           }
          ],
          "scattercarpet": [
           {
            "marker": {
             "colorbar": {
              "outlinewidth": 0,
              "ticks": ""
             }
            },
            "type": "scattercarpet"
           }
          ],
          "scattergeo": [
           {
            "marker": {
             "colorbar": {
              "outlinewidth": 0,
              "ticks": ""
             }
            },
            "type": "scattergeo"
           }
          ],
          "scattergl": [
           {
            "marker": {
             "colorbar": {
              "outlinewidth": 0,
              "ticks": ""
             }
            },
            "type": "scattergl"
           }
          ],
          "scattermapbox": [
           {
            "marker": {
             "colorbar": {
              "outlinewidth": 0,
              "ticks": ""
             }
            },
            "type": "scattermapbox"
           }
          ],
          "scatterpolar": [
           {
            "marker": {
             "colorbar": {
              "outlinewidth": 0,
              "ticks": ""
             }
            },
            "type": "scatterpolar"
           }
          ],
          "scatterpolargl": [
           {
            "marker": {
             "colorbar": {
              "outlinewidth": 0,
              "ticks": ""
             }
            },
            "type": "scatterpolargl"
           }
          ],
          "scatterternary": [
           {
            "marker": {
             "colorbar": {
              "outlinewidth": 0,
              "ticks": ""
             }
            },
            "type": "scatterternary"
           }
          ],
          "surface": [
           {
            "colorbar": {
             "outlinewidth": 0,
             "ticks": ""
            },
            "colorscale": [
             [
              0,
              "#0d0887"
             ],
             [
              0.1111111111111111,
              "#46039f"
             ],
             [
              0.2222222222222222,
              "#7201a8"
             ],
             [
              0.3333333333333333,
              "#9c179e"
             ],
             [
              0.4444444444444444,
              "#bd3786"
             ],
             [
              0.5555555555555556,
              "#d8576b"
             ],
             [
              0.6666666666666666,
              "#ed7953"
             ],
             [
              0.7777777777777778,
              "#fb9f3a"
             ],
             [
              0.8888888888888888,
              "#fdca26"
             ],
             [
              1,
              "#f0f921"
             ]
            ],
            "type": "surface"
           }
          ],
          "table": [
           {
            "cells": {
             "fill": {
              "color": "#EBF0F8"
             },
             "line": {
              "color": "white"
             }
            },
            "header": {
             "fill": {
              "color": "#C8D4E3"
             },
             "line": {
              "color": "white"
             }
            },
            "type": "table"
           }
          ]
         },
         "layout": {
          "annotationdefaults": {
           "arrowcolor": "#2a3f5f",
           "arrowhead": 0,
           "arrowwidth": 1
          },
          "autotypenumbers": "strict",
          "coloraxis": {
           "colorbar": {
            "outlinewidth": 0,
            "ticks": ""
           }
          },
          "colorscale": {
           "diverging": [
            [
             0,
             "#8e0152"
            ],
            [
             0.1,
             "#c51b7d"
            ],
            [
             0.2,
             "#de77ae"
            ],
            [
             0.3,
             "#f1b6da"
            ],
            [
             0.4,
             "#fde0ef"
            ],
            [
             0.5,
             "#f7f7f7"
            ],
            [
             0.6,
             "#e6f5d0"
            ],
            [
             0.7,
             "#b8e186"
            ],
            [
             0.8,
             "#7fbc41"
            ],
            [
             0.9,
             "#4d9221"
            ],
            [
             1,
             "#276419"
            ]
           ],
           "sequential": [
            [
             0,
             "#0d0887"
            ],
            [
             0.1111111111111111,
             "#46039f"
            ],
            [
             0.2222222222222222,
             "#7201a8"
            ],
            [
             0.3333333333333333,
             "#9c179e"
            ],
            [
             0.4444444444444444,
             "#bd3786"
            ],
            [
             0.5555555555555556,
             "#d8576b"
            ],
            [
             0.6666666666666666,
             "#ed7953"
            ],
            [
             0.7777777777777778,
             "#fb9f3a"
            ],
            [
             0.8888888888888888,
             "#fdca26"
            ],
            [
             1,
             "#f0f921"
            ]
           ],
           "sequentialminus": [
            [
             0,
             "#0d0887"
            ],
            [
             0.1111111111111111,
             "#46039f"
            ],
            [
             0.2222222222222222,
             "#7201a8"
            ],
            [
             0.3333333333333333,
             "#9c179e"
            ],
            [
             0.4444444444444444,
             "#bd3786"
            ],
            [
             0.5555555555555556,
             "#d8576b"
            ],
            [
             0.6666666666666666,
             "#ed7953"
            ],
            [
             0.7777777777777778,
             "#fb9f3a"
            ],
            [
             0.8888888888888888,
             "#fdca26"
            ],
            [
             1,
             "#f0f921"
            ]
           ]
          },
          "colorway": [
           "#636efa",
           "#EF553B",
           "#00cc96",
           "#ab63fa",
           "#FFA15A",
           "#19d3f3",
           "#FF6692",
           "#B6E880",
           "#FF97FF",
           "#FECB52"
          ],
          "font": {
           "color": "#2a3f5f"
          },
          "geo": {
           "bgcolor": "white",
           "lakecolor": "white",
           "landcolor": "#E5ECF6",
           "showlakes": true,
           "showland": true,
           "subunitcolor": "white"
          },
          "hoverlabel": {
           "align": "left"
          },
          "hovermode": "closest",
          "mapbox": {
           "style": "light"
          },
          "paper_bgcolor": "white",
          "plot_bgcolor": "#E5ECF6",
          "polar": {
           "angularaxis": {
            "gridcolor": "white",
            "linecolor": "white",
            "ticks": ""
           },
           "bgcolor": "#E5ECF6",
           "radialaxis": {
            "gridcolor": "white",
            "linecolor": "white",
            "ticks": ""
           }
          },
          "scene": {
           "xaxis": {
            "backgroundcolor": "#E5ECF6",
            "gridcolor": "white",
            "gridwidth": 2,
            "linecolor": "white",
            "showbackground": true,
            "ticks": "",
            "zerolinecolor": "white"
           },
           "yaxis": {
            "backgroundcolor": "#E5ECF6",
            "gridcolor": "white",
            "gridwidth": 2,
            "linecolor": "white",
            "showbackground": true,
            "ticks": "",
            "zerolinecolor": "white"
           },
           "zaxis": {
            "backgroundcolor": "#E5ECF6",
            "gridcolor": "white",
            "gridwidth": 2,
            "linecolor": "white",
            "showbackground": true,
            "ticks": "",
            "zerolinecolor": "white"
           }
          },
          "shapedefaults": {
           "line": {
            "color": "#2a3f5f"
           }
          },
          "ternary": {
           "aaxis": {
            "gridcolor": "white",
            "linecolor": "white",
            "ticks": ""
           },
           "baxis": {
            "gridcolor": "white",
            "linecolor": "white",
            "ticks": ""
           },
           "bgcolor": "#E5ECF6",
           "caxis": {
            "gridcolor": "white",
            "linecolor": "white",
            "ticks": ""
           }
          },
          "title": {
           "x": 0.05
          },
          "xaxis": {
           "automargin": true,
           "gridcolor": "white",
           "linecolor": "white",
           "ticks": "",
           "title": {
            "standoff": 15
           },
           "zerolinecolor": "white",
           "zerolinewidth": 2
          },
          "yaxis": {
           "automargin": true,
           "gridcolor": "white",
           "linecolor": "white",
           "ticks": "",
           "title": {
            "standoff": 15
           },
           "zerolinecolor": "white",
           "zerolinewidth": 2
          }
         }
        },
        "title": {
         "font": {
          "family": "San-Serif",
          "size": 20
         },
         "text": "<b> Actor type involved in Sudan conflict<b>"
        },
        "width": 1000
       }
      }
     },
     "metadata": {},
     "output_type": "display_data"
    }
   ],
   "source": [
    "# Create subplots\n",
    "fig = make_subplots(rows=1, cols=2, specs=[[{'type':'domain'}, {'type':'domain'}]])\n",
    "\n",
    "# Add pie charts to subplots\n",
    "fig.add_trace(go.Pie(labels=actor_type1.index, values=actor_type1, name=\"Actor type1\"), 1, 1)\n",
    "#fig.add_trace(go.Pie(labels=actor_type2.index, values=actor_type2, name=\"Actor type2\"), 1, 2)\n",
    "\n",
    "# Update traces to create donut-like pie charts\n",
    "fig.update_traces(hole=.6, hoverinfo=\"label+percent+name\")\n",
    "\n",
    "# Update layout with title and annotations\n",
    "fig.update_layout(\n",
    "    title=\"<b> Actor type involved in Sudan conflict<b>\",\n",
    "    titlefont={'color':None, 'size': 20, 'family': 'San-Serif'},\n",
    "    height=600,\n",
    "    width=1000,\n",
    "    annotations=[\n",
    "        dict(text='<b>instigator', x=0.16, y=0.5, font_size=20, showarrow=False),\n",
    "        dict(text='<b>victim/hit back', x=0.88, y=0.5, font_size=20, showarrow=False)\n",
    "    ]\n",
    ")\n",
    "\n",
    "# Show the plot\n",
    "fig.show()"
   ]
  },
  {
   "cell_type": "markdown",
   "metadata": {},
   "source": [
    "**Based on the visualization of the instigators (Actor type1) involved in the Sudan conflict, several insights can be drawn:**\n",
    "\n",
    "_The state forces are the main dominant actors in Sudan conflict responsible for most fatalities._\n",
    "\n",
    "\n",
    "_The civilians are least perpertartors_"
   ]
  },
  {
   "cell_type": "markdown",
   "metadata": {},
   "source": [
    "\n",
    "_What are the top 10 regions of Sudan with the higest count of fatalities?_"
   ]
  },
  {
   "cell_type": "code",
   "execution_count": 14,
   "metadata": {},
   "outputs": [
    {
     "name": "stderr",
     "output_type": "stream",
     "text": [
      "C:\\Users\\pgaduel\\AppData\\Local\\Temp\\ipykernel_29480\\1969468016.py:9: FutureWarning:\n",
      "\n",
      "\n",
      "\n",
      "Passing `palette` without assigning `hue` is deprecated and will be removed in v0.14.0. Assign the `y` variable to `hue` and set `legend=False` for the same effect.\n",
      "\n",
      "\n"
     ]
    },
    {
     "data": {
      "image/png": "[encoded data removed]",
      "text/plain": [
       "<Figure size 1000x600 with 1 Axes>"
      ]
     },
     "metadata": {},
     "output_type": "display_data"
    }
   ],
   "source": [
    "# Grouping by 'admin1', summing, and sorting by 'fatalities'\n",
    "df_grouped = df_selected.groupby('admin1').sum().sort_values(by='fatalities', ascending=False)\n",
    "\n",
    "# Selecting the top 10 rows\n",
    "top_10 = df_grouped.head(12).reset_index()\n",
    "\n",
    "# Create a horizontal bar plot\n",
    "plt.figure(figsize=(10, 6))\n",
    "sns.barplot(data=top_10, x='fatalities', y='admin1', palette='coolwarm')\n",
    "\n",
    "# Add titles and labels\n",
    "plt.title('Top 10 Regions by Fatalities', fontsize=14)\n",
    "plt.xlabel('Fatalities', fontsize=10)\n",
    "plt.ylabel('Region (admin1)', fontsize=12)\n",
    "\n",
    "# Show the plot\n",
    "plt.tight_layout()\n",
    "plt.show()"
   ]
  },
  {
   "cell_type": "markdown",
   "metadata": {},
   "source": [
    "_According to the bar chart, North Darfur, and Upper Nile region has the higest count of fatalities in Sudan_"
   ]
  },
  {
   "cell_type": "markdown",
   "metadata": {},
   "source": [
    " Which particular period did Sudan recored the higest number of fatalities?"
   ]
  },
  {
   "cell_type": "code",
   "execution_count": 15,
   "metadata": {},
   "outputs": [
    {
     "data": {
      "image/png": "[encoded data removed]",
      "text/plain": [
       "<Figure size 1500x800 with 1 Axes>"
      ]
     },
     "metadata": {},
     "output_type": "display_data"
    }
   ],
   "source": [
    "# Aggregate fatalities by year\n",
    "fatalities_by_year = df_selected.groupby('year')['fatalities'].sum().reset_index()\n",
    "# Create the plot using seaborn (Alternative, often preferred for aesthetics)\n",
    "plt.figure(figsize=(15, 8))\n",
    "sns.lineplot(x='year', y='fatalities', data=fatalities_by_year, marker='o') #using seaborn lineplot\n",
    "plt.title('Total Fatalities by Year in Sudan', fontsize=16)\n",
    "plt.xlabel('Year', fontsize=14)\n",
    "plt.ylabel('Total Fatalities', fontsize=14)\n",
    "plt.xticks(fatalities_by_year['year']) #Set x ticks to be the years\n",
    "plt.grid(True)\n",
    "plt.tight_layout()\n",
    "plt.show()"
   ]
  },
  {
   "cell_type": "markdown",
   "metadata": {},
   "source": [
    "## Data Processing Feature engineering ##"
   ]
  },
  {
   "cell_type": "code",
   "execution_count": 16,
   "metadata": {},
   "outputs": [],
   "source": [
    "from sklearn.feature_selection import (VarianceThreshold, SelectKBest, f_regression, mutual_info_regression, \n",
    "    RFE, RFECV)\n",
    "from sklearn.preprocessing import OneHotEncoder, StandardScaler, PolynomialFeatures\n"
   ]
  },
  {
   "cell_type": "markdown",
   "metadata": {},
   "source": [
    "Hotencoding of categorical values in the dataset"
   ]
  },
  {
   "cell_type": "code",
   "execution_count": 17,
   "metadata": {},
   "outputs": [
    {
     "data": {
      "text/html": [
       "<div>\n",
       "<style scoped>\n",
       "    .dataframe tbody tr th:only-of-type {\n",
       "        vertical-align: middle;\n",
       "    }\n",
       "\n",
       "    .dataframe tbody tr th {\n",
       "        vertical-align: top;\n",
       "    }\n",
       "\n",
       "    .dataframe thead th {\n",
       "        text-align: right;\n",
       "    }\n",
       "</style>\n",
       "<table border=\"1\" class=\"dataframe\">\n",
       "  <thead>\n",
       "    <tr style=\"text-align: right;\">\n",
       "      <th></th>\n",
       "      <th>year</th>\n",
       "      <th>fatalities</th>\n",
       "      <th>geo_precision</th>\n",
       "      <th>disorder_type_Demonstrations</th>\n",
       "      <th>disorder_type_Political violence</th>\n",
       "      <th>disorder_type_Political violence; Demonstrations</th>\n",
       "      <th>disorder_type_Strategic developments</th>\n",
       "      <th>event_type_Battles</th>\n",
       "      <th>event_type_Explosions/Remote violence</th>\n",
       "      <th>event_type_Protests</th>\n",
       "      <th>...</th>\n",
       "      <th>source_scale_Other-National</th>\n",
       "      <th>source_scale_Other-New media</th>\n",
       "      <th>source_scale_Other-Regional</th>\n",
       "      <th>source_scale_Other-Subnational</th>\n",
       "      <th>source_scale_Regional</th>\n",
       "      <th>source_scale_Regional-International</th>\n",
       "      <th>source_scale_Subnational</th>\n",
       "      <th>source_scale_Subnational-International</th>\n",
       "      <th>source_scale_Subnational-National</th>\n",
       "      <th>source_scale_Subnational-Regional</th>\n",
       "    </tr>\n",
       "  </thead>\n",
       "  <tbody>\n",
       "    <tr>\n",
       "      <th>0</th>\n",
       "      <td>2024</td>\n",
       "      <td>0</td>\n",
       "      <td>1</td>\n",
       "      <td>0</td>\n",
       "      <td>1</td>\n",
       "      <td>0</td>\n",
       "      <td>0</td>\n",
       "      <td>1</td>\n",
       "      <td>0</td>\n",
       "      <td>0</td>\n",
       "      <td>...</td>\n",
       "      <td>0</td>\n",
       "      <td>0</td>\n",
       "      <td>0</td>\n",
       "      <td>0</td>\n",
       "      <td>0</td>\n",
       "      <td>0</td>\n",
       "      <td>0</td>\n",
       "      <td>0</td>\n",
       "      <td>0</td>\n",
       "      <td>0</td>\n",
       "    </tr>\n",
       "    <tr>\n",
       "      <th>1</th>\n",
       "      <td>2024</td>\n",
       "      <td>1</td>\n",
       "      <td>1</td>\n",
       "      <td>0</td>\n",
       "      <td>0</td>\n",
       "      <td>1</td>\n",
       "      <td>0</td>\n",
       "      <td>0</td>\n",
       "      <td>0</td>\n",
       "      <td>1</td>\n",
       "      <td>...</td>\n",
       "      <td>0</td>\n",
       "      <td>0</td>\n",
       "      <td>0</td>\n",
       "      <td>0</td>\n",
       "      <td>0</td>\n",
       "      <td>0</td>\n",
       "      <td>0</td>\n",
       "      <td>0</td>\n",
       "      <td>0</td>\n",
       "      <td>0</td>\n",
       "    </tr>\n",
       "    <tr>\n",
       "      <th>2</th>\n",
       "      <td>2024</td>\n",
       "      <td>5</td>\n",
       "      <td>1</td>\n",
       "      <td>0</td>\n",
       "      <td>1</td>\n",
       "      <td>0</td>\n",
       "      <td>0</td>\n",
       "      <td>0</td>\n",
       "      <td>1</td>\n",
       "      <td>0</td>\n",
       "      <td>...</td>\n",
       "      <td>0</td>\n",
       "      <td>0</td>\n",
       "      <td>0</td>\n",
       "      <td>0</td>\n",
       "      <td>0</td>\n",
       "      <td>0</td>\n",
       "      <td>0</td>\n",
       "      <td>0</td>\n",
       "      <td>0</td>\n",
       "      <td>0</td>\n",
       "    </tr>\n",
       "    <tr>\n",
       "      <th>3</th>\n",
       "      <td>2024</td>\n",
       "      <td>0</td>\n",
       "      <td>1</td>\n",
       "      <td>1</td>\n",
       "      <td>0</td>\n",
       "      <td>0</td>\n",
       "      <td>0</td>\n",
       "      <td>0</td>\n",
       "      <td>0</td>\n",
       "      <td>1</td>\n",
       "      <td>...</td>\n",
       "      <td>0</td>\n",
       "      <td>0</td>\n",
       "      <td>0</td>\n",
       "      <td>0</td>\n",
       "      <td>0</td>\n",
       "      <td>0</td>\n",
       "      <td>1</td>\n",
       "      <td>0</td>\n",
       "      <td>0</td>\n",
       "      <td>0</td>\n",
       "    </tr>\n",
       "    <tr>\n",
       "      <th>4</th>\n",
       "      <td>2024</td>\n",
       "      <td>0</td>\n",
       "      <td>1</td>\n",
       "      <td>0</td>\n",
       "      <td>0</td>\n",
       "      <td>0</td>\n",
       "      <td>1</td>\n",
       "      <td>0</td>\n",
       "      <td>0</td>\n",
       "      <td>0</td>\n",
       "      <td>...</td>\n",
       "      <td>0</td>\n",
       "      <td>0</td>\n",
       "      <td>0</td>\n",
       "      <td>0</td>\n",
       "      <td>0</td>\n",
       "      <td>0</td>\n",
       "      <td>0</td>\n",
       "      <td>0</td>\n",
       "      <td>0</td>\n",
       "      <td>0</td>\n",
       "    </tr>\n",
       "    <tr>\n",
       "      <th>5</th>\n",
       "      <td>2024</td>\n",
       "      <td>8</td>\n",
       "      <td>1</td>\n",
       "      <td>0</td>\n",
       "      <td>1</td>\n",
       "      <td>0</td>\n",
       "      <td>0</td>\n",
       "      <td>0</td>\n",
       "      <td>1</td>\n",
       "      <td>0</td>\n",
       "      <td>...</td>\n",
       "      <td>0</td>\n",
       "      <td>0</td>\n",
       "      <td>0</td>\n",
       "      <td>0</td>\n",
       "      <td>0</td>\n",
       "      <td>0</td>\n",
       "      <td>0</td>\n",
       "      <td>0</td>\n",
       "      <td>0</td>\n",
       "      <td>0</td>\n",
       "    </tr>\n",
       "    <tr>\n",
       "      <th>6</th>\n",
       "      <td>2024</td>\n",
       "      <td>0</td>\n",
       "      <td>2</td>\n",
       "      <td>0</td>\n",
       "      <td>0</td>\n",
       "      <td>0</td>\n",
       "      <td>1</td>\n",
       "      <td>0</td>\n",
       "      <td>0</td>\n",
       "      <td>0</td>\n",
       "      <td>...</td>\n",
       "      <td>0</td>\n",
       "      <td>0</td>\n",
       "      <td>0</td>\n",
       "      <td>0</td>\n",
       "      <td>0</td>\n",
       "      <td>0</td>\n",
       "      <td>0</td>\n",
       "      <td>0</td>\n",
       "      <td>0</td>\n",
       "      <td>0</td>\n",
       "    </tr>\n",
       "    <tr>\n",
       "      <th>7</th>\n",
       "      <td>2024</td>\n",
       "      <td>10</td>\n",
       "      <td>1</td>\n",
       "      <td>0</td>\n",
       "      <td>1</td>\n",
       "      <td>0</td>\n",
       "      <td>0</td>\n",
       "      <td>0</td>\n",
       "      <td>1</td>\n",
       "      <td>0</td>\n",
       "      <td>...</td>\n",
       "      <td>0</td>\n",
       "      <td>0</td>\n",
       "      <td>0</td>\n",
       "      <td>0</td>\n",
       "      <td>0</td>\n",
       "      <td>0</td>\n",
       "      <td>0</td>\n",
       "      <td>0</td>\n",
       "      <td>0</td>\n",
       "      <td>0</td>\n",
       "    </tr>\n",
       "    <tr>\n",
       "      <th>8</th>\n",
       "      <td>2024</td>\n",
       "      <td>1</td>\n",
       "      <td>3</td>\n",
       "      <td>0</td>\n",
       "      <td>1</td>\n",
       "      <td>0</td>\n",
       "      <td>0</td>\n",
       "      <td>0</td>\n",
       "      <td>0</td>\n",
       "      <td>0</td>\n",
       "      <td>...</td>\n",
       "      <td>0</td>\n",
       "      <td>0</td>\n",
       "      <td>0</td>\n",
       "      <td>0</td>\n",
       "      <td>0</td>\n",
       "      <td>0</td>\n",
       "      <td>0</td>\n",
       "      <td>0</td>\n",
       "      <td>0</td>\n",
       "      <td>0</td>\n",
       "    </tr>\n",
       "    <tr>\n",
       "      <th>9</th>\n",
       "      <td>2024</td>\n",
       "      <td>0</td>\n",
       "      <td>2</td>\n",
       "      <td>0</td>\n",
       "      <td>1</td>\n",
       "      <td>0</td>\n",
       "      <td>0</td>\n",
       "      <td>1</td>\n",
       "      <td>0</td>\n",
       "      <td>0</td>\n",
       "      <td>...</td>\n",
       "      <td>0</td>\n",
       "      <td>0</td>\n",
       "      <td>0</td>\n",
       "      <td>0</td>\n",
       "      <td>0</td>\n",
       "      <td>0</td>\n",
       "      <td>0</td>\n",
       "      <td>0</td>\n",
       "      <td>0</td>\n",
       "      <td>0</td>\n",
       "    </tr>\n",
       "  </tbody>\n",
       "</table>\n",
       "<p>10 rows × 4959 columns</p>\n",
       "</div>"
      ],
      "text/plain": [
       "   year  fatalities  geo_precision  disorder_type_Demonstrations  \\\n",
       "0  2024           0              1                             0   \n",
       "1  2024           1              1                             0   \n",
       "2  2024           5              1                             0   \n",
       "3  2024           0              1                             1   \n",
       "4  2024           0              1                             0   \n",
       "5  2024           8              1                             0   \n",
       "6  2024           0              2                             0   \n",
       "7  2024          10              1                             0   \n",
       "8  2024           1              3                             0   \n",
       "9  2024           0              2                             0   \n",
       "\n",
       "   disorder_type_Political violence  \\\n",
       "0                                 1   \n",
       "1                                 0   \n",
       "2                                 1   \n",
       "3                                 0   \n",
       "4                                 0   \n",
       "5                                 1   \n",
       "6                                 0   \n",
       "7                                 1   \n",
       "8                                 1   \n",
       "9                                 1   \n",
       "\n",
       "   disorder_type_Political violence; Demonstrations  \\\n",
       "0                                                 0   \n",
       "1                                                 1   \n",
       "2                                                 0   \n",
       "3                                                 0   \n",
       "4                                                 0   \n",
       "5                                                 0   \n",
       "6                                                 0   \n",
       "7                                                 0   \n",
       "8                                                 0   \n",
       "9                                                 0   \n",
       "\n",
       "   disorder_type_Strategic developments  event_type_Battles  \\\n",
       "0                                     0                   1   \n",
       "1                                     0                   0   \n",
       "2                                     0                   0   \n",
       "3                                     0                   0   \n",
       "4                                     1                   0   \n",
       "5                                     0                   0   \n",
       "6                                     1                   0   \n",
       "7                                     0                   0   \n",
       "8                                     0                   0   \n",
       "9                                     0                   1   \n",
       "\n",
       "   event_type_Explosions/Remote violence  event_type_Protests  ...  \\\n",
       "0                                      0                    0  ...   \n",
       "1                                      0                    1  ...   \n",
       "2                                      1                    0  ...   \n",
       "3                                      0                    1  ...   \n",
       "4                                      0                    0  ...   \n",
       "5                                      1                    0  ...   \n",
       "6                                      0                    0  ...   \n",
       "7                                      1                    0  ...   \n",
       "8                                      0                    0  ...   \n",
       "9                                      0                    0  ...   \n",
       "\n",
       "   source_scale_Other-National  source_scale_Other-New media  \\\n",
       "0                            0                             0   \n",
       "1                            0                             0   \n",
       "2                            0                             0   \n",
       "3                            0                             0   \n",
       "4                            0                             0   \n",
       "5                            0                             0   \n",
       "6                            0                             0   \n",
       "7                            0                             0   \n",
       "8                            0                             0   \n",
       "9                            0                             0   \n",
       "\n",
       "   source_scale_Other-Regional  source_scale_Other-Subnational  \\\n",
       "0                            0                               0   \n",
       "1                            0                               0   \n",
       "2                            0                               0   \n",
       "3                            0                               0   \n",
       "4                            0                               0   \n",
       "5                            0                               0   \n",
       "6                            0                               0   \n",
       "7                            0                               0   \n",
       "8                            0                               0   \n",
       "9                            0                               0   \n",
       "\n",
       "   source_scale_Regional  source_scale_Regional-International  \\\n",
       "0                      0                                    0   \n",
       "1                      0                                    0   \n",
       "2                      0                                    0   \n",
       "3                      0                                    0   \n",
       "4                      0                                    0   \n",
       "5                      0                                    0   \n",
       "6                      0                                    0   \n",
       "7                      0                                    0   \n",
       "8                      0                                    0   \n",
       "9                      0                                    0   \n",
       "\n",
       "   source_scale_Subnational  source_scale_Subnational-International  \\\n",
       "0                         0                                       0   \n",
       "1                         0                                       0   \n",
       "2                         0                                       0   \n",
       "3                         1                                       0   \n",
       "4                         0                                       0   \n",
       "5                         0                                       0   \n",
       "6                         0                                       0   \n",
       "7                         0                                       0   \n",
       "8                         0                                       0   \n",
       "9                         0                                       0   \n",
       "\n",
       "   source_scale_Subnational-National  source_scale_Subnational-Regional  \n",
       "0                                  0                                  0  \n",
       "1                                  0                                  0  \n",
       "2                                  0                                  0  \n",
       "3                                  0                                  0  \n",
       "4                                  0                                  0  \n",
       "5                                  0                                  0  \n",
       "6                                  0                                  0  \n",
       "7                                  0                                  0  \n",
       "8                                  0                                  0  \n",
       "9                                  0                                  0  \n",
       "\n",
       "[10 rows x 4959 columns]"
      ]
     },
     "execution_count": 17,
     "metadata": {},
     "output_type": "execute_result"
    }
   ],
   "source": [
    "df_encoded = pd.get_dummies(df_selected, dtype=int)\n",
    "df_encoded.head(10)"
   ]
  },
  {
   "cell_type": "markdown",
   "metadata": {},
   "source": [
    "Feature selection with filter method to remove redundant variables "
   ]
  },
  {
   "cell_type": "code",
   "execution_count": 18,
   "metadata": {},
   "outputs": [
    {
     "name": "stdout",
     "output_type": "stream",
     "text": [
      "       year  fatalities  disorder_type_Demonstrations  \\\n",
      "0      2024           0                             0   \n",
      "1      2024           1                             0   \n",
      "2      2024           5                             0   \n",
      "3      2024           0                             1   \n",
      "4      2024           0                             0   \n",
      "...     ...         ...                           ...   \n",
      "35052  1997           0                             1   \n",
      "35053  1997           0                             0   \n",
      "35054  1997           7                             0   \n",
      "35055  1997           0                             0   \n",
      "35056  1997           0                             0   \n",
      "\n",
      "       disorder_type_Political violence  \\\n",
      "0                                     1   \n",
      "1                                     0   \n",
      "2                                     1   \n",
      "3                                     0   \n",
      "4                                     0   \n",
      "...                                 ...   \n",
      "35052                                 0   \n",
      "35053                                 0   \n",
      "35054                                 1   \n",
      "35055                                 1   \n",
      "35056                                 1   \n",
      "\n",
      "       disorder_type_Political violence; Demonstrations  \\\n",
      "0                                                     0   \n",
      "1                                                     1   \n",
      "2                                                     0   \n",
      "3                                                     0   \n",
      "4                                                     0   \n",
      "...                                                 ...   \n",
      "35052                                                 0   \n",
      "35053                                                 1   \n",
      "35054                                                 0   \n",
      "35055                                                 0   \n",
      "35056                                                 0   \n",
      "\n",
      "       disorder_type_Strategic developments  event_type_Battles  \\\n",
      "0                                         0                   1   \n",
      "1                                         0                   0   \n",
      "2                                         0                   0   \n",
      "3                                         0                   0   \n",
      "4                                         1                   0   \n",
      "...                                     ...                 ...   \n",
      "35052                                     0                   0   \n",
      "35053                                     0                   0   \n",
      "35054                                     0                   0   \n",
      "35055                                     0                   1   \n",
      "35056                                     0                   1   \n",
      "\n",
      "       event_type_Explosions/Remote violence  event_type_Protests  \n",
      "0                                          0                    0  \n",
      "1                                          0                    1  \n",
      "2                                          1                    0  \n",
      "3                                          0                    1  \n",
      "4                                          0                    0  \n",
      "...                                      ...                  ...  \n",
      "35052                                      0                    1  \n",
      "35053                                      0                    1  \n",
      "35054                                      0                    0  \n",
      "35055                                      0                    0  \n",
      "35056                                      0                    0  \n",
      "\n",
      "[35057 rows x 9 columns]\n",
      "\n",
      "Copy of selected dataframe:\n"
     ]
    },
    {
     "data": {
      "text/html": [
       "<div>\n",
       "<style scoped>\n",
       "    .dataframe tbody tr th:only-of-type {\n",
       "        vertical-align: middle;\n",
       "    }\n",
       "\n",
       "    .dataframe tbody tr th {\n",
       "        vertical-align: top;\n",
       "    }\n",
       "\n",
       "    .dataframe thead th {\n",
       "        text-align: right;\n",
       "    }\n",
       "</style>\n",
       "<table border=\"1\" class=\"dataframe\">\n",
       "  <thead>\n",
       "    <tr style=\"text-align: right;\">\n",
       "      <th></th>\n",
       "      <th>year</th>\n",
       "      <th>fatalities</th>\n",
       "      <th>disorder_type_Demonstrations</th>\n",
       "      <th>disorder_type_Political violence</th>\n",
       "      <th>disorder_type_Political violence; Demonstrations</th>\n",
       "      <th>disorder_type_Strategic developments</th>\n",
       "      <th>event_type_Battles</th>\n",
       "      <th>event_type_Explosions/Remote violence</th>\n",
       "      <th>event_type_Protests</th>\n",
       "    </tr>\n",
       "  </thead>\n",
       "  <tbody>\n",
       "    <tr>\n",
       "      <th>0</th>\n",
       "      <td>2024</td>\n",
       "      <td>0</td>\n",
       "      <td>0</td>\n",
       "      <td>1</td>\n",
       "      <td>0</td>\n",
       "      <td>0</td>\n",
       "      <td>1</td>\n",
       "      <td>0</td>\n",
       "      <td>0</td>\n",
       "    </tr>\n",
       "    <tr>\n",
       "      <th>1</th>\n",
       "      <td>2024</td>\n",
       "      <td>1</td>\n",
       "      <td>0</td>\n",
       "      <td>0</td>\n",
       "      <td>1</td>\n",
       "      <td>0</td>\n",
       "      <td>0</td>\n",
       "      <td>0</td>\n",
       "      <td>1</td>\n",
       "    </tr>\n",
       "    <tr>\n",
       "      <th>2</th>\n",
       "      <td>2024</td>\n",
       "      <td>5</td>\n",
       "      <td>0</td>\n",
       "      <td>1</td>\n",
       "      <td>0</td>\n",
       "      <td>0</td>\n",
       "      <td>0</td>\n",
       "      <td>1</td>\n",
       "      <td>0</td>\n",
       "    </tr>\n",
       "    <tr>\n",
       "      <th>3</th>\n",
       "      <td>2024</td>\n",
       "      <td>0</td>\n",
       "      <td>1</td>\n",
       "      <td>0</td>\n",
       "      <td>0</td>\n",
       "      <td>0</td>\n",
       "      <td>0</td>\n",
       "      <td>0</td>\n",
       "      <td>1</td>\n",
       "    </tr>\n",
       "    <tr>\n",
       "      <th>4</th>\n",
       "      <td>2024</td>\n",
       "      <td>0</td>\n",
       "      <td>0</td>\n",
       "      <td>0</td>\n",
       "      <td>0</td>\n",
       "      <td>1</td>\n",
       "      <td>0</td>\n",
       "      <td>0</td>\n",
       "      <td>0</td>\n",
       "    </tr>\n",
       "    <tr>\n",
       "      <th>5</th>\n",
       "      <td>2024</td>\n",
       "      <td>8</td>\n",
       "      <td>0</td>\n",
       "      <td>1</td>\n",
       "      <td>0</td>\n",
       "      <td>0</td>\n",
       "      <td>0</td>\n",
       "      <td>1</td>\n",
       "      <td>0</td>\n",
       "    </tr>\n",
       "    <tr>\n",
       "      <th>6</th>\n",
       "      <td>2024</td>\n",
       "      <td>0</td>\n",
       "      <td>0</td>\n",
       "      <td>0</td>\n",
       "      <td>0</td>\n",
       "      <td>1</td>\n",
       "      <td>0</td>\n",
       "      <td>0</td>\n",
       "      <td>0</td>\n",
       "    </tr>\n",
       "    <tr>\n",
       "      <th>7</th>\n",
       "      <td>2024</td>\n",
       "      <td>10</td>\n",
       "      <td>0</td>\n",
       "      <td>1</td>\n",
       "      <td>0</td>\n",
       "      <td>0</td>\n",
       "      <td>0</td>\n",
       "      <td>1</td>\n",
       "      <td>0</td>\n",
       "    </tr>\n",
       "    <tr>\n",
       "      <th>8</th>\n",
       "      <td>2024</td>\n",
       "      <td>1</td>\n",
       "      <td>0</td>\n",
       "      <td>1</td>\n",
       "      <td>0</td>\n",
       "      <td>0</td>\n",
       "      <td>0</td>\n",
       "      <td>0</td>\n",
       "      <td>0</td>\n",
       "    </tr>\n",
       "    <tr>\n",
       "      <th>9</th>\n",
       "      <td>2024</td>\n",
       "      <td>0</td>\n",
       "      <td>0</td>\n",
       "      <td>1</td>\n",
       "      <td>0</td>\n",
       "      <td>0</td>\n",
       "      <td>1</td>\n",
       "      <td>0</td>\n",
       "      <td>0</td>\n",
       "    </tr>\n",
       "  </tbody>\n",
       "</table>\n",
       "</div>"
      ],
      "text/plain": [
       "   year  fatalities  disorder_type_Demonstrations  \\\n",
       "0  2024           0                             0   \n",
       "1  2024           1                             0   \n",
       "2  2024           5                             0   \n",
       "3  2024           0                             1   \n",
       "4  2024           0                             0   \n",
       "5  2024           8                             0   \n",
       "6  2024           0                             0   \n",
       "7  2024          10                             0   \n",
       "8  2024           1                             0   \n",
       "9  2024           0                             0   \n",
       "\n",
       "   disorder_type_Political violence  \\\n",
       "0                                 1   \n",
       "1                                 0   \n",
       "2                                 1   \n",
       "3                                 0   \n",
       "4                                 0   \n",
       "5                                 1   \n",
       "6                                 0   \n",
       "7                                 1   \n",
       "8                                 1   \n",
       "9                                 1   \n",
       "\n",
       "   disorder_type_Political violence; Demonstrations  \\\n",
       "0                                                 0   \n",
       "1                                                 1   \n",
       "2                                                 0   \n",
       "3                                                 0   \n",
       "4                                                 0   \n",
       "5                                                 0   \n",
       "6                                                 0   \n",
       "7                                                 0   \n",
       "8                                                 0   \n",
       "9                                                 0   \n",
       "\n",
       "   disorder_type_Strategic developments  event_type_Battles  \\\n",
       "0                                     0                   1   \n",
       "1                                     0                   0   \n",
       "2                                     0                   0   \n",
       "3                                     0                   0   \n",
       "4                                     1                   0   \n",
       "5                                     0                   0   \n",
       "6                                     1                   0   \n",
       "7                                     0                   0   \n",
       "8                                     0                   0   \n",
       "9                                     0                   1   \n",
       "\n",
       "   event_type_Explosions/Remote violence  event_type_Protests  \n",
       "0                                      0                    0  \n",
       "1                                      0                    1  \n",
       "2                                      1                    0  \n",
       "3                                      0                    1  \n",
       "4                                      0                    0  \n",
       "5                                      1                    0  \n",
       "6                                      0                    0  \n",
       "7                                      1                    0  \n",
       "8                                      0                    0  \n",
       "9                                      0                    0  "
      ]
     },
     "execution_count": 18,
     "metadata": {},
     "output_type": "execute_result"
    }
   ],
   "source": [
    "df_encoded = pd.DataFrame(df_encoded)\n",
    "\n",
    "# Define the list of columns to keep\n",
    "selected_columns = [\n",
    "    'year',\n",
    "    'fatalities',\n",
    "    'disorder_type_Demonstrations',\n",
    "    'disorder_type_Political violence',\n",
    "    'disorder_type_Political violence; Demonstrations',\n",
    "    'disorder_type_Strategic developments',\n",
    "    'event_type_Battles',\n",
    "    'event_type_Explosions/Remote violence',\n",
    "    'event_type_Protests'\n",
    "]\n",
    "\n",
    "# Create a new DataFrame with only the selected columns\n",
    "selected_df = df_encoded[selected_columns]\n",
    "\n",
    "print(selected_df)\n",
    "\n",
    "#If you want to create a copy to ensure you are not modifying the original:\n",
    "selected_df_copy = df_encoded[selected_columns].copy()\n",
    "print(\"\\nCopy of selected dataframe:\")\n",
    "selected_df_copy.head(10)"
   ]
  },
  {
   "cell_type": "code",
   "execution_count": 19,
   "metadata": {},
   "outputs": [
    {
     "data": {
      "text/plain": [
       "Index(['year', 'fatalities', 'disorder_type_Demonstrations',\n",
       "       'disorder_type_Political violence',\n",
       "       'disorder_type_Political violence; Demonstrations',\n",
       "       'disorder_type_Strategic developments', 'event_type_Battles',\n",
       "       'event_type_Explosions/Remote violence', 'event_type_Protests'],\n",
       "      dtype='object')"
      ]
     },
     "execution_count": 19,
     "metadata": {},
     "output_type": "execute_result"
    }
   ],
   "source": [
    "selected_df_copy.columns"
   ]
  },
  {
   "cell_type": "markdown",
   "metadata": {},
   "source": [
    "df_encoded group by Year and counts"
   ]
  },
  {
   "cell_type": "code",
   "execution_count": 20,
   "metadata": {},
   "outputs": [
    {
     "data": {
      "text/html": [
       "<div>\n",
       "<style scoped>\n",
       "    .dataframe tbody tr th:only-of-type {\n",
       "        vertical-align: middle;\n",
       "    }\n",
       "\n",
       "    .dataframe tbody tr th {\n",
       "        vertical-align: top;\n",
       "    }\n",
       "\n",
       "    .dataframe thead tr th {\n",
       "        text-align: left;\n",
       "    }\n",
       "\n",
       "    .dataframe thead tr:last-of-type th {\n",
       "        text-align: right;\n",
       "    }\n",
       "</style>\n",
       "<table border=\"1\" class=\"dataframe\">\n",
       "  <thead>\n",
       "    <tr>\n",
       "      <th></th>\n",
       "      <th colspan=\"2\" halign=\"left\">fatalities</th>\n",
       "      <th colspan=\"2\" halign=\"left\">disorder_type_Demonstrations</th>\n",
       "      <th colspan=\"2\" halign=\"left\">disorder_type_Political violence</th>\n",
       "      <th colspan=\"2\" halign=\"left\">disorder_type_Political violence; Demonstrations</th>\n",
       "      <th colspan=\"2\" halign=\"left\">disorder_type_Strategic developments</th>\n",
       "      <th colspan=\"2\" halign=\"left\">event_type_Battles</th>\n",
       "      <th colspan=\"2\" halign=\"left\">event_type_Explosions/Remote violence</th>\n",
       "      <th colspan=\"2\" halign=\"left\">event_type_Protests</th>\n",
       "    </tr>\n",
       "    <tr>\n",
       "      <th></th>\n",
       "      <th>mean</th>\n",
       "      <th>count</th>\n",
       "      <th>mean</th>\n",
       "      <th>count</th>\n",
       "      <th>mean</th>\n",
       "      <th>count</th>\n",
       "      <th>mean</th>\n",
       "      <th>count</th>\n",
       "      <th>mean</th>\n",
       "      <th>count</th>\n",
       "      <th>mean</th>\n",
       "      <th>count</th>\n",
       "      <th>mean</th>\n",
       "      <th>count</th>\n",
       "      <th>mean</th>\n",
       "      <th>count</th>\n",
       "    </tr>\n",
       "    <tr>\n",
       "      <th>year</th>\n",
       "      <th></th>\n",
       "      <th></th>\n",
       "      <th></th>\n",
       "      <th></th>\n",
       "      <th></th>\n",
       "      <th></th>\n",
       "      <th></th>\n",
       "      <th></th>\n",
       "      <th></th>\n",
       "      <th></th>\n",
       "      <th></th>\n",
       "      <th></th>\n",
       "      <th></th>\n",
       "      <th></th>\n",
       "      <th></th>\n",
       "      <th></th>\n",
       "    </tr>\n",
       "  </thead>\n",
       "  <tbody>\n",
       "    <tr>\n",
       "      <th>1997</th>\n",
       "      <td>17.073059</td>\n",
       "      <td>219</td>\n",
       "      <td>0.077626</td>\n",
       "      <td>219</td>\n",
       "      <td>0.872146</td>\n",
       "      <td>219</td>\n",
       "      <td>0.009132</td>\n",
       "      <td>219</td>\n",
       "      <td>0.041096</td>\n",
       "      <td>219</td>\n",
       "      <td>0.712329</td>\n",
       "      <td>219</td>\n",
       "      <td>0.086758</td>\n",
       "      <td>219</td>\n",
       "      <td>0.073059</td>\n",
       "      <td>219</td>\n",
       "    </tr>\n",
       "    <tr>\n",
       "      <th>1998</th>\n",
       "      <td>15.784000</td>\n",
       "      <td>250</td>\n",
       "      <td>0.048000</td>\n",
       "      <td>250</td>\n",
       "      <td>0.928000</td>\n",
       "      <td>250</td>\n",
       "      <td>0.000000</td>\n",
       "      <td>250</td>\n",
       "      <td>0.024000</td>\n",
       "      <td>250</td>\n",
       "      <td>0.740000</td>\n",
       "      <td>250</td>\n",
       "      <td>0.108000</td>\n",
       "      <td>250</td>\n",
       "      <td>0.024000</td>\n",
       "      <td>250</td>\n",
       "    </tr>\n",
       "    <tr>\n",
       "      <th>1999</th>\n",
       "      <td>13.641509</td>\n",
       "      <td>212</td>\n",
       "      <td>0.080189</td>\n",
       "      <td>212</td>\n",
       "      <td>0.896226</td>\n",
       "      <td>212</td>\n",
       "      <td>0.000000</td>\n",
       "      <td>212</td>\n",
       "      <td>0.023585</td>\n",
       "      <td>212</td>\n",
       "      <td>0.566038</td>\n",
       "      <td>212</td>\n",
       "      <td>0.193396</td>\n",
       "      <td>212</td>\n",
       "      <td>0.056604</td>\n",
       "      <td>212</td>\n",
       "    </tr>\n",
       "    <tr>\n",
       "      <th>2000</th>\n",
       "      <td>14.123932</td>\n",
       "      <td>234</td>\n",
       "      <td>0.076923</td>\n",
       "      <td>234</td>\n",
       "      <td>0.905983</td>\n",
       "      <td>234</td>\n",
       "      <td>0.008547</td>\n",
       "      <td>234</td>\n",
       "      <td>0.008547</td>\n",
       "      <td>234</td>\n",
       "      <td>0.500000</td>\n",
       "      <td>234</td>\n",
       "      <td>0.307692</td>\n",
       "      <td>234</td>\n",
       "      <td>0.038462</td>\n",
       "      <td>234</td>\n",
       "    </tr>\n",
       "    <tr>\n",
       "      <th>2001</th>\n",
       "      <td>19.035714</td>\n",
       "      <td>224</td>\n",
       "      <td>0.098214</td>\n",
       "      <td>224</td>\n",
       "      <td>0.879464</td>\n",
       "      <td>224</td>\n",
       "      <td>0.000000</td>\n",
       "      <td>224</td>\n",
       "      <td>0.022321</td>\n",
       "      <td>224</td>\n",
       "      <td>0.562500</td>\n",
       "      <td>224</td>\n",
       "      <td>0.205357</td>\n",
       "      <td>224</td>\n",
       "      <td>0.062500</td>\n",
       "      <td>224</td>\n",
       "    </tr>\n",
       "    <tr>\n",
       "      <th>2002</th>\n",
       "      <td>28.921348</td>\n",
       "      <td>267</td>\n",
       "      <td>0.056180</td>\n",
       "      <td>267</td>\n",
       "      <td>0.932584</td>\n",
       "      <td>267</td>\n",
       "      <td>0.000000</td>\n",
       "      <td>267</td>\n",
       "      <td>0.011236</td>\n",
       "      <td>267</td>\n",
       "      <td>0.486891</td>\n",
       "      <td>267</td>\n",
       "      <td>0.213483</td>\n",
       "      <td>267</td>\n",
       "      <td>0.041199</td>\n",
       "      <td>267</td>\n",
       "    </tr>\n",
       "    <tr>\n",
       "      <th>2003</th>\n",
       "      <td>30.862275</td>\n",
       "      <td>167</td>\n",
       "      <td>0.077844</td>\n",
       "      <td>167</td>\n",
       "      <td>0.892216</td>\n",
       "      <td>167</td>\n",
       "      <td>0.000000</td>\n",
       "      <td>167</td>\n",
       "      <td>0.029940</td>\n",
       "      <td>167</td>\n",
       "      <td>0.335329</td>\n",
       "      <td>167</td>\n",
       "      <td>0.215569</td>\n",
       "      <td>167</td>\n",
       "      <td>0.035928</td>\n",
       "      <td>167</td>\n",
       "    </tr>\n",
       "    <tr>\n",
       "      <th>2004</th>\n",
       "      <td>22.360465</td>\n",
       "      <td>344</td>\n",
       "      <td>0.008721</td>\n",
       "      <td>344</td>\n",
       "      <td>0.947674</td>\n",
       "      <td>344</td>\n",
       "      <td>0.000000</td>\n",
       "      <td>344</td>\n",
       "      <td>0.043605</td>\n",
       "      <td>344</td>\n",
       "      <td>0.313953</td>\n",
       "      <td>344</td>\n",
       "      <td>0.218023</td>\n",
       "      <td>344</td>\n",
       "      <td>0.008721</td>\n",
       "      <td>344</td>\n",
       "    </tr>\n",
       "    <tr>\n",
       "      <th>2005</th>\n",
       "      <td>5.133891</td>\n",
       "      <td>239</td>\n",
       "      <td>0.062762</td>\n",
       "      <td>239</td>\n",
       "      <td>0.903766</td>\n",
       "      <td>239</td>\n",
       "      <td>0.004184</td>\n",
       "      <td>239</td>\n",
       "      <td>0.029289</td>\n",
       "      <td>239</td>\n",
       "      <td>0.313808</td>\n",
       "      <td>239</td>\n",
       "      <td>0.066946</td>\n",
       "      <td>239</td>\n",
       "      <td>0.012552</td>\n",
       "      <td>239</td>\n",
       "    </tr>\n",
       "    <tr>\n",
       "      <th>2006</th>\n",
       "      <td>7.045455</td>\n",
       "      <td>154</td>\n",
       "      <td>0.038961</td>\n",
       "      <td>154</td>\n",
       "      <td>0.902597</td>\n",
       "      <td>154</td>\n",
       "      <td>0.000000</td>\n",
       "      <td>154</td>\n",
       "      <td>0.058442</td>\n",
       "      <td>154</td>\n",
       "      <td>0.318182</td>\n",
       "      <td>154</td>\n",
       "      <td>0.071429</td>\n",
       "      <td>154</td>\n",
       "      <td>0.006494</td>\n",
       "      <td>154</td>\n",
       "    </tr>\n",
       "    <tr>\n",
       "      <th>2007</th>\n",
       "      <td>12.185841</td>\n",
       "      <td>113</td>\n",
       "      <td>0.008850</td>\n",
       "      <td>113</td>\n",
       "      <td>0.938053</td>\n",
       "      <td>113</td>\n",
       "      <td>0.000000</td>\n",
       "      <td>113</td>\n",
       "      <td>0.053097</td>\n",
       "      <td>113</td>\n",
       "      <td>0.380531</td>\n",
       "      <td>113</td>\n",
       "      <td>0.150442</td>\n",
       "      <td>113</td>\n",
       "      <td>0.008850</td>\n",
       "      <td>113</td>\n",
       "    </tr>\n",
       "    <tr>\n",
       "      <th>2008</th>\n",
       "      <td>5.064885</td>\n",
       "      <td>262</td>\n",
       "      <td>0.019084</td>\n",
       "      <td>262</td>\n",
       "      <td>0.908397</td>\n",
       "      <td>262</td>\n",
       "      <td>0.003817</td>\n",
       "      <td>262</td>\n",
       "      <td>0.068702</td>\n",
       "      <td>262</td>\n",
       "      <td>0.488550</td>\n",
       "      <td>262</td>\n",
       "      <td>0.125954</td>\n",
       "      <td>262</td>\n",
       "      <td>0.007634</td>\n",
       "      <td>262</td>\n",
       "    </tr>\n",
       "    <tr>\n",
       "      <th>2009</th>\n",
       "      <td>8.850187</td>\n",
       "      <td>267</td>\n",
       "      <td>0.048689</td>\n",
       "      <td>267</td>\n",
       "      <td>0.928839</td>\n",
       "      <td>267</td>\n",
       "      <td>0.000000</td>\n",
       "      <td>267</td>\n",
       "      <td>0.022472</td>\n",
       "      <td>267</td>\n",
       "      <td>0.483146</td>\n",
       "      <td>267</td>\n",
       "      <td>0.089888</td>\n",
       "      <td>267</td>\n",
       "      <td>0.011236</td>\n",
       "      <td>267</td>\n",
       "    </tr>\n",
       "    <tr>\n",
       "      <th>2010</th>\n",
       "      <td>8.142857</td>\n",
       "      <td>196</td>\n",
       "      <td>0.076531</td>\n",
       "      <td>196</td>\n",
       "      <td>0.882653</td>\n",
       "      <td>196</td>\n",
       "      <td>0.005102</td>\n",
       "      <td>196</td>\n",
       "      <td>0.035714</td>\n",
       "      <td>196</td>\n",
       "      <td>0.581633</td>\n",
       "      <td>196</td>\n",
       "      <td>0.066327</td>\n",
       "      <td>196</td>\n",
       "      <td>0.071429</td>\n",
       "      <td>196</td>\n",
       "    </tr>\n",
       "    <tr>\n",
       "      <th>2011</th>\n",
       "      <td>16.262048</td>\n",
       "      <td>332</td>\n",
       "      <td>0.126506</td>\n",
       "      <td>332</td>\n",
       "      <td>0.822289</td>\n",
       "      <td>332</td>\n",
       "      <td>0.012048</td>\n",
       "      <td>332</td>\n",
       "      <td>0.039157</td>\n",
       "      <td>332</td>\n",
       "      <td>0.415663</td>\n",
       "      <td>332</td>\n",
       "      <td>0.126506</td>\n",
       "      <td>332</td>\n",
       "      <td>0.120482</td>\n",
       "      <td>332</td>\n",
       "    </tr>\n",
       "    <tr>\n",
       "      <th>2012</th>\n",
       "      <td>7.032694</td>\n",
       "      <td>887</td>\n",
       "      <td>0.149944</td>\n",
       "      <td>887</td>\n",
       "      <td>0.786922</td>\n",
       "      <td>887</td>\n",
       "      <td>0.005637</td>\n",
       "      <td>887</td>\n",
       "      <td>0.057497</td>\n",
       "      <td>887</td>\n",
       "      <td>0.254791</td>\n",
       "      <td>887</td>\n",
       "      <td>0.252537</td>\n",
       "      <td>887</td>\n",
       "      <td>0.130778</td>\n",
       "      <td>887</td>\n",
       "    </tr>\n",
       "    <tr>\n",
       "      <th>2013</th>\n",
       "      <td>7.892012</td>\n",
       "      <td>1352</td>\n",
       "      <td>0.106509</td>\n",
       "      <td>1352</td>\n",
       "      <td>0.830621</td>\n",
       "      <td>1352</td>\n",
       "      <td>0.008876</td>\n",
       "      <td>1352</td>\n",
       "      <td>0.053994</td>\n",
       "      <td>1352</td>\n",
       "      <td>0.317308</td>\n",
       "      <td>1352</td>\n",
       "      <td>0.119083</td>\n",
       "      <td>1352</td>\n",
       "      <td>0.095414</td>\n",
       "      <td>1352</td>\n",
       "    </tr>\n",
       "    <tr>\n",
       "      <th>2014</th>\n",
       "      <td>4.922135</td>\n",
       "      <td>2042</td>\n",
       "      <td>0.113614</td>\n",
       "      <td>2042</td>\n",
       "      <td>0.791381</td>\n",
       "      <td>2042</td>\n",
       "      <td>0.009305</td>\n",
       "      <td>2042</td>\n",
       "      <td>0.085700</td>\n",
       "      <td>2042</td>\n",
       "      <td>0.376102</td>\n",
       "      <td>2042</td>\n",
       "      <td>0.093046</td>\n",
       "      <td>2042</td>\n",
       "      <td>0.108227</td>\n",
       "      <td>2042</td>\n",
       "    </tr>\n",
       "    <tr>\n",
       "      <th>2015</th>\n",
       "      <td>3.318511</td>\n",
       "      <td>2069</td>\n",
       "      <td>0.086032</td>\n",
       "      <td>2069</td>\n",
       "      <td>0.877719</td>\n",
       "      <td>2069</td>\n",
       "      <td>0.006283</td>\n",
       "      <td>2069</td>\n",
       "      <td>0.029966</td>\n",
       "      <td>2069</td>\n",
       "      <td>0.342194</td>\n",
       "      <td>2069</td>\n",
       "      <td>0.126148</td>\n",
       "      <td>2069</td>\n",
       "      <td>0.076365</td>\n",
       "      <td>2069</td>\n",
       "    </tr>\n",
       "    <tr>\n",
       "      <th>2016</th>\n",
       "      <td>3.310710</td>\n",
       "      <td>2269</td>\n",
       "      <td>0.085500</td>\n",
       "      <td>2269</td>\n",
       "      <td>0.835170</td>\n",
       "      <td>2269</td>\n",
       "      <td>0.016747</td>\n",
       "      <td>2269</td>\n",
       "      <td>0.062583</td>\n",
       "      <td>2269</td>\n",
       "      <td>0.305862</td>\n",
       "      <td>2269</td>\n",
       "      <td>0.156457</td>\n",
       "      <td>2269</td>\n",
       "      <td>0.085059</td>\n",
       "      <td>2269</td>\n",
       "    </tr>\n",
       "  </tbody>\n",
       "</table>\n",
       "</div>"
      ],
      "text/plain": [
       "     fatalities       disorder_type_Demonstrations        \\\n",
       "           mean count                         mean count   \n",
       "year                                                       \n",
       "1997  17.073059   219                     0.077626   219   \n",
       "1998  15.784000   250                     0.048000   250   \n",
       "1999  13.641509   212                     0.080189   212   \n",
       "2000  14.123932   234                     0.076923   234   \n",
       "2001  19.035714   224                     0.098214   224   \n",
       "2002  28.921348   267                     0.056180   267   \n",
       "2003  30.862275   167                     0.077844   167   \n",
       "2004  22.360465   344                     0.008721   344   \n",
       "2005   5.133891   239                     0.062762   239   \n",
       "2006   7.045455   154                     0.038961   154   \n",
       "2007  12.185841   113                     0.008850   113   \n",
       "2008   5.064885   262                     0.019084   262   \n",
       "2009   8.850187   267                     0.048689   267   \n",
       "2010   8.142857   196                     0.076531   196   \n",
       "2011  16.262048   332                     0.126506   332   \n",
       "2012   7.032694   887                     0.149944   887   \n",
       "2013   7.892012  1352                     0.106509  1352   \n",
       "2014   4.922135  2042                     0.113614  2042   \n",
       "2015   3.318511  2069                     0.086032  2069   \n",
       "2016   3.310710  2269                     0.085500  2269   \n",
       "\n",
       "     disorder_type_Political violence        \\\n",
       "                                 mean count   \n",
       "year                                          \n",
       "1997                         0.872146   219   \n",
       "1998                         0.928000   250   \n",
       "1999                         0.896226   212   \n",
       "2000                         0.905983   234   \n",
       "2001                         0.879464   224   \n",
       "2002                         0.932584   267   \n",
       "2003                         0.892216   167   \n",
       "2004                         0.947674   344   \n",
       "2005                         0.903766   239   \n",
       "2006                         0.902597   154   \n",
       "2007                         0.938053   113   \n",
       "2008                         0.908397   262   \n",
       "2009                         0.928839   267   \n",
       "2010                         0.882653   196   \n",
       "2011                         0.822289   332   \n",
       "2012                         0.786922   887   \n",
       "2013                         0.830621  1352   \n",
       "2014                         0.791381  2042   \n",
       "2015                         0.877719  2069   \n",
       "2016                         0.835170  2269   \n",
       "\n",
       "     disorder_type_Political violence; Demonstrations        \\\n",
       "                                                 mean count   \n",
       "year                                                          \n",
       "1997                                         0.009132   219   \n",
       "1998                                         0.000000   250   \n",
       "1999                                         0.000000   212   \n",
       "2000                                         0.008547   234   \n",
       "2001                                         0.000000   224   \n",
       "2002                                         0.000000   267   \n",
       "2003                                         0.000000   167   \n",
       "2004                                         0.000000   344   \n",
       "2005                                         0.004184   239   \n",
       "2006                                         0.000000   154   \n",
       "2007                                         0.000000   113   \n",
       "2008                                         0.003817   262   \n",
       "2009                                         0.000000   267   \n",
       "2010                                         0.005102   196   \n",
       "2011                                         0.012048   332   \n",
       "2012                                         0.005637   887   \n",
       "2013                                         0.008876  1352   \n",
       "2014                                         0.009305  2042   \n",
       "2015                                         0.006283  2069   \n",
       "2016                                         0.016747  2269   \n",
       "\n",
       "     disorder_type_Strategic developments       event_type_Battles        \\\n",
       "                                     mean count               mean count   \n",
       "year                                                                       \n",
       "1997                             0.041096   219           0.712329   219   \n",
       "1998                             0.024000   250           0.740000   250   \n",
       "1999                             0.023585   212           0.566038   212   \n",
       "2000                             0.008547   234           0.500000   234   \n",
       "2001                             0.022321   224           0.562500   224   \n",
       "2002                             0.011236   267           0.486891   267   \n",
       "2003                             0.029940   167           0.335329   167   \n",
       "2004                             0.043605   344           0.313953   344   \n",
       "2005                             0.029289   239           0.313808   239   \n",
       "2006                             0.058442   154           0.318182   154   \n",
       "2007                             0.053097   113           0.380531   113   \n",
       "2008                             0.068702   262           0.488550   262   \n",
       "2009                             0.022472   267           0.483146   267   \n",
       "2010                             0.035714   196           0.581633   196   \n",
       "2011                             0.039157   332           0.415663   332   \n",
       "2012                             0.057497   887           0.254791   887   \n",
       "2013                             0.053994  1352           0.317308  1352   \n",
       "2014                             0.085700  2042           0.376102  2042   \n",
       "2015                             0.029966  2069           0.342194  2069   \n",
       "2016                             0.062583  2269           0.305862  2269   \n",
       "\n",
       "     event_type_Explosions/Remote violence       event_type_Protests        \n",
       "                                      mean count                mean count  \n",
       "year                                                                        \n",
       "1997                              0.086758   219            0.073059   219  \n",
       "1998                              0.108000   250            0.024000   250  \n",
       "1999                              0.193396   212            0.056604   212  \n",
       "2000                              0.307692   234            0.038462   234  \n",
       "2001                              0.205357   224            0.062500   224  \n",
       "2002                              0.213483   267            0.041199   267  \n",
       "2003                              0.215569   167            0.035928   167  \n",
       "2004                              0.218023   344            0.008721   344  \n",
       "2005                              0.066946   239            0.012552   239  \n",
       "2006                              0.071429   154            0.006494   154  \n",
       "2007                              0.150442   113            0.008850   113  \n",
       "2008                              0.125954   262            0.007634   262  \n",
       "2009                              0.089888   267            0.011236   267  \n",
       "2010                              0.066327   196            0.071429   196  \n",
       "2011                              0.126506   332            0.120482   332  \n",
       "2012                              0.252537   887            0.130778   887  \n",
       "2013                              0.119083  1352            0.095414  1352  \n",
       "2014                              0.093046  2042            0.108227  2042  \n",
       "2015                              0.126148  2069            0.076365  2069  \n",
       "2016                              0.156457  2269            0.085059  2269  "
      ]
     },
     "execution_count": 20,
     "metadata": {},
     "output_type": "execute_result"
    }
   ],
   "source": [
    "# Assuming 'year' is the column containing year information\n",
    "grouped_df = selected_df_copy.groupby('year')\n",
    "\n",
    "# Calculate summary statistics (e.g., mean, count) for each column in each group\n",
    "summary_stats = grouped_df.agg(['mean', 'count'])\n",
    "\n",
    "summary_stats.head(20) "
   ]
  },
  {
   "cell_type": "code",
   "execution_count": 21,
   "metadata": {},
   "outputs": [
    {
     "data": {
      "text/html": [
       "<div>\n",
       "<style scoped>\n",
       "    .dataframe tbody tr th:only-of-type {\n",
       "        vertical-align: middle;\n",
       "    }\n",
       "\n",
       "    .dataframe tbody tr th {\n",
       "        vertical-align: top;\n",
       "    }\n",
       "\n",
       "    .dataframe thead tr th {\n",
       "        text-align: left;\n",
       "    }\n",
       "\n",
       "    .dataframe thead tr:last-of-type th {\n",
       "        text-align: right;\n",
       "    }\n",
       "</style>\n",
       "<table border=\"1\" class=\"dataframe\">\n",
       "  <thead>\n",
       "    <tr>\n",
       "      <th></th>\n",
       "      <th>fatalities</th>\n",
       "      <th>disorder_type_Demonstrations</th>\n",
       "      <th>disorder_type_Political violence</th>\n",
       "      <th>disorder_type_Political violence; Demonstrations</th>\n",
       "      <th>disorder_type_Strategic developments</th>\n",
       "      <th>event_type_Battles</th>\n",
       "      <th>event_type_Explosions/Remote violence</th>\n",
       "      <th>event_type_Protests</th>\n",
       "    </tr>\n",
       "    <tr>\n",
       "      <th></th>\n",
       "      <th>mean</th>\n",
       "      <th>mean</th>\n",
       "      <th>mean</th>\n",
       "      <th>mean</th>\n",
       "      <th>mean</th>\n",
       "      <th>mean</th>\n",
       "      <th>mean</th>\n",
       "      <th>mean</th>\n",
       "    </tr>\n",
       "    <tr>\n",
       "      <th>year</th>\n",
       "      <th></th>\n",
       "      <th></th>\n",
       "      <th></th>\n",
       "      <th></th>\n",
       "      <th></th>\n",
       "      <th></th>\n",
       "      <th></th>\n",
       "      <th></th>\n",
       "    </tr>\n",
       "  </thead>\n",
       "  <tbody>\n",
       "    <tr>\n",
       "      <th>1997</th>\n",
       "      <td>17.073059</td>\n",
       "      <td>0.077626</td>\n",
       "      <td>0.872146</td>\n",
       "      <td>0.009132</td>\n",
       "      <td>0.041096</td>\n",
       "      <td>0.712329</td>\n",
       "      <td>0.086758</td>\n",
       "      <td>0.073059</td>\n",
       "    </tr>\n",
       "    <tr>\n",
       "      <th>1998</th>\n",
       "      <td>15.784000</td>\n",
       "      <td>0.048000</td>\n",
       "      <td>0.928000</td>\n",
       "      <td>0.000000</td>\n",
       "      <td>0.024000</td>\n",
       "      <td>0.740000</td>\n",
       "      <td>0.108000</td>\n",
       "      <td>0.024000</td>\n",
       "    </tr>\n",
       "    <tr>\n",
       "      <th>1999</th>\n",
       "      <td>13.641509</td>\n",
       "      <td>0.080189</td>\n",
       "      <td>0.896226</td>\n",
       "      <td>0.000000</td>\n",
       "      <td>0.023585</td>\n",
       "      <td>0.566038</td>\n",
       "      <td>0.193396</td>\n",
       "      <td>0.056604</td>\n",
       "    </tr>\n",
       "    <tr>\n",
       "      <th>2000</th>\n",
       "      <td>14.123932</td>\n",
       "      <td>0.076923</td>\n",
       "      <td>0.905983</td>\n",
       "      <td>0.008547</td>\n",
       "      <td>0.008547</td>\n",
       "      <td>0.500000</td>\n",
       "      <td>0.307692</td>\n",
       "      <td>0.038462</td>\n",
       "    </tr>\n",
       "    <tr>\n",
       "      <th>2001</th>\n",
       "      <td>19.035714</td>\n",
       "      <td>0.098214</td>\n",
       "      <td>0.879464</td>\n",
       "      <td>0.000000</td>\n",
       "      <td>0.022321</td>\n",
       "      <td>0.562500</td>\n",
       "      <td>0.205357</td>\n",
       "      <td>0.062500</td>\n",
       "    </tr>\n",
       "    <tr>\n",
       "      <th>2002</th>\n",
       "      <td>28.921348</td>\n",
       "      <td>0.056180</td>\n",
       "      <td>0.932584</td>\n",
       "      <td>0.000000</td>\n",
       "      <td>0.011236</td>\n",
       "      <td>0.486891</td>\n",
       "      <td>0.213483</td>\n",
       "      <td>0.041199</td>\n",
       "    </tr>\n",
       "    <tr>\n",
       "      <th>2003</th>\n",
       "      <td>30.862275</td>\n",
       "      <td>0.077844</td>\n",
       "      <td>0.892216</td>\n",
       "      <td>0.000000</td>\n",
       "      <td>0.029940</td>\n",
       "      <td>0.335329</td>\n",
       "      <td>0.215569</td>\n",
       "      <td>0.035928</td>\n",
       "    </tr>\n",
       "    <tr>\n",
       "      <th>2004</th>\n",
       "      <td>22.360465</td>\n",
       "      <td>0.008721</td>\n",
       "      <td>0.947674</td>\n",
       "      <td>0.000000</td>\n",
       "      <td>0.043605</td>\n",
       "      <td>0.313953</td>\n",
       "      <td>0.218023</td>\n",
       "      <td>0.008721</td>\n",
       "    </tr>\n",
       "    <tr>\n",
       "      <th>2005</th>\n",
       "      <td>5.133891</td>\n",
       "      <td>0.062762</td>\n",
       "      <td>0.903766</td>\n",
       "      <td>0.004184</td>\n",
       "      <td>0.029289</td>\n",
       "      <td>0.313808</td>\n",
       "      <td>0.066946</td>\n",
       "      <td>0.012552</td>\n",
       "    </tr>\n",
       "    <tr>\n",
       "      <th>2006</th>\n",
       "      <td>7.045455</td>\n",
       "      <td>0.038961</td>\n",
       "      <td>0.902597</td>\n",
       "      <td>0.000000</td>\n",
       "      <td>0.058442</td>\n",
       "      <td>0.318182</td>\n",
       "      <td>0.071429</td>\n",
       "      <td>0.006494</td>\n",
       "    </tr>\n",
       "    <tr>\n",
       "      <th>2007</th>\n",
       "      <td>12.185841</td>\n",
       "      <td>0.008850</td>\n",
       "      <td>0.938053</td>\n",
       "      <td>0.000000</td>\n",
       "      <td>0.053097</td>\n",
       "      <td>0.380531</td>\n",
       "      <td>0.150442</td>\n",
       "      <td>0.008850</td>\n",
       "    </tr>\n",
       "    <tr>\n",
       "      <th>2008</th>\n",
       "      <td>5.064885</td>\n",
       "      <td>0.019084</td>\n",
       "      <td>0.908397</td>\n",
       "      <td>0.003817</td>\n",
       "      <td>0.068702</td>\n",
       "      <td>0.488550</td>\n",
       "      <td>0.125954</td>\n",
       "      <td>0.007634</td>\n",
       "    </tr>\n",
       "    <tr>\n",
       "      <th>2009</th>\n",
       "      <td>8.850187</td>\n",
       "      <td>0.048689</td>\n",
       "      <td>0.928839</td>\n",
       "      <td>0.000000</td>\n",
       "      <td>0.022472</td>\n",
       "      <td>0.483146</td>\n",
       "      <td>0.089888</td>\n",
       "      <td>0.011236</td>\n",
       "    </tr>\n",
       "    <tr>\n",
       "      <th>2010</th>\n",
       "      <td>8.142857</td>\n",
       "      <td>0.076531</td>\n",
       "      <td>0.882653</td>\n",
       "      <td>0.005102</td>\n",
       "      <td>0.035714</td>\n",
       "      <td>0.581633</td>\n",
       "      <td>0.066327</td>\n",
       "      <td>0.071429</td>\n",
       "    </tr>\n",
       "    <tr>\n",
       "      <th>2011</th>\n",
       "      <td>16.262048</td>\n",
       "      <td>0.126506</td>\n",
       "      <td>0.822289</td>\n",
       "      <td>0.012048</td>\n",
       "      <td>0.039157</td>\n",
       "      <td>0.415663</td>\n",
       "      <td>0.126506</td>\n",
       "      <td>0.120482</td>\n",
       "    </tr>\n",
       "    <tr>\n",
       "      <th>2012</th>\n",
       "      <td>7.032694</td>\n",
       "      <td>0.149944</td>\n",
       "      <td>0.786922</td>\n",
       "      <td>0.005637</td>\n",
       "      <td>0.057497</td>\n",
       "      <td>0.254791</td>\n",
       "      <td>0.252537</td>\n",
       "      <td>0.130778</td>\n",
       "    </tr>\n",
       "    <tr>\n",
       "      <th>2013</th>\n",
       "      <td>7.892012</td>\n",
       "      <td>0.106509</td>\n",
       "      <td>0.830621</td>\n",
       "      <td>0.008876</td>\n",
       "      <td>0.053994</td>\n",
       "      <td>0.317308</td>\n",
       "      <td>0.119083</td>\n",
       "      <td>0.095414</td>\n",
       "    </tr>\n",
       "    <tr>\n",
       "      <th>2014</th>\n",
       "      <td>4.922135</td>\n",
       "      <td>0.113614</td>\n",
       "      <td>0.791381</td>\n",
       "      <td>0.009305</td>\n",
       "      <td>0.085700</td>\n",
       "      <td>0.376102</td>\n",
       "      <td>0.093046</td>\n",
       "      <td>0.108227</td>\n",
       "    </tr>\n",
       "    <tr>\n",
       "      <th>2015</th>\n",
       "      <td>3.318511</td>\n",
       "      <td>0.086032</td>\n",
       "      <td>0.877719</td>\n",
       "      <td>0.006283</td>\n",
       "      <td>0.029966</td>\n",
       "      <td>0.342194</td>\n",
       "      <td>0.126148</td>\n",
       "      <td>0.076365</td>\n",
       "    </tr>\n",
       "    <tr>\n",
       "      <th>2016</th>\n",
       "      <td>3.310710</td>\n",
       "      <td>0.085500</td>\n",
       "      <td>0.835170</td>\n",
       "      <td>0.016747</td>\n",
       "      <td>0.062583</td>\n",
       "      <td>0.305862</td>\n",
       "      <td>0.156457</td>\n",
       "      <td>0.085059</td>\n",
       "    </tr>\n",
       "  </tbody>\n",
       "</table>\n",
       "</div>"
      ],
      "text/plain": [
       "     fatalities disorder_type_Demonstrations disorder_type_Political violence  \\\n",
       "           mean                         mean                             mean   \n",
       "year                                                                            \n",
       "1997  17.073059                     0.077626                         0.872146   \n",
       "1998  15.784000                     0.048000                         0.928000   \n",
       "1999  13.641509                     0.080189                         0.896226   \n",
       "2000  14.123932                     0.076923                         0.905983   \n",
       "2001  19.035714                     0.098214                         0.879464   \n",
       "2002  28.921348                     0.056180                         0.932584   \n",
       "2003  30.862275                     0.077844                         0.892216   \n",
       "2004  22.360465                     0.008721                         0.947674   \n",
       "2005   5.133891                     0.062762                         0.903766   \n",
       "2006   7.045455                     0.038961                         0.902597   \n",
       "2007  12.185841                     0.008850                         0.938053   \n",
       "2008   5.064885                     0.019084                         0.908397   \n",
       "2009   8.850187                     0.048689                         0.928839   \n",
       "2010   8.142857                     0.076531                         0.882653   \n",
       "2011  16.262048                     0.126506                         0.822289   \n",
       "2012   7.032694                     0.149944                         0.786922   \n",
       "2013   7.892012                     0.106509                         0.830621   \n",
       "2014   4.922135                     0.113614                         0.791381   \n",
       "2015   3.318511                     0.086032                         0.877719   \n",
       "2016   3.310710                     0.085500                         0.835170   \n",
       "\n",
       "     disorder_type_Political violence; Demonstrations  \\\n",
       "                                                 mean   \n",
       "year                                                    \n",
       "1997                                         0.009132   \n",
       "1998                                         0.000000   \n",
       "1999                                         0.000000   \n",
       "2000                                         0.008547   \n",
       "2001                                         0.000000   \n",
       "2002                                         0.000000   \n",
       "2003                                         0.000000   \n",
       "2004                                         0.000000   \n",
       "2005                                         0.004184   \n",
       "2006                                         0.000000   \n",
       "2007                                         0.000000   \n",
       "2008                                         0.003817   \n",
       "2009                                         0.000000   \n",
       "2010                                         0.005102   \n",
       "2011                                         0.012048   \n",
       "2012                                         0.005637   \n",
       "2013                                         0.008876   \n",
       "2014                                         0.009305   \n",
       "2015                                         0.006283   \n",
       "2016                                         0.016747   \n",
       "\n",
       "     disorder_type_Strategic developments event_type_Battles  \\\n",
       "                                     mean               mean   \n",
       "year                                                           \n",
       "1997                             0.041096           0.712329   \n",
       "1998                             0.024000           0.740000   \n",
       "1999                             0.023585           0.566038   \n",
       "2000                             0.008547           0.500000   \n",
       "2001                             0.022321           0.562500   \n",
       "2002                             0.011236           0.486891   \n",
       "2003                             0.029940           0.335329   \n",
       "2004                             0.043605           0.313953   \n",
       "2005                             0.029289           0.313808   \n",
       "2006                             0.058442           0.318182   \n",
       "2007                             0.053097           0.380531   \n",
       "2008                             0.068702           0.488550   \n",
       "2009                             0.022472           0.483146   \n",
       "2010                             0.035714           0.581633   \n",
       "2011                             0.039157           0.415663   \n",
       "2012                             0.057497           0.254791   \n",
       "2013                             0.053994           0.317308   \n",
       "2014                             0.085700           0.376102   \n",
       "2015                             0.029966           0.342194   \n",
       "2016                             0.062583           0.305862   \n",
       "\n",
       "     event_type_Explosions/Remote violence event_type_Protests  \n",
       "                                      mean                mean  \n",
       "year                                                            \n",
       "1997                              0.086758            0.073059  \n",
       "1998                              0.108000            0.024000  \n",
       "1999                              0.193396            0.056604  \n",
       "2000                              0.307692            0.038462  \n",
       "2001                              0.205357            0.062500  \n",
       "2002                              0.213483            0.041199  \n",
       "2003                              0.215569            0.035928  \n",
       "2004                              0.218023            0.008721  \n",
       "2005                              0.066946            0.012552  \n",
       "2006                              0.071429            0.006494  \n",
       "2007                              0.150442            0.008850  \n",
       "2008                              0.125954            0.007634  \n",
       "2009                              0.089888            0.011236  \n",
       "2010                              0.066327            0.071429  \n",
       "2011                              0.126506            0.120482  \n",
       "2012                              0.252537            0.130778  \n",
       "2013                              0.119083            0.095414  \n",
       "2014                              0.093046            0.108227  \n",
       "2015                              0.126148            0.076365  \n",
       "2016                              0.156457            0.085059  "
      ]
     },
     "execution_count": 21,
     "metadata": {},
     "output_type": "execute_result"
    }
   ],
   "source": [
    "# Assuming 'year' is the column containing year information\n",
    "grouped_df = selected_df_copy.groupby('year')\n",
    "\n",
    "# Calculate summary statistics (e.g., mean, count) for each column in each group\n",
    "summary_stats = grouped_df.agg(['mean'])\n",
    "\n",
    "summary_stats.head(20) "
   ]
  },
  {
   "cell_type": "code",
   "execution_count": 22,
   "metadata": {},
   "outputs": [
    {
     "data": {
      "image/png": "[encoded data removed]",
      "text/plain": [
       "<Figure size 640x480 with 2 Axes>"
      ]
     },
     "metadata": {},
     "output_type": "display_data"
    }
   ],
   "source": [
    "# Calculate the correlation matrix\n",
    "correlation_matrix = grouped_df.agg(['mean']).corr()\n",
    "\n",
    "# Create the heatmap\n",
    "sns.heatmap(correlation_matrix, annot=True, cmap='coolwarm', fmt=\".2f\")\n",
    "\n",
    "# Add a title\n",
    "plt.title(\"Correlation Heatmap of Aggregated Data\", fontsize=14)\n",
    "\n",
    "# Show the plot\n",
    "plt.show()"
   ]
  },
  {
   "cell_type": "markdown",
   "metadata": {},
   "source": [
    "# Model Selection and training #"
   ]
  },
  {
   "cell_type": "code",
   "execution_count": 24,
   "metadata": {},
   "outputs": [],
   "source": [
    "#Feature selection\n",
    "#from sklearn.feature_selection import SelectKBest, chi2, f_classif\n",
    "from sklearn.model_selection import train_test_split\n",
    "from sklearn.metrics import mean_squared_error, r2_score\n",
    "import warnings\n",
    "warnings.filterwarnings('ignore')\n",
    "#from itertools import combinations\n",
    "#from sklearn.feature_selection import RFE\n",
    "from sklearn.linear_model import LinearRegression, Lasso\n",
    "from sklearn.preprocessing import StandardScaler, PolynomialFeatures\n",
    "from sklearn.linear_model import Ridge\n",
    "# Prepare data for modeling\n",
    "X = summary_stats.drop(['fatalities'], axis=1)\n",
    "y = summary_stats['fatalities']\n",
    "\n",
    "\n",
    "# Split data FIRST\n",
    "\n",
    "# Split into train, test, and validation sets\n",
    "X_train, X_test, y_train, y_test = train_test_split(X, y, test_size=0.2,random_state=42)\n"
   ]
  },
  {
   "cell_type": "code",
   "execution_count": 25,
   "metadata": {},
   "outputs": [
    {
     "data": {
      "text/html": [
       "<div>\n",
       "<style scoped>\n",
       "    .dataframe tbody tr th:only-of-type {\n",
       "        vertical-align: middle;\n",
       "    }\n",
       "\n",
       "    .dataframe tbody tr th {\n",
       "        vertical-align: top;\n",
       "    }\n",
       "\n",
       "    .dataframe thead tr th {\n",
       "        text-align: left;\n",
       "    }\n",
       "</style>\n",
       "<table border=\"1\" class=\"dataframe\">\n",
       "  <thead>\n",
       "    <tr>\n",
       "      <th></th>\n",
       "      <th>disorder_type_Demonstrations</th>\n",
       "      <th>disorder_type_Political violence</th>\n",
       "      <th>disorder_type_Political violence; Demonstrations</th>\n",
       "      <th>disorder_type_Strategic developments</th>\n",
       "      <th>event_type_Battles</th>\n",
       "      <th>event_type_Explosions/Remote violence</th>\n",
       "      <th>event_type_Protests</th>\n",
       "    </tr>\n",
       "    <tr>\n",
       "      <th></th>\n",
       "      <th>mean</th>\n",
       "      <th>mean</th>\n",
       "      <th>mean</th>\n",
       "      <th>mean</th>\n",
       "      <th>mean</th>\n",
       "      <th>mean</th>\n",
       "      <th>mean</th>\n",
       "    </tr>\n",
       "  </thead>\n",
       "  <tbody>\n",
       "    <tr>\n",
       "      <th>0</th>\n",
       "      <td>-0.062184</td>\n",
       "      <td>-0.196612</td>\n",
       "      <td>0.286997</td>\n",
       "      <td>0.672818</td>\n",
       "      <td>-0.144070</td>\n",
       "      <td>-0.593791</td>\n",
       "      <td>0.007137</td>\n",
       "    </tr>\n",
       "    <tr>\n",
       "      <th>1</th>\n",
       "      <td>3.277993</td>\n",
       "      <td>-3.175152</td>\n",
       "      <td>3.576348</td>\n",
       "      <td>-0.457802</td>\n",
       "      <td>-1.966187</td>\n",
       "      <td>-1.531043</td>\n",
       "      <td>3.421842</td>\n",
       "    </tr>\n",
       "    <tr>\n",
       "      <th>2</th>\n",
       "      <td>-0.826333</td>\n",
       "      <td>0.699569</td>\n",
       "      <td>-0.364326</td>\n",
       "      <td>0.303258</td>\n",
       "      <td>0.672871</td>\n",
       "      <td>-0.220407</td>\n",
       "      <td>-0.803365</td>\n",
       "    </tr>\n",
       "    <tr>\n",
       "      <th>3</th>\n",
       "      <td>-0.361954</td>\n",
       "      <td>0.502407</td>\n",
       "      <td>-0.211786</td>\n",
       "      <td>-0.413948</td>\n",
       "      <td>1.349126</td>\n",
       "      <td>-0.896957</td>\n",
       "      <td>-0.289357</td>\n",
       "    </tr>\n",
       "    <tr>\n",
       "      <th>4</th>\n",
       "      <td>0.231491</td>\n",
       "      <td>-0.230760</td>\n",
       "      <td>-0.148296</td>\n",
       "      <td>0.059643</td>\n",
       "      <td>-1.025399</td>\n",
       "      <td>1.215827</td>\n",
       "      <td>0.188832</td>\n",
       "    </tr>\n",
       "    <tr>\n",
       "      <th>5</th>\n",
       "      <td>-0.592586</td>\n",
       "      <td>0.849702</td>\n",
       "      <td>-0.817324</td>\n",
       "      <td>-0.668633</td>\n",
       "      <td>2.499676</td>\n",
       "      <td>-0.424120</td>\n",
       "      <td>-0.671497</td>\n",
       "    </tr>\n",
       "    <tr>\n",
       "      <th>6</th>\n",
       "      <td>-0.186671</td>\n",
       "      <td>0.477985</td>\n",
       "      <td>-0.817324</td>\n",
       "      <td>-0.705127</td>\n",
       "      <td>1.210126</td>\n",
       "      <td>0.680517</td>\n",
       "      <td>-0.361296</td>\n",
       "    </tr>\n",
       "    <tr>\n",
       "      <th>7</th>\n",
       "      <td>-0.526463</td>\n",
       "      <td>0.884811</td>\n",
       "      <td>-0.817324</td>\n",
       "      <td>-0.946141</td>\n",
       "      <td>0.660824</td>\n",
       "      <td>0.772717</td>\n",
       "      <td>-0.532926</td>\n",
       "    </tr>\n",
       "    <tr>\n",
       "      <th>8</th>\n",
       "      <td>-0.332384</td>\n",
       "      <td>0.606360</td>\n",
       "      <td>-0.817324</td>\n",
       "      <td>-0.677658</td>\n",
       "      <td>1.235828</td>\n",
       "      <td>0.544806</td>\n",
       "      <td>-0.408803</td>\n",
       "    </tr>\n",
       "    <tr>\n",
       "      <th>9</th>\n",
       "      <td>-0.119620</td>\n",
       "      <td>0.103915</td>\n",
       "      <td>0.236097</td>\n",
       "      <td>-0.016519</td>\n",
       "      <td>-0.571214</td>\n",
       "      <td>-0.298371</td>\n",
       "      <td>-0.096100</td>\n",
       "    </tr>\n",
       "    <tr>\n",
       "      <th>10</th>\n",
       "      <td>1.672319</td>\n",
       "      <td>-1.353045</td>\n",
       "      <td>0.004685</td>\n",
       "      <td>-0.657606</td>\n",
       "      <td>-0.875389</td>\n",
       "      <td>-1.546751</td>\n",
       "      <td>1.466004</td>\n",
       "    </tr>\n",
       "    <tr>\n",
       "      <th>11</th>\n",
       "      <td>-0.358782</td>\n",
       "      <td>0.681081</td>\n",
       "      <td>0.197082</td>\n",
       "      <td>-1.004603</td>\n",
       "      <td>0.756059</td>\n",
       "      <td>1.841637</td>\n",
       "      <td>-0.554978</td>\n",
       "    </tr>\n",
       "    <tr>\n",
       "      <th>12</th>\n",
       "      <td>-0.089861</td>\n",
       "      <td>-0.676184</td>\n",
       "      <td>-0.303147</td>\n",
       "      <td>2.216778</td>\n",
       "      <td>0.258629</td>\n",
       "      <td>0.128612</td>\n",
       "      <td>0.007777</td>\n",
       "    </tr>\n",
       "    <tr>\n",
       "      <th>13</th>\n",
       "      <td>2.008370</td>\n",
       "      <td>-1.911145</td>\n",
       "      <td>1.302940</td>\n",
       "      <td>-0.214909</td>\n",
       "      <td>-1.412596</td>\n",
       "      <td>-1.574092</td>\n",
       "      <td>1.956985</td>\n",
       "    </tr>\n",
       "    <tr>\n",
       "      <th>14</th>\n",
       "      <td>-0.285149</td>\n",
       "      <td>0.464616</td>\n",
       "      <td>-0.071596</td>\n",
       "      <td>-0.538920</td>\n",
       "      <td>-0.390411</td>\n",
       "      <td>-0.218210</td>\n",
       "      <td>-0.249580</td>\n",
       "    </tr>\n",
       "    <tr>\n",
       "      <th>15</th>\n",
       "      <td>-0.791544</td>\n",
       "      <td>-0.373768</td>\n",
       "      <td>-0.761248</td>\n",
       "      <td>3.329403</td>\n",
       "      <td>-0.447921</td>\n",
       "      <td>1.923493</td>\n",
       "      <td>-0.689755</td>\n",
       "    </tr>\n",
       "    <tr>\n",
       "      <th>16</th>\n",
       "      <td>-0.238721</td>\n",
       "      <td>-0.035350</td>\n",
       "      <td>0.194538</td>\n",
       "      <td>0.706767</td>\n",
       "      <td>-0.151164</td>\n",
       "      <td>-1.393455</td>\n",
       "      <td>-0.153704</td>\n",
       "    </tr>\n",
       "    <tr>\n",
       "      <th>17</th>\n",
       "      <td>-0.910104</td>\n",
       "      <td>1.000381</td>\n",
       "      <td>-0.817324</td>\n",
       "      <td>-0.242400</td>\n",
       "      <td>-0.595582</td>\n",
       "      <td>0.824230</td>\n",
       "      <td>-0.794604</td>\n",
       "    </tr>\n",
       "    <tr>\n",
       "      <th>18</th>\n",
       "      <td>-0.909065</td>\n",
       "      <td>0.926695</td>\n",
       "      <td>-0.817324</td>\n",
       "      <td>-0.036016</td>\n",
       "      <td>-0.111892</td>\n",
       "      <td>0.057443</td>\n",
       "      <td>-0.793567</td>\n",
       "    </tr>\n",
       "    <tr>\n",
       "      <th>19</th>\n",
       "      <td>0.042030</td>\n",
       "      <td>0.040102</td>\n",
       "      <td>0.612621</td>\n",
       "      <td>-0.339107</td>\n",
       "      <td>0.143342</td>\n",
       "      <td>-0.214146</td>\n",
       "      <td>0.105875</td>\n",
       "    </tr>\n",
       "    <tr>\n",
       "      <th>20</th>\n",
       "      <td>-0.289447</td>\n",
       "      <td>0.138749</td>\n",
       "      <td>1.170357</td>\n",
       "      <td>0.170208</td>\n",
       "      <td>-0.654370</td>\n",
       "      <td>0.125680</td>\n",
       "      <td>-0.179530</td>\n",
       "    </tr>\n",
       "    <tr>\n",
       "      <th>21</th>\n",
       "      <td>-0.351335</td>\n",
       "      <td>0.575642</td>\n",
       "      <td>-0.817324</td>\n",
       "      <td>-0.539486</td>\n",
       "      <td>-0.440285</td>\n",
       "      <td>0.796382</td>\n",
       "      <td>-0.575390</td>\n",
       "    </tr>\n",
       "  </tbody>\n",
       "</table>\n",
       "</div>"
      ],
      "text/plain": [
       "   disorder_type_Demonstrations disorder_type_Political violence  \\\n",
       "                           mean                             mean   \n",
       "0                     -0.062184                        -0.196612   \n",
       "1                      3.277993                        -3.175152   \n",
       "2                     -0.826333                         0.699569   \n",
       "3                     -0.361954                         0.502407   \n",
       "4                      0.231491                        -0.230760   \n",
       "5                     -0.592586                         0.849702   \n",
       "6                     -0.186671                         0.477985   \n",
       "7                     -0.526463                         0.884811   \n",
       "8                     -0.332384                         0.606360   \n",
       "9                     -0.119620                         0.103915   \n",
       "10                     1.672319                        -1.353045   \n",
       "11                    -0.358782                         0.681081   \n",
       "12                    -0.089861                        -0.676184   \n",
       "13                     2.008370                        -1.911145   \n",
       "14                    -0.285149                         0.464616   \n",
       "15                    -0.791544                        -0.373768   \n",
       "16                    -0.238721                        -0.035350   \n",
       "17                    -0.910104                         1.000381   \n",
       "18                    -0.909065                         0.926695   \n",
       "19                     0.042030                         0.040102   \n",
       "20                    -0.289447                         0.138749   \n",
       "21                    -0.351335                         0.575642   \n",
       "\n",
       "   disorder_type_Political violence; Demonstrations  \\\n",
       "                                               mean   \n",
       "0                                          0.286997   \n",
       "1                                          3.576348   \n",
       "2                                         -0.364326   \n",
       "3                                         -0.211786   \n",
       "4                                         -0.148296   \n",
       "5                                         -0.817324   \n",
       "6                                         -0.817324   \n",
       "7                                         -0.817324   \n",
       "8                                         -0.817324   \n",
       "9                                          0.236097   \n",
       "10                                         0.004685   \n",
       "11                                         0.197082   \n",
       "12                                        -0.303147   \n",
       "13                                         1.302940   \n",
       "14                                        -0.071596   \n",
       "15                                        -0.761248   \n",
       "16                                         0.194538   \n",
       "17                                        -0.817324   \n",
       "18                                        -0.817324   \n",
       "19                                         0.612621   \n",
       "20                                         1.170357   \n",
       "21                                        -0.817324   \n",
       "\n",
       "   disorder_type_Strategic developments event_type_Battles  \\\n",
       "                                   mean               mean   \n",
       "0                              0.672818          -0.144070   \n",
       "1                             -0.457802          -1.966187   \n",
       "2                              0.303258           0.672871   \n",
       "3                             -0.413948           1.349126   \n",
       "4                              0.059643          -1.025399   \n",
       "5                             -0.668633           2.499676   \n",
       "6                             -0.705127           1.210126   \n",
       "7                             -0.946141           0.660824   \n",
       "8                             -0.677658           1.235828   \n",
       "9                             -0.016519          -0.571214   \n",
       "10                            -0.657606          -0.875389   \n",
       "11                            -1.004603           0.756059   \n",
       "12                             2.216778           0.258629   \n",
       "13                            -0.214909          -1.412596   \n",
       "14                            -0.538920          -0.390411   \n",
       "15                             3.329403          -0.447921   \n",
       "16                             0.706767          -0.151164   \n",
       "17                            -0.242400          -0.595582   \n",
       "18                            -0.036016          -0.111892   \n",
       "19                            -0.339107           0.143342   \n",
       "20                             0.170208          -0.654370   \n",
       "21                            -0.539486          -0.440285   \n",
       "\n",
       "   event_type_Explosions/Remote violence event_type_Protests  \n",
       "                                    mean                mean  \n",
       "0                              -0.593791            0.007137  \n",
       "1                              -1.531043            3.421842  \n",
       "2                              -0.220407           -0.803365  \n",
       "3                              -0.896957           -0.289357  \n",
       "4                               1.215827            0.188832  \n",
       "5                              -0.424120           -0.671497  \n",
       "6                               0.680517           -0.361296  \n",
       "7                               0.772717           -0.532926  \n",
       "8                               0.544806           -0.408803  \n",
       "9                              -0.298371           -0.096100  \n",
       "10                             -1.546751            1.466004  \n",
       "11                              1.841637           -0.554978  \n",
       "12                              0.128612            0.007777  \n",
       "13                             -1.574092            1.956985  \n",
       "14                             -0.218210           -0.249580  \n",
       "15                              1.923493           -0.689755  \n",
       "16                             -1.393455           -0.153704  \n",
       "17                              0.824230           -0.794604  \n",
       "18                              0.057443           -0.793567  \n",
       "19                             -0.214146            0.105875  \n",
       "20                              0.125680           -0.179530  \n",
       "21                              0.796382           -0.575390  "
      ]
     },
     "execution_count": 25,
     "metadata": {},
     "output_type": "execute_result"
    }
   ],
   "source": [
    "# Scale X_train and X_val using StandardScaler\n",
    "scaler = StandardScaler()\n",
    "X_train_scaled = scaler.fit_transform(X_train)\n",
    "X_test_scaled = scaler.transform(X_test)\n",
    "\n",
    "X_train = pd.DataFrame(X_train_scaled, columns=X.columns)\n",
    "X_test =  pd.DataFrame(X_test_scaled, columns=X.columns)\n",
    "\n",
    "X_train\n"
   ]
  },
  {
   "cell_type": "markdown",
   "metadata": {},
   "source": [
    "# LINEAR REGRESSION AS BASELINE MODEL #"
   ]
  },
  {
   "cell_type": "code",
   "execution_count": 27,
   "metadata": {},
   "outputs": [
    {
     "name": "stdout",
     "output_type": "stream",
     "text": [
      "Train R^2: 0.4347308718794314\n",
      "Test R^2: 0.3043523148504288\n"
     ]
    }
   ],
   "source": [
    "# Create a LinearRegression model and fit it on scaled training data\n",
    "regression = LinearRegression()\n",
    "regression.fit(X_train, y_train)\n",
    "\n",
    "# Calculate a baseline r-squared score on training data and validation\n",
    "\n",
    "print(\"Train R^2:\", r2_score((regression.predict(X_train)), y_train))\n",
    "print(\"Test R^2:\", r2_score((regression.predict(X_test)), y_test))\n",
    "\n"
   ]
  },
  {
   "cell_type": "markdown",
   "metadata": {},
   "source": [
    "Observations:\n",
    "Train R^2 :  (0.43)\n",
    "\n",
    "The model explains 43% of the variance in the training dataset.\n",
    "\n",
    "Test R^2: (0.30):\n",
    "\n",
    "The model explains only 30 % of the variance in the test dataset.\n",
    "This indicates the model is not generalizing well to unseen data"
   ]
  },
  {
   "cell_type": "markdown",
   "metadata": {},
   "source": [
    "# Random Forest regressor as second model #"
   ]
  },
  {
   "cell_type": "code",
   "execution_count": 32,
   "metadata": {},
   "outputs": [
    {
     "data": {
      "text/html": [
       "<style>#sk-container-id-2 {color: black;background-color: white;}#sk-container-id-2 pre{padding: 0;}#sk-container-id-2 div.sk-toggleable {background-color: white;}#sk-container-id-2 label.sk-toggleable__label {cursor: pointer;display: block;width: 100%;margin-bottom: 0;padding: 0.3em;box-sizing: border-box;text-align: center;}#sk-container-id-2 label.sk-toggleable__label-arrow:before {content: \"▸\";float: left;margin-right: 0.25em;color: #696969;}#sk-container-id-2 label.sk-toggleable__label-arrow:hover:before {color: black;}#sk-container-id-2 div.sk-estimator:hover label.sk-toggleable__label-arrow:before {color: black;}#sk-container-id-2 div.sk-toggleable__content {max-height: 0;max-width: 0;overflow: hidden;text-align: left;background-color: #f0f8ff;}#sk-container-id-2 div.sk-toggleable__content pre {margin: 0.2em;color: black;border-radius: 0.25em;background-color: #f0f8ff;}#sk-container-id-2 input.sk-toggleable__control:checked~div.sk-toggleable__content {max-height: 200px;max-width: 100%;overflow: auto;}#sk-container-id-2 input.sk-toggleable__control:checked~label.sk-toggleable__label-arrow:before {content: \"▾\";}#sk-container-id-2 div.sk-estimator input.sk-toggleable__control:checked~label.sk-toggleable__label {background-color: #d4ebff;}#sk-container-id-2 div.sk-label input.sk-toggleable__control:checked~label.sk-toggleable__label {background-color: #d4ebff;}#sk-container-id-2 input.sk-hidden--visually {border: 0;clip: rect(1px 1px 1px 1px);clip: rect(1px, 1px, 1px, 1px);height: 1px;margin: -1px;overflow: hidden;padding: 0;position: absolute;width: 1px;}#sk-container-id-2 div.sk-estimator {font-family: monospace;background-color: #f0f8ff;border: 1px dotted black;border-radius: 0.25em;box-sizing: border-box;margin-bottom: 0.5em;}#sk-container-id-2 div.sk-estimator:hover {background-color: #d4ebff;}#sk-container-id-2 div.sk-parallel-item::after {content: \"\";width: 100%;border-bottom: 1px solid gray;flex-grow: 1;}#sk-container-id-2 div.sk-label:hover label.sk-toggleable__label {background-color: #d4ebff;}#sk-container-id-2 div.sk-serial::before {content: \"\";position: absolute;border-left: 1px solid gray;box-sizing: border-box;top: 0;bottom: 0;left: 50%;z-index: 0;}#sk-container-id-2 div.sk-serial {display: flex;flex-direction: column;align-items: center;background-color: white;padding-right: 0.2em;padding-left: 0.2em;position: relative;}#sk-container-id-2 div.sk-item {position: relative;z-index: 1;}#sk-container-id-2 div.sk-parallel {display: flex;align-items: stretch;justify-content: center;background-color: white;position: relative;}#sk-container-id-2 div.sk-item::before, #sk-container-id-2 div.sk-parallel-item::before {content: \"\";position: absolute;border-left: 1px solid gray;box-sizing: border-box;top: 0;bottom: 0;left: 50%;z-index: -1;}#sk-container-id-2 div.sk-parallel-item {display: flex;flex-direction: column;z-index: 1;position: relative;background-color: white;}#sk-container-id-2 div.sk-parallel-item:first-child::after {align-self: flex-end;width: 50%;}#sk-container-id-2 div.sk-parallel-item:last-child::after {align-self: flex-start;width: 50%;}#sk-container-id-2 div.sk-parallel-item:only-child::after {width: 0;}#sk-container-id-2 div.sk-dashed-wrapped {border: 1px dashed gray;margin: 0 0.4em 0.5em 0.4em;box-sizing: border-box;padding-bottom: 0.4em;background-color: white;}#sk-container-id-2 div.sk-label label {font-family: monospace;font-weight: bold;display: inline-block;line-height: 1.2em;}#sk-container-id-2 div.sk-label-container {text-align: center;}#sk-container-id-2 div.sk-container {/* jupyter's `normalize.less` sets `[hidden] { display: none; }` but bootstrap.min.css set `[hidden] { display: none !important; }` so we also need the `!important` here to be able to override the default hidden behavior on the sphinx rendered scikit-learn.org. See: https://github.com/scikit-learn/scikit-learn/issues/21755 */display: inline-block !important;position: relative;}#sk-container-id-2 div.sk-text-repr-fallback {display: none;}</style><div id=\"sk-container-id-2\" class=\"sk-top-container\"><div class=\"sk-text-repr-fallback\"><pre>RandomForestRegressor(random_state=42)</pre><b>In a Jupyter environment, please rerun this cell to show the HTML representation or trust the notebook. <br />On GitHub, the HTML representation is unable to render, please try loading this page with nbviewer.org.</b></div><div class=\"sk-container\" hidden><div class=\"sk-item\"><div class=\"sk-estimator sk-toggleable\"><input class=\"sk-toggleable__control sk-hidden--visually\" id=\"sk-estimator-id-2\" type=\"checkbox\" checked><label for=\"sk-estimator-id-2\" class=\"sk-toggleable__label sk-toggleable__label-arrow\">RandomForestRegressor</label><div class=\"sk-toggleable__content\"><pre>RandomForestRegressor(random_state=42)</pre></div></div></div></div></div>"
      ],
      "text/plain": [
       "RandomForestRegressor(random_state=42)"
      ]
     },
     "execution_count": 32,
     "metadata": {},
     "output_type": "execute_result"
    }
   ],
   "source": [
    "# Create and train the Random Forest Regressor\n",
    "from sklearn.ensemble import RandomForestRegressor\n",
    "rf_regressor = RandomForestRegressor(n_estimators=100, random_state=42)\n",
    "rf_regressor.fit(X_train, y_train)\n",
    "\n"
   ]
  },
  {
   "cell_type": "code",
   "execution_count": 33,
   "metadata": {},
   "outputs": [
    {
     "name": "stdout",
     "output_type": "stream",
     "text": [
      "Train R^2: 0.8617894726016958\n",
      "Test R^2: -0.33393212263004624\n"
     ]
    }
   ],
   "source": [
    "\n",
    "print(\"Train R^2:\", r2_score((rf_regressor.predict(X_train)), y_train))\n",
    "print(\"Test R^2:\", r2_score((rf_regressor.predict(X_test)), y_test))"
   ]
  },
  {
   "cell_type": "markdown",
   "metadata": {},
   "source": [
    "Training Set\n",
    "\n",
    "Train R^2 ( 0.86):\n",
    "\n",
    "This means that the model explains 86% of the variance in the target variable for the training data.\n",
    "\n",
    "A high R² suggests that the model is fitting well in capturing patterns in the data effectively.\n",
    "\n",
    "Test dataset\n",
    "\n",
    "test R^2 -0.33\n",
    "\n",
    "A negative R² indicates that the model performs worse than a simple baseline (e.g., predicting the mean of the target variable).\n",
    "\n",
    "This suggests the model is overfitted or poorly generalized to unseen data."
   ]
  }
 ],
 "metadata": {
  "kernelspec": {
   "display_name": "base",
   "language": "python",
   "name": "python3"
  },
  "language_info": {
   "codemirror_mode": {
    "name": "ipython",
    "version": 3
   },
   "file_extension": ".py",
   "mimetype": "text/x-python",
   "name": "python",
   "nbconvert_exporter": "python",
   "pygments_lexer": "ipython3",
   "version": "3.11.7"
  }
 },
 "nbformat": 4,
 "nbformat_minor": 4
}
