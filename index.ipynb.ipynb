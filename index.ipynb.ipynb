{
 "cells": [
  {
   "cell_type": "markdown",
   "metadata": {},
   "source": [
    "**P_Gaduel_PROJECT**\n",
    "\n",
    "**1:  Research Objectives**\n",
    "\n",
    "1.1: Project objectives \n",
    "\n",
    "*To quantify the prevalence of political violence events in Africa and Sudan in particular over the past decade*.\n",
    "\n",
    "*To analyze the trend in the number of fatalities resulting from political violence events in Sudan*.\n",
    "\n",
    "*To investigate the correlation between the frequency of political violence events and the number of fatalities*.\n",
    "\n",
    "*To identify the types of political violence that result in the highest number of fatalities*.\n",
    "\n",
    "*To provide policy recommendations based on the findings to reduce fatalities associated with political violence in Sudan*.\n",
    "\n",
    "1.2: Hypothesis\n",
    "\n",
    "Null Hypothesis (H₀)\n",
    "\n",
    "*\"There is no correlation between the frequency of political violence events and the number of fatalities in Sudan.\"*\n",
    "\n",
    "Alternative Hypothesis (H₁)\n",
    "\n",
    "*\"There is a positive correlation between the frequency of political violence events and the number of fatalities in Sudan.\"*\n",
    "\n",
    "\n",
    "1.3: Data Collection\n",
    "\n",
    "*Data on political violence events and fatalities was collected from https://acleddata.com/curated-data-files/#regional*\n",
    "\n",
    "Data Analysis\n",
    "\n",
    "*Data will be analysed using statistical methods to to investigate the correlation coefficients and strong linear relationship using regression analysis.The results will be tested using statsmodels and scikitlearn.*\n",
    "\n",
    "*Interpretation: Determine if the results support the hypothesis and assess the strength and significance of the correlation.*\n",
    "\n",
    "\n",
    "1.4: Description of the ACLED Data Columns at a Glance\n",
    "\n",
    "  \n",
    "**Column name\tColumn description\tValues**\n",
    "\n",
    "**event_id_cnty**:\tA unique alphanumeric event identifier by number and country acronym. This identifier remains constant even when the event details are updated.\tE.g. ETH9766\n",
    "\n",
    "**event_date**:\tThe date on which the event took place. Recorded as Year-Month-Day. \tE.g. 2023-02-16\n",
    "year\tThe year in which the event took place.\tE.g. 2018\n",
    "\n",
    "**time_precision**:\tA numeric code between 1 and 3 indicating the level of precision of the date recorded for the event. The higher the number, the lower the precision.\t1, 2, or 3; with 1 being the most precise.\n",
    "\n",
    "**disorder_type** \tThe disorder category an event belongs to.\tPolitical violence, Demonstrations, or Strategic developments.\n",
    "\n",
    "**event_type**\tThe type of event; further specifies the nature of the event.\tE.g. Battles For the full list of ACLED event types, see the ACLED Event Types table.\n",
    "\n",
    "**sub_event_type**:\tA subcategory of the event type.\tE.g. Armed clash \n",
    "\n",
    "**actor1**:\tOne of two main actors involved in the event (does not necessarily indicate the aggressor).\tE.g. Rioters (Papua New Guinea)\n",
    "\n",
    "**assoc_actor_1**:\tActor(s) involved in the event alongside ‘Actor 1’ or actor designations that further identify ‘Actor 1’.\tE.g. Labor Group (Spain); Women (Spain)\n",
    "\n",
    "\n",
    "**inter1**:\tA text value indicating the type of ‘Actor 1’ (for more, see the section Actor Names, Types, and ‘Inter’ Codes).\tE.g. Rebel group\n",
    "\n",
    "**actor2**:\tOne of two main actors involved in the event (does not necessarily indicate the target or victim).\tE.g. Civilians (Kenya)\n",
    "\n",
    "**assoc_actor_2**: Actor(s) involved in the event alongside ‘Actor 2’ or actor designation further identifying ‘Actor 2’. \tE.g. Labor Group (Spain); Women (Spain)\n",
    "\n",
    "\n",
    "**inter2**:\tA text value indicating the type of ‘Actor 2’ (for more, see the section Actor Names, Types, and ‘Inter’ Codes).\tE.g. State forces\n",
    "\n",
    "**interaction**:\tA text value based on a combination of ‘Inter 1’ and ‘Inter 2’ indicating the two actor types interacting in the event (for more, see the section Actor Names, Types, and ‘Inter’ Codes).\tE.g. Rebel group – Civilians\n",
    "\n",
    "**civilian_targeting**:\tThis column indicates whether the event involved civilian targeting. \tEither ‘Civilians targeted’ or blank.\n",
    "\n",
    "**iso**:\tA unique three-digit numeric code assigned to each country or territory according to ISO 3166.\tE.g. 231 for Ethiopia\n",
    "\n",
    "**region**:\tThe region of the world where the event took place.\tE.g. Eastern Africa\n",
    "\n",
    "**country**: \tThe country or territory in which the event took place.\tE.g. Ethiopia\n",
    "\n",
    "**admin1**:\tThe largest sub-national administrative region in which the event took place.\tE.g. Oromia\n",
    "\n",
    "**admin2**:\tThe second largest sub-national administrative region in which the event took place.\tE.g. Arsi\n",
    "\n",
    "**admin3**:\tThe third largest sub-national administrative region in which the event took place.\tE.g. Merti\n",
    "\n",
    "**location**:\tThe name of the location at which the event took place.\tE.g. Abomsa\n",
    "\n",
    "**latitude**:\tThe latitude of the location in four decimal degrees notation (EPSG:4326).\tE.g. 8.5907\n",
    "\n",
    "**longitude**:\tThe longitude of the location in four decimal degrees notation (EPSG:4326).\tE.g. 39.8588\n",
    "\n",
    "**geo_precision**:\tA numeric code between 1 and 3 indicating the level of certainty of the location recorded for the event. The higher the number, the lower the precision.\t1, 2, or 3; with 1 being the most precise.\n",
    "\n",
    "**source**:\tThe sources used to record the event. Separated by a semicolon.\tE.g. Ansar Allah; Yemen Data Project\n",
    "\n",
    "**source_ scale**:\tAn indication of the geographic closeness of the used sources to the event (for more, see the section Source Scale).\tE.g. Local partner-National\n",
    "\n",
    "**notes**\tA short description of the event.\tE.g. On 16 February 2023, OLF-Shane abducted an unidentified number of civilians after stopping a vehicle in an area near Abomsa (Merti, Arsi, Oromia). The abductees were traveling from Adama to Abomsa, Arsi.\n",
    "fatalities\tThe number of reported fatalities arising from an event. When there are conflicting reports, the most conservative estimate is recorded.\tE.g. 3. No information on fatalities is recorded as 0 reported fatalities.\n",
    "\n",
    "**tags**\tAdditional structured information about the event. Separated by a semicolon.\tE.g. women targeted: politicians; sexual violence\n",
    "\n",
    "**timestamp**\tAn automatically generated Unix timestamp that represents the exact date and time an event was uploaded to the ACLED API.\tE.g. 1676909320\n"
   ]
  },
  {
   "cell_type": "markdown",
   "metadata": {},
   "source": [
    "**2: Importing the neccessary python libraries and loading the data**"
   ]
  },
  {
   "cell_type": "code",
   "execution_count": 1,
   "metadata": {},
   "outputs": [
    {
     "name": "stdout",
     "output_type": "stream",
     "text": [
      "Index(['event_id_cnty', 'event_date', 'year', 'time_precision',\n",
      "       'disorder_type', 'event_type', 'sub_event_type', 'actor1',\n",
      "       'assoc_actor_1', 'inter1', 'actor2', 'assoc_actor_2', 'inter2',\n",
      "       'interaction', 'civilian_targeting', 'iso', 'region', 'country',\n",
      "       'admin1', 'admin2', 'admin3', 'location', 'latitude', 'longitude',\n",
      "       'geo_precision', 'source', 'source_scale', 'notes', 'fatalities',\n",
      "       'tags', 'timestamp'],\n",
      "      dtype='object')\n"
     ]
    }
   ],
   "source": [
    "import pandas as pd\n",
    "import matplotlib.pyplot as plt\n",
    "%matplotlib inline\n",
    "import seaborn as sns\n",
    "import statistics\n",
    "import plotly.express as px\n",
    "import plotly.graph_objects as go\n",
    "from plotly.subplots import make_subplots\n",
    "\n",
    "df = pd.read_csv(r'C:\\Users\\pgaduel\\Desktop\\Gaduel_Phase3_Project\\Sudan_1997-2024_Dec06.csv')\n",
    "print(df.columns)"
   ]
  },
  {
   "cell_type": "markdown",
   "metadata": {},
   "source": [
    "**3: Data inspection, cleaning and preprocessing**"
   ]
  },
  {
   "cell_type": "code",
   "execution_count": 2,
   "metadata": {},
   "outputs": [
    {
     "name": "stdout",
     "output_type": "stream",
     "text": [
      "Shape of the data: (35057, 31)\n"
     ]
    },
    {
     "data": {
      "text/html": [
       "<div>\n",
       "<style scoped>\n",
       "    .dataframe tbody tr th:only-of-type {\n",
       "        vertical-align: middle;\n",
       "    }\n",
       "\n",
       "    .dataframe tbody tr th {\n",
       "        vertical-align: top;\n",
       "    }\n",
       "\n",
       "    .dataframe thead th {\n",
       "        text-align: right;\n",
       "    }\n",
       "</style>\n",
       "<table border=\"1\" class=\"dataframe\">\n",
       "  <thead>\n",
       "    <tr style=\"text-align: right;\">\n",
       "      <th></th>\n",
       "      <th>event_id_cnty</th>\n",
       "      <th>event_date</th>\n",
       "      <th>year</th>\n",
       "      <th>time_precision</th>\n",
       "      <th>disorder_type</th>\n",
       "      <th>event_type</th>\n",
       "      <th>sub_event_type</th>\n",
       "      <th>actor1</th>\n",
       "      <th>assoc_actor_1</th>\n",
       "      <th>inter1</th>\n",
       "      <th>...</th>\n",
       "      <th>location</th>\n",
       "      <th>latitude</th>\n",
       "      <th>longitude</th>\n",
       "      <th>geo_precision</th>\n",
       "      <th>source</th>\n",
       "      <th>source_scale</th>\n",
       "      <th>notes</th>\n",
       "      <th>fatalities</th>\n",
       "      <th>tags</th>\n",
       "      <th>timestamp</th>\n",
       "    </tr>\n",
       "  </thead>\n",
       "  <tbody>\n",
       "    <tr>\n",
       "      <th>0</th>\n",
       "      <td>SUD31794</td>\n",
       "      <td>12/6/2024</td>\n",
       "      <td>2024</td>\n",
       "      <td>1</td>\n",
       "      <td>Political violence</td>\n",
       "      <td>Battles</td>\n",
       "      <td>Armed clash</td>\n",
       "      <td>Military Forces of Sudan (2019-)</td>\n",
       "      <td>NaN</td>\n",
       "      <td>State forces</td>\n",
       "      <td>...</td>\n",
       "      <td>El Fasher</td>\n",
       "      <td>13.6264</td>\n",
       "      <td>25.3559</td>\n",
       "      <td>1</td>\n",
       "      <td>Twitter; WikiLeaks - El Fasher 'Darfur News'</td>\n",
       "      <td>New media</td>\n",
       "      <td>On 6 December 2024, SAF airstrikes targeted RS...</td>\n",
       "      <td>0</td>\n",
       "      <td>NaN</td>\n",
       "      <td>1733789073</td>\n",
       "    </tr>\n",
       "    <tr>\n",
       "      <th>1</th>\n",
       "      <td>SUD31815</td>\n",
       "      <td>12/6/2024</td>\n",
       "      <td>2024</td>\n",
       "      <td>1</td>\n",
       "      <td>Political violence; Demonstrations</td>\n",
       "      <td>Protests</td>\n",
       "      <td>Excessive force against protesters</td>\n",
       "      <td>Protesters (Sudan)</td>\n",
       "      <td>NaN</td>\n",
       "      <td>Protesters</td>\n",
       "      <td>...</td>\n",
       "      <td>Malha</td>\n",
       "      <td>15.0934</td>\n",
       "      <td>26.1591</td>\n",
       "      <td>1</td>\n",
       "      <td>Darfur 24; WikiLeaks - El Fasher 'Darfur News'</td>\n",
       "      <td>New media-Subnational</td>\n",
       "      <td>On 6 December 2024, residents staged a protest...</td>\n",
       "      <td>1</td>\n",
       "      <td>crowd size=no report</td>\n",
       "      <td>1733789073</td>\n",
       "    </tr>\n",
       "    <tr>\n",
       "      <th>2</th>\n",
       "      <td>SUD31831</td>\n",
       "      <td>12/6/2024</td>\n",
       "      <td>2024</td>\n",
       "      <td>1</td>\n",
       "      <td>Political violence</td>\n",
       "      <td>Explosions/Remote violence</td>\n",
       "      <td>Air/drone strike</td>\n",
       "      <td>Military Forces of Sudan (2019-)</td>\n",
       "      <td>NaN</td>\n",
       "      <td>State forces</td>\n",
       "      <td>...</td>\n",
       "      <td>Khartoum North - Shambat</td>\n",
       "      <td>15.6594</td>\n",
       "      <td>32.5300</td>\n",
       "      <td>1</td>\n",
       "      <td>Alhamish Voice; Beam reports; Emergency Lawyer...</td>\n",
       "      <td>New media-National</td>\n",
       "      <td>On 6 December 2024, SAF airstrikes targeted a ...</td>\n",
       "      <td>5</td>\n",
       "      <td>NaN</td>\n",
       "      <td>1733789073</td>\n",
       "    </tr>\n",
       "    <tr>\n",
       "      <th>3</th>\n",
       "      <td>SUD31839</td>\n",
       "      <td>12/6/2024</td>\n",
       "      <td>2024</td>\n",
       "      <td>1</td>\n",
       "      <td>Demonstrations</td>\n",
       "      <td>Protests</td>\n",
       "      <td>Peaceful protest</td>\n",
       "      <td>Protesters (Sudan)</td>\n",
       "      <td>NaN</td>\n",
       "      <td>Protesters</td>\n",
       "      <td>...</td>\n",
       "      <td>Sunta</td>\n",
       "      <td>11.0432</td>\n",
       "      <td>25.6139</td>\n",
       "      <td>1</td>\n",
       "      <td>Darfur 24</td>\n",
       "      <td>Subnational</td>\n",
       "      <td>On 6 December 2024, residents staged a protest...</td>\n",
       "      <td>0</td>\n",
       "      <td>crowd size=no report</td>\n",
       "      <td>1733789073</td>\n",
       "    </tr>\n",
       "    <tr>\n",
       "      <th>4</th>\n",
       "      <td>SUD31842</td>\n",
       "      <td>12/6/2024</td>\n",
       "      <td>2024</td>\n",
       "      <td>2</td>\n",
       "      <td>Strategic developments</td>\n",
       "      <td>Strategic developments</td>\n",
       "      <td>Change to group/activity</td>\n",
       "      <td>Military Forces of Sudan (2019-)</td>\n",
       "      <td>NaN</td>\n",
       "      <td>State forces</td>\n",
       "      <td>...</td>\n",
       "      <td>Al Sharif Wad El Obeid</td>\n",
       "      <td>14.4121</td>\n",
       "      <td>33.7298</td>\n",
       "      <td>1</td>\n",
       "      <td>Twitter</td>\n",
       "      <td>New media</td>\n",
       "      <td>Movement of forces: Around 6 December 2024 (as...</td>\n",
       "      <td>0</td>\n",
       "      <td>NaN</td>\n",
       "      <td>1733789073</td>\n",
       "    </tr>\n",
       "  </tbody>\n",
       "</table>\n",
       "<p>5 rows × 31 columns</p>\n",
       "</div>"
      ],
      "text/plain": [
       "  event_id_cnty event_date  year  time_precision  \\\n",
       "0      SUD31794  12/6/2024  2024               1   \n",
       "1      SUD31815  12/6/2024  2024               1   \n",
       "2      SUD31831  12/6/2024  2024               1   \n",
       "3      SUD31839  12/6/2024  2024               1   \n",
       "4      SUD31842  12/6/2024  2024               2   \n",
       "\n",
       "                        disorder_type                  event_type  \\\n",
       "0                  Political violence                     Battles   \n",
       "1  Political violence; Demonstrations                    Protests   \n",
       "2                  Political violence  Explosions/Remote violence   \n",
       "3                      Demonstrations                    Protests   \n",
       "4              Strategic developments      Strategic developments   \n",
       "\n",
       "                       sub_event_type                            actor1  \\\n",
       "0                         Armed clash  Military Forces of Sudan (2019-)   \n",
       "1  Excessive force against protesters                Protesters (Sudan)   \n",
       "2                    Air/drone strike  Military Forces of Sudan (2019-)   \n",
       "3                    Peaceful protest                Protesters (Sudan)   \n",
       "4            Change to group/activity  Military Forces of Sudan (2019-)   \n",
       "\n",
       "  assoc_actor_1        inter1  ...                  location latitude  \\\n",
       "0           NaN  State forces  ...                 El Fasher  13.6264   \n",
       "1           NaN    Protesters  ...                     Malha  15.0934   \n",
       "2           NaN  State forces  ...  Khartoum North - Shambat  15.6594   \n",
       "3           NaN    Protesters  ...                     Sunta  11.0432   \n",
       "4           NaN  State forces  ...    Al Sharif Wad El Obeid  14.4121   \n",
       "\n",
       "  longitude geo_precision                                             source  \\\n",
       "0   25.3559             1       Twitter; WikiLeaks - El Fasher 'Darfur News'   \n",
       "1   26.1591             1     Darfur 24; WikiLeaks - El Fasher 'Darfur News'   \n",
       "2   32.5300             1  Alhamish Voice; Beam reports; Emergency Lawyer...   \n",
       "3   25.6139             1                                          Darfur 24   \n",
       "4   33.7298             1                                            Twitter   \n",
       "\n",
       "            source_scale                                              notes  \\\n",
       "0              New media  On 6 December 2024, SAF airstrikes targeted RS...   \n",
       "1  New media-Subnational  On 6 December 2024, residents staged a protest...   \n",
       "2     New media-National  On 6 December 2024, SAF airstrikes targeted a ...   \n",
       "3            Subnational  On 6 December 2024, residents staged a protest...   \n",
       "4              New media  Movement of forces: Around 6 December 2024 (as...   \n",
       "\n",
       "  fatalities                  tags   timestamp  \n",
       "0          0                   NaN  1733789073  \n",
       "1          1  crowd size=no report  1733789073  \n",
       "2          5                   NaN  1733789073  \n",
       "3          0  crowd size=no report  1733789073  \n",
       "4          0                   NaN  1733789073  \n",
       "\n",
       "[5 rows x 31 columns]"
      ]
     },
     "execution_count": 2,
     "metadata": {},
     "output_type": "execute_result"
    }
   ],
   "source": [
    "#Inspecting the dataset\n",
    "\n",
    "print(\"Shape of the data:\", df.shape)\n",
    "Rows,Cols=df.shape\n",
    "df.head()"
   ]
  },
  {
   "cell_type": "code",
   "execution_count": null,
   "metadata": {},
   "outputs": [],
   "source": []
  },
  {
   "cell_type": "code",
   "execution_count": 5,
   "metadata": {},
   "outputs": [
    {
     "name": "stdout",
     "output_type": "stream",
     "text": [
      "(52472, 32)\n"
     ]
    }
   ],
   "source": []
  },
  {
   "cell_type": "code",
   "execution_count": null,
   "metadata": {},
   "outputs": [],
   "source": [
    "#Group by 'location' (or any other region-related column)\n",
    "grouped = df.groupby('country').sum()\n",
    "\n",
    "#print(grouped)\n",
    "grouped"
   ]
  },
  {
   "cell_type": "code",
   "execution_count": 4,
   "metadata": {},
   "outputs": [
    {
     "data": {
      "text/plain": [
       "event_id_cnty         0\n",
       "event_date            0\n",
       "tags                  0\n",
       "fatalities            0\n",
       "notes                 0\n",
       "source_scale          0\n",
       "source                0\n",
       "geo_precision         0\n",
       "longitude             0\n",
       "latitude              0\n",
       "location              0\n",
       "admin3                0\n",
       "admin2                0\n",
       "admin1                0\n",
       "region                0\n",
       "iso                   0\n",
       "civilian_targeting    0\n",
       "interaction           0\n",
       "inter2                0\n",
       "assoc_actor_2         0\n",
       "actor2                0\n",
       "inter1                0\n",
       "assoc_actor_1         0\n",
       "actor1                0\n",
       "sub_event_type        0\n",
       "event_type            0\n",
       "disorder_type         0\n",
       "time_precision        0\n",
       "year                  0\n",
       "timestamp             0\n",
       "dtype: int64"
      ]
     },
     "execution_count": 4,
     "metadata": {},
     "output_type": "execute_result"
    }
   ],
   "source": [
    "#Check missing values from the grouped data\n",
    "grouped.isnull().sum().sort_values(ascending=False).head(31)"
   ]
  },
  {
   "cell_type": "code",
   "execution_count": 5,
   "metadata": {},
   "outputs": [
    {
     "data": {
      "text/plain": [
       "0"
      ]
     },
     "execution_count": 5,
     "metadata": {},
     "output_type": "execute_result"
    }
   ],
   "source": [
    "# check duplicated values\n",
    "grouped.duplicated().sum()"
   ]
  },
  {
   "cell_type": "code",
   "execution_count": 6,
   "metadata": {},
   "outputs": [
    {
     "data": {
      "text/html": [
       "<div>\n",
       "<style scoped>\n",
       "    .dataframe tbody tr th:only-of-type {\n",
       "        vertical-align: middle;\n",
       "    }\n",
       "\n",
       "    .dataframe tbody tr th {\n",
       "        vertical-align: top;\n",
       "    }\n",
       "\n",
       "    .dataframe thead th {\n",
       "        text-align: right;\n",
       "    }\n",
       "</style>\n",
       "<table border=\"1\" class=\"dataframe\">\n",
       "  <thead>\n",
       "    <tr style=\"text-align: right;\">\n",
       "      <th></th>\n",
       "      <th>year</th>\n",
       "      <th>time_precision</th>\n",
       "      <th>iso</th>\n",
       "      <th>latitude</th>\n",
       "      <th>longitude</th>\n",
       "      <th>geo_precision</th>\n",
       "      <th>fatalities</th>\n",
       "      <th>timestamp</th>\n",
       "    </tr>\n",
       "  </thead>\n",
       "  <tbody>\n",
       "    <tr>\n",
       "      <th>count</th>\n",
       "      <td>5.700000e+01</td>\n",
       "      <td>57.00000</td>\n",
       "      <td>5.700000e+01</td>\n",
       "      <td>57.000000</td>\n",
       "      <td>5.700000e+01</td>\n",
       "      <td>57.000000</td>\n",
       "      <td>57.000000</td>\n",
       "      <td>5.700000e+01</td>\n",
       "    </tr>\n",
       "    <tr>\n",
       "      <th>mean</th>\n",
       "      <td>1.406040e+07</td>\n",
       "      <td>7889.00000</td>\n",
       "      <td>3.538118e+06</td>\n",
       "      <td>48149.640747</td>\n",
       "      <td>1.516427e+05</td>\n",
       "      <td>8893.771930</td>\n",
       "      <td>17261.368421</td>\n",
       "      <td>1.164754e+13</td>\n",
       "    </tr>\n",
       "    <tr>\n",
       "      <th>std</th>\n",
       "      <td>2.045028e+07</td>\n",
       "      <td>11095.37261</td>\n",
       "      <td>6.353606e+06</td>\n",
       "      <td>166141.724932</td>\n",
       "      <td>3.423840e+05</td>\n",
       "      <td>13079.771134</td>\n",
       "      <td>33273.404568</td>\n",
       "      <td>1.696717e+13</td>\n",
       "    </tr>\n",
       "    <tr>\n",
       "      <th>min</th>\n",
       "      <td>4.040000e+03</td>\n",
       "      <td>2.00000</td>\n",
       "      <td>1.308000e+03</td>\n",
       "      <td>-652074.419300</td>\n",
       "      <td>-8.285411e+04</td>\n",
       "      <td>3.000000</td>\n",
       "      <td>0.000000</td>\n",
       "      <td>3.463021e+09</td>\n",
       "    </tr>\n",
       "    <tr>\n",
       "      <th>25%</th>\n",
       "      <td>1.068114e+06</td>\n",
       "      <td>584.00000</td>\n",
       "      <td>1.274140e+05</td>\n",
       "      <td>-6443.949500</td>\n",
       "      <td>2.835606e+02</td>\n",
       "      <td>592.000000</td>\n",
       "      <td>166.000000</td>\n",
       "      <td>8.631151e+11</td>\n",
       "    </tr>\n",
       "    <tr>\n",
       "      <th>50%</th>\n",
       "      <td>4.168307e+06</td>\n",
       "      <td>2250.00000</td>\n",
       "      <td>9.318240e+05</td>\n",
       "      <td>4205.090900</td>\n",
       "      <td>2.492468e+04</td>\n",
       "      <td>2729.000000</td>\n",
       "      <td>1248.000000</td>\n",
       "      <td>3.472085e+12</td>\n",
       "    </tr>\n",
       "    <tr>\n",
       "      <th>75%</th>\n",
       "      <td>2.241603e+07</td>\n",
       "      <td>12183.00000</td>\n",
       "      <td>4.797916e+06</td>\n",
       "      <td>44604.330700</td>\n",
       "      <td>1.781386e+05</td>\n",
       "      <td>13302.000000</td>\n",
       "      <td>16323.000000</td>\n",
       "      <td>1.816225e+13</td>\n",
       "    </tr>\n",
       "    <tr>\n",
       "      <th>max</th>\n",
       "      <td>9.434745e+07</td>\n",
       "      <td>47662.00000</td>\n",
       "      <td>3.303374e+07</td>\n",
       "      <td>449891.860800</td>\n",
       "      <td>2.103563e+06</td>\n",
       "      <td>56701.000000</td>\n",
       "      <td>144058.000000</td>\n",
       "      <td>7.782232e+13</td>\n",
       "    </tr>\n",
       "  </tbody>\n",
       "</table>\n",
       "</div>"
      ],
      "text/plain": [
       "               year  time_precision           iso       latitude  \\\n",
       "count  5.700000e+01        57.00000  5.700000e+01      57.000000   \n",
       "mean   1.406040e+07      7889.00000  3.538118e+06   48149.640747   \n",
       "std    2.045028e+07     11095.37261  6.353606e+06  166141.724932   \n",
       "min    4.040000e+03         2.00000  1.308000e+03 -652074.419300   \n",
       "25%    1.068114e+06       584.00000  1.274140e+05   -6443.949500   \n",
       "50%    4.168307e+06      2250.00000  9.318240e+05    4205.090900   \n",
       "75%    2.241603e+07     12183.00000  4.797916e+06   44604.330700   \n",
       "max    9.434745e+07     47662.00000  3.303374e+07  449891.860800   \n",
       "\n",
       "          longitude  geo_precision     fatalities     timestamp  \n",
       "count  5.700000e+01      57.000000      57.000000  5.700000e+01  \n",
       "mean   1.516427e+05    8893.771930   17261.368421  1.164754e+13  \n",
       "std    3.423840e+05   13079.771134   33273.404568  1.696717e+13  \n",
       "min   -8.285411e+04       3.000000       0.000000  3.463021e+09  \n",
       "25%    2.835606e+02     592.000000     166.000000  8.631151e+11  \n",
       "50%    2.492468e+04    2729.000000    1248.000000  3.472085e+12  \n",
       "75%    1.781386e+05   13302.000000   16323.000000  1.816225e+13  \n",
       "max    2.103563e+06   56701.000000  144058.000000  7.782232e+13  "
      ]
     },
     "execution_count": 6,
     "metadata": {},
     "output_type": "execute_result"
    }
   ],
   "source": [
    "grouped.describe()"
   ]
  },
  {
   "cell_type": "code",
   "execution_count": null,
   "metadata": {},
   "outputs": [],
   "source": [
    "# Define a mapping of countries to regions\n",
    "country_to_region = {\n",
    "    \"Benin\": \"Western Africa\",\n",
    "    \"Burkina Faso\": \"Western Africa\",\n",
    "    \"Chad\": \"Central Africa\",\n",
    "    \"Mali\": \"Western Africa\",\n",
    "    \"Niger\": \"Western Africa\",\n",
    "    \"Kenya\": \"Eastern Africa\",\n",
    "    \"Egypt\": \"Northern Africa\",\n",
    "    \"eSwatini\": \" Southern Africa\"\n",
    "    # Add more countries and their regions as needed\n",
    "}\n",
    "\n",
    "# Extract country from actor1 and map to region\n",
    "df['region'] = df['actor1'].apply(lambda x: country_to_region.get(x.split('(')[-1].split(')')[0], \"Unknown\"))\n",
    "\n",
    "# Group by region\n",
    "grouped = df.groupby('region').sum()\n",
    "\n",
    "grouped"
   ]
  },
  {
   "cell_type": "code",
   "execution_count": 8,
   "metadata": {},
   "outputs": [
    {
     "data": {
      "text/html": [
       "<div>\n",
       "<style scoped>\n",
       "    .dataframe tbody tr th:only-of-type {\n",
       "        vertical-align: middle;\n",
       "    }\n",
       "\n",
       "    .dataframe tbody tr th {\n",
       "        vertical-align: top;\n",
       "    }\n",
       "\n",
       "    .dataframe thead th {\n",
       "        text-align: right;\n",
       "    }\n",
       "</style>\n",
       "<table border=\"1\" class=\"dataframe\">\n",
       "  <thead>\n",
       "    <tr style=\"text-align: right;\">\n",
       "      <th></th>\n",
       "      <th>country</th>\n",
       "      <th>fatalities</th>\n",
       "    </tr>\n",
       "  </thead>\n",
       "  <tbody>\n",
       "    <tr>\n",
       "      <th>47</th>\n",
       "      <td>Sudan</td>\n",
       "      <td>13295</td>\n",
       "    </tr>\n",
       "    <tr>\n",
       "      <th>15</th>\n",
       "      <td>Ethiopia</td>\n",
       "      <td>9626</td>\n",
       "    </tr>\n",
       "    <tr>\n",
       "      <th>36</th>\n",
       "      <td>Nigeria</td>\n",
       "      <td>8682</td>\n",
       "    </tr>\n",
       "    <tr>\n",
       "      <th>4</th>\n",
       "      <td>Burkina Faso</td>\n",
       "      <td>7189</td>\n",
       "    </tr>\n",
       "    <tr>\n",
       "      <th>44</th>\n",
       "      <td>Somalia</td>\n",
       "      <td>5131</td>\n",
       "    </tr>\n",
       "    <tr>\n",
       "      <th>28</th>\n",
       "      <td>Mali</td>\n",
       "      <td>3755</td>\n",
       "    </tr>\n",
       "    <tr>\n",
       "      <th>11</th>\n",
       "      <td>Democratic Republic of Congo</td>\n",
       "      <td>3753</td>\n",
       "    </tr>\n",
       "    <tr>\n",
       "      <th>6</th>\n",
       "      <td>Cameroon</td>\n",
       "      <td>2024</td>\n",
       "    </tr>\n",
       "    <tr>\n",
       "      <th>35</th>\n",
       "      <td>Niger</td>\n",
       "      <td>1546</td>\n",
       "    </tr>\n",
       "    <tr>\n",
       "      <th>46</th>\n",
       "      <td>South Sudan</td>\n",
       "      <td>1022</td>\n",
       "    </tr>\n",
       "  </tbody>\n",
       "</table>\n",
       "</div>"
      ],
      "text/plain": [
       "                         country  fatalities\n",
       "47                         Sudan       13295\n",
       "15                      Ethiopia        9626\n",
       "36                       Nigeria        8682\n",
       "4                   Burkina Faso        7189\n",
       "44                       Somalia        5131\n",
       "28                          Mali        3755\n",
       "11  Democratic Republic of Congo        3753\n",
       "6                       Cameroon        2024\n",
       "35                         Niger        1546\n",
       "46                   South Sudan        1022"
      ]
     },
     "execution_count": 8,
     "metadata": {},
     "output_type": "execute_result"
    }
   ],
   "source": [
    "# Convert the 'event_date' column to datetime format\n",
    "df['event_date'] = pd.to_datetime(df['event_date'])\n",
    "\n",
    "# Filter the data for the year 2024\n",
    "df_2024 = df[df['event_date'].dt.year == 2024]\n",
    "\n",
    "# Group by 'country' and sum the 'fatalities'\n",
    "grouped = df_2024.groupby('country')['fatalities'].sum().reset_index()\n",
    "\n",
    "# Sort the countries by the number of fatalities in descending order\n",
    "sorted_grouped = grouped.sort_values(by='fatalities', ascending=False)\n",
    "\n",
    "# Select the top 10 countries with the highest number of fatalities\n",
    "top_10_countries = sorted_grouped.head(10)\n",
    "\n",
    "# Display the top 10 countries by fatalities\n",
    "top_10_countries "
   ]
  },
  {
   "cell_type": "code",
   "execution_count": 3,
   "metadata": {
    "scrolled": true
   },
   "outputs": [
    {
     "data": {
      "text/html": [
       "<div>\n",
       "<style scoped>\n",
       "    .dataframe tbody tr th:only-of-type {\n",
       "        vertical-align: middle;\n",
       "    }\n",
       "\n",
       "    .dataframe tbody tr th {\n",
       "        vertical-align: top;\n",
       "    }\n",
       "\n",
       "    .dataframe thead th {\n",
       "        text-align: right;\n",
       "    }\n",
       "</style>\n",
       "<table border=\"1\" class=\"dataframe\">\n",
       "  <thead>\n",
       "    <tr style=\"text-align: right;\">\n",
       "      <th></th>\n",
       "      <th>event_id_cnty</th>\n",
       "      <th>event_date</th>\n",
       "      <th>year</th>\n",
       "      <th>time_precision</th>\n",
       "      <th>disorder_type</th>\n",
       "      <th>event_type</th>\n",
       "      <th>sub_event_type</th>\n",
       "      <th>actor1</th>\n",
       "      <th>assoc_actor_1</th>\n",
       "      <th>inter1</th>\n",
       "      <th>...</th>\n",
       "      <th>location</th>\n",
       "      <th>latitude</th>\n",
       "      <th>longitude</th>\n",
       "      <th>geo_precision</th>\n",
       "      <th>source</th>\n",
       "      <th>source_scale</th>\n",
       "      <th>notes</th>\n",
       "      <th>fatalities</th>\n",
       "      <th>tags</th>\n",
       "      <th>timestamp</th>\n",
       "    </tr>\n",
       "  </thead>\n",
       "  <tbody>\n",
       "    <tr>\n",
       "      <th>86</th>\n",
       "      <td>SUD31794</td>\n",
       "      <td>12/6/2024</td>\n",
       "      <td>2024</td>\n",
       "      <td>1</td>\n",
       "      <td>Political violence</td>\n",
       "      <td>Battles</td>\n",
       "      <td>Armed clash</td>\n",
       "      <td>Military Forces of Sudan (2019-)</td>\n",
       "      <td>NaN</td>\n",
       "      <td>State forces</td>\n",
       "      <td>...</td>\n",
       "      <td>El Fasher</td>\n",
       "      <td>13.6264</td>\n",
       "      <td>25.3559</td>\n",
       "      <td>1</td>\n",
       "      <td>Twitter; WikiLeaks - El Fasher 'Darfur News'</td>\n",
       "      <td>New media</td>\n",
       "      <td>On 6 December 2024, SAF airstrikes targeted RS...</td>\n",
       "      <td>0</td>\n",
       "      <td>NaN</td>\n",
       "      <td>1733789073</td>\n",
       "    </tr>\n",
       "    <tr>\n",
       "      <th>87</th>\n",
       "      <td>SUD31815</td>\n",
       "      <td>12/6/2024</td>\n",
       "      <td>2024</td>\n",
       "      <td>1</td>\n",
       "      <td>Political violence; Demonstrations</td>\n",
       "      <td>Protests</td>\n",
       "      <td>Excessive force against protesters</td>\n",
       "      <td>Protesters (Sudan)</td>\n",
       "      <td>NaN</td>\n",
       "      <td>Protesters</td>\n",
       "      <td>...</td>\n",
       "      <td>Malha</td>\n",
       "      <td>15.0934</td>\n",
       "      <td>26.1591</td>\n",
       "      <td>1</td>\n",
       "      <td>Darfur 24; WikiLeaks - El Fasher 'Darfur News'</td>\n",
       "      <td>New media-Subnational</td>\n",
       "      <td>On 6 December 2024, residents staged a protest...</td>\n",
       "      <td>1</td>\n",
       "      <td>crowd size=no report</td>\n",
       "      <td>1733789073</td>\n",
       "    </tr>\n",
       "    <tr>\n",
       "      <th>88</th>\n",
       "      <td>SUD31831</td>\n",
       "      <td>12/6/2024</td>\n",
       "      <td>2024</td>\n",
       "      <td>1</td>\n",
       "      <td>Political violence</td>\n",
       "      <td>Explosions/Remote violence</td>\n",
       "      <td>Air/drone strike</td>\n",
       "      <td>Military Forces of Sudan (2019-)</td>\n",
       "      <td>NaN</td>\n",
       "      <td>State forces</td>\n",
       "      <td>...</td>\n",
       "      <td>Khartoum North - Shambat</td>\n",
       "      <td>15.6594</td>\n",
       "      <td>32.5300</td>\n",
       "      <td>1</td>\n",
       "      <td>Alhamish Voice; Beam reports; Emergency Lawyer...</td>\n",
       "      <td>New media-National</td>\n",
       "      <td>On 6 December 2024, SAF airstrikes targeted a ...</td>\n",
       "      <td>5</td>\n",
       "      <td>NaN</td>\n",
       "      <td>1733789073</td>\n",
       "    </tr>\n",
       "    <tr>\n",
       "      <th>89</th>\n",
       "      <td>SUD31839</td>\n",
       "      <td>12/6/2024</td>\n",
       "      <td>2024</td>\n",
       "      <td>1</td>\n",
       "      <td>Demonstrations</td>\n",
       "      <td>Protests</td>\n",
       "      <td>Peaceful protest</td>\n",
       "      <td>Protesters (Sudan)</td>\n",
       "      <td>NaN</td>\n",
       "      <td>Protesters</td>\n",
       "      <td>...</td>\n",
       "      <td>Sunta</td>\n",
       "      <td>11.0432</td>\n",
       "      <td>25.6139</td>\n",
       "      <td>1</td>\n",
       "      <td>Darfur 24</td>\n",
       "      <td>Subnational</td>\n",
       "      <td>On 6 December 2024, residents staged a protest...</td>\n",
       "      <td>0</td>\n",
       "      <td>crowd size=no report</td>\n",
       "      <td>1733789073</td>\n",
       "    </tr>\n",
       "    <tr>\n",
       "      <th>90</th>\n",
       "      <td>SUD31842</td>\n",
       "      <td>12/6/2024</td>\n",
       "      <td>2024</td>\n",
       "      <td>2</td>\n",
       "      <td>Strategic developments</td>\n",
       "      <td>Strategic developments</td>\n",
       "      <td>Change to group/activity</td>\n",
       "      <td>Military Forces of Sudan (2019-)</td>\n",
       "      <td>NaN</td>\n",
       "      <td>State forces</td>\n",
       "      <td>...</td>\n",
       "      <td>Al Sharif Wad El Obeid</td>\n",
       "      <td>14.4121</td>\n",
       "      <td>33.7298</td>\n",
       "      <td>1</td>\n",
       "      <td>Twitter</td>\n",
       "      <td>New media</td>\n",
       "      <td>Movement of forces: Around 6 December 2024 (as...</td>\n",
       "      <td>0</td>\n",
       "      <td>NaN</td>\n",
       "      <td>1733789073</td>\n",
       "    </tr>\n",
       "  </tbody>\n",
       "</table>\n",
       "<p>5 rows × 31 columns</p>\n",
       "</div>"
      ],
      "text/plain": [
       "   event_id_cnty event_date  year  time_precision  \\\n",
       "86      SUD31794  12/6/2024  2024               1   \n",
       "87      SUD31815  12/6/2024  2024               1   \n",
       "88      SUD31831  12/6/2024  2024               1   \n",
       "89      SUD31839  12/6/2024  2024               1   \n",
       "90      SUD31842  12/6/2024  2024               2   \n",
       "\n",
       "                         disorder_type                  event_type  \\\n",
       "86                  Political violence                     Battles   \n",
       "87  Political violence; Demonstrations                    Protests   \n",
       "88                  Political violence  Explosions/Remote violence   \n",
       "89                      Demonstrations                    Protests   \n",
       "90              Strategic developments      Strategic developments   \n",
       "\n",
       "                        sub_event_type                            actor1  \\\n",
       "86                         Armed clash  Military Forces of Sudan (2019-)   \n",
       "87  Excessive force against protesters                Protesters (Sudan)   \n",
       "88                    Air/drone strike  Military Forces of Sudan (2019-)   \n",
       "89                    Peaceful protest                Protesters (Sudan)   \n",
       "90            Change to group/activity  Military Forces of Sudan (2019-)   \n",
       "\n",
       "   assoc_actor_1        inter1  ...                  location latitude  \\\n",
       "86           NaN  State forces  ...                 El Fasher  13.6264   \n",
       "87           NaN    Protesters  ...                     Malha  15.0934   \n",
       "88           NaN  State forces  ...  Khartoum North - Shambat  15.6594   \n",
       "89           NaN    Protesters  ...                     Sunta  11.0432   \n",
       "90           NaN  State forces  ...    Al Sharif Wad El Obeid  14.4121   \n",
       "\n",
       "   longitude geo_precision                                             source  \\\n",
       "86   25.3559             1       Twitter; WikiLeaks - El Fasher 'Darfur News'   \n",
       "87   26.1591             1     Darfur 24; WikiLeaks - El Fasher 'Darfur News'   \n",
       "88   32.5300             1  Alhamish Voice; Beam reports; Emergency Lawyer...   \n",
       "89   25.6139             1                                          Darfur 24   \n",
       "90   33.7298             1                                            Twitter   \n",
       "\n",
       "             source_scale                                              notes  \\\n",
       "86              New media  On 6 December 2024, SAF airstrikes targeted RS...   \n",
       "87  New media-Subnational  On 6 December 2024, residents staged a protest...   \n",
       "88     New media-National  On 6 December 2024, SAF airstrikes targeted a ...   \n",
       "89            Subnational  On 6 December 2024, residents staged a protest...   \n",
       "90              New media  Movement of forces: Around 6 December 2024 (as...   \n",
       "\n",
       "   fatalities                  tags   timestamp  \n",
       "86          0                   NaN  1733789073  \n",
       "87          1  crowd size=no report  1733789073  \n",
       "88          5                   NaN  1733789073  \n",
       "89          0  crowd size=no report  1733789073  \n",
       "90          0                   NaN  1733789073  \n",
       "\n",
       "[5 rows x 31 columns]"
      ]
     },
     "execution_count": 3,
     "metadata": {},
     "output_type": "execute_result"
    }
   ],
   "source": [
    "# Filter Sudan data from the dataset\n",
    "sudan_data = df[df['actor1'].str.contains('Sudan')]\n",
    "df_2 = sudan_data\n",
    "df_2.head()"
   ]
  },
  {
   "cell_type": "code",
   "execution_count": 9,
   "metadata": {},
   "outputs": [],
   "source": [
    "# Filter Sudan data from the dataset\n",
    "\n",
    "df_2.to_csv(r'C:\\Users\\pgaduel\\Desktop\\Gaduel_Phase3_Project\\'Sudan_1997-2024_Dec06.csv', index=False, na_rep='NULL')\n"
   ]
  },
  {
   "cell_type": "code",
   "execution_count": 10,
   "metadata": {},
   "outputs": [
    {
     "name": "stdout",
     "output_type": "stream",
     "text": [
      "Null values in each column:\n",
      " event_id_cnty             0\n",
      "event_date                0\n",
      "year                      0\n",
      "time_precision            0\n",
      "disorder_type             0\n",
      "event_type                0\n",
      "sub_event_type            0\n",
      "actor1                    0\n",
      "assoc_actor_1         26083\n",
      "inter1                    0\n",
      "actor2                 6947\n",
      "assoc_actor_2         25740\n",
      "inter2                 6947\n",
      "interaction               0\n",
      "civilian_targeting    23507\n",
      "iso                       0\n",
      "region                    0\n",
      "country                   0\n",
      "admin1                    0\n",
      "admin2                    0\n",
      "admin3                25136\n",
      "location                  0\n",
      "latitude                  0\n",
      "longitude                 0\n",
      "geo_precision             0\n",
      "source                    0\n",
      "source_scale              0\n",
      "notes                     0\n",
      "fatalities                0\n",
      "tags                  28859\n",
      "timestamp                 0\n",
      "dtype: int64\n",
      "\n",
      "Number of duplicate rows: 0\n",
      "\n",
      "Missing values in each column:\n",
      " event_id_cnty             0\n",
      "event_date                0\n",
      "year                      0\n",
      "time_precision            0\n",
      "disorder_type             0\n",
      "event_type                0\n",
      "sub_event_type            0\n",
      "actor1                    0\n",
      "assoc_actor_1         26083\n",
      "inter1                    0\n",
      "actor2                 6947\n",
      "assoc_actor_2         25740\n",
      "inter2                 6947\n",
      "interaction               0\n",
      "civilian_targeting    23507\n",
      "iso                       0\n",
      "region                    0\n",
      "country                   0\n",
      "admin1                    0\n",
      "admin2                    0\n",
      "admin3                25136\n",
      "location                  0\n",
      "latitude                  0\n",
      "longitude                 0\n",
      "geo_precision             0\n",
      "source                    0\n",
      "source_scale              0\n",
      "notes                     0\n",
      "fatalities                0\n",
      "tags                  28859\n",
      "timestamp                 0\n",
      "dtype: int64\n"
     ]
    }
   ],
   "source": [
    "# Checking for missing values \n",
    "\n",
    "# Check for null values\n",
    "null_values = df_2.isnull().sum()\n",
    "\n",
    "# Check for duplicates\n",
    "duplicates = df_2.duplicated().sum()\n",
    "\n",
    "# Check for missing values (alternative method)\n",
    "missing_values = df_2.isna().sum()\n",
    "\n",
    "print(\"Null values in each column:\\n\", null_values)\n",
    "print(\"\\nNumber of duplicate rows:\", duplicates)\n",
    "print(\"\\nMissing values in each column:\\n\", missing_values)"
   ]
  },
  {
   "cell_type": "code",
   "execution_count": 11,
   "metadata": {},
   "outputs": [
    {
     "data": {
      "text/plain": [
       "<AxesSubplot:>"
      ]
     },
     "execution_count": 11,
     "metadata": {},
     "output_type": "execute_result"
    },
    {
     "data": {
      "image/png": "[encoded data removed]",
      "text/plain": [
       "<Figure size 432x288 with 1 Axes>"
      ]
     },
     "metadata": {
      "needs_background": "light"
     },
     "output_type": "display_data"
    }
   ],
   "source": [
    "#Missing data\n",
    "sns.heatmap(df_2.isnull(), yticklabels=False, cbar=False)"
   ]
  },
  {
   "cell_type": "code",
   "execution_count": 12,
   "metadata": {},
   "outputs": [
    {
     "name": "stdout",
     "output_type": "stream",
     "text": [
      "\n",
      "DataFrame after dropping rows with null values:\n",
      "        event_id_cnty event_date  year  time_precision       disorder_type  \\\n",
      "20803        SSD9980 2024-06-25  2024               1  Political violence   \n",
      "24790        SSD9926 2024-05-25  2024               1  Political violence   \n",
      "27271        SSD9885 2024-05-07  2024               1  Political violence   \n",
      "30023        SSD9837 2024-04-17  2024               1  Political violence   \n",
      "30640        SSD9834 2024-04-12  2024               2  Political violence   \n",
      "...              ...        ...   ...             ...                 ...   \n",
      "222744       SSD6084 2019-01-01  2019               3  Political violence   \n",
      "222745       SSD6083 2019-01-01  2019               3  Political violence   \n",
      "226689       SSD6146 2018-11-02  2018               1  Political violence   \n",
      "280866       SSD8106 2015-10-30  2015               2  Political violence   \n",
      "310431       SSD5883 2014-01-22  2014               1  Political violence   \n",
      "\n",
      "                        event_type                  sub_event_type  \\\n",
      "20803                        Riots                    Mob violence   \n",
      "24790   Violence against civilians  Abduction/forced disappearance   \n",
      "27271   Violence against civilians  Abduction/forced disappearance   \n",
      "30023   Violence against civilians                          Attack   \n",
      "30640   Violence against civilians                          Attack   \n",
      "...                            ...                             ...   \n",
      "222744  Violence against civilians                 Sexual violence   \n",
      "222745  Violence against civilians                 Sexual violence   \n",
      "226689  Violence against civilians                          Attack   \n",
      "280866  Violence against civilians                          Attack   \n",
      "310431                       Riots                    Mob violence   \n",
      "\n",
      "                                         actor1  \\\n",
      "20803                     Rioters (South Sudan)   \n",
      "24790   Apuk-Rek Sub-Clan Militia (South Sudan)   \n",
      "27271          Nyong Clan Militia (South Sudan)   \n",
      "30023   Puol-Lou Sub-Clan Militia (South Sudan)   \n",
      "30640           Agar Clan Militia (South Sudan)   \n",
      "...                                         ...   \n",
      "222744   Military Forces of South Sudan (2011-)   \n",
      "222745   Military Forces of South Sudan (2011-)   \n",
      "226689   Military Forces of South Sudan (2011-)   \n",
      "280866           Gok Clan Militia (South Sudan)   \n",
      "310431                    Rioters (South Sudan)   \n",
      "\n",
      "                                            assoc_actor_1            inter1  \\\n",
      "20803                       Vigilante Group (South Sudan)           Rioters   \n",
      "24790   Dinka Ethnic Militia (South Sudan); Pastoralis...  Identity militia   \n",
      "27271                   Nuer Ethnic Militia (South Sudan)  Identity militia   \n",
      "30023                   Nuer Ethnic Militia (South Sudan)  Identity militia   \n",
      "30640                  Dinka Ethnic Militia (South Sudan)  Identity militia   \n",
      "...                                                   ...               ...   \n",
      "222744  Police Forces of South Sudan (2011-) National ...      State forces   \n",
      "222745  Police Forces of South Sudan (2011-) National ...      State forces   \n",
      "226689  SPLM-In Opposition-Deng Gai: Sudan People's Li...      State forces   \n",
      "280866                 Dinka Ethnic Militia (South Sudan)  Identity militia   \n",
      "310431                        Refugees/IDPs (South Sudan)           Rioters   \n",
      "\n",
      "        ...     location latitude longitude geo_precision  \\\n",
      "20803   ...         Maal   8.5857   29.9202             2   \n",
      "24790   ...  Akuem Agook   7.9793   28.1052             1   \n",
      "27271   ...        Adior   6.8020   30.7045             1   \n",
      "30023   ...      Lankien   8.5245   32.0615             2   \n",
      "30640   ...    Amongpiny   7.0410   30.0783             1   \n",
      "...     ...          ...      ...       ...           ...   \n",
      "222744  ...          Yei   4.0947   30.6772             2   \n",
      "222745  ...        Girim   4.2524   31.0163             2   \n",
      "226689  ...     Tharkoat   9.3305   29.8737             2   \n",
      "280866  ...  Mayen-ameth   7.5802   29.7014             2   \n",
      "310431  ...     Tongping   4.8703   31.5834             1   \n",
      "\n",
      "                                              source         source_scale  \\\n",
      "20803                                    Sudans Post             National   \n",
      "24790                                  Radio Tamazuj             National   \n",
      "27271                                  Radio Tamazuj             National   \n",
      "30023   Radio Tamazuj; The City Review (South Sudan)             National   \n",
      "30640                                    Sudans Post             National   \n",
      "...                                              ...                  ...   \n",
      "222744                                        UNMISS             National   \n",
      "222745                                        UNMISS             National   \n",
      "226689                                        UN HRC                Other   \n",
      "280866                                 Radio Tamazuj             National   \n",
      "310431                  Aid Worker Security Database  Local partner-Other   \n",
      "\n",
      "                                                    notes fatalities  \\\n",
      "20803   On 25 June 2024, community members killed an 8...          1   \n",
      "24790   On 25 May 2024, pastoralists from the Apuk sec...          0   \n",
      "27271   On 7 May 2024, armed attackers suspected of be...          0   \n",
      "30023   On 17 April 2024, a 15-year-old attacker from ...          1   \n",
      "30640   Around 12 April 2024 (as reported), a man (lik...          2   \n",
      "...                                                   ...        ...   \n",
      "222744  Between January and April 2019, SSPDF and NSS ...          1   \n",
      "222745  Between January and April 2019, SSPDF and NSS ...          1   \n",
      "226689  On 2 November 2018, eight women and girls were...          0   \n",
      "280866  Around 30 October 2015 (as reported), unknown ...          4   \n",
      "310431  On 22 January 2014, an ICRC staff member was a...          0   \n",
      "\n",
      "                         tags   timestamp  \n",
      "20803    crowd size=no report  1719876540  \n",
      "24790   women targeted: girls  1731979398  \n",
      "27271   women targeted: girls  1715641928  \n",
      "30023    local administrators  1733203930  \n",
      "30640    local administrators  1713830572  \n",
      "...                       ...         ...  \n",
      "222744  women targeted: girls  1638981221  \n",
      "222745  women targeted: girls  1638981221  \n",
      "226689  women targeted: girls  1653503194  \n",
      "280866  women targeted: girls  1649715688  \n",
      "310431     crowd size=unknown  1676926708  \n",
      "\n",
      "[99 rows x 31 columns]\n",
      "\n",
      "DataFrame after filling null values with 0:\n",
      "        event_id_cnty event_date  year  time_precision  \\\n",
      "86          SUD31794 2024-12-06  2024               1   \n",
      "87          SUD31815 2024-12-06  2024               1   \n",
      "88          SUD31831 2024-12-06  2024               1   \n",
      "89          SUD31839 2024-12-06  2024               1   \n",
      "90          SUD31842 2024-12-06  2024               2   \n",
      "...              ...        ...   ...             ...   \n",
      "397242          SUD5 1997-01-07  1997               1   \n",
      "397264          SUD3 1997-01-04  1997               1   \n",
      "397265          SUD4 1997-01-04  1997               1   \n",
      "397282          SUD1 1997-01-01  1997               1   \n",
      "397283          SUD2 1997-01-01  1997               1   \n",
      "\n",
      "                             disorder_type                  event_type  \\\n",
      "86                      Political violence                     Battles   \n",
      "87      Political violence; Demonstrations                    Protests   \n",
      "88                      Political violence  Explosions/Remote violence   \n",
      "89                          Demonstrations                    Protests   \n",
      "90                  Strategic developments      Strategic developments   \n",
      "...                                    ...                         ...   \n",
      "397242                      Demonstrations                    Protests   \n",
      "397264  Political violence; Demonstrations                    Protests   \n",
      "397265                  Political violence  Violence against civilians   \n",
      "397282                  Political violence                     Battles   \n",
      "397283                  Political violence                     Battles   \n",
      "\n",
      "                            sub_event_type  \\\n",
      "86                             Armed clash   \n",
      "87      Excessive force against protesters   \n",
      "88                        Air/drone strike   \n",
      "89                        Peaceful protest   \n",
      "90                Change to group/activity   \n",
      "...                                    ...   \n",
      "397242                    Peaceful protest   \n",
      "397264  Excessive force against protesters   \n",
      "397265                              Attack   \n",
      "397282                         Armed clash   \n",
      "397283                         Armed clash   \n",
      "\n",
      "                                           actor1             assoc_actor_1  \\\n",
      "86               Military Forces of Sudan (2019-)                         0   \n",
      "87                             Protesters (Sudan)                         0   \n",
      "88               Military Forces of Sudan (2019-)                         0   \n",
      "89                             Protesters (Sudan)                         0   \n",
      "90               Military Forces of Sudan (2019-)                         0   \n",
      "...                                           ...                       ...   \n",
      "397242                         Protesters (Sudan)          Students (Sudan)   \n",
      "397264                         Protesters (Sudan)  NUP: National Umma Party   \n",
      "397265  NDA: National Democratic Alliance (Sudan)                         0   \n",
      "397282  NDA: National Democratic Alliance (Sudan)                         0   \n",
      "397283  NDA: National Democratic Alliance (Sudan)                         0   \n",
      "\n",
      "              inter1  ...                  location latitude longitude  \\\n",
      "86      State forces  ...                 El Fasher  13.6264   25.3559   \n",
      "87        Protesters  ...                     Malha  15.0934   26.1591   \n",
      "88      State forces  ...  Khartoum North - Shambat  15.6594   32.5300   \n",
      "89        Protesters  ...                     Sunta  11.0432   25.6139   \n",
      "90      State forces  ...    Al Sharif Wad El Obeid  14.4121   33.7298   \n",
      "...              ...  ...                       ...      ...       ...   \n",
      "397242    Protesters  ...                  Khartoum  15.5699   32.5532   \n",
      "397264    Protesters  ...                  Khartoum  15.5699   32.5532   \n",
      "397265   Rebel group  ...                  Khartoum  15.5699   32.5532   \n",
      "397282   Rebel group  ...               Hamashkoreb  17.1522   36.6813   \n",
      "397283   Rebel group  ...                   Kassala  15.4296   36.4105   \n",
      "\n",
      "       geo_precision                                             source  \\\n",
      "86                 1       Twitter; WikiLeaks - El Fasher 'Darfur News'   \n",
      "87                 1     Darfur 24; WikiLeaks - El Fasher 'Darfur News'   \n",
      "88                 1  Alhamish Voice; Beam reports; Emergency Lawyer...   \n",
      "89                 1                                          Darfur 24   \n",
      "90                 1                                            Twitter   \n",
      "...              ...                                                ...   \n",
      "397242             1                                                 AP   \n",
      "397264             1                                                AFP   \n",
      "397265             3                                                AFP   \n",
      "397282             1                                       Local Source   \n",
      "397283             2                                Inter Press Service   \n",
      "\n",
      "                 source_scale  \\\n",
      "86                  New media   \n",
      "87      New media-Subnational   \n",
      "88         New media-National   \n",
      "89                Subnational   \n",
      "90                  New media   \n",
      "...                       ...   \n",
      "397242          International   \n",
      "397264          International   \n",
      "397265          International   \n",
      "397282          International   \n",
      "397283          International   \n",
      "\n",
      "                                                    notes fatalities  \\\n",
      "86      On 6 December 2024, SAF airstrikes targeted RS...          0   \n",
      "87      On 6 December 2024, residents staged a protest...          1   \n",
      "88      On 6 December 2024, SAF airstrikes targeted a ...          5   \n",
      "89      On 6 December 2024, residents staged a protest...          0   \n",
      "90      Movement of forces: Around 6 December 2024 (as...          0   \n",
      "...                                                   ...        ...   \n",
      "397242  Students at the University of Khartoum staged ...          0   \n",
      "397264  Police used gunfire to disperse anti-governmen...          0   \n",
      "397265  Members of the NDA launched an attack on membe...          7   \n",
      "397282  NDA rebel forces attacked Sudanese military fo...          0   \n",
      "397283  Fighting between NDA rebels and Sudanese gover...          0   \n",
      "\n",
      "                        tags   timestamp  \n",
      "86                         0  1733789073  \n",
      "87      crowd size=no report  1733789073  \n",
      "88                         0  1733789073  \n",
      "89      crowd size=no report  1733789073  \n",
      "90                         0  1733789073  \n",
      "...                      ...         ...  \n",
      "397242                     0  1706579350  \n",
      "397264                     0  1706579349  \n",
      "397265                     0  1706579349  \n",
      "397282                     0  1653349782  \n",
      "397283                     0  1653349782  \n",
      "\n",
      "[35057 rows x 31 columns]\n",
      "\n",
      "DataFrame after filling null values with the mean of column1:\n",
      "        event_id_cnty event_date  year  time_precision  \\\n",
      "86          SUD31794 2024-12-06  2024               1   \n",
      "87          SUD31815 2024-12-06  2024               1   \n",
      "88          SUD31831 2024-12-06  2024               1   \n",
      "89          SUD31839 2024-12-06  2024               1   \n",
      "90          SUD31842 2024-12-06  2024               2   \n",
      "...              ...        ...   ...             ...   \n",
      "397242          SUD5 1997-01-07  1997               1   \n",
      "397264          SUD3 1997-01-04  1997               1   \n",
      "397265          SUD4 1997-01-04  1997               1   \n",
      "397282          SUD1 1997-01-01  1997               1   \n",
      "397283          SUD2 1997-01-01  1997               1   \n",
      "\n",
      "                             disorder_type                  event_type  \\\n",
      "86                      Political violence                     Battles   \n",
      "87      Political violence; Demonstrations                    Protests   \n",
      "88                      Political violence  Explosions/Remote violence   \n",
      "89                          Demonstrations                    Protests   \n",
      "90                  Strategic developments      Strategic developments   \n",
      "...                                    ...                         ...   \n",
      "397242                      Demonstrations                    Protests   \n",
      "397264  Political violence; Demonstrations                    Protests   \n",
      "397265                  Political violence  Violence against civilians   \n",
      "397282                  Political violence                     Battles   \n",
      "397283                  Political violence                     Battles   \n",
      "\n",
      "                            sub_event_type  \\\n",
      "86                             Armed clash   \n",
      "87      Excessive force against protesters   \n",
      "88                        Air/drone strike   \n",
      "89                        Peaceful protest   \n",
      "90                Change to group/activity   \n",
      "...                                    ...   \n",
      "397242                    Peaceful protest   \n",
      "397264  Excessive force against protesters   \n",
      "397265                              Attack   \n",
      "397282                         Armed clash   \n",
      "397283                         Armed clash   \n",
      "\n",
      "                                           actor1             assoc_actor_1  \\\n",
      "86               Military Forces of Sudan (2019-)                       NaN   \n",
      "87                             Protesters (Sudan)                       NaN   \n",
      "88               Military Forces of Sudan (2019-)                       NaN   \n",
      "89                             Protesters (Sudan)                       NaN   \n",
      "90               Military Forces of Sudan (2019-)                       NaN   \n",
      "...                                           ...                       ...   \n",
      "397242                         Protesters (Sudan)          Students (Sudan)   \n",
      "397264                         Protesters (Sudan)  NUP: National Umma Party   \n",
      "397265  NDA: National Democratic Alliance (Sudan)                       NaN   \n",
      "397282  NDA: National Democratic Alliance (Sudan)                       NaN   \n",
      "397283  NDA: National Democratic Alliance (Sudan)                       NaN   \n",
      "\n",
      "              inter1  ...                  location latitude longitude  \\\n",
      "86      State forces  ...                 El Fasher  13.6264   25.3559   \n",
      "87        Protesters  ...                     Malha  15.0934   26.1591   \n",
      "88      State forces  ...  Khartoum North - Shambat  15.6594   32.5300   \n",
      "89        Protesters  ...                     Sunta  11.0432   25.6139   \n",
      "90      State forces  ...    Al Sharif Wad El Obeid  14.4121   33.7298   \n",
      "...              ...  ...                       ...      ...       ...   \n",
      "397242    Protesters  ...                  Khartoum  15.5699   32.5532   \n",
      "397264    Protesters  ...                  Khartoum  15.5699   32.5532   \n",
      "397265   Rebel group  ...                  Khartoum  15.5699   32.5532   \n",
      "397282   Rebel group  ...               Hamashkoreb  17.1522   36.6813   \n",
      "397283   Rebel group  ...                   Kassala  15.4296   36.4105   \n",
      "\n",
      "       geo_precision                                             source  \\\n",
      "86                 1       Twitter; WikiLeaks - El Fasher 'Darfur News'   \n",
      "87                 1     Darfur 24; WikiLeaks - El Fasher 'Darfur News'   \n",
      "88                 1  Alhamish Voice; Beam reports; Emergency Lawyer...   \n",
      "89                 1                                          Darfur 24   \n",
      "90                 1                                            Twitter   \n",
      "...              ...                                                ...   \n",
      "397242             1                                                 AP   \n",
      "397264             1                                                AFP   \n",
      "397265             3                                                AFP   \n",
      "397282             1                                       Local Source   \n",
      "397283             2                                Inter Press Service   \n",
      "\n",
      "                 source_scale  \\\n",
      "86                  New media   \n",
      "87      New media-Subnational   \n",
      "88         New media-National   \n",
      "89                Subnational   \n",
      "90                  New media   \n",
      "...                       ...   \n",
      "397242          International   \n",
      "397264          International   \n",
      "397265          International   \n",
      "397282          International   \n",
      "397283          International   \n",
      "\n",
      "                                                    notes fatalities  \\\n",
      "86      On 6 December 2024, SAF airstrikes targeted RS...          0   \n",
      "87      On 6 December 2024, residents staged a protest...          1   \n",
      "88      On 6 December 2024, SAF airstrikes targeted a ...          5   \n",
      "89      On 6 December 2024, residents staged a protest...          0   \n",
      "90      Movement of forces: Around 6 December 2024 (as...          0   \n",
      "...                                                   ...        ...   \n",
      "397242  Students at the University of Khartoum staged ...          0   \n",
      "397264  Police used gunfire to disperse anti-governmen...          0   \n",
      "397265  Members of the NDA launched an attack on membe...          7   \n",
      "397282  NDA rebel forces attacked Sudanese military fo...          0   \n",
      "397283  Fighting between NDA rebels and Sudanese gover...          0   \n",
      "\n",
      "                        tags   timestamp  \n",
      "86                       NaN  1733789073  \n",
      "87      crowd size=no report  1733789073  \n",
      "88                       NaN  1733789073  \n",
      "89      crowd size=no report  1733789073  \n",
      "90                       NaN  1733789073  \n",
      "...                      ...         ...  \n",
      "397242                   NaN  1706579350  \n",
      "397264                   NaN  1706579349  \n",
      "397265                   NaN  1706579349  \n",
      "397282                   NaN  1653349782  \n",
      "397283                   NaN  1653349782  \n",
      "\n",
      "[35057 rows x 31 columns]\n",
      "\n",
      "DataFrame after removing duplicate rows:\n",
      "        event_id_cnty event_date  year  time_precision  \\\n",
      "86          SUD31794 2024-12-06  2024               1   \n",
      "87          SUD31815 2024-12-06  2024               1   \n",
      "88          SUD31831 2024-12-06  2024               1   \n",
      "89          SUD31839 2024-12-06  2024               1   \n",
      "90          SUD31842 2024-12-06  2024               2   \n",
      "...              ...        ...   ...             ...   \n",
      "397242          SUD5 1997-01-07  1997               1   \n",
      "397264          SUD3 1997-01-04  1997               1   \n",
      "397265          SUD4 1997-01-04  1997               1   \n",
      "397282          SUD1 1997-01-01  1997               1   \n",
      "397283          SUD2 1997-01-01  1997               1   \n",
      "\n",
      "                             disorder_type                  event_type  \\\n",
      "86                      Political violence                     Battles   \n",
      "87      Political violence; Demonstrations                    Protests   \n",
      "88                      Political violence  Explosions/Remote violence   \n",
      "89                          Demonstrations                    Protests   \n",
      "90                  Strategic developments      Strategic developments   \n",
      "...                                    ...                         ...   \n",
      "397242                      Demonstrations                    Protests   \n",
      "397264  Political violence; Demonstrations                    Protests   \n",
      "397265                  Political violence  Violence against civilians   \n",
      "397282                  Political violence                     Battles   \n",
      "397283                  Political violence                     Battles   \n",
      "\n",
      "                            sub_event_type  \\\n",
      "86                             Armed clash   \n",
      "87      Excessive force against protesters   \n",
      "88                        Air/drone strike   \n",
      "89                        Peaceful protest   \n",
      "90                Change to group/activity   \n",
      "...                                    ...   \n",
      "397242                    Peaceful protest   \n",
      "397264  Excessive force against protesters   \n",
      "397265                              Attack   \n",
      "397282                         Armed clash   \n",
      "397283                         Armed clash   \n",
      "\n",
      "                                           actor1             assoc_actor_1  \\\n",
      "86               Military Forces of Sudan (2019-)                       NaN   \n",
      "87                             Protesters (Sudan)                       NaN   \n",
      "88               Military Forces of Sudan (2019-)                       NaN   \n",
      "89                             Protesters (Sudan)                       NaN   \n",
      "90               Military Forces of Sudan (2019-)                       NaN   \n",
      "...                                           ...                       ...   \n",
      "397242                         Protesters (Sudan)          Students (Sudan)   \n",
      "397264                         Protesters (Sudan)  NUP: National Umma Party   \n",
      "397265  NDA: National Democratic Alliance (Sudan)                       NaN   \n",
      "397282  NDA: National Democratic Alliance (Sudan)                       NaN   \n",
      "397283  NDA: National Democratic Alliance (Sudan)                       NaN   \n",
      "\n",
      "              inter1  ...                  location latitude longitude  \\\n",
      "86      State forces  ...                 El Fasher  13.6264   25.3559   \n",
      "87        Protesters  ...                     Malha  15.0934   26.1591   \n",
      "88      State forces  ...  Khartoum North - Shambat  15.6594   32.5300   \n",
      "89        Protesters  ...                     Sunta  11.0432   25.6139   \n",
      "90      State forces  ...    Al Sharif Wad El Obeid  14.4121   33.7298   \n",
      "...              ...  ...                       ...      ...       ...   \n",
      "397242    Protesters  ...                  Khartoum  15.5699   32.5532   \n",
      "397264    Protesters  ...                  Khartoum  15.5699   32.5532   \n",
      "397265   Rebel group  ...                  Khartoum  15.5699   32.5532   \n",
      "397282   Rebel group  ...               Hamashkoreb  17.1522   36.6813   \n",
      "397283   Rebel group  ...                   Kassala  15.4296   36.4105   \n",
      "\n",
      "       geo_precision                                             source  \\\n",
      "86                 1       Twitter; WikiLeaks - El Fasher 'Darfur News'   \n",
      "87                 1     Darfur 24; WikiLeaks - El Fasher 'Darfur News'   \n",
      "88                 1  Alhamish Voice; Beam reports; Emergency Lawyer...   \n",
      "89                 1                                          Darfur 24   \n",
      "90                 1                                            Twitter   \n",
      "...              ...                                                ...   \n",
      "397242             1                                                 AP   \n",
      "397264             1                                                AFP   \n",
      "397265             3                                                AFP   \n",
      "397282             1                                       Local Source   \n",
      "397283             2                                Inter Press Service   \n",
      "\n",
      "                 source_scale  \\\n",
      "86                  New media   \n",
      "87      New media-Subnational   \n",
      "88         New media-National   \n",
      "89                Subnational   \n",
      "90                  New media   \n",
      "...                       ...   \n",
      "397242          International   \n",
      "397264          International   \n",
      "397265          International   \n",
      "397282          International   \n",
      "397283          International   \n",
      "\n",
      "                                                    notes fatalities  \\\n",
      "86      On 6 December 2024, SAF airstrikes targeted RS...          0   \n",
      "87      On 6 December 2024, residents staged a protest...          1   \n",
      "88      On 6 December 2024, SAF airstrikes targeted a ...          5   \n",
      "89      On 6 December 2024, residents staged a protest...          0   \n",
      "90      Movement of forces: Around 6 December 2024 (as...          0   \n",
      "...                                                   ...        ...   \n",
      "397242  Students at the University of Khartoum staged ...          0   \n",
      "397264  Police used gunfire to disperse anti-governmen...          0   \n",
      "397265  Members of the NDA launched an attack on membe...          7   \n",
      "397282  NDA rebel forces attacked Sudanese military fo...          0   \n",
      "397283  Fighting between NDA rebels and Sudanese gover...          0   \n",
      "\n",
      "                        tags   timestamp  \n",
      "86                       NaN  1733789073  \n",
      "87      crowd size=no report  1733789073  \n",
      "88                       NaN  1733789073  \n",
      "89      crowd size=no report  1733789073  \n",
      "90                       NaN  1733789073  \n",
      "...                      ...         ...  \n",
      "397242                   NaN  1706579350  \n",
      "397264                   NaN  1706579349  \n",
      "397265                   NaN  1706579349  \n",
      "397282                   NaN  1653349782  \n",
      "397283                   NaN  1653349782  \n",
      "\n",
      "[35057 rows x 31 columns]\n",
      "Null values in each column:\n",
      " event_id_cnty             0\n",
      "event_date                0\n",
      "year                      0\n",
      "time_precision            0\n",
      "disorder_type             0\n",
      "event_type                0\n",
      "sub_event_type            0\n",
      "actor1                    0\n",
      "assoc_actor_1         26083\n",
      "inter1                    0\n",
      "actor2                 6947\n",
      "assoc_actor_2         25740\n",
      "inter2                 6947\n",
      "interaction               0\n",
      "civilian_targeting    23507\n",
      "iso                       0\n",
      "region                    0\n",
      "country                   0\n",
      "admin1                    0\n",
      "admin2                    0\n",
      "admin3                25136\n",
      "location                  0\n",
      "latitude                  0\n",
      "longitude                 0\n",
      "geo_precision             0\n",
      "source                    0\n",
      "source_scale              0\n",
      "notes                     0\n",
      "fatalities                0\n",
      "tags                  28859\n",
      "timestamp                 0\n",
      "dtype: int64\n",
      "\n",
      "Number of duplicate rows: 0\n",
      "\n",
      "Missing values in each column:\n",
      " event_id_cnty             0\n",
      "event_date                0\n",
      "year                      0\n",
      "time_precision            0\n",
      "disorder_type             0\n",
      "event_type                0\n",
      "sub_event_type            0\n",
      "actor1                    0\n",
      "assoc_actor_1         26083\n",
      "inter1                    0\n",
      "actor2                 6947\n",
      "assoc_actor_2         25740\n",
      "inter2                 6947\n",
      "interaction               0\n",
      "civilian_targeting    23507\n",
      "iso                       0\n",
      "region                    0\n",
      "country                   0\n",
      "admin1                    0\n",
      "admin2                    0\n",
      "admin3                25136\n",
      "location                  0\n",
      "latitude                  0\n",
      "longitude                 0\n",
      "geo_precision             0\n",
      "source                    0\n",
      "source_scale              0\n",
      "notes                     0\n",
      "fatalities                0\n",
      "tags                  28859\n",
      "timestamp                 0\n",
      "dtype: int64\n"
     ]
    }
   ],
   "source": [
    "# Remove rows with null values\n",
    "df_cleaned = df_2.dropna()\n",
    "\n",
    "# Fill null values with a specific value (e.g., 0)\n",
    "df_filled = df_2.fillna(0)\n",
    "\n",
    "# Remove duplicate rows\n",
    "df_no_duplicates = df_2.drop_duplicates()\n",
    "\n",
    "print(\"\\nDataFrame after dropping rows with null values:\\n\", df_cleaned)\n",
    "print(\"\\nDataFrame after filling null values with 0:\\n\", df_filled)\n",
    "print(\"\\nDataFrame after filling null values with the mean of column1:\\n\", df_2)\n",
    "print(\"\\nDataFrame after removing duplicate rows:\\n\", df_no_duplicates)\n",
    "\n",
    "print(\"Null values in each column:\\n\", null_values)\n",
    "print(\"\\nNumber of duplicate rows:\", duplicates)\n",
    "print(\"\\nMissing values in each column:\\n\", missing_values)"
   ]
  },
  {
   "cell_type": "markdown",
   "metadata": {},
   "source": [
    "**4: Exploratory Data Analysis (EDA), Data visualization & Interpretation**\n",
    "\n",
    "* Visualisation based actors, count of fatalities, and event type using filtered data for Sudan*"
   ]
  },
  {
   "cell_type": "code",
   "execution_count": 39,
   "metadata": {},
   "outputs": [
    {
     "name": "stdout",
     "output_type": "stream",
     "text": [
      "event county count: 97\n",
      "event state count: 362\n",
      "event type count: 6\n",
      "event sub_event_type count: 24\n"
     ]
    }
   ],
   "source": [
    "print(\"event county count:\",df_2[\"admin1\"].nunique())\n",
    "print(\"event state count:\",df_2[\"admin2\"].nunique())\n",
    "print(\"event type count:\",df_2[\"event_type\"].nunique())\n",
    "print(\"event sub_event_type count:\",df_2[\"sub_event_type\"].nunique())"
   ]
  },
  {
   "cell_type": "code",
   "execution_count": 40,
   "metadata": {},
   "outputs": [
    {
     "data": {
      "text/plain": [
       "Battles                       10392\n",
       "Violence against civilians     9143\n",
       "Protests                       6208\n",
       "Explosions/Remote violence     3760\n",
       "Strategic developments         3051\n",
       "Riots                           930\n",
       "Name: event_type, dtype: int64"
      ]
     },
     "execution_count": 40,
     "metadata": {},
     "output_type": "execute_result"
    }
   ],
   "source": [
    "event_type=df_2[\"event_type\"].value_counts()\n",
    "event_type"
   ]
  },
  {
   "cell_type": "code",
   "execution_count": 41,
   "metadata": {},
   "outputs": [
    {
     "name": "stdout",
     "output_type": "stream",
     "text": [
      "     year                       disorder_type  fatalities\n",
      "0    1997                      Demonstrations           0\n",
      "1    1997                  Political violence        3739\n",
      "2    1997  Political violence; Demonstrations           0\n",
      "3    1997              Strategic developments           0\n",
      "4    1998                      Demonstrations           1\n",
      "..    ...                                 ...         ...\n",
      "98   2023              Strategic developments          12\n",
      "99   2024                      Demonstrations           0\n",
      "100  2024                  Political violence        7529\n",
      "101  2024  Political violence; Demonstrations           1\n",
      "102  2024              Strategic developments          12\n",
      "\n",
      "[103 rows x 3 columns]\n"
     ]
    }
   ],
   "source": [
    "# Count the number of disorder_type by year aggregated by fatalities\n",
    "disorder_count_by_year = sudan_data.groupby(['year', 'disorder_type'])['fatalities'].sum().reset_index()\n",
    "\n",
    "print(disorder_count_by_year)"
   ]
  },
  {
   "cell_type": "code",
   "execution_count": 42,
   "metadata": {},
   "outputs": [
    {
     "data": {
      "image/png": "[encoded data removed]",
      "text/plain": [
       "<Figure size 720x432 with 1 Axes>"
      ]
     },
     "metadata": {
      "needs_background": "light"
     },
     "output_type": "display_data"
    }
   ],
   "source": [
    "# Plot the data\n",
    "plt.figure(figsize=(10,6))\n",
    "for disorder in disorder_count_by_year['disorder_type'].unique():\n",
    "    subset = disorder_count_by_year[disorder_count_by_year['disorder_type'] == disorder]\n",
    "    plt.plot(subset['year'], subset['fatalities'], label=disorder)\n",
    "\n",
    "plt.title('Number of Disorder Types by Year Aggregated by Fatalities in Sudan')\n",
    "plt.xlabel('Year')\n",
    "plt.ylabel('Number of Fatalities')\n",
    "plt.legend()\n",
    "plt.grid(True)\n",
    "plt.show()"
   ]
  },
  {
   "cell_type": "markdown",
   "metadata": {},
   "source": [
    "_There is intermittent trends of violent incidents in Sudan. The period between 2005 and 2010 had the lowest count of violent incidents._ \n",
    "\n",
    "_The second decade (2010-2020), and the third decade (2020 -Present) had the highest number of violent incidents._"
   ]
  },
  {
   "cell_type": "code",
   "execution_count": 43,
   "metadata": {},
   "outputs": [
    {
     "data": {
      "application/vnd.plotly.v1+json": {
       "config": {
        "plotlyServerURL": "https://plot.ly"
       },
       "data": [
        {
         "domain": {
          "x": [
           0,
           1
          ],
          "y": [
           0,
           1
          ]
         },
         "hovertemplate": "index=%{label}<br>value=%{value}<extra></extra>",
         "labels": [
          "Battles",
          "Violence against civilians",
          "Protests",
          "Explosions/Remote violence",
          "Strategic developments",
          "Riots"
         ],
         "legendgroup": "",
         "name": "",
         "showlegend": true,
         "type": "pie",
         "values": [
          10392,
          9143,
          6208,
          3760,
          3051,
          930
         ]
        }
       ],
       "layout": {
        "legend": {
         "tracegroupgap": 0
        },
        "template": {
         "data": {
          "bar": [
           {
            "error_x": {
             "color": "#2a3f5f"
            },
            "error_y": {
             "color": "#2a3f5f"
            },
            "marker": {
             "line": {
              "color": "#E5ECF6",
              "width": 0.5
             }
            },
            "type": "bar"
           }
          ],
          "barpolar": [
           {
            "marker": {
             "line": {
              "color": "#E5ECF6",
              "width": 0.5
             }
            },
            "type": "barpolar"
           }
          ],
          "carpet": [
           {
            "aaxis": {
             "endlinecolor": "#2a3f5f",
             "gridcolor": "white",
             "linecolor": "white",
             "minorgridcolor": "white",
             "startlinecolor": "#2a3f5f"
            },
            "baxis": {
             "endlinecolor": "#2a3f5f",
             "gridcolor": "white",
             "linecolor": "white",
             "minorgridcolor": "white",
             "startlinecolor": "#2a3f5f"
            },
            "type": "carpet"
           }
          ],
          "choropleth": [
           {
            "colorbar": {
             "outlinewidth": 0,
             "ticks": ""
            },
            "type": "choropleth"
           }
          ],
          "contour": [
           {
            "colorbar": {
             "outlinewidth": 0,
             "ticks": ""
            },
            "colorscale": [
             [
              0,
              "#0d0887"
             ],
             [
              0.1111111111111111,
              "#46039f"
             ],
             [
              0.2222222222222222,
              "#7201a8"
             ],
             [
              0.3333333333333333,
              "#9c179e"
             ],
             [
              0.4444444444444444,
              "#bd3786"
             ],
             [
              0.5555555555555556,
              "#d8576b"
             ],
             [
              0.6666666666666666,
              "#ed7953"
             ],
             [
              0.7777777777777778,
              "#fb9f3a"
             ],
             [
              0.8888888888888888,
              "#fdca26"
             ],
             [
              1,
              "#f0f921"
             ]
            ],
            "type": "contour"
           }
          ],
          "contourcarpet": [
           {
            "colorbar": {
             "outlinewidth": 0,
             "ticks": ""
            },
            "type": "contourcarpet"
           }
          ],
          "heatmap": [
           {
            "colorbar": {
             "outlinewidth": 0,
             "ticks": ""
            },
            "colorscale": [
             [
              0,
              "#0d0887"
             ],
             [
              0.1111111111111111,
              "#46039f"
             ],
             [
              0.2222222222222222,
              "#7201a8"
             ],
             [
              0.3333333333333333,
              "#9c179e"
             ],
             [
              0.4444444444444444,
              "#bd3786"
             ],
             [
              0.5555555555555556,
              "#d8576b"
             ],
             [
              0.6666666666666666,
              "#ed7953"
             ],
             [
              0.7777777777777778,
              "#fb9f3a"
             ],
             [
              0.8888888888888888,
              "#fdca26"
             ],
             [
              1,
              "#f0f921"
             ]
            ],
            "type": "heatmap"
           }
          ],
          "heatmapgl": [
           {
            "colorbar": {
             "outlinewidth": 0,
             "ticks": ""
            },
            "colorscale": [
             [
              0,
              "#0d0887"
             ],
             [
              0.1111111111111111,
              "#46039f"
             ],
             [
              0.2222222222222222,
              "#7201a8"
             ],
             [
              0.3333333333333333,
              "#9c179e"
             ],
             [
              0.4444444444444444,
              "#bd3786"
             ],
             [
              0.5555555555555556,
              "#d8576b"
             ],
             [
              0.6666666666666666,
              "#ed7953"
             ],
             [
              0.7777777777777778,
              "#fb9f3a"
             ],
             [
              0.8888888888888888,
              "#fdca26"
             ],
             [
              1,
              "#f0f921"
             ]
            ],
            "type": "heatmapgl"
           }
          ],
          "histogram": [
           {
            "marker": {
             "colorbar": {
              "outlinewidth": 0,
              "ticks": ""
             }
            },
            "type": "histogram"
           }
          ],
          "histogram2d": [
           {
            "colorbar": {
             "outlinewidth": 0,
             "ticks": ""
            },
            "colorscale": [
             [
              0,
              "#0d0887"
             ],
             [
              0.1111111111111111,
              "#46039f"
             ],
             [
              0.2222222222222222,
              "#7201a8"
             ],
             [
              0.3333333333333333,
              "#9c179e"
             ],
             [
              0.4444444444444444,
              "#bd3786"
             ],
             [
              0.5555555555555556,
              "#d8576b"
             ],
             [
              0.6666666666666666,
              "#ed7953"
             ],
             [
              0.7777777777777778,
              "#fb9f3a"
             ],
             [
              0.8888888888888888,
              "#fdca26"
             ],
             [
              1,
              "#f0f921"
             ]
            ],
            "type": "histogram2d"
           }
          ],
          "histogram2dcontour": [
           {
            "colorbar": {
             "outlinewidth": 0,
             "ticks": ""
            },
            "colorscale": [
             [
              0,
              "#0d0887"
             ],
             [
              0.1111111111111111,
              "#46039f"
             ],
             [
              0.2222222222222222,
              "#7201a8"
             ],
             [
              0.3333333333333333,
              "#9c179e"
             ],
             [
              0.4444444444444444,
              "#bd3786"
             ],
             [
              0.5555555555555556,
              "#d8576b"
             ],
             [
              0.6666666666666666,
              "#ed7953"
             ],
             [
              0.7777777777777778,
              "#fb9f3a"
             ],
             [
              0.8888888888888888,
              "#fdca26"
             ],
             [
              1,
              "#f0f921"
             ]
            ],
            "type": "histogram2dcontour"
           }
          ],
          "mesh3d": [
           {
            "colorbar": {
             "outlinewidth": 0,
             "ticks": ""
            },
            "type": "mesh3d"
           }
          ],
          "parcoords": [
           {
            "line": {
             "colorbar": {
              "outlinewidth": 0,
              "ticks": ""
             }
            },
            "type": "parcoords"
           }
          ],
          "pie": [
           {
            "automargin": true,
            "type": "pie"
           }
          ],
          "scatter": [
           {
            "marker": {
             "colorbar": {
              "outlinewidth": 0,
              "ticks": ""
             }
            },
            "type": "scatter"
           }
          ],
          "scatter3d": [
           {
            "line": {
             "colorbar": {
              "outlinewidth": 0,
              "ticks": ""
             }
            },
            "marker": {
             "colorbar": {
              "outlinewidth": 0,
              "ticks": ""
             }
            },
            "type": "scatter3d"
           }
          ],
          "scattercarpet": [
           {
            "marker": {
             "colorbar": {
              "outlinewidth": 0,
              "ticks": ""
             }
            },
            "type": "scattercarpet"
           }
          ],
          "scattergeo": [
           {
            "marker": {
             "colorbar": {
              "outlinewidth": 0,
              "ticks": ""
             }
            },
            "type": "scattergeo"
           }
          ],
          "scattergl": [
           {
            "marker": {
             "colorbar": {
              "outlinewidth": 0,
              "ticks": ""
             }
            },
            "type": "scattergl"
           }
          ],
          "scattermapbox": [
           {
            "marker": {
             "colorbar": {
              "outlinewidth": 0,
              "ticks": ""
             }
            },
            "type": "scattermapbox"
           }
          ],
          "scatterpolar": [
           {
            "marker": {
             "colorbar": {
              "outlinewidth": 0,
              "ticks": ""
             }
            },
            "type": "scatterpolar"
           }
          ],
          "scatterpolargl": [
           {
            "marker": {
             "colorbar": {
              "outlinewidth": 0,
              "ticks": ""
             }
            },
            "type": "scatterpolargl"
           }
          ],
          "scatterternary": [
           {
            "marker": {
             "colorbar": {
              "outlinewidth": 0,
              "ticks": ""
             }
            },
            "type": "scatterternary"
           }
          ],
          "surface": [
           {
            "colorbar": {
             "outlinewidth": 0,
             "ticks": ""
            },
            "colorscale": [
             [
              0,
              "#0d0887"
             ],
             [
              0.1111111111111111,
              "#46039f"
             ],
             [
              0.2222222222222222,
              "#7201a8"
             ],
             [
              0.3333333333333333,
              "#9c179e"
             ],
             [
              0.4444444444444444,
              "#bd3786"
             ],
             [
              0.5555555555555556,
              "#d8576b"
             ],
             [
              0.6666666666666666,
              "#ed7953"
             ],
             [
              0.7777777777777778,
              "#fb9f3a"
             ],
             [
              0.8888888888888888,
              "#fdca26"
             ],
             [
              1,
              "#f0f921"
             ]
            ],
            "type": "surface"
           }
          ],
          "table": [
           {
            "cells": {
             "fill": {
              "color": "#EBF0F8"
             },
             "line": {
              "color": "white"
             }
            },
            "header": {
             "fill": {
              "color": "#C8D4E3"
             },
             "line": {
              "color": "white"
             }
            },
            "type": "table"
           }
          ]
         },
         "layout": {
          "annotationdefaults": {
           "arrowcolor": "#2a3f5f",
           "arrowhead": 0,
           "arrowwidth": 1
          },
          "coloraxis": {
           "colorbar": {
            "outlinewidth": 0,
            "ticks": ""
           }
          },
          "colorscale": {
           "diverging": [
            [
             0,
             "#8e0152"
            ],
            [
             0.1,
             "#c51b7d"
            ],
            [
             0.2,
             "#de77ae"
            ],
            [
             0.3,
             "#f1b6da"
            ],
            [
             0.4,
             "#fde0ef"
            ],
            [
             0.5,
             "#f7f7f7"
            ],
            [
             0.6,
             "#e6f5d0"
            ],
            [
             0.7,
             "#b8e186"
            ],
            [
             0.8,
             "#7fbc41"
            ],
            [
             0.9,
             "#4d9221"
            ],
            [
             1,
             "#276419"
            ]
           ],
           "sequential": [
            [
             0,
             "#0d0887"
            ],
            [
             0.1111111111111111,
             "#46039f"
            ],
            [
             0.2222222222222222,
             "#7201a8"
            ],
            [
             0.3333333333333333,
             "#9c179e"
            ],
            [
             0.4444444444444444,
             "#bd3786"
            ],
            [
             0.5555555555555556,
             "#d8576b"
            ],
            [
             0.6666666666666666,
             "#ed7953"
            ],
            [
             0.7777777777777778,
             "#fb9f3a"
            ],
            [
             0.8888888888888888,
             "#fdca26"
            ],
            [
             1,
             "#f0f921"
            ]
           ],
           "sequentialminus": [
            [
             0,
             "#0d0887"
            ],
            [
             0.1111111111111111,
             "#46039f"
            ],
            [
             0.2222222222222222,
             "#7201a8"
            ],
            [
             0.3333333333333333,
             "#9c179e"
            ],
            [
             0.4444444444444444,
             "#bd3786"
            ],
            [
             0.5555555555555556,
             "#d8576b"
            ],
            [
             0.6666666666666666,
             "#ed7953"
            ],
            [
             0.7777777777777778,
             "#fb9f3a"
            ],
            [
             0.8888888888888888,
             "#fdca26"
            ],
            [
             1,
             "#f0f921"
            ]
           ]
          },
          "colorway": [
           "#636efa",
           "#EF553B",
           "#00cc96",
           "#ab63fa",
           "#FFA15A",
           "#19d3f3",
           "#FF6692",
           "#B6E880",
           "#FF97FF",
           "#FECB52"
          ],
          "font": {
           "color": "#2a3f5f"
          },
          "geo": {
           "bgcolor": "white",
           "lakecolor": "white",
           "landcolor": "#E5ECF6",
           "showlakes": true,
           "showland": true,
           "subunitcolor": "white"
          },
          "hoverlabel": {
           "align": "left"
          },
          "hovermode": "closest",
          "mapbox": {
           "style": "light"
          },
          "paper_bgcolor": "white",
          "plot_bgcolor": "#E5ECF6",
          "polar": {
           "angularaxis": {
            "gridcolor": "white",
            "linecolor": "white",
            "ticks": ""
           },
           "bgcolor": "#E5ECF6",
           "radialaxis": {
            "gridcolor": "white",
            "linecolor": "white",
            "ticks": ""
           }
          },
          "scene": {
           "xaxis": {
            "backgroundcolor": "#E5ECF6",
            "gridcolor": "white",
            "gridwidth": 2,
            "linecolor": "white",
            "showbackground": true,
            "ticks": "",
            "zerolinecolor": "white"
           },
           "yaxis": {
            "backgroundcolor": "#E5ECF6",
            "gridcolor": "white",
            "gridwidth": 2,
            "linecolor": "white",
            "showbackground": true,
            "ticks": "",
            "zerolinecolor": "white"
           },
           "zaxis": {
            "backgroundcolor": "#E5ECF6",
            "gridcolor": "white",
            "gridwidth": 2,
            "linecolor": "white",
            "showbackground": true,
            "ticks": "",
            "zerolinecolor": "white"
           }
          },
          "shapedefaults": {
           "line": {
            "color": "#2a3f5f"
           }
          },
          "ternary": {
           "aaxis": {
            "gridcolor": "white",
            "linecolor": "white",
            "ticks": ""
           },
           "baxis": {
            "gridcolor": "white",
            "linecolor": "white",
            "ticks": ""
           },
           "bgcolor": "#E5ECF6",
           "caxis": {
            "gridcolor": "white",
            "linecolor": "white",
            "ticks": ""
           }
          },
          "title": {
           "x": 0.05
          },
          "xaxis": {
           "automargin": true,
           "gridcolor": "white",
           "linecolor": "white",
           "ticks": "",
           "title": {
            "standoff": 15
           },
           "zerolinecolor": "white",
           "zerolinewidth": 2
          },
          "yaxis": {
           "automargin": true,
           "gridcolor": "white",
           "linecolor": "white",
           "ticks": "",
           "title": {
            "standoff": 15
           },
           "zerolinecolor": "white",
           "zerolinewidth": 2
          }
         }
        },
        "title": {
         "text": "Total Type of Event percentage in Sudan"
        }
       }
      },
      "text/html": [
       "<div>                            <div id=\"0bd4819d-9a58-44fd-a9ce-b6c24b27e067\" class=\"plotly-graph-div\" style=\"height:525px; width:100%;\"></div>            <script type=\"text/javascript\">                require([\"plotly\"], function(Plotly) {                    window.PLOTLYENV=window.PLOTLYENV || {};                                    if (document.getElementById(\"0bd4819d-9a58-44fd-a9ce-b6c24b27e067\")) {                    Plotly.newPlot(                        \"0bd4819d-9a58-44fd-a9ce-b6c24b27e067\",                        [{\"domain\": {\"x\": [0.0, 1.0], \"y\": [0.0, 1.0]}, \"hovertemplate\": \"index=%{label}<br>value=%{value}<extra></extra>\", \"labels\": [\"Battles\", \"Violence against civilians\", \"Protests\", \"Explosions/Remote violence\", \"Strategic developments\", \"Riots\"], \"legendgroup\": \"\", \"name\": \"\", \"showlegend\": true, \"type\": \"pie\", \"values\": [10392, 9143, 6208, 3760, 3051, 930]}],                        {\"legend\": {\"tracegroupgap\": 0}, \"template\": {\"data\": {\"bar\": [{\"error_x\": {\"color\": \"#2a3f5f\"}, \"error_y\": {\"color\": \"#2a3f5f\"}, \"marker\": {\"line\": {\"color\": \"#E5ECF6\", \"width\": 0.5}}, \"type\": \"bar\"}], \"barpolar\": [{\"marker\": {\"line\": {\"color\": \"#E5ECF6\", \"width\": 0.5}}, \"type\": \"barpolar\"}], \"carpet\": [{\"aaxis\": {\"endlinecolor\": \"#2a3f5f\", \"gridcolor\": \"white\", \"linecolor\": \"white\", \"minorgridcolor\": \"white\", \"startlinecolor\": \"#2a3f5f\"}, \"baxis\": {\"endlinecolor\": \"#2a3f5f\", \"gridcolor\": \"white\", \"linecolor\": \"white\", \"minorgridcolor\": \"white\", \"startlinecolor\": \"#2a3f5f\"}, \"type\": \"carpet\"}], \"choropleth\": [{\"colorbar\": {\"outlinewidth\": 0, \"ticks\": \"\"}, \"type\": \"choropleth\"}], \"contour\": [{\"colorbar\": {\"outlinewidth\": 0, \"ticks\": \"\"}, \"colorscale\": [[0.0, \"#0d0887\"], [0.1111111111111111, \"#46039f\"], [0.2222222222222222, \"#7201a8\"], [0.3333333333333333, \"#9c179e\"], [0.4444444444444444, \"#bd3786\"], [0.5555555555555556, \"#d8576b\"], [0.6666666666666666, \"#ed7953\"], [0.7777777777777778, \"#fb9f3a\"], [0.8888888888888888, \"#fdca26\"], [1.0, \"#f0f921\"]], \"type\": \"contour\"}], \"contourcarpet\": [{\"colorbar\": {\"outlinewidth\": 0, \"ticks\": \"\"}, \"type\": \"contourcarpet\"}], \"heatmap\": [{\"colorbar\": {\"outlinewidth\": 0, \"ticks\": \"\"}, \"colorscale\": [[0.0, \"#0d0887\"], [0.1111111111111111, \"#46039f\"], [0.2222222222222222, \"#7201a8\"], [0.3333333333333333, \"#9c179e\"], [0.4444444444444444, \"#bd3786\"], [0.5555555555555556, \"#d8576b\"], [0.6666666666666666, \"#ed7953\"], [0.7777777777777778, \"#fb9f3a\"], [0.8888888888888888, \"#fdca26\"], [1.0, \"#f0f921\"]], \"type\": \"heatmap\"}], \"heatmapgl\": [{\"colorbar\": {\"outlinewidth\": 0, \"ticks\": \"\"}, \"colorscale\": [[0.0, \"#0d0887\"], [0.1111111111111111, \"#46039f\"], [0.2222222222222222, \"#7201a8\"], [0.3333333333333333, \"#9c179e\"], [0.4444444444444444, \"#bd3786\"], [0.5555555555555556, \"#d8576b\"], [0.6666666666666666, \"#ed7953\"], [0.7777777777777778, \"#fb9f3a\"], [0.8888888888888888, \"#fdca26\"], [1.0, \"#f0f921\"]], \"type\": \"heatmapgl\"}], \"histogram\": [{\"marker\": {\"colorbar\": {\"outlinewidth\": 0, \"ticks\": \"\"}}, \"type\": \"histogram\"}], \"histogram2d\": [{\"colorbar\": {\"outlinewidth\": 0, \"ticks\": \"\"}, \"colorscale\": [[0.0, \"#0d0887\"], [0.1111111111111111, \"#46039f\"], [0.2222222222222222, \"#7201a8\"], [0.3333333333333333, \"#9c179e\"], [0.4444444444444444, \"#bd3786\"], [0.5555555555555556, \"#d8576b\"], [0.6666666666666666, \"#ed7953\"], [0.7777777777777778, \"#fb9f3a\"], [0.8888888888888888, \"#fdca26\"], [1.0, \"#f0f921\"]], \"type\": \"histogram2d\"}], \"histogram2dcontour\": [{\"colorbar\": {\"outlinewidth\": 0, \"ticks\": \"\"}, \"colorscale\": [[0.0, \"#0d0887\"], [0.1111111111111111, \"#46039f\"], [0.2222222222222222, \"#7201a8\"], [0.3333333333333333, \"#9c179e\"], [0.4444444444444444, \"#bd3786\"], [0.5555555555555556, \"#d8576b\"], [0.6666666666666666, \"#ed7953\"], [0.7777777777777778, \"#fb9f3a\"], [0.8888888888888888, \"#fdca26\"], [1.0, \"#f0f921\"]], \"type\": \"histogram2dcontour\"}], \"mesh3d\": [{\"colorbar\": {\"outlinewidth\": 0, \"ticks\": \"\"}, \"type\": \"mesh3d\"}], \"parcoords\": [{\"line\": {\"colorbar\": {\"outlinewidth\": 0, \"ticks\": \"\"}}, \"type\": \"parcoords\"}], \"pie\": [{\"automargin\": true, \"type\": \"pie\"}], \"scatter\": [{\"marker\": {\"colorbar\": {\"outlinewidth\": 0, \"ticks\": \"\"}}, \"type\": \"scatter\"}], \"scatter3d\": [{\"line\": {\"colorbar\": {\"outlinewidth\": 0, \"ticks\": \"\"}}, \"marker\": {\"colorbar\": {\"outlinewidth\": 0, \"ticks\": \"\"}}, \"type\": \"scatter3d\"}], \"scattercarpet\": [{\"marker\": {\"colorbar\": {\"outlinewidth\": 0, \"ticks\": \"\"}}, \"type\": \"scattercarpet\"}], \"scattergeo\": [{\"marker\": {\"colorbar\": {\"outlinewidth\": 0, \"ticks\": \"\"}}, \"type\": \"scattergeo\"}], \"scattergl\": [{\"marker\": {\"colorbar\": {\"outlinewidth\": 0, \"ticks\": \"\"}}, \"type\": \"scattergl\"}], \"scattermapbox\": [{\"marker\": {\"colorbar\": {\"outlinewidth\": 0, \"ticks\": \"\"}}, \"type\": \"scattermapbox\"}], \"scatterpolar\": [{\"marker\": {\"colorbar\": {\"outlinewidth\": 0, \"ticks\": \"\"}}, \"type\": \"scatterpolar\"}], \"scatterpolargl\": [{\"marker\": {\"colorbar\": {\"outlinewidth\": 0, \"ticks\": \"\"}}, \"type\": \"scatterpolargl\"}], \"scatterternary\": [{\"marker\": {\"colorbar\": {\"outlinewidth\": 0, \"ticks\": \"\"}}, \"type\": \"scatterternary\"}], \"surface\": [{\"colorbar\": {\"outlinewidth\": 0, \"ticks\": \"\"}, \"colorscale\": [[0.0, \"#0d0887\"], [0.1111111111111111, \"#46039f\"], [0.2222222222222222, \"#7201a8\"], [0.3333333333333333, \"#9c179e\"], [0.4444444444444444, \"#bd3786\"], [0.5555555555555556, \"#d8576b\"], [0.6666666666666666, \"#ed7953\"], [0.7777777777777778, \"#fb9f3a\"], [0.8888888888888888, \"#fdca26\"], [1.0, \"#f0f921\"]], \"type\": \"surface\"}], \"table\": [{\"cells\": {\"fill\": {\"color\": \"#EBF0F8\"}, \"line\": {\"color\": \"white\"}}, \"header\": {\"fill\": {\"color\": \"#C8D4E3\"}, \"line\": {\"color\": \"white\"}}, \"type\": \"table\"}]}, \"layout\": {\"annotationdefaults\": {\"arrowcolor\": \"#2a3f5f\", \"arrowhead\": 0, \"arrowwidth\": 1}, \"coloraxis\": {\"colorbar\": {\"outlinewidth\": 0, \"ticks\": \"\"}}, \"colorscale\": {\"diverging\": [[0, \"#8e0152\"], [0.1, \"#c51b7d\"], [0.2, \"#de77ae\"], [0.3, \"#f1b6da\"], [0.4, \"#fde0ef\"], [0.5, \"#f7f7f7\"], [0.6, \"#e6f5d0\"], [0.7, \"#b8e186\"], [0.8, \"#7fbc41\"], [0.9, \"#4d9221\"], [1, \"#276419\"]], \"sequential\": [[0.0, \"#0d0887\"], [0.1111111111111111, \"#46039f\"], [0.2222222222222222, \"#7201a8\"], [0.3333333333333333, \"#9c179e\"], [0.4444444444444444, \"#bd3786\"], [0.5555555555555556, \"#d8576b\"], [0.6666666666666666, \"#ed7953\"], [0.7777777777777778, \"#fb9f3a\"], [0.8888888888888888, \"#fdca26\"], [1.0, \"#f0f921\"]], \"sequentialminus\": [[0.0, \"#0d0887\"], [0.1111111111111111, \"#46039f\"], [0.2222222222222222, \"#7201a8\"], [0.3333333333333333, \"#9c179e\"], [0.4444444444444444, \"#bd3786\"], [0.5555555555555556, \"#d8576b\"], [0.6666666666666666, \"#ed7953\"], [0.7777777777777778, \"#fb9f3a\"], [0.8888888888888888, \"#fdca26\"], [1.0, \"#f0f921\"]]}, \"colorway\": [\"#636efa\", \"#EF553B\", \"#00cc96\", \"#ab63fa\", \"#FFA15A\", \"#19d3f3\", \"#FF6692\", \"#B6E880\", \"#FF97FF\", \"#FECB52\"], \"font\": {\"color\": \"#2a3f5f\"}, \"geo\": {\"bgcolor\": \"white\", \"lakecolor\": \"white\", \"landcolor\": \"#E5ECF6\", \"showlakes\": true, \"showland\": true, \"subunitcolor\": \"white\"}, \"hoverlabel\": {\"align\": \"left\"}, \"hovermode\": \"closest\", \"mapbox\": {\"style\": \"light\"}, \"paper_bgcolor\": \"white\", \"plot_bgcolor\": \"#E5ECF6\", \"polar\": {\"angularaxis\": {\"gridcolor\": \"white\", \"linecolor\": \"white\", \"ticks\": \"\"}, \"bgcolor\": \"#E5ECF6\", \"radialaxis\": {\"gridcolor\": \"white\", \"linecolor\": \"white\", \"ticks\": \"\"}}, \"scene\": {\"xaxis\": {\"backgroundcolor\": \"#E5ECF6\", \"gridcolor\": \"white\", \"gridwidth\": 2, \"linecolor\": \"white\", \"showbackground\": true, \"ticks\": \"\", \"zerolinecolor\": \"white\"}, \"yaxis\": {\"backgroundcolor\": \"#E5ECF6\", \"gridcolor\": \"white\", \"gridwidth\": 2, \"linecolor\": \"white\", \"showbackground\": true, \"ticks\": \"\", \"zerolinecolor\": \"white\"}, \"zaxis\": {\"backgroundcolor\": \"#E5ECF6\", \"gridcolor\": \"white\", \"gridwidth\": 2, \"linecolor\": \"white\", \"showbackground\": true, \"ticks\": \"\", \"zerolinecolor\": \"white\"}}, \"shapedefaults\": {\"line\": {\"color\": \"#2a3f5f\"}}, \"ternary\": {\"aaxis\": {\"gridcolor\": \"white\", \"linecolor\": \"white\", \"ticks\": \"\"}, \"baxis\": {\"gridcolor\": \"white\", \"linecolor\": \"white\", \"ticks\": \"\"}, \"bgcolor\": \"#E5ECF6\", \"caxis\": {\"gridcolor\": \"white\", \"linecolor\": \"white\", \"ticks\": \"\"}}, \"title\": {\"x\": 0.05}, \"xaxis\": {\"automargin\": true, \"gridcolor\": \"white\", \"linecolor\": \"white\", \"ticks\": \"\", \"title\": {\"standoff\": 15}, \"zerolinecolor\": \"white\", \"zerolinewidth\": 2}, \"yaxis\": {\"automargin\": true, \"gridcolor\": \"white\", \"linecolor\": \"white\", \"ticks\": \"\", \"title\": {\"standoff\": 15}, \"zerolinecolor\": \"white\", \"zerolinewidth\": 2}}}, \"title\": {\"text\": \"Total Type of Event percentage in Sudan\"}},                        {\"responsive\": true}                    ).then(function(){\n",
       "                            \n",
       "var gd = document.getElementById('0bd4819d-9a58-44fd-a9ce-b6c24b27e067');\n",
       "var x = new MutationObserver(function (mutations, observer) {{\n",
       "        var display = window.getComputedStyle(gd).display;\n",
       "        if (!display || display === 'none') {{\n",
       "            console.log([gd, 'removed!']);\n",
       "            Plotly.purge(gd);\n",
       "            observer.disconnect();\n",
       "        }}\n",
       "}});\n",
       "\n",
       "// Listen for the removal of the full notebook cells\n",
       "var notebookContainer = gd.closest('#notebook-container');\n",
       "if (notebookContainer) {{\n",
       "    x.observe(notebookContainer, {childList: true});\n",
       "}}\n",
       "\n",
       "// Listen for the clearing of the current output cell\n",
       "var outputEl = gd.closest('.output');\n",
       "if (outputEl) {{\n",
       "    x.observe(outputEl, {childList: true});\n",
       "}}\n",
       "\n",
       "                        })                };                });            </script>        </div>"
      ]
     },
     "metadata": {},
     "output_type": "display_data"
    }
   ],
   "source": [
    "import plotly.express as px\n",
    "\n",
    "# Calculate the value counts of event types\n",
    "event_type = df_2[\"event_type\"].value_counts()\n",
    "\n",
    "# Create a pie chart using Plotly\n",
    "fig = px.pie(event_type, values=event_type.values, names=event_type.index, title='Total Type of Event percentage in Sudan')\n",
    "\n",
    "# Show the plot\n",
    "fig.show()"
   ]
  },
  {
   "cell_type": "markdown",
   "metadata": {},
   "source": [
    "_The pie_chart shows the propportions of violent in Sudan by event percentage._\n",
    "\n",
    "_Battles constitute the largest proportion of violence followed by violence againts civilians_"
   ]
  },
  {
   "cell_type": "code",
   "execution_count": 44,
   "metadata": {},
   "outputs": [
    {
     "data": {
      "text/html": [
       "<div>\n",
       "<style scoped>\n",
       "    .dataframe tbody tr th:only-of-type {\n",
       "        vertical-align: middle;\n",
       "    }\n",
       "\n",
       "    .dataframe tbody tr th {\n",
       "        vertical-align: top;\n",
       "    }\n",
       "\n",
       "    .dataframe thead th {\n",
       "        text-align: right;\n",
       "    }\n",
       "</style>\n",
       "<table border=\"1\" class=\"dataframe\">\n",
       "  <thead>\n",
       "    <tr style=\"text-align: right;\">\n",
       "      <th></th>\n",
       "      <th>event_type</th>\n",
       "      <th>sub_event_type</th>\n",
       "      <th>count</th>\n",
       "    </tr>\n",
       "  </thead>\n",
       "  <tbody>\n",
       "    <tr>\n",
       "      <th>0</th>\n",
       "      <td>Battles</td>\n",
       "      <td>Armed clash</td>\n",
       "      <td>9708</td>\n",
       "    </tr>\n",
       "    <tr>\n",
       "      <th>1</th>\n",
       "      <td>Battles</td>\n",
       "      <td>Government regains territory</td>\n",
       "      <td>419</td>\n",
       "    </tr>\n",
       "    <tr>\n",
       "      <th>2</th>\n",
       "      <td>Battles</td>\n",
       "      <td>Non-state actor overtakes territory</td>\n",
       "      <td>265</td>\n",
       "    </tr>\n",
       "    <tr>\n",
       "      <th>3</th>\n",
       "      <td>Explosions/Remote violence</td>\n",
       "      <td>Air/drone strike</td>\n",
       "      <td>2478</td>\n",
       "    </tr>\n",
       "    <tr>\n",
       "      <th>4</th>\n",
       "      <td>Explosions/Remote violence</td>\n",
       "      <td>Chemical weapon</td>\n",
       "      <td>18</td>\n",
       "    </tr>\n",
       "    <tr>\n",
       "      <th>5</th>\n",
       "      <td>Explosions/Remote violence</td>\n",
       "      <td>Grenade</td>\n",
       "      <td>55</td>\n",
       "    </tr>\n",
       "    <tr>\n",
       "      <th>6</th>\n",
       "      <td>Explosions/Remote violence</td>\n",
       "      <td>Remote explosive/landmine/IED</td>\n",
       "      <td>264</td>\n",
       "    </tr>\n",
       "    <tr>\n",
       "      <th>7</th>\n",
       "      <td>Explosions/Remote violence</td>\n",
       "      <td>Shelling/artillery/missile attack</td>\n",
       "      <td>945</td>\n",
       "    </tr>\n",
       "    <tr>\n",
       "      <th>8</th>\n",
       "      <td>Protests</td>\n",
       "      <td>Excessive force against protesters</td>\n",
       "      <td>455</td>\n",
       "    </tr>\n",
       "    <tr>\n",
       "      <th>9</th>\n",
       "      <td>Protests</td>\n",
       "      <td>Peaceful protest</td>\n",
       "      <td>4851</td>\n",
       "    </tr>\n",
       "    <tr>\n",
       "      <th>10</th>\n",
       "      <td>Protests</td>\n",
       "      <td>Protest with intervention</td>\n",
       "      <td>902</td>\n",
       "    </tr>\n",
       "    <tr>\n",
       "      <th>11</th>\n",
       "      <td>Riots</td>\n",
       "      <td>Mob violence</td>\n",
       "      <td>322</td>\n",
       "    </tr>\n",
       "    <tr>\n",
       "      <th>12</th>\n",
       "      <td>Riots</td>\n",
       "      <td>Violent demonstration</td>\n",
       "      <td>608</td>\n",
       "    </tr>\n",
       "    <tr>\n",
       "      <th>13</th>\n",
       "      <td>Strategic developments</td>\n",
       "      <td>Agreement</td>\n",
       "      <td>279</td>\n",
       "    </tr>\n",
       "    <tr>\n",
       "      <th>14</th>\n",
       "      <td>Strategic developments</td>\n",
       "      <td>Arrests</td>\n",
       "      <td>197</td>\n",
       "    </tr>\n",
       "    <tr>\n",
       "      <th>15</th>\n",
       "      <td>Strategic developments</td>\n",
       "      <td>Change to group/activity</td>\n",
       "      <td>883</td>\n",
       "    </tr>\n",
       "    <tr>\n",
       "      <th>16</th>\n",
       "      <td>Strategic developments</td>\n",
       "      <td>Disrupted weapons use</td>\n",
       "      <td>152</td>\n",
       "    </tr>\n",
       "    <tr>\n",
       "      <th>17</th>\n",
       "      <td>Strategic developments</td>\n",
       "      <td>Headquarters or base established</td>\n",
       "      <td>22</td>\n",
       "    </tr>\n",
       "    <tr>\n",
       "      <th>18</th>\n",
       "      <td>Strategic developments</td>\n",
       "      <td>Looting/property destruction</td>\n",
       "      <td>801</td>\n",
       "    </tr>\n",
       "    <tr>\n",
       "      <th>19</th>\n",
       "      <td>Strategic developments</td>\n",
       "      <td>Non-violent transfer of territory</td>\n",
       "      <td>141</td>\n",
       "    </tr>\n",
       "    <tr>\n",
       "      <th>20</th>\n",
       "      <td>Strategic developments</td>\n",
       "      <td>Other</td>\n",
       "      <td>576</td>\n",
       "    </tr>\n",
       "    <tr>\n",
       "      <th>21</th>\n",
       "      <td>Violence against civilians</td>\n",
       "      <td>Abduction/forced disappearance</td>\n",
       "      <td>713</td>\n",
       "    </tr>\n",
       "    <tr>\n",
       "      <th>22</th>\n",
       "      <td>Violence against civilians</td>\n",
       "      <td>Attack</td>\n",
       "      <td>7601</td>\n",
       "    </tr>\n",
       "    <tr>\n",
       "      <th>23</th>\n",
       "      <td>Violence against civilians</td>\n",
       "      <td>Sexual violence</td>\n",
       "      <td>829</td>\n",
       "    </tr>\n",
       "  </tbody>\n",
       "</table>\n",
       "</div>"
      ],
      "text/plain": [
       "                    event_type                       sub_event_type  count\n",
       "0                      Battles                          Armed clash   9708\n",
       "1                      Battles         Government regains territory    419\n",
       "2                      Battles  Non-state actor overtakes territory    265\n",
       "3   Explosions/Remote violence                     Air/drone strike   2478\n",
       "4   Explosions/Remote violence                      Chemical weapon     18\n",
       "5   Explosions/Remote violence                              Grenade     55\n",
       "6   Explosions/Remote violence        Remote explosive/landmine/IED    264\n",
       "7   Explosions/Remote violence    Shelling/artillery/missile attack    945\n",
       "8                     Protests   Excessive force against protesters    455\n",
       "9                     Protests                     Peaceful protest   4851\n",
       "10                    Protests            Protest with intervention    902\n",
       "11                       Riots                         Mob violence    322\n",
       "12                       Riots                Violent demonstration    608\n",
       "13      Strategic developments                            Agreement    279\n",
       "14      Strategic developments                              Arrests    197\n",
       "15      Strategic developments             Change to group/activity    883\n",
       "16      Strategic developments                Disrupted weapons use    152\n",
       "17      Strategic developments     Headquarters or base established     22\n",
       "18      Strategic developments         Looting/property destruction    801\n",
       "19      Strategic developments    Non-violent transfer of territory    141\n",
       "20      Strategic developments                                Other    576\n",
       "21  Violence against civilians       Abduction/forced disappearance    713\n",
       "22  Violence against civilians                               Attack   7601\n",
       "23  Violence against civilians                      Sexual violence    829"
      ]
     },
     "execution_count": 44,
     "metadata": {},
     "output_type": "execute_result"
    }
   ],
   "source": [
    "# event and sub_event \n",
    "\n",
    "sub_event=df_2.groupby([\"event_type\",\"sub_event_type\"])[\"event_date\"].agg({'count'}).reset_index()\n",
    "sub_event"
   ]
  },
  {
   "cell_type": "markdown",
   "metadata": {},
   "source": [
    "_The most frequent type of violent event in Sudan are armed battles, followed by clash between civilians againts civilians. Explosions and chemical attacks are the least events recorded during the different period._"
   ]
  },
  {
   "cell_type": "code",
   "execution_count": 45,
   "metadata": {},
   "outputs": [
    {
     "data": {
      "application/vnd.plotly.v1+json": {
       "config": {
        "plotlyServerURL": "https://plot.ly"
       },
       "data": [
        {
         "branchvalues": "total",
         "domain": {
          "x": [
           0,
           1
          ],
          "y": [
           0,
           1
          ]
         },
         "hovertemplate": "labels=%{label}<br>count=%{value}<br>parent=%{parent}<br>id=%{id}<extra></extra>",
         "ids": [
          "Violence against civilians/Abduction/forced disappearance",
          "Strategic developments/Agreement",
          "Explosions/Remote violence/Air/drone strike",
          "Battles/Armed clash",
          "Strategic developments/Arrests",
          "Violence against civilians/Attack",
          "Strategic developments/Change to group/activity",
          "Explosions/Remote violence/Chemical weapon",
          "Strategic developments/Disrupted weapons use",
          "Protests/Excessive force against protesters",
          "Battles/Government regains territory",
          "Explosions/Remote violence/Grenade",
          "Strategic developments/Headquarters or base established",
          "Strategic developments/Looting/property destruction",
          "Riots/Mob violence",
          "Battles/Non-state actor overtakes territory",
          "Strategic developments/Non-violent transfer of territory",
          "Strategic developments/Other",
          "Protests/Peaceful protest",
          "Protests/Protest with intervention",
          "Explosions/Remote violence/Remote explosive/landmine/IED",
          "Violence against civilians/Sexual violence",
          "Explosions/Remote violence/Shelling/artillery/missile attack",
          "Riots/Violent demonstration",
          "Battles",
          "Explosions/Remote violence",
          "Protests",
          "Riots",
          "Strategic developments",
          "Violence against civilians"
         ],
         "labels": [
          "Abduction/forced disappearance",
          "Agreement",
          "Air/drone strike",
          "Armed clash",
          "Arrests",
          "Attack",
          "Change to group/activity",
          "Chemical weapon",
          "Disrupted weapons use",
          "Excessive force against protesters",
          "Government regains territory",
          "Grenade",
          "Headquarters or base established",
          "Looting/property destruction",
          "Mob violence",
          "Non-state actor overtakes territory",
          "Non-violent transfer of territory",
          "Other",
          "Peaceful protest",
          "Protest with intervention",
          "Remote explosive/landmine/IED",
          "Sexual violence",
          "Shelling/artillery/missile attack",
          "Violent demonstration",
          "Battles",
          "Explosions/Remote violence",
          "Protests",
          "Riots",
          "Strategic developments",
          "Violence against civilians"
         ],
         "name": "",
         "parents": [
          "Violence against civilians",
          "Strategic developments",
          "Explosions/Remote violence",
          "Battles",
          "Strategic developments",
          "Violence against civilians",
          "Strategic developments",
          "Explosions/Remote violence",
          "Strategic developments",
          "Protests",
          "Battles",
          "Explosions/Remote violence",
          "Strategic developments",
          "Strategic developments",
          "Riots",
          "Battles",
          "Strategic developments",
          "Strategic developments",
          "Protests",
          "Protests",
          "Explosions/Remote violence",
          "Violence against civilians",
          "Explosions/Remote violence",
          "Riots",
          "",
          "",
          "",
          "",
          "",
          ""
         ],
         "textinfo": "label+percent parent",
         "type": "sunburst",
         "values": [
          713,
          279,
          2478,
          9708,
          197,
          7601,
          883,
          18,
          152,
          455,
          419,
          55,
          22,
          801,
          322,
          265,
          141,
          576,
          4851,
          902,
          264,
          829,
          945,
          608,
          10392,
          3760,
          6208,
          930,
          3051,
          9143
         ]
        }
       ],
       "layout": {
        "height": 600,
        "legend": {
         "tracegroupgap": 0
        },
        "margin": {
         "t": 60
        },
        "template": {
         "data": {
          "bar": [
           {
            "error_x": {
             "color": "#2a3f5f"
            },
            "error_y": {
             "color": "#2a3f5f"
            },
            "marker": {
             "line": {
              "color": "#E5ECF6",
              "width": 0.5
             }
            },
            "type": "bar"
           }
          ],
          "barpolar": [
           {
            "marker": {
             "line": {
              "color": "#E5ECF6",
              "width": 0.5
             }
            },
            "type": "barpolar"
           }
          ],
          "carpet": [
           {
            "aaxis": {
             "endlinecolor": "#2a3f5f",
             "gridcolor": "white",
             "linecolor": "white",
             "minorgridcolor": "white",
             "startlinecolor": "#2a3f5f"
            },
            "baxis": {
             "endlinecolor": "#2a3f5f",
             "gridcolor": "white",
             "linecolor": "white",
             "minorgridcolor": "white",
             "startlinecolor": "#2a3f5f"
            },
            "type": "carpet"
           }
          ],
          "choropleth": [
           {
            "colorbar": {
             "outlinewidth": 0,
             "ticks": ""
            },
            "type": "choropleth"
           }
          ],
          "contour": [
           {
            "colorbar": {
             "outlinewidth": 0,
             "ticks": ""
            },
            "colorscale": [
             [
              0,
              "#0d0887"
             ],
             [
              0.1111111111111111,
              "#46039f"
             ],
             [
              0.2222222222222222,
              "#7201a8"
             ],
             [
              0.3333333333333333,
              "#9c179e"
             ],
             [
              0.4444444444444444,
              "#bd3786"
             ],
             [
              0.5555555555555556,
              "#d8576b"
             ],
             [
              0.6666666666666666,
              "#ed7953"
             ],
             [
              0.7777777777777778,
              "#fb9f3a"
             ],
             [
              0.8888888888888888,
              "#fdca26"
             ],
             [
              1,
              "#f0f921"
             ]
            ],
            "type": "contour"
           }
          ],
          "contourcarpet": [
           {
            "colorbar": {
             "outlinewidth": 0,
             "ticks": ""
            },
            "type": "contourcarpet"
           }
          ],
          "heatmap": [
           {
            "colorbar": {
             "outlinewidth": 0,
             "ticks": ""
            },
            "colorscale": [
             [
              0,
              "#0d0887"
             ],
             [
              0.1111111111111111,
              "#46039f"
             ],
             [
              0.2222222222222222,
              "#7201a8"
             ],
             [
              0.3333333333333333,
              "#9c179e"
             ],
             [
              0.4444444444444444,
              "#bd3786"
             ],
             [
              0.5555555555555556,
              "#d8576b"
             ],
             [
              0.6666666666666666,
              "#ed7953"
             ],
             [
              0.7777777777777778,
              "#fb9f3a"
             ],
             [
              0.8888888888888888,
              "#fdca26"
             ],
             [
              1,
              "#f0f921"
             ]
            ],
            "type": "heatmap"
           }
          ],
          "heatmapgl": [
           {
            "colorbar": {
             "outlinewidth": 0,
             "ticks": ""
            },
            "colorscale": [
             [
              0,
              "#0d0887"
             ],
             [
              0.1111111111111111,
              "#46039f"
             ],
             [
              0.2222222222222222,
              "#7201a8"
             ],
             [
              0.3333333333333333,
              "#9c179e"
             ],
             [
              0.4444444444444444,
              "#bd3786"
             ],
             [
              0.5555555555555556,
              "#d8576b"
             ],
             [
              0.6666666666666666,
              "#ed7953"
             ],
             [
              0.7777777777777778,
              "#fb9f3a"
             ],
             [
              0.8888888888888888,
              "#fdca26"
             ],
             [
              1,
              "#f0f921"
             ]
            ],
            "type": "heatmapgl"
           }
          ],
          "histogram": [
           {
            "marker": {
             "colorbar": {
              "outlinewidth": 0,
              "ticks": ""
             }
            },
            "type": "histogram"
           }
          ],
          "histogram2d": [
           {
            "colorbar": {
             "outlinewidth": 0,
             "ticks": ""
            },
            "colorscale": [
             [
              0,
              "#0d0887"
             ],
             [
              0.1111111111111111,
              "#46039f"
             ],
             [
              0.2222222222222222,
              "#7201a8"
             ],
             [
              0.3333333333333333,
              "#9c179e"
             ],
             [
              0.4444444444444444,
              "#bd3786"
             ],
             [
              0.5555555555555556,
              "#d8576b"
             ],
             [
              0.6666666666666666,
              "#ed7953"
             ],
             [
              0.7777777777777778,
              "#fb9f3a"
             ],
             [
              0.8888888888888888,
              "#fdca26"
             ],
             [
              1,
              "#f0f921"
             ]
            ],
            "type": "histogram2d"
           }
          ],
          "histogram2dcontour": [
           {
            "colorbar": {
             "outlinewidth": 0,
             "ticks": ""
            },
            "colorscale": [
             [
              0,
              "#0d0887"
             ],
             [
              0.1111111111111111,
              "#46039f"
             ],
             [
              0.2222222222222222,
              "#7201a8"
             ],
             [
              0.3333333333333333,
              "#9c179e"
             ],
             [
              0.4444444444444444,
              "#bd3786"
             ],
             [
              0.5555555555555556,
              "#d8576b"
             ],
             [
              0.6666666666666666,
              "#ed7953"
             ],
             [
              0.7777777777777778,
              "#fb9f3a"
             ],
             [
              0.8888888888888888,
              "#fdca26"
             ],
             [
              1,
              "#f0f921"
             ]
            ],
            "type": "histogram2dcontour"
           }
          ],
          "mesh3d": [
           {
            "colorbar": {
             "outlinewidth": 0,
             "ticks": ""
            },
            "type": "mesh3d"
           }
          ],
          "parcoords": [
           {
            "line": {
             "colorbar": {
              "outlinewidth": 0,
              "ticks": ""
             }
            },
            "type": "parcoords"
           }
          ],
          "pie": [
           {
            "automargin": true,
            "type": "pie"
           }
          ],
          "scatter": [
           {
            "marker": {
             "colorbar": {
              "outlinewidth": 0,
              "ticks": ""
             }
            },
            "type": "scatter"
           }
          ],
          "scatter3d": [
           {
            "line": {
             "colorbar": {
              "outlinewidth": 0,
              "ticks": ""
             }
            },
            "marker": {
             "colorbar": {
              "outlinewidth": 0,
              "ticks": ""
             }
            },
            "type": "scatter3d"
           }
          ],
          "scattercarpet": [
           {
            "marker": {
             "colorbar": {
              "outlinewidth": 0,
              "ticks": ""
             }
            },
            "type": "scattercarpet"
           }
          ],
          "scattergeo": [
           {
            "marker": {
             "colorbar": {
              "outlinewidth": 0,
              "ticks": ""
             }
            },
            "type": "scattergeo"
           }
          ],
          "scattergl": [
           {
            "marker": {
             "colorbar": {
              "outlinewidth": 0,
              "ticks": ""
             }
            },
            "type": "scattergl"
           }
          ],
          "scattermapbox": [
           {
            "marker": {
             "colorbar": {
              "outlinewidth": 0,
              "ticks": ""
             }
            },
            "type": "scattermapbox"
           }
          ],
          "scatterpolar": [
           {
            "marker": {
             "colorbar": {
              "outlinewidth": 0,
              "ticks": ""
             }
            },
            "type": "scatterpolar"
           }
          ],
          "scatterpolargl": [
           {
            "marker": {
             "colorbar": {
              "outlinewidth": 0,
              "ticks": ""
             }
            },
            "type": "scatterpolargl"
           }
          ],
          "scatterternary": [
           {
            "marker": {
             "colorbar": {
              "outlinewidth": 0,
              "ticks": ""
             }
            },
            "type": "scatterternary"
           }
          ],
          "surface": [
           {
            "colorbar": {
             "outlinewidth": 0,
             "ticks": ""
            },
            "colorscale": [
             [
              0,
              "#0d0887"
             ],
             [
              0.1111111111111111,
              "#46039f"
             ],
             [
              0.2222222222222222,
              "#7201a8"
             ],
             [
              0.3333333333333333,
              "#9c179e"
             ],
             [
              0.4444444444444444,
              "#bd3786"
             ],
             [
              0.5555555555555556,
              "#d8576b"
             ],
             [
              0.6666666666666666,
              "#ed7953"
             ],
             [
              0.7777777777777778,
              "#fb9f3a"
             ],
             [
              0.8888888888888888,
              "#fdca26"
             ],
             [
              1,
              "#f0f921"
             ]
            ],
            "type": "surface"
           }
          ],
          "table": [
           {
            "cells": {
             "fill": {
              "color": "#EBF0F8"
             },
             "line": {
              "color": "white"
             }
            },
            "header": {
             "fill": {
              "color": "#C8D4E3"
             },
             "line": {
              "color": "white"
             }
            },
            "type": "table"
           }
          ]
         },
         "layout": {
          "annotationdefaults": {
           "arrowcolor": "#2a3f5f",
           "arrowhead": 0,
           "arrowwidth": 1
          },
          "coloraxis": {
           "colorbar": {
            "outlinewidth": 0,
            "ticks": ""
           }
          },
          "colorscale": {
           "diverging": [
            [
             0,
             "#8e0152"
            ],
            [
             0.1,
             "#c51b7d"
            ],
            [
             0.2,
             "#de77ae"
            ],
            [
             0.3,
             "#f1b6da"
            ],
            [
             0.4,
             "#fde0ef"
            ],
            [
             0.5,
             "#f7f7f7"
            ],
            [
             0.6,
             "#e6f5d0"
            ],
            [
             0.7,
             "#b8e186"
            ],
            [
             0.8,
             "#7fbc41"
            ],
            [
             0.9,
             "#4d9221"
            ],
            [
             1,
             "#276419"
            ]
           ],
           "sequential": [
            [
             0,
             "#0d0887"
            ],
            [
             0.1111111111111111,
             "#46039f"
            ],
            [
             0.2222222222222222,
             "#7201a8"
            ],
            [
             0.3333333333333333,
             "#9c179e"
            ],
            [
             0.4444444444444444,
             "#bd3786"
            ],
            [
             0.5555555555555556,
             "#d8576b"
            ],
            [
             0.6666666666666666,
             "#ed7953"
            ],
            [
             0.7777777777777778,
             "#fb9f3a"
            ],
            [
             0.8888888888888888,
             "#fdca26"
            ],
            [
             1,
             "#f0f921"
            ]
           ],
           "sequentialminus": [
            [
             0,
             "#0d0887"
            ],
            [
             0.1111111111111111,
             "#46039f"
            ],
            [
             0.2222222222222222,
             "#7201a8"
            ],
            [
             0.3333333333333333,
             "#9c179e"
            ],
            [
             0.4444444444444444,
             "#bd3786"
            ],
            [
             0.5555555555555556,
             "#d8576b"
            ],
            [
             0.6666666666666666,
             "#ed7953"
            ],
            [
             0.7777777777777778,
             "#fb9f3a"
            ],
            [
             0.8888888888888888,
             "#fdca26"
            ],
            [
             1,
             "#f0f921"
            ]
           ]
          },
          "colorway": [
           "#636efa",
           "#EF553B",
           "#00cc96",
           "#ab63fa",
           "#FFA15A",
           "#19d3f3",
           "#FF6692",
           "#B6E880",
           "#FF97FF",
           "#FECB52"
          ],
          "font": {
           "color": "#2a3f5f"
          },
          "geo": {
           "bgcolor": "white",
           "lakecolor": "white",
           "landcolor": "#E5ECF6",
           "showlakes": true,
           "showland": true,
           "subunitcolor": "white"
          },
          "hoverlabel": {
           "align": "left"
          },
          "hovermode": "closest",
          "mapbox": {
           "style": "light"
          },
          "paper_bgcolor": "white",
          "plot_bgcolor": "#E5ECF6",
          "polar": {
           "angularaxis": {
            "gridcolor": "white",
            "linecolor": "white",
            "ticks": ""
           },
           "bgcolor": "#E5ECF6",
           "radialaxis": {
            "gridcolor": "white",
            "linecolor": "white",
            "ticks": ""
           }
          },
          "scene": {
           "xaxis": {
            "backgroundcolor": "#E5ECF6",
            "gridcolor": "white",
            "gridwidth": 2,
            "linecolor": "white",
            "showbackground": true,
            "ticks": "",
            "zerolinecolor": "white"
           },
           "yaxis": {
            "backgroundcolor": "#E5ECF6",
            "gridcolor": "white",
            "gridwidth": 2,
            "linecolor": "white",
            "showbackground": true,
            "ticks": "",
            "zerolinecolor": "white"
           },
           "zaxis": {
            "backgroundcolor": "#E5ECF6",
            "gridcolor": "white",
            "gridwidth": 2,
            "linecolor": "white",
            "showbackground": true,
            "ticks": "",
            "zerolinecolor": "white"
           }
          },
          "shapedefaults": {
           "line": {
            "color": "#2a3f5f"
           }
          },
          "ternary": {
           "aaxis": {
            "gridcolor": "white",
            "linecolor": "white",
            "ticks": ""
           },
           "baxis": {
            "gridcolor": "white",
            "linecolor": "white",
            "ticks": ""
           },
           "bgcolor": "#E5ECF6",
           "caxis": {
            "gridcolor": "white",
            "linecolor": "white",
            "ticks": ""
           }
          },
          "title": {
           "x": 0.05
          },
          "xaxis": {
           "automargin": true,
           "gridcolor": "white",
           "linecolor": "white",
           "ticks": "",
           "title": {
            "standoff": 15
           },
           "zerolinecolor": "white",
           "zerolinewidth": 2
          },
          "yaxis": {
           "automargin": true,
           "gridcolor": "white",
           "linecolor": "white",
           "ticks": "",
           "title": {
            "standoff": 15
           },
           "zerolinecolor": "white",
           "zerolinewidth": 2
          }
         }
        },
        "title": {
         "font": {
          "family": "San-Serif",
          "size": 15
         },
         "text": "<b> Event type and Sub event type percentage in Sudan (ACLED)<b>"
        },
        "width": 600
       }
      },
      "text/html": [
       "<div>                            <div id=\"f1755a05-dd2e-4ea3-a63f-94681a0354d1\" class=\"plotly-graph-div\" style=\"height:600px; width:600px;\"></div>            <script type=\"text/javascript\">                require([\"plotly\"], function(Plotly) {                    window.PLOTLYENV=window.PLOTLYENV || {};                                    if (document.getElementById(\"f1755a05-dd2e-4ea3-a63f-94681a0354d1\")) {                    Plotly.newPlot(                        \"f1755a05-dd2e-4ea3-a63f-94681a0354d1\",                        [{\"branchvalues\": \"total\", \"domain\": {\"x\": [0.0, 1.0], \"y\": [0.0, 1.0]}, \"hovertemplate\": \"labels=%{label}<br>count=%{value}<br>parent=%{parent}<br>id=%{id}<extra></extra>\", \"ids\": [\"Violence against civilians/Abduction/forced disappearance\", \"Strategic developments/Agreement\", \"Explosions/Remote violence/Air/drone strike\", \"Battles/Armed clash\", \"Strategic developments/Arrests\", \"Violence against civilians/Attack\", \"Strategic developments/Change to group/activity\", \"Explosions/Remote violence/Chemical weapon\", \"Strategic developments/Disrupted weapons use\", \"Protests/Excessive force against protesters\", \"Battles/Government regains territory\", \"Explosions/Remote violence/Grenade\", \"Strategic developments/Headquarters or base established\", \"Strategic developments/Looting/property destruction\", \"Riots/Mob violence\", \"Battles/Non-state actor overtakes territory\", \"Strategic developments/Non-violent transfer of territory\", \"Strategic developments/Other\", \"Protests/Peaceful protest\", \"Protests/Protest with intervention\", \"Explosions/Remote violence/Remote explosive/landmine/IED\", \"Violence against civilians/Sexual violence\", \"Explosions/Remote violence/Shelling/artillery/missile attack\", \"Riots/Violent demonstration\", \"Battles\", \"Explosions/Remote violence\", \"Protests\", \"Riots\", \"Strategic developments\", \"Violence against civilians\"], \"labels\": [\"Abduction/forced disappearance\", \"Agreement\", \"Air/drone strike\", \"Armed clash\", \"Arrests\", \"Attack\", \"Change to group/activity\", \"Chemical weapon\", \"Disrupted weapons use\", \"Excessive force against protesters\", \"Government regains territory\", \"Grenade\", \"Headquarters or base established\", \"Looting/property destruction\", \"Mob violence\", \"Non-state actor overtakes territory\", \"Non-violent transfer of territory\", \"Other\", \"Peaceful protest\", \"Protest with intervention\", \"Remote explosive/landmine/IED\", \"Sexual violence\", \"Shelling/artillery/missile attack\", \"Violent demonstration\", \"Battles\", \"Explosions/Remote violence\", \"Protests\", \"Riots\", \"Strategic developments\", \"Violence against civilians\"], \"name\": \"\", \"parents\": [\"Violence against civilians\", \"Strategic developments\", \"Explosions/Remote violence\", \"Battles\", \"Strategic developments\", \"Violence against civilians\", \"Strategic developments\", \"Explosions/Remote violence\", \"Strategic developments\", \"Protests\", \"Battles\", \"Explosions/Remote violence\", \"Strategic developments\", \"Strategic developments\", \"Riots\", \"Battles\", \"Strategic developments\", \"Strategic developments\", \"Protests\", \"Protests\", \"Explosions/Remote violence\", \"Violence against civilians\", \"Explosions/Remote violence\", \"Riots\", \"\", \"\", \"\", \"\", \"\", \"\"], \"textinfo\": \"label+percent parent\", \"type\": \"sunburst\", \"values\": [713, 279, 2478, 9708, 197, 7601, 883, 18, 152, 455, 419, 55, 22, 801, 322, 265, 141, 576, 4851, 902, 264, 829, 945, 608, 10392, 3760, 6208, 930, 3051, 9143]}],                        {\"height\": 600, \"legend\": {\"tracegroupgap\": 0}, \"margin\": {\"t\": 60}, \"template\": {\"data\": {\"bar\": [{\"error_x\": {\"color\": \"#2a3f5f\"}, \"error_y\": {\"color\": \"#2a3f5f\"}, \"marker\": {\"line\": {\"color\": \"#E5ECF6\", \"width\": 0.5}}, \"type\": \"bar\"}], \"barpolar\": [{\"marker\": {\"line\": {\"color\": \"#E5ECF6\", \"width\": 0.5}}, \"type\": \"barpolar\"}], \"carpet\": [{\"aaxis\": {\"endlinecolor\": \"#2a3f5f\", \"gridcolor\": \"white\", \"linecolor\": \"white\", \"minorgridcolor\": \"white\", \"startlinecolor\": \"#2a3f5f\"}, \"baxis\": {\"endlinecolor\": \"#2a3f5f\", \"gridcolor\": \"white\", \"linecolor\": \"white\", \"minorgridcolor\": \"white\", \"startlinecolor\": \"#2a3f5f\"}, \"type\": \"carpet\"}], \"choropleth\": [{\"colorbar\": {\"outlinewidth\": 0, \"ticks\": \"\"}, \"type\": \"choropleth\"}], \"contour\": [{\"colorbar\": {\"outlinewidth\": 0, \"ticks\": \"\"}, \"colorscale\": [[0.0, \"#0d0887\"], [0.1111111111111111, \"#46039f\"], [0.2222222222222222, \"#7201a8\"], [0.3333333333333333, \"#9c179e\"], [0.4444444444444444, \"#bd3786\"], [0.5555555555555556, \"#d8576b\"], [0.6666666666666666, \"#ed7953\"], [0.7777777777777778, \"#fb9f3a\"], [0.8888888888888888, \"#fdca26\"], [1.0, \"#f0f921\"]], \"type\": \"contour\"}], \"contourcarpet\": [{\"colorbar\": {\"outlinewidth\": 0, \"ticks\": \"\"}, \"type\": \"contourcarpet\"}], \"heatmap\": [{\"colorbar\": {\"outlinewidth\": 0, \"ticks\": \"\"}, \"colorscale\": [[0.0, \"#0d0887\"], [0.1111111111111111, \"#46039f\"], [0.2222222222222222, \"#7201a8\"], [0.3333333333333333, \"#9c179e\"], [0.4444444444444444, \"#bd3786\"], [0.5555555555555556, \"#d8576b\"], [0.6666666666666666, \"#ed7953\"], [0.7777777777777778, \"#fb9f3a\"], [0.8888888888888888, \"#fdca26\"], [1.0, \"#f0f921\"]], \"type\": \"heatmap\"}], \"heatmapgl\": [{\"colorbar\": {\"outlinewidth\": 0, \"ticks\": \"\"}, \"colorscale\": [[0.0, \"#0d0887\"], [0.1111111111111111, \"#46039f\"], [0.2222222222222222, \"#7201a8\"], [0.3333333333333333, \"#9c179e\"], [0.4444444444444444, \"#bd3786\"], [0.5555555555555556, \"#d8576b\"], [0.6666666666666666, \"#ed7953\"], [0.7777777777777778, \"#fb9f3a\"], [0.8888888888888888, \"#fdca26\"], [1.0, \"#f0f921\"]], \"type\": \"heatmapgl\"}], \"histogram\": [{\"marker\": {\"colorbar\": {\"outlinewidth\": 0, \"ticks\": \"\"}}, \"type\": \"histogram\"}], \"histogram2d\": [{\"colorbar\": {\"outlinewidth\": 0, \"ticks\": \"\"}, \"colorscale\": [[0.0, \"#0d0887\"], [0.1111111111111111, \"#46039f\"], [0.2222222222222222, \"#7201a8\"], [0.3333333333333333, \"#9c179e\"], [0.4444444444444444, \"#bd3786\"], [0.5555555555555556, \"#d8576b\"], [0.6666666666666666, \"#ed7953\"], [0.7777777777777778, \"#fb9f3a\"], [0.8888888888888888, \"#fdca26\"], [1.0, \"#f0f921\"]], \"type\": \"histogram2d\"}], \"histogram2dcontour\": [{\"colorbar\": {\"outlinewidth\": 0, \"ticks\": \"\"}, \"colorscale\": [[0.0, \"#0d0887\"], [0.1111111111111111, \"#46039f\"], [0.2222222222222222, \"#7201a8\"], [0.3333333333333333, \"#9c179e\"], [0.4444444444444444, \"#bd3786\"], [0.5555555555555556, \"#d8576b\"], [0.6666666666666666, \"#ed7953\"], [0.7777777777777778, \"#fb9f3a\"], [0.8888888888888888, \"#fdca26\"], [1.0, \"#f0f921\"]], \"type\": \"histogram2dcontour\"}], \"mesh3d\": [{\"colorbar\": {\"outlinewidth\": 0, \"ticks\": \"\"}, \"type\": \"mesh3d\"}], \"parcoords\": [{\"line\": {\"colorbar\": {\"outlinewidth\": 0, \"ticks\": \"\"}}, \"type\": \"parcoords\"}], \"pie\": [{\"automargin\": true, \"type\": \"pie\"}], \"scatter\": [{\"marker\": {\"colorbar\": {\"outlinewidth\": 0, \"ticks\": \"\"}}, \"type\": \"scatter\"}], \"scatter3d\": [{\"line\": {\"colorbar\": {\"outlinewidth\": 0, \"ticks\": \"\"}}, \"marker\": {\"colorbar\": {\"outlinewidth\": 0, \"ticks\": \"\"}}, \"type\": \"scatter3d\"}], \"scattercarpet\": [{\"marker\": {\"colorbar\": {\"outlinewidth\": 0, \"ticks\": \"\"}}, \"type\": \"scattercarpet\"}], \"scattergeo\": [{\"marker\": {\"colorbar\": {\"outlinewidth\": 0, \"ticks\": \"\"}}, \"type\": \"scattergeo\"}], \"scattergl\": [{\"marker\": {\"colorbar\": {\"outlinewidth\": 0, \"ticks\": \"\"}}, \"type\": \"scattergl\"}], \"scattermapbox\": [{\"marker\": {\"colorbar\": {\"outlinewidth\": 0, \"ticks\": \"\"}}, \"type\": \"scattermapbox\"}], \"scatterpolar\": [{\"marker\": {\"colorbar\": {\"outlinewidth\": 0, \"ticks\": \"\"}}, \"type\": \"scatterpolar\"}], \"scatterpolargl\": [{\"marker\": {\"colorbar\": {\"outlinewidth\": 0, \"ticks\": \"\"}}, \"type\": \"scatterpolargl\"}], \"scatterternary\": [{\"marker\": {\"colorbar\": {\"outlinewidth\": 0, \"ticks\": \"\"}}, \"type\": \"scatterternary\"}], \"surface\": [{\"colorbar\": {\"outlinewidth\": 0, \"ticks\": \"\"}, \"colorscale\": [[0.0, \"#0d0887\"], [0.1111111111111111, \"#46039f\"], [0.2222222222222222, \"#7201a8\"], [0.3333333333333333, \"#9c179e\"], [0.4444444444444444, \"#bd3786\"], [0.5555555555555556, \"#d8576b\"], [0.6666666666666666, \"#ed7953\"], [0.7777777777777778, \"#fb9f3a\"], [0.8888888888888888, \"#fdca26\"], [1.0, \"#f0f921\"]], \"type\": \"surface\"}], \"table\": [{\"cells\": {\"fill\": {\"color\": \"#EBF0F8\"}, \"line\": {\"color\": \"white\"}}, \"header\": {\"fill\": {\"color\": \"#C8D4E3\"}, \"line\": {\"color\": \"white\"}}, \"type\": \"table\"}]}, \"layout\": {\"annotationdefaults\": {\"arrowcolor\": \"#2a3f5f\", \"arrowhead\": 0, \"arrowwidth\": 1}, \"coloraxis\": {\"colorbar\": {\"outlinewidth\": 0, \"ticks\": \"\"}}, \"colorscale\": {\"diverging\": [[0, \"#8e0152\"], [0.1, \"#c51b7d\"], [0.2, \"#de77ae\"], [0.3, \"#f1b6da\"], [0.4, \"#fde0ef\"], [0.5, \"#f7f7f7\"], [0.6, \"#e6f5d0\"], [0.7, \"#b8e186\"], [0.8, \"#7fbc41\"], [0.9, \"#4d9221\"], [1, \"#276419\"]], \"sequential\": [[0.0, \"#0d0887\"], [0.1111111111111111, \"#46039f\"], [0.2222222222222222, \"#7201a8\"], [0.3333333333333333, \"#9c179e\"], [0.4444444444444444, \"#bd3786\"], [0.5555555555555556, \"#d8576b\"], [0.6666666666666666, \"#ed7953\"], [0.7777777777777778, \"#fb9f3a\"], [0.8888888888888888, \"#fdca26\"], [1.0, \"#f0f921\"]], \"sequentialminus\": [[0.0, \"#0d0887\"], [0.1111111111111111, \"#46039f\"], [0.2222222222222222, \"#7201a8\"], [0.3333333333333333, \"#9c179e\"], [0.4444444444444444, \"#bd3786\"], [0.5555555555555556, \"#d8576b\"], [0.6666666666666666, \"#ed7953\"], [0.7777777777777778, \"#fb9f3a\"], [0.8888888888888888, \"#fdca26\"], [1.0, \"#f0f921\"]]}, \"colorway\": [\"#636efa\", \"#EF553B\", \"#00cc96\", \"#ab63fa\", \"#FFA15A\", \"#19d3f3\", \"#FF6692\", \"#B6E880\", \"#FF97FF\", \"#FECB52\"], \"font\": {\"color\": \"#2a3f5f\"}, \"geo\": {\"bgcolor\": \"white\", \"lakecolor\": \"white\", \"landcolor\": \"#E5ECF6\", \"showlakes\": true, \"showland\": true, \"subunitcolor\": \"white\"}, \"hoverlabel\": {\"align\": \"left\"}, \"hovermode\": \"closest\", \"mapbox\": {\"style\": \"light\"}, \"paper_bgcolor\": \"white\", \"plot_bgcolor\": \"#E5ECF6\", \"polar\": {\"angularaxis\": {\"gridcolor\": \"white\", \"linecolor\": \"white\", \"ticks\": \"\"}, \"bgcolor\": \"#E5ECF6\", \"radialaxis\": {\"gridcolor\": \"white\", \"linecolor\": \"white\", \"ticks\": \"\"}}, \"scene\": {\"xaxis\": {\"backgroundcolor\": \"#E5ECF6\", \"gridcolor\": \"white\", \"gridwidth\": 2, \"linecolor\": \"white\", \"showbackground\": true, \"ticks\": \"\", \"zerolinecolor\": \"white\"}, \"yaxis\": {\"backgroundcolor\": \"#E5ECF6\", \"gridcolor\": \"white\", \"gridwidth\": 2, \"linecolor\": \"white\", \"showbackground\": true, \"ticks\": \"\", \"zerolinecolor\": \"white\"}, \"zaxis\": {\"backgroundcolor\": \"#E5ECF6\", \"gridcolor\": \"white\", \"gridwidth\": 2, \"linecolor\": \"white\", \"showbackground\": true, \"ticks\": \"\", \"zerolinecolor\": \"white\"}}, \"shapedefaults\": {\"line\": {\"color\": \"#2a3f5f\"}}, \"ternary\": {\"aaxis\": {\"gridcolor\": \"white\", \"linecolor\": \"white\", \"ticks\": \"\"}, \"baxis\": {\"gridcolor\": \"white\", \"linecolor\": \"white\", \"ticks\": \"\"}, \"bgcolor\": \"#E5ECF6\", \"caxis\": {\"gridcolor\": \"white\", \"linecolor\": \"white\", \"ticks\": \"\"}}, \"title\": {\"x\": 0.05}, \"xaxis\": {\"automargin\": true, \"gridcolor\": \"white\", \"linecolor\": \"white\", \"ticks\": \"\", \"title\": {\"standoff\": 15}, \"zerolinecolor\": \"white\", \"zerolinewidth\": 2}, \"yaxis\": {\"automargin\": true, \"gridcolor\": \"white\", \"linecolor\": \"white\", \"ticks\": \"\", \"title\": {\"standoff\": 15}, \"zerolinecolor\": \"white\", \"zerolinewidth\": 2}}}, \"title\": {\"font\": {\"family\": \"San-Serif\", \"size\": 15}, \"text\": \"<b> Event type and Sub event type percentage in Sudan (ACLED)<b>\"}, \"width\": 600},                        {\"responsive\": true}                    ).then(function(){\n",
       "                            \n",
       "var gd = document.getElementById('f1755a05-dd2e-4ea3-a63f-94681a0354d1');\n",
       "var x = new MutationObserver(function (mutations, observer) {{\n",
       "        var display = window.getComputedStyle(gd).display;\n",
       "        if (!display || display === 'none') {{\n",
       "            console.log([gd, 'removed!']);\n",
       "            Plotly.purge(gd);\n",
       "            observer.disconnect();\n",
       "        }}\n",
       "}});\n",
       "\n",
       "// Listen for the removal of the full notebook cells\n",
       "var notebookContainer = gd.closest('#notebook-container');\n",
       "if (notebookContainer) {{\n",
       "    x.observe(notebookContainer, {childList: true});\n",
       "}}\n",
       "\n",
       "// Listen for the clearing of the current output cell\n",
       "var outputEl = gd.closest('.output');\n",
       "if (outputEl) {{\n",
       "    x.observe(outputEl, {childList: true});\n",
       "}}\n",
       "\n",
       "                        })                };                });            </script>        </div>"
      ]
     },
     "metadata": {},
     "output_type": "display_data"
    }
   ],
   "source": [
    "# Group by event_type and sub_event_type and count the occurrences\n",
    "sub_event = df_2.groupby([\"event_type\", \"sub_event_type\"])[\"event_date\"].agg({'count'}).reset_index()\n",
    "\n",
    "# Create a sunburst chart using Plotly\n",
    "fig = px.sunburst(sub_event, \n",
    "                  path=['event_type', 'sub_event_type'], \n",
    "                  values='count',\n",
    "                  width=600, # Width of map\n",
    "                  height=600)\n",
    "\n",
    "fig.update_traces(textinfo=\"label+percent parent\")\n",
    "fig.layout.update(title=\"<b> Event type and Sub event type percentage in Sudan (ACLED)<b>\",\n",
    "                  titlefont={'color':None, 'size': 15, 'family': 'San-Serif'})\n",
    "\n",
    "fig.show()"
   ]
  },
  {
   "cell_type": "markdown",
   "metadata": {},
   "source": [
    "_From the sunburst chart the event_type is at the outer level and sub_event_type as the inner level._\n",
    "\n",
    "\n",
    "_Each event_type slice is divided into smaller slices representing the sub_event_type within that event type._\n",
    "\n",
    "_The size of each slice corresponds to the count of occurrences. Larger slices indicate higher counts._\n",
    "\n",
    "\n",
    "_The percentage labels show the proportion of each sub_event_type within its parent event_type._\n"
   ]
  },
  {
   "cell_type": "code",
   "execution_count": null,
   "metadata": {},
   "outputs": [
    {
     "ename": "NameError",
     "evalue": "name 'df_2' is not defined",
     "output_type": "error",
     "traceback": [
      "\u001b[1;31m---------------------------------------------------------------------------\u001b[0m",
      "\u001b[1;31mNameError\u001b[0m                                 Traceback (most recent call last)",
      "Cell \u001b[1;32mIn[1], line 2\u001b[0m\n\u001b[0;32m      1\u001b[0m \u001b[38;5;66;03m#Summary of events by actor_type1\u001b[39;00m\n\u001b[1;32m----> 2\u001b[0m actor_type1\u001b[38;5;241m=\u001b[39mdf_2[\u001b[38;5;124m\"\u001b[39m\u001b[38;5;124minter1\u001b[39m\u001b[38;5;124m\"\u001b[39m]\u001b[38;5;241m.\u001b[39mvalue_counts()\n\u001b[0;32m      3\u001b[0m actor_type1\n",
      "\u001b[1;31mNameError\u001b[0m: name 'df_2' is not defined"
     ]
    }
   ],
   "source": [
    "#Summary of events by actor_type1\n",
    "actor_type1=df_2[\"inter1\"].value_counts()\n",
    "actor_type1"
   ]
  },
  {
   "cell_type": "code",
   "execution_count": 50,
   "metadata": {},
   "outputs": [
    {
     "ename": "SyntaxError",
     "evalue": "invalid syntax (<ipython-input-50-0fb8c094da51>, line 5)",
     "output_type": "error",
     "traceback": [
      "\u001b[1;36m  File \u001b[1;32m\"<ipython-input-50-0fb8c094da51>\"\u001b[1;36m, line \u001b[1;32m5\u001b[0m\n\u001b[1;33m    sns.barplot(df_2[x=counts, y=categories, edgecolor='black', orient='h'])\u001b[0m\n\u001b[1;37m                      ^\u001b[0m\n\u001b[1;31mSyntaxError\u001b[0m\u001b[1;31m:\u001b[0m invalid syntax\n"
     ]
    }
   ],
   "source": [
    "# Creating the horizontal bar chart\n",
    "actor_type1=df_2[\"inter1\"].value_counts()\n",
    "plt.figure(figsize=(10, 6))\n",
    "sns.barplot(df_2[x=counts, y=categories, edgecolor='black', orient='h'])\n",
    "\n",
    "# Adding titles and labels\n",
    "plt.title(\"Attacks by Actors in Sudan\", fontsize=16)\n",
    "plt.xlabel(\"Count\", fontsize=12)\n",
    "plt.ylabel(\"Categories\", fontsize=12)\n",
    "plt.grid(axis='x', linestyle='--', alpha=0.7)\n",
    "\n",
    "# Annotating bar values\n",
    "for i, count in enumerate(counts):\n",
    "    plt.text(count + 100, i, str(count), va='center', fontsize=10)\n",
    "\n",
    "# Ensuring proper layout\n",
    "plt.tight_layout()\n",
    "\n",
    "plt.show()"
   ]
  },
  {
   "cell_type": "code",
   "execution_count": 26,
   "metadata": {},
   "outputs": [
    {
     "data": {
      "text/plain": [
       "Civilians                12109\n",
       "Rebel group               7765\n",
       "State forces              4438\n",
       "Identity militia          2431\n",
       "Political militia          709\n",
       "External/Other forces      372\n",
       "Rioters                    184\n",
       "Protesters                 102\n",
       "Name: inter2, dtype: int64"
      ]
     },
     "execution_count": 26,
     "metadata": {},
     "output_type": "execute_result"
    }
   ],
   "source": [
    "actor_type2=df_2[\"inter2\"].value_counts()\n",
    "actor_type2"
   ]
  },
  {
   "cell_type": "code",
   "execution_count": 51,
   "metadata": {},
   "outputs": [
    {
     "data": {
      "application/vnd.plotly.v1+json": {
       "config": {
        "plotlyServerURL": "https://plot.ly"
       },
       "data": [
        {
         "domain": {
          "x": [
           0,
           0.45
          ],
          "y": [
           0,
           1
          ]
         },
         "hole": 0.6,
         "hoverinfo": "label+percent+name",
         "labels": [
          "State forces",
          "Identity militia",
          "Protesters",
          "Political militia",
          "Rebel group",
          "Rioters",
          "External/Other forces",
          "Civilians"
         ],
         "name": "Actor type1",
         "type": "pie",
         "values": [
          13091,
          6216,
          6147,
          4725,
          1953,
          878,
          333,
          141
         ]
        },
        {
         "domain": {
          "x": [
           0.55,
           1
          ],
          "y": [
           0,
           1
          ]
         },
         "hole": 0.6,
         "hoverinfo": "label+percent+name",
         "labels": [
          "Civilians",
          "Rebel group",
          "State forces",
          "Identity militia",
          "Political militia",
          "External/Other forces",
          "Rioters",
          "Protesters"
         ],
         "name": "Actor type2",
         "type": "pie",
         "values": [
          12109,
          7765,
          4438,
          2431,
          709,
          372,
          184,
          102
         ]
        }
       ],
       "layout": {
        "annotations": [
         {
          "font": {
           "size": 20
          },
          "showarrow": false,
          "text": "<b>instigator",
          "x": 0.16,
          "y": 0.5
         },
         {
          "font": {
           "size": 20
          },
          "showarrow": false,
          "text": "<b>victime/hit back",
          "x": 0.88,
          "y": 0.5
         }
        ],
        "height": 600,
        "template": {
         "data": {
          "bar": [
           {
            "error_x": {
             "color": "#2a3f5f"
            },
            "error_y": {
             "color": "#2a3f5f"
            },
            "marker": {
             "line": {
              "color": "#E5ECF6",
              "width": 0.5
             }
            },
            "type": "bar"
           }
          ],
          "barpolar": [
           {
            "marker": {
             "line": {
              "color": "#E5ECF6",
              "width": 0.5
             }
            },
            "type": "barpolar"
           }
          ],
          "carpet": [
           {
            "aaxis": {
             "endlinecolor": "#2a3f5f",
             "gridcolor": "white",
             "linecolor": "white",
             "minorgridcolor": "white",
             "startlinecolor": "#2a3f5f"
            },
            "baxis": {
             "endlinecolor": "#2a3f5f",
             "gridcolor": "white",
             "linecolor": "white",
             "minorgridcolor": "white",
             "startlinecolor": "#2a3f5f"
            },
            "type": "carpet"
           }
          ],
          "choropleth": [
           {
            "colorbar": {
             "outlinewidth": 0,
             "ticks": ""
            },
            "type": "choropleth"
           }
          ],
          "contour": [
           {
            "colorbar": {
             "outlinewidth": 0,
             "ticks": ""
            },
            "colorscale": [
             [
              0,
              "#0d0887"
             ],
             [
              0.1111111111111111,
              "#46039f"
             ],
             [
              0.2222222222222222,
              "#7201a8"
             ],
             [
              0.3333333333333333,
              "#9c179e"
             ],
             [
              0.4444444444444444,
              "#bd3786"
             ],
             [
              0.5555555555555556,
              "#d8576b"
             ],
             [
              0.6666666666666666,
              "#ed7953"
             ],
             [
              0.7777777777777778,
              "#fb9f3a"
             ],
             [
              0.8888888888888888,
              "#fdca26"
             ],
             [
              1,
              "#f0f921"
             ]
            ],
            "type": "contour"
           }
          ],
          "contourcarpet": [
           {
            "colorbar": {
             "outlinewidth": 0,
             "ticks": ""
            },
            "type": "contourcarpet"
           }
          ],
          "heatmap": [
           {
            "colorbar": {
             "outlinewidth": 0,
             "ticks": ""
            },
            "colorscale": [
             [
              0,
              "#0d0887"
             ],
             [
              0.1111111111111111,
              "#46039f"
             ],
             [
              0.2222222222222222,
              "#7201a8"
             ],
             [
              0.3333333333333333,
              "#9c179e"
             ],
             [
              0.4444444444444444,
              "#bd3786"
             ],
             [
              0.5555555555555556,
              "#d8576b"
             ],
             [
              0.6666666666666666,
              "#ed7953"
             ],
             [
              0.7777777777777778,
              "#fb9f3a"
             ],
             [
              0.8888888888888888,
              "#fdca26"
             ],
             [
              1,
              "#f0f921"
             ]
            ],
            "type": "heatmap"
           }
          ],
          "heatmapgl": [
           {
            "colorbar": {
             "outlinewidth": 0,
             "ticks": ""
            },
            "colorscale": [
             [
              0,
              "#0d0887"
             ],
             [
              0.1111111111111111,
              "#46039f"
             ],
             [
              0.2222222222222222,
              "#7201a8"
             ],
             [
              0.3333333333333333,
              "#9c179e"
             ],
             [
              0.4444444444444444,
              "#bd3786"
             ],
             [
              0.5555555555555556,
              "#d8576b"
             ],
             [
              0.6666666666666666,
              "#ed7953"
             ],
             [
              0.7777777777777778,
              "#fb9f3a"
             ],
             [
              0.8888888888888888,
              "#fdca26"
             ],
             [
              1,
              "#f0f921"
             ]
            ],
            "type": "heatmapgl"
           }
          ],
          "histogram": [
           {
            "marker": {
             "colorbar": {
              "outlinewidth": 0,
              "ticks": ""
             }
            },
            "type": "histogram"
           }
          ],
          "histogram2d": [
           {
            "colorbar": {
             "outlinewidth": 0,
             "ticks": ""
            },
            "colorscale": [
             [
              0,
              "#0d0887"
             ],
             [
              0.1111111111111111,
              "#46039f"
             ],
             [
              0.2222222222222222,
              "#7201a8"
             ],
             [
              0.3333333333333333,
              "#9c179e"
             ],
             [
              0.4444444444444444,
              "#bd3786"
             ],
             [
              0.5555555555555556,
              "#d8576b"
             ],
             [
              0.6666666666666666,
              "#ed7953"
             ],
             [
              0.7777777777777778,
              "#fb9f3a"
             ],
             [
              0.8888888888888888,
              "#fdca26"
             ],
             [
              1,
              "#f0f921"
             ]
            ],
            "type": "histogram2d"
           }
          ],
          "histogram2dcontour": [
           {
            "colorbar": {
             "outlinewidth": 0,
             "ticks": ""
            },
            "colorscale": [
             [
              0,
              "#0d0887"
             ],
             [
              0.1111111111111111,
              "#46039f"
             ],
             [
              0.2222222222222222,
              "#7201a8"
             ],
             [
              0.3333333333333333,
              "#9c179e"
             ],
             [
              0.4444444444444444,
              "#bd3786"
             ],
             [
              0.5555555555555556,
              "#d8576b"
             ],
             [
              0.6666666666666666,
              "#ed7953"
             ],
             [
              0.7777777777777778,
              "#fb9f3a"
             ],
             [
              0.8888888888888888,
              "#fdca26"
             ],
             [
              1,
              "#f0f921"
             ]
            ],
            "type": "histogram2dcontour"
           }
          ],
          "mesh3d": [
           {
            "colorbar": {
             "outlinewidth": 0,
             "ticks": ""
            },
            "type": "mesh3d"
           }
          ],
          "parcoords": [
           {
            "line": {
             "colorbar": {
              "outlinewidth": 0,
              "ticks": ""
             }
            },
            "type": "parcoords"
           }
          ],
          "pie": [
           {
            "automargin": true,
            "type": "pie"
           }
          ],
          "scatter": [
           {
            "marker": {
             "colorbar": {
              "outlinewidth": 0,
              "ticks": ""
             }
            },
            "type": "scatter"
           }
          ],
          "scatter3d": [
           {
            "line": {
             "colorbar": {
              "outlinewidth": 0,
              "ticks": ""
             }
            },
            "marker": {
             "colorbar": {
              "outlinewidth": 0,
              "ticks": ""
             }
            },
            "type": "scatter3d"
           }
          ],
          "scattercarpet": [
           {
            "marker": {
             "colorbar": {
              "outlinewidth": 0,
              "ticks": ""
             }
            },
            "type": "scattercarpet"
           }
          ],
          "scattergeo": [
           {
            "marker": {
             "colorbar": {
              "outlinewidth": 0,
              "ticks": ""
             }
            },
            "type": "scattergeo"
           }
          ],
          "scattergl": [
           {
            "marker": {
             "colorbar": {
              "outlinewidth": 0,
              "ticks": ""
             }
            },
            "type": "scattergl"
           }
          ],
          "scattermapbox": [
           {
            "marker": {
             "colorbar": {
              "outlinewidth": 0,
              "ticks": ""
             }
            },
            "type": "scattermapbox"
           }
          ],
          "scatterpolar": [
           {
            "marker": {
             "colorbar": {
              "outlinewidth": 0,
              "ticks": ""
             }
            },
            "type": "scatterpolar"
           }
          ],
          "scatterpolargl": [
           {
            "marker": {
             "colorbar": {
              "outlinewidth": 0,
              "ticks": ""
             }
            },
            "type": "scatterpolargl"
           }
          ],
          "scatterternary": [
           {
            "marker": {
             "colorbar": {
              "outlinewidth": 0,
              "ticks": ""
             }
            },
            "type": "scatterternary"
           }
          ],
          "surface": [
           {
            "colorbar": {
             "outlinewidth": 0,
             "ticks": ""
            },
            "colorscale": [
             [
              0,
              "#0d0887"
             ],
             [
              0.1111111111111111,
              "#46039f"
             ],
             [
              0.2222222222222222,
              "#7201a8"
             ],
             [
              0.3333333333333333,
              "#9c179e"
             ],
             [
              0.4444444444444444,
              "#bd3786"
             ],
             [
              0.5555555555555556,
              "#d8576b"
             ],
             [
              0.6666666666666666,
              "#ed7953"
             ],
             [
              0.7777777777777778,
              "#fb9f3a"
             ],
             [
              0.8888888888888888,
              "#fdca26"
             ],
             [
              1,
              "#f0f921"
             ]
            ],
            "type": "surface"
           }
          ],
          "table": [
           {
            "cells": {
             "fill": {
              "color": "#EBF0F8"
             },
             "line": {
              "color": "white"
             }
            },
            "header": {
             "fill": {
              "color": "#C8D4E3"
             },
             "line": {
              "color": "white"
             }
            },
            "type": "table"
           }
          ]
         },
         "layout": {
          "annotationdefaults": {
           "arrowcolor": "#2a3f5f",
           "arrowhead": 0,
           "arrowwidth": 1
          },
          "coloraxis": {
           "colorbar": {
            "outlinewidth": 0,
            "ticks": ""
           }
          },
          "colorscale": {
           "diverging": [
            [
             0,
             "#8e0152"
            ],
            [
             0.1,
             "#c51b7d"
            ],
            [
             0.2,
             "#de77ae"
            ],
            [
             0.3,
             "#f1b6da"
            ],
            [
             0.4,
             "#fde0ef"
            ],
            [
             0.5,
             "#f7f7f7"
            ],
            [
             0.6,
             "#e6f5d0"
            ],
            [
             0.7,
             "#b8e186"
            ],
            [
             0.8,
             "#7fbc41"
            ],
            [
             0.9,
             "#4d9221"
            ],
            [
             1,
             "#276419"
            ]
           ],
           "sequential": [
            [
             0,
             "#0d0887"
            ],
            [
             0.1111111111111111,
             "#46039f"
            ],
            [
             0.2222222222222222,
             "#7201a8"
            ],
            [
             0.3333333333333333,
             "#9c179e"
            ],
            [
             0.4444444444444444,
             "#bd3786"
            ],
            [
             0.5555555555555556,
             "#d8576b"
            ],
            [
             0.6666666666666666,
             "#ed7953"
            ],
            [
             0.7777777777777778,
             "#fb9f3a"
            ],
            [
             0.8888888888888888,
             "#fdca26"
            ],
            [
             1,
             "#f0f921"
            ]
           ],
           "sequentialminus": [
            [
             0,
             "#0d0887"
            ],
            [
             0.1111111111111111,
             "#46039f"
            ],
            [
             0.2222222222222222,
             "#7201a8"
            ],
            [
             0.3333333333333333,
             "#9c179e"
            ],
            [
             0.4444444444444444,
             "#bd3786"
            ],
            [
             0.5555555555555556,
             "#d8576b"
            ],
            [
             0.6666666666666666,
             "#ed7953"
            ],
            [
             0.7777777777777778,
             "#fb9f3a"
            ],
            [
             0.8888888888888888,
             "#fdca26"
            ],
            [
             1,
             "#f0f921"
            ]
           ]
          },
          "colorway": [
           "#636efa",
           "#EF553B",
           "#00cc96",
           "#ab63fa",
           "#FFA15A",
           "#19d3f3",
           "#FF6692",
           "#B6E880",
           "#FF97FF",
           "#FECB52"
          ],
          "font": {
           "color": "#2a3f5f"
          },
          "geo": {
           "bgcolor": "white",
           "lakecolor": "white",
           "landcolor": "#E5ECF6",
           "showlakes": true,
           "showland": true,
           "subunitcolor": "white"
          },
          "hoverlabel": {
           "align": "left"
          },
          "hovermode": "closest",
          "mapbox": {
           "style": "light"
          },
          "paper_bgcolor": "white",
          "plot_bgcolor": "#E5ECF6",
          "polar": {
           "angularaxis": {
            "gridcolor": "white",
            "linecolor": "white",
            "ticks": ""
           },
           "bgcolor": "#E5ECF6",
           "radialaxis": {
            "gridcolor": "white",
            "linecolor": "white",
            "ticks": ""
           }
          },
          "scene": {
           "xaxis": {
            "backgroundcolor": "#E5ECF6",
            "gridcolor": "white",
            "gridwidth": 2,
            "linecolor": "white",
            "showbackground": true,
            "ticks": "",
            "zerolinecolor": "white"
           },
           "yaxis": {
            "backgroundcolor": "#E5ECF6",
            "gridcolor": "white",
            "gridwidth": 2,
            "linecolor": "white",
            "showbackground": true,
            "ticks": "",
            "zerolinecolor": "white"
           },
           "zaxis": {
            "backgroundcolor": "#E5ECF6",
            "gridcolor": "white",
            "gridwidth": 2,
            "linecolor": "white",
            "showbackground": true,
            "ticks": "",
            "zerolinecolor": "white"
           }
          },
          "shapedefaults": {
           "line": {
            "color": "#2a3f5f"
           }
          },
          "ternary": {
           "aaxis": {
            "gridcolor": "white",
            "linecolor": "white",
            "ticks": ""
           },
           "baxis": {
            "gridcolor": "white",
            "linecolor": "white",
            "ticks": ""
           },
           "bgcolor": "#E5ECF6",
           "caxis": {
            "gridcolor": "white",
            "linecolor": "white",
            "ticks": ""
           }
          },
          "title": {
           "x": 0.05
          },
          "xaxis": {
           "automargin": true,
           "gridcolor": "white",
           "linecolor": "white",
           "ticks": "",
           "title": {
            "standoff": 15
           },
           "zerolinecolor": "white",
           "zerolinewidth": 2
          },
          "yaxis": {
           "automargin": true,
           "gridcolor": "white",
           "linecolor": "white",
           "ticks": "",
           "title": {
            "standoff": 15
           },
           "zerolinecolor": "white",
           "zerolinewidth": 2
          }
         }
        },
        "title": {
         "font": {
          "family": "San-Serif",
          "size": 20
         },
         "text": "<b> Actor type involved in Sudan conflict<b>"
        },
        "width": 1000
       }
      },
      "text/html": [
       "<div>                            <div id=\"f2fa9939-457c-4171-894a-ddebffda769e\" class=\"plotly-graph-div\" style=\"height:600px; width:1000px;\"></div>            <script type=\"text/javascript\">                require([\"plotly\"], function(Plotly) {                    window.PLOTLYENV=window.PLOTLYENV || {};                                    if (document.getElementById(\"f2fa9939-457c-4171-894a-ddebffda769e\")) {                    Plotly.newPlot(                        \"f2fa9939-457c-4171-894a-ddebffda769e\",                        [{\"domain\": {\"x\": [0.0, 0.45], \"y\": [0.0, 1.0]}, \"hole\": 0.6, \"hoverinfo\": \"label+percent+name\", \"labels\": [\"State forces\", \"Identity militia\", \"Protesters\", \"Political militia\", \"Rebel group\", \"Rioters\", \"External/Other forces\", \"Civilians\"], \"name\": \"Actor type1\", \"type\": \"pie\", \"values\": [13091, 6216, 6147, 4725, 1953, 878, 333, 141]}, {\"domain\": {\"x\": [0.55, 1.0], \"y\": [0.0, 1.0]}, \"hole\": 0.6, \"hoverinfo\": \"label+percent+name\", \"labels\": [\"Civilians\", \"Rebel group\", \"State forces\", \"Identity militia\", \"Political militia\", \"External/Other forces\", \"Rioters\", \"Protesters\"], \"name\": \"Actor type2\", \"type\": \"pie\", \"values\": [12109, 7765, 4438, 2431, 709, 372, 184, 102]}],                        {\"annotations\": [{\"font\": {\"size\": 20}, \"showarrow\": false, \"text\": \"<b>instigator\", \"x\": 0.16, \"y\": 0.5}, {\"font\": {\"size\": 20}, \"showarrow\": false, \"text\": \"<b>victime/hit back\", \"x\": 0.88, \"y\": 0.5}], \"height\": 600, \"template\": {\"data\": {\"bar\": [{\"error_x\": {\"color\": \"#2a3f5f\"}, \"error_y\": {\"color\": \"#2a3f5f\"}, \"marker\": {\"line\": {\"color\": \"#E5ECF6\", \"width\": 0.5}}, \"type\": \"bar\"}], \"barpolar\": [{\"marker\": {\"line\": {\"color\": \"#E5ECF6\", \"width\": 0.5}}, \"type\": \"barpolar\"}], \"carpet\": [{\"aaxis\": {\"endlinecolor\": \"#2a3f5f\", \"gridcolor\": \"white\", \"linecolor\": \"white\", \"minorgridcolor\": \"white\", \"startlinecolor\": \"#2a3f5f\"}, \"baxis\": {\"endlinecolor\": \"#2a3f5f\", \"gridcolor\": \"white\", \"linecolor\": \"white\", \"minorgridcolor\": \"white\", \"startlinecolor\": \"#2a3f5f\"}, \"type\": \"carpet\"}], \"choropleth\": [{\"colorbar\": {\"outlinewidth\": 0, \"ticks\": \"\"}, \"type\": \"choropleth\"}], \"contour\": [{\"colorbar\": {\"outlinewidth\": 0, \"ticks\": \"\"}, \"colorscale\": [[0.0, \"#0d0887\"], [0.1111111111111111, \"#46039f\"], [0.2222222222222222, \"#7201a8\"], [0.3333333333333333, \"#9c179e\"], [0.4444444444444444, \"#bd3786\"], [0.5555555555555556, \"#d8576b\"], [0.6666666666666666, \"#ed7953\"], [0.7777777777777778, \"#fb9f3a\"], [0.8888888888888888, \"#fdca26\"], [1.0, \"#f0f921\"]], \"type\": \"contour\"}], \"contourcarpet\": [{\"colorbar\": {\"outlinewidth\": 0, \"ticks\": \"\"}, \"type\": \"contourcarpet\"}], \"heatmap\": [{\"colorbar\": {\"outlinewidth\": 0, \"ticks\": \"\"}, \"colorscale\": [[0.0, \"#0d0887\"], [0.1111111111111111, \"#46039f\"], [0.2222222222222222, \"#7201a8\"], [0.3333333333333333, \"#9c179e\"], [0.4444444444444444, \"#bd3786\"], [0.5555555555555556, \"#d8576b\"], [0.6666666666666666, \"#ed7953\"], [0.7777777777777778, \"#fb9f3a\"], [0.8888888888888888, \"#fdca26\"], [1.0, \"#f0f921\"]], \"type\": \"heatmap\"}], \"heatmapgl\": [{\"colorbar\": {\"outlinewidth\": 0, \"ticks\": \"\"}, \"colorscale\": [[0.0, \"#0d0887\"], [0.1111111111111111, \"#46039f\"], [0.2222222222222222, \"#7201a8\"], [0.3333333333333333, \"#9c179e\"], [0.4444444444444444, \"#bd3786\"], [0.5555555555555556, \"#d8576b\"], [0.6666666666666666, \"#ed7953\"], [0.7777777777777778, \"#fb9f3a\"], [0.8888888888888888, \"#fdca26\"], [1.0, \"#f0f921\"]], \"type\": \"heatmapgl\"}], \"histogram\": [{\"marker\": {\"colorbar\": {\"outlinewidth\": 0, \"ticks\": \"\"}}, \"type\": \"histogram\"}], \"histogram2d\": [{\"colorbar\": {\"outlinewidth\": 0, \"ticks\": \"\"}, \"colorscale\": [[0.0, \"#0d0887\"], [0.1111111111111111, \"#46039f\"], [0.2222222222222222, \"#7201a8\"], [0.3333333333333333, \"#9c179e\"], [0.4444444444444444, \"#bd3786\"], [0.5555555555555556, \"#d8576b\"], [0.6666666666666666, \"#ed7953\"], [0.7777777777777778, \"#fb9f3a\"], [0.8888888888888888, \"#fdca26\"], [1.0, \"#f0f921\"]], \"type\": \"histogram2d\"}], \"histogram2dcontour\": [{\"colorbar\": {\"outlinewidth\": 0, \"ticks\": \"\"}, \"colorscale\": [[0.0, \"#0d0887\"], [0.1111111111111111, \"#46039f\"], [0.2222222222222222, \"#7201a8\"], [0.3333333333333333, \"#9c179e\"], [0.4444444444444444, \"#bd3786\"], [0.5555555555555556, \"#d8576b\"], [0.6666666666666666, \"#ed7953\"], [0.7777777777777778, \"#fb9f3a\"], [0.8888888888888888, \"#fdca26\"], [1.0, \"#f0f921\"]], \"type\": \"histogram2dcontour\"}], \"mesh3d\": [{\"colorbar\": {\"outlinewidth\": 0, \"ticks\": \"\"}, \"type\": \"mesh3d\"}], \"parcoords\": [{\"line\": {\"colorbar\": {\"outlinewidth\": 0, \"ticks\": \"\"}}, \"type\": \"parcoords\"}], \"pie\": [{\"automargin\": true, \"type\": \"pie\"}], \"scatter\": [{\"marker\": {\"colorbar\": {\"outlinewidth\": 0, \"ticks\": \"\"}}, \"type\": \"scatter\"}], \"scatter3d\": [{\"line\": {\"colorbar\": {\"outlinewidth\": 0, \"ticks\": \"\"}}, \"marker\": {\"colorbar\": {\"outlinewidth\": 0, \"ticks\": \"\"}}, \"type\": \"scatter3d\"}], \"scattercarpet\": [{\"marker\": {\"colorbar\": {\"outlinewidth\": 0, \"ticks\": \"\"}}, \"type\": \"scattercarpet\"}], \"scattergeo\": [{\"marker\": {\"colorbar\": {\"outlinewidth\": 0, \"ticks\": \"\"}}, \"type\": \"scattergeo\"}], \"scattergl\": [{\"marker\": {\"colorbar\": {\"outlinewidth\": 0, \"ticks\": \"\"}}, \"type\": \"scattergl\"}], \"scattermapbox\": [{\"marker\": {\"colorbar\": {\"outlinewidth\": 0, \"ticks\": \"\"}}, \"type\": \"scattermapbox\"}], \"scatterpolar\": [{\"marker\": {\"colorbar\": {\"outlinewidth\": 0, \"ticks\": \"\"}}, \"type\": \"scatterpolar\"}], \"scatterpolargl\": [{\"marker\": {\"colorbar\": {\"outlinewidth\": 0, \"ticks\": \"\"}}, \"type\": \"scatterpolargl\"}], \"scatterternary\": [{\"marker\": {\"colorbar\": {\"outlinewidth\": 0, \"ticks\": \"\"}}, \"type\": \"scatterternary\"}], \"surface\": [{\"colorbar\": {\"outlinewidth\": 0, \"ticks\": \"\"}, \"colorscale\": [[0.0, \"#0d0887\"], [0.1111111111111111, \"#46039f\"], [0.2222222222222222, \"#7201a8\"], [0.3333333333333333, \"#9c179e\"], [0.4444444444444444, \"#bd3786\"], [0.5555555555555556, \"#d8576b\"], [0.6666666666666666, \"#ed7953\"], [0.7777777777777778, \"#fb9f3a\"], [0.8888888888888888, \"#fdca26\"], [1.0, \"#f0f921\"]], \"type\": \"surface\"}], \"table\": [{\"cells\": {\"fill\": {\"color\": \"#EBF0F8\"}, \"line\": {\"color\": \"white\"}}, \"header\": {\"fill\": {\"color\": \"#C8D4E3\"}, \"line\": {\"color\": \"white\"}}, \"type\": \"table\"}]}, \"layout\": {\"annotationdefaults\": {\"arrowcolor\": \"#2a3f5f\", \"arrowhead\": 0, \"arrowwidth\": 1}, \"coloraxis\": {\"colorbar\": {\"outlinewidth\": 0, \"ticks\": \"\"}}, \"colorscale\": {\"diverging\": [[0, \"#8e0152\"], [0.1, \"#c51b7d\"], [0.2, \"#de77ae\"], [0.3, \"#f1b6da\"], [0.4, \"#fde0ef\"], [0.5, \"#f7f7f7\"], [0.6, \"#e6f5d0\"], [0.7, \"#b8e186\"], [0.8, \"#7fbc41\"], [0.9, \"#4d9221\"], [1, \"#276419\"]], \"sequential\": [[0.0, \"#0d0887\"], [0.1111111111111111, \"#46039f\"], [0.2222222222222222, \"#7201a8\"], [0.3333333333333333, \"#9c179e\"], [0.4444444444444444, \"#bd3786\"], [0.5555555555555556, \"#d8576b\"], [0.6666666666666666, \"#ed7953\"], [0.7777777777777778, \"#fb9f3a\"], [0.8888888888888888, \"#fdca26\"], [1.0, \"#f0f921\"]], \"sequentialminus\": [[0.0, \"#0d0887\"], [0.1111111111111111, \"#46039f\"], [0.2222222222222222, \"#7201a8\"], [0.3333333333333333, \"#9c179e\"], [0.4444444444444444, \"#bd3786\"], [0.5555555555555556, \"#d8576b\"], [0.6666666666666666, \"#ed7953\"], [0.7777777777777778, \"#fb9f3a\"], [0.8888888888888888, \"#fdca26\"], [1.0, \"#f0f921\"]]}, \"colorway\": [\"#636efa\", \"#EF553B\", \"#00cc96\", \"#ab63fa\", \"#FFA15A\", \"#19d3f3\", \"#FF6692\", \"#B6E880\", \"#FF97FF\", \"#FECB52\"], \"font\": {\"color\": \"#2a3f5f\"}, \"geo\": {\"bgcolor\": \"white\", \"lakecolor\": \"white\", \"landcolor\": \"#E5ECF6\", \"showlakes\": true, \"showland\": true, \"subunitcolor\": \"white\"}, \"hoverlabel\": {\"align\": \"left\"}, \"hovermode\": \"closest\", \"mapbox\": {\"style\": \"light\"}, \"paper_bgcolor\": \"white\", \"plot_bgcolor\": \"#E5ECF6\", \"polar\": {\"angularaxis\": {\"gridcolor\": \"white\", \"linecolor\": \"white\", \"ticks\": \"\"}, \"bgcolor\": \"#E5ECF6\", \"radialaxis\": {\"gridcolor\": \"white\", \"linecolor\": \"white\", \"ticks\": \"\"}}, \"scene\": {\"xaxis\": {\"backgroundcolor\": \"#E5ECF6\", \"gridcolor\": \"white\", \"gridwidth\": 2, \"linecolor\": \"white\", \"showbackground\": true, \"ticks\": \"\", \"zerolinecolor\": \"white\"}, \"yaxis\": {\"backgroundcolor\": \"#E5ECF6\", \"gridcolor\": \"white\", \"gridwidth\": 2, \"linecolor\": \"white\", \"showbackground\": true, \"ticks\": \"\", \"zerolinecolor\": \"white\"}, \"zaxis\": {\"backgroundcolor\": \"#E5ECF6\", \"gridcolor\": \"white\", \"gridwidth\": 2, \"linecolor\": \"white\", \"showbackground\": true, \"ticks\": \"\", \"zerolinecolor\": \"white\"}}, \"shapedefaults\": {\"line\": {\"color\": \"#2a3f5f\"}}, \"ternary\": {\"aaxis\": {\"gridcolor\": \"white\", \"linecolor\": \"white\", \"ticks\": \"\"}, \"baxis\": {\"gridcolor\": \"white\", \"linecolor\": \"white\", \"ticks\": \"\"}, \"bgcolor\": \"#E5ECF6\", \"caxis\": {\"gridcolor\": \"white\", \"linecolor\": \"white\", \"ticks\": \"\"}}, \"title\": {\"x\": 0.05}, \"xaxis\": {\"automargin\": true, \"gridcolor\": \"white\", \"linecolor\": \"white\", \"ticks\": \"\", \"title\": {\"standoff\": 15}, \"zerolinecolor\": \"white\", \"zerolinewidth\": 2}, \"yaxis\": {\"automargin\": true, \"gridcolor\": \"white\", \"linecolor\": \"white\", \"ticks\": \"\", \"title\": {\"standoff\": 15}, \"zerolinecolor\": \"white\", \"zerolinewidth\": 2}}}, \"title\": {\"font\": {\"family\": \"San-Serif\", \"size\": 20}, \"text\": \"<b> Actor type involved in Sudan conflict<b>\"}, \"width\": 1000},                        {\"responsive\": true}                    ).then(function(){\n",
       "                            \n",
       "var gd = document.getElementById('f2fa9939-457c-4171-894a-ddebffda769e');\n",
       "var x = new MutationObserver(function (mutations, observer) {{\n",
       "        var display = window.getComputedStyle(gd).display;\n",
       "        if (!display || display === 'none') {{\n",
       "            console.log([gd, 'removed!']);\n",
       "            Plotly.purge(gd);\n",
       "            observer.disconnect();\n",
       "        }}\n",
       "}});\n",
       "\n",
       "// Listen for the removal of the full notebook cells\n",
       "var notebookContainer = gd.closest('#notebook-container');\n",
       "if (notebookContainer) {{\n",
       "    x.observe(notebookContainer, {childList: true});\n",
       "}}\n",
       "\n",
       "// Listen for the clearing of the current output cell\n",
       "var outputEl = gd.closest('.output');\n",
       "if (outputEl) {{\n",
       "    x.observe(outputEl, {childList: true});\n",
       "}}\n",
       "\n",
       "                        })                };                });            </script>        </div>"
      ]
     },
     "metadata": {},
     "output_type": "display_data"
    }
   ],
   "source": [
    "# Create subplots\n",
    "fig = make_subplots(rows=1, cols=2, specs=[[{'type':'domain'}, {'type':'domain'}]])\n",
    "\n",
    "# Add pie charts to subplots\n",
    "fig.add_trace(go.Pie(labels=actor_type1.index, values=actor_type1, name=\"Actor type1\"), 1, 1)\n",
    "fig.add_trace(go.Pie(labels=actor_type2.index, values=actor_type2, name=\"Actor type2\"), 1, 2)\n",
    "\n",
    "# Update traces to create donut-like pie charts\n",
    "fig.update_traces(hole=.6, hoverinfo=\"label+percent+name\")\n",
    "\n",
    "# Update layout with title and annotations\n",
    "fig.update_layout(\n",
    "    title=\"<b> Actor type involved in Sudan conflict<b>\",\n",
    "    titlefont={'color':None, 'size': 20, 'family': 'San-Serif'},\n",
    "    height=600,\n",
    "    width=1000,\n",
    "    annotations=[\n",
    "        dict(text='<b>instigator', x=0.16, y=0.5, font_size=20, showarrow=False),\n",
    "        dict(text='<b>victime/hit back', x=0.88, y=0.5, font_size=20, showarrow=False)\n",
    "    ]\n",
    ")\n",
    "\n",
    "# Show the plot\n",
    "fig.show()"
   ]
  },
  {
   "cell_type": "markdown",
   "metadata": {},
   "source": [
    "**Based on the visualization of the instigators (Actor type1) involved in the Sudan conflict, several insights can be drawn:**\n",
    "\n",
    "Dominant Actor Types:\n",
    "\n",
    "The largest slices in the donut chart represent the most frequent instigators. Identifying these dominant actor types can help understand which groups or entities are most often initiating conflict.\n",
    "Proportional Representation:\n",
    "\n",
    "The percentage values provide a clear picture of how each actor type contributes to the overall number of incidents. This can highlight whether the conflict is driven by a few major players or a more diverse set of instigators.\n",
    "Role in Conflict Dynamics:\n",
    "\n",
    "Understanding the distribution of instigators can shed light on the dynamics of the conflict. For example, if a particular actor type is significantly more prevalent, it might indicate their central role in the conflict's escalation.\n",
    "Trends Over Time:\n",
    "\n",
    "If the data includes a time component, analyzing changes in the distribution of instigators over different periods can reveal trends. For instance, a rise or fall in the activity of certain actor types over time can indicate shifts in the conflict's nature.\n",
    "Policy and Intervention Focus:\n",
    "\n",
    "Identifying the key instigators can help policymakers and organizations focus their efforts on addressing the root causes of the conflict. Targeted interventions can be designed to mitigate the influence of the most frequent instigators.\n",
    "Comparative Analysis:\n",
    "\n",
    "Comparing the instigators with the victims or other actor types involved in the conflict can provide a more comprehensive understanding of the interactions and relationships between different groups.\n",
    "\n",
    "\n",
    "**Analyzing the \"victim/hit back\" (Actor type2) data from the visualization can provide several valuable insights:**\n",
    "\n",
    "Prevalent Victim Types:\n",
    "\n",
    "The largest slices in the donut chart represent the most frequent victims or those who retaliate. Identifying these groups can help understand which entities are most often targeted in the conflict.\n",
    "Proportional Impact:\n",
    "\n",
    "The percentage values show the proportion of each victim type relative to the total number of incidents. This can highlight whether the conflict disproportionately affects certain groups.\n",
    "Patterns of Retaliation:\n",
    "\n",
    "If certain actor types frequently appear as both instigators and victims, it might indicate cycles of retaliation. Understanding these patterns can be crucial for breaking the cycle of violence.\n",
    "Vulnerability and Resilience:\n",
    "\n",
    "The distribution of victims can reveal which groups are most vulnerable in the conflict. Conversely, it can also show which groups are more likely to hit back, indicating their resilience or capacity for self-defense.\n",
    "Humanitarian Needs:\n",
    "\n",
    "Identifying the most affected victim groups can help humanitarian organizations prioritize their efforts. Resources can be directed to support the most vulnerable populations.\n",
    "Conflict Dynamics:\n",
    "\n",
    "Comparing the distribution of victims with that of instigators can provide a deeper understanding of the conflict dynamics. For example, if certain groups are both major instigators and victims, it might suggest internal conflicts within those groups.\n",
    "Policy and Intervention Strategies:\n"
   ]
  },
  {
   "cell_type": "code",
   "execution_count": 28,
   "metadata": {},
   "outputs": [
    {
     "name": "stdout",
     "output_type": "stream",
     "text": [
      "   decade  number_of_incidents\n",
      "0    1990                12320\n",
      "1    2000                36903\n",
      "2    2010               151894\n",
      "3    2020               196176\n"
     ]
    }
   ],
   "source": [
    "# Convert the 'event_date' column to datetime format\n",
    "df['event_date'] = pd.to_datetime(df['event_date'])\n",
    "\n",
    "# Extract the decade from the 'event_date' column\n",
    "df['decade'] = (df['event_date'].dt.year // 10) * 10\n",
    "\n",
    "# Group the data by decade and count the number of incidents\n",
    "incidents_by_decade = df.groupby('decade').size().reset_index(name='number_of_incidents')\n",
    "\n",
    "print(incidents_by_decade)"
   ]
  },
  {
   "cell_type": "code",
   "execution_count": 52,
   "metadata": {},
   "outputs": [
    {
     "ename": "NameError",
     "evalue": "name 'data' is not defined",
     "output_type": "error",
     "traceback": [
      "\u001b[1;31m---------------------------------------------------------------------------\u001b[0m",
      "\u001b[1;31mNameError\u001b[0m                                 Traceback (most recent call last)",
      "\u001b[1;32m<ipython-input-52-d098556829f3>\u001b[0m in \u001b[0;36m<module>\u001b[1;34m\u001b[0m\n\u001b[0;32m      1\u001b[0m \u001b[1;31m# Create a bar chart with increased bar width\u001b[0m\u001b[1;33m\u001b[0m\u001b[1;33m\u001b[0m\u001b[1;33m\u001b[0m\u001b[0m\n\u001b[0;32m      2\u001b[0m \u001b[0mplt\u001b[0m\u001b[1;33m.\u001b[0m\u001b[0mfigure\u001b[0m\u001b[1;33m(\u001b[0m\u001b[0mfigsize\u001b[0m\u001b[1;33m=\u001b[0m\u001b[1;33m(\u001b[0m\u001b[1;36m10\u001b[0m\u001b[1;33m,\u001b[0m \u001b[1;36m6\u001b[0m\u001b[1;33m)\u001b[0m\u001b[1;33m)\u001b[0m\u001b[1;33m\u001b[0m\u001b[1;33m\u001b[0m\u001b[0m\n\u001b[1;32m----> 3\u001b[1;33m \u001b[0mplt\u001b[0m\u001b[1;33m.\u001b[0m\u001b[0mbar\u001b[0m\u001b[1;33m(\u001b[0m\u001b[0mdata\u001b[0m\u001b[1;33m[\u001b[0m\u001b[1;34m'decade'\u001b[0m\u001b[1;33m]\u001b[0m\u001b[1;33m,\u001b[0m \u001b[0mdata\u001b[0m\u001b[1;33m[\u001b[0m\u001b[1;34m'number_of_incidents'\u001b[0m\u001b[1;33m]\u001b[0m\u001b[1;33m,\u001b[0m \u001b[0mcolor\u001b[0m\u001b[1;33m=\u001b[0m\u001b[1;34m'skyblue'\u001b[0m\u001b[1;33m,\u001b[0m \u001b[0mwidth\u001b[0m\u001b[1;33m=\u001b[0m\u001b[1;36m8\u001b[0m\u001b[1;33m)\u001b[0m  \u001b[1;31m# Increased bar width\u001b[0m\u001b[1;33m\u001b[0m\u001b[1;33m\u001b[0m\u001b[0m\n\u001b[0m\u001b[0;32m      4\u001b[0m \u001b[0mplt\u001b[0m\u001b[1;33m.\u001b[0m\u001b[0mxlabel\u001b[0m\u001b[1;33m(\u001b[0m\u001b[1;34m'Decade'\u001b[0m\u001b[1;33m)\u001b[0m\u001b[1;33m\u001b[0m\u001b[1;33m\u001b[0m\u001b[0m\n\u001b[0;32m      5\u001b[0m \u001b[0mplt\u001b[0m\u001b[1;33m.\u001b[0m\u001b[0mylabel\u001b[0m\u001b[1;33m(\u001b[0m\u001b[1;34m'Number of Incidents'\u001b[0m\u001b[1;33m)\u001b[0m\u001b[1;33m\u001b[0m\u001b[1;33m\u001b[0m\u001b[0m\n",
      "\u001b[1;31mNameError\u001b[0m: name 'data' is not defined"
     ]
    },
    {
     "data": {
      "text/plain": [
       "<Figure size 720x432 with 0 Axes>"
      ]
     },
     "metadata": {},
     "output_type": "display_data"
    }
   ],
   "source": [
    "# Create a bar chart with increased bar width\n",
    "plt.figure(figsize=(10, 6))\n",
    "plt.bar(data['decade'], data['number_of_incidents'], color='skyblue', width=8)  # Increased bar width\n",
    "plt.xlabel('Decade')\n",
    "plt.ylabel('Number of Incidents')\n",
    "plt.title('Number of Violent Incidents in Sudan by Decade')\n",
    "plt.xticks(data['decade'])\n",
    "plt.tight_layout()\n",
    "\n",
    "# Save the plot as an image file\n",
    "plt.savefig('incidents_by_decade.png')\n",
    "\n",
    "# Show the plot\n",
    "plt.show()"
   ]
  },
  {
   "cell_type": "markdown",
   "metadata": {},
   "source": [
    "Sudan has been in conflict for more than three decades. The number of incidents were lower during the first two decades and rose up in the last two decades 2010, and 2020."
   ]
  },
  {
   "cell_type": "code",
   "execution_count": 30,
   "metadata": {},
   "outputs": [
    {
     "data": {
      "application/vnd.plotly.v1+json": {
       "config": {
        "plotlyServerURL": "https://plot.ly"
       },
       "data": [
        {
         "alignmentgroup": "True",
         "hovertemplate": "<b>Event Type=Protests<br>year=%{x}<br>Number of Events=%{y}<extra></extra>",
         "legendgroup": "Protests",
         "marker": {
          "color": "#636efa"
         },
         "name": "Protests",
         "offsetgroup": "Protests",
         "orientation": "v",
         "showlegend": true,
         "textposition": "auto",
         "type": "bar",
         "x": [
          2004,
          2005,
          2006,
          2007,
          2008,
          2009,
          2010,
          2011,
          2012,
          2013,
          2014,
          2015,
          2016,
          2017,
          2018,
          2019,
          2020,
          2021,
          2022,
          2023,
          2024
         ],
         "xaxis": "x",
         "y": [
          3,
          3,
          1,
          1,
          2,
          3,
          14,
          40,
          116,
          129,
          221,
          158,
          193,
          176,
          170,
          1121,
          543,
          843,
          1804,
          575,
          92
         ],
         "yaxis": "y"
        },
        {
         "alignmentgroup": "True",
         "hovertemplate": "<b>Event Type=Riots<br>year=%{x}<br>Number of Events=%{y}<extra></extra>",
         "legendgroup": "Riots",
         "marker": {
          "color": "#EF553B"
         },
         "name": "Riots",
         "offsetgroup": "Riots",
         "orientation": "v",
         "showlegend": true,
         "textposition": "auto",
         "type": "bar",
         "x": [
          2004,
          2005,
          2006,
          2007,
          2008,
          2009,
          2010,
          2011,
          2012,
          2013,
          2014,
          2015,
          2016,
          2017,
          2018,
          2019,
          2020,
          2021,
          2022,
          2023,
          2024
         ],
         "xaxis": "x",
         "y": [
          4,
          16,
          10,
          0,
          11,
          14,
          5,
          10,
          29,
          41,
          52,
          43,
          64,
          48,
          71,
          92,
          111,
          128,
          84,
          64,
          33
         ],
         "yaxis": "y"
        },
        {
         "alignmentgroup": "True",
         "hovertemplate": "<b>Event Type=Violence against civilians<br>year=%{x}<br>Number of Events=%{y}<extra></extra>",
         "legendgroup": "Violence against civilians",
         "marker": {
          "color": "#00cc96"
         },
         "name": "Violence against civilians",
         "offsetgroup": "Violence against civilians",
         "orientation": "v",
         "showlegend": true,
         "textposition": "auto",
         "type": "bar",
         "x": [
          2004,
          2005,
          2006,
          2007,
          2008,
          2009,
          2010,
          2011,
          2012,
          2013,
          2014,
          2015,
          2016,
          2017,
          2018,
          2019,
          2020,
          2021,
          2022,
          2023,
          2024
         ],
         "xaxis": "x",
         "y": [
          139,
          122,
          74,
          46,
          70,
          91,
          43,
          89,
          241,
          519,
          636,
          837,
          821,
          803,
          599,
          537,
          643,
          827,
          811,
          715,
          480
         ],
         "yaxis": "y"
        },
        {
         "alignmentgroup": "True",
         "hovertemplate": "<b>Event Type=Battles<br>year=%{x}<br>Number of Events=%{y}<extra></extra>",
         "legendgroup": "Battles",
         "marker": {
          "color": "#ab63fa"
         },
         "name": "Battles",
         "offsetgroup": "Battles",
         "orientation": "v",
         "showlegend": true,
         "textposition": "auto",
         "type": "bar",
         "x": [
          2004,
          2005,
          2006,
          2007,
          2008,
          2009,
          2010,
          2011,
          2012,
          2013,
          2014,
          2015,
          2016,
          2017,
          2018,
          2019,
          2020,
          2021,
          2022,
          2023,
          2024
         ],
         "xaxis": "x",
         "y": [
          108,
          75,
          49,
          43,
          128,
          129,
          114,
          138,
          226,
          429,
          768,
          708,
          694,
          748,
          588,
          264,
          517,
          485,
          475,
          2291,
          1415
         ],
         "yaxis": "y"
        },
        {
         "alignmentgroup": "True",
         "hovertemplate": "<b>Event Type=Strategic developments<br>year=%{x}<br>Number of Events=%{y}<extra></extra>",
         "legendgroup": "Strategic developments",
         "marker": {
          "color": "#FFA15A"
         },
         "name": "Strategic developments",
         "offsetgroup": "Strategic developments",
         "orientation": "v",
         "showlegend": true,
         "textposition": "auto",
         "type": "bar",
         "x": [
          2004,
          2005,
          2006,
          2007,
          2008,
          2009,
          2010,
          2011,
          2012,
          2013,
          2014,
          2015,
          2016,
          2017,
          2018,
          2019,
          2020,
          2021,
          2022,
          2023,
          2024
         ],
         "xaxis": "x",
         "y": [
          15,
          7,
          9,
          6,
          18,
          6,
          7,
          13,
          51,
          73,
          175,
          62,
          142,
          174,
          138,
          71,
          46,
          108,
          218,
          832,
          880
         ],
         "yaxis": "y"
        }
       ],
       "layout": {
        "barmode": "relative",
        "height": 600,
        "legend": {
         "title": {
          "text": "<b>Event Type"
         },
         "tracegroupgap": 0
        },
        "template": {
         "data": {
          "bar": [
           {
            "error_x": {
             "color": "#2a3f5f"
            },
            "error_y": {
             "color": "#2a3f5f"
            },
            "marker": {
             "line": {
              "color": "#E5ECF6",
              "width": 0.5
             }
            },
            "type": "bar"
           }
          ],
          "barpolar": [
           {
            "marker": {
             "line": {
              "color": "#E5ECF6",
              "width": 0.5
             }
            },
            "type": "barpolar"
           }
          ],
          "carpet": [
           {
            "aaxis": {
             "endlinecolor": "#2a3f5f",
             "gridcolor": "white",
             "linecolor": "white",
             "minorgridcolor": "white",
             "startlinecolor": "#2a3f5f"
            },
            "baxis": {
             "endlinecolor": "#2a3f5f",
             "gridcolor": "white",
             "linecolor": "white",
             "minorgridcolor": "white",
             "startlinecolor": "#2a3f5f"
            },
            "type": "carpet"
           }
          ],
          "choropleth": [
           {
            "colorbar": {
             "outlinewidth": 0,
             "ticks": ""
            },
            "type": "choropleth"
           }
          ],
          "contour": [
           {
            "colorbar": {
             "outlinewidth": 0,
             "ticks": ""
            },
            "colorscale": [
             [
              0,
              "#0d0887"
             ],
             [
              0.1111111111111111,
              "#46039f"
             ],
             [
              0.2222222222222222,
              "#7201a8"
             ],
             [
              0.3333333333333333,
              "#9c179e"
             ],
             [
              0.4444444444444444,
              "#bd3786"
             ],
             [
              0.5555555555555556,
              "#d8576b"
             ],
             [
              0.6666666666666666,
              "#ed7953"
             ],
             [
              0.7777777777777778,
              "#fb9f3a"
             ],
             [
              0.8888888888888888,
              "#fdca26"
             ],
             [
              1,
              "#f0f921"
             ]
            ],
            "type": "contour"
           }
          ],
          "contourcarpet": [
           {
            "colorbar": {
             "outlinewidth": 0,
             "ticks": ""
            },
            "type": "contourcarpet"
           }
          ],
          "heatmap": [
           {
            "colorbar": {
             "outlinewidth": 0,
             "ticks": ""
            },
            "colorscale": [
             [
              0,
              "#0d0887"
             ],
             [
              0.1111111111111111,
              "#46039f"
             ],
             [
              0.2222222222222222,
              "#7201a8"
             ],
             [
              0.3333333333333333,
              "#9c179e"
             ],
             [
              0.4444444444444444,
              "#bd3786"
             ],
             [
              0.5555555555555556,
              "#d8576b"
             ],
             [
              0.6666666666666666,
              "#ed7953"
             ],
             [
              0.7777777777777778,
              "#fb9f3a"
             ],
             [
              0.8888888888888888,
              "#fdca26"
             ],
             [
              1,
              "#f0f921"
             ]
            ],
            "type": "heatmap"
           }
          ],
          "heatmapgl": [
           {
            "colorbar": {
             "outlinewidth": 0,
             "ticks": ""
            },
            "colorscale": [
             [
              0,
              "#0d0887"
             ],
             [
              0.1111111111111111,
              "#46039f"
             ],
             [
              0.2222222222222222,
              "#7201a8"
             ],
             [
              0.3333333333333333,
              "#9c179e"
             ],
             [
              0.4444444444444444,
              "#bd3786"
             ],
             [
              0.5555555555555556,
              "#d8576b"
             ],
             [
              0.6666666666666666,
              "#ed7953"
             ],
             [
              0.7777777777777778,
              "#fb9f3a"
             ],
             [
              0.8888888888888888,
              "#fdca26"
             ],
             [
              1,
              "#f0f921"
             ]
            ],
            "type": "heatmapgl"
           }
          ],
          "histogram": [
           {
            "marker": {
             "colorbar": {
              "outlinewidth": 0,
              "ticks": ""
             }
            },
            "type": "histogram"
           }
          ],
          "histogram2d": [
           {
            "colorbar": {
             "outlinewidth": 0,
             "ticks": ""
            },
            "colorscale": [
             [
              0,
              "#0d0887"
             ],
             [
              0.1111111111111111,
              "#46039f"
             ],
             [
              0.2222222222222222,
              "#7201a8"
             ],
             [
              0.3333333333333333,
              "#9c179e"
             ],
             [
              0.4444444444444444,
              "#bd3786"
             ],
             [
              0.5555555555555556,
              "#d8576b"
             ],
             [
              0.6666666666666666,
              "#ed7953"
             ],
             [
              0.7777777777777778,
              "#fb9f3a"
             ],
             [
              0.8888888888888888,
              "#fdca26"
             ],
             [
              1,
              "#f0f921"
             ]
            ],
            "type": "histogram2d"
           }
          ],
          "histogram2dcontour": [
           {
            "colorbar": {
             "outlinewidth": 0,
             "ticks": ""
            },
            "colorscale": [
             [
              0,
              "#0d0887"
             ],
             [
              0.1111111111111111,
              "#46039f"
             ],
             [
              0.2222222222222222,
              "#7201a8"
             ],
             [
              0.3333333333333333,
              "#9c179e"
             ],
             [
              0.4444444444444444,
              "#bd3786"
             ],
             [
              0.5555555555555556,
              "#d8576b"
             ],
             [
              0.6666666666666666,
              "#ed7953"
             ],
             [
              0.7777777777777778,
              "#fb9f3a"
             ],
             [
              0.8888888888888888,
              "#fdca26"
             ],
             [
              1,
              "#f0f921"
             ]
            ],
            "type": "histogram2dcontour"
           }
          ],
          "mesh3d": [
           {
            "colorbar": {
             "outlinewidth": 0,
             "ticks": ""
            },
            "type": "mesh3d"
           }
          ],
          "parcoords": [
           {
            "line": {
             "colorbar": {
              "outlinewidth": 0,
              "ticks": ""
             }
            },
            "type": "parcoords"
           }
          ],
          "pie": [
           {
            "automargin": true,
            "type": "pie"
           }
          ],
          "scatter": [
           {
            "marker": {
             "colorbar": {
              "outlinewidth": 0,
              "ticks": ""
             }
            },
            "type": "scatter"
           }
          ],
          "scatter3d": [
           {
            "line": {
             "colorbar": {
              "outlinewidth": 0,
              "ticks": ""
             }
            },
            "marker": {
             "colorbar": {
              "outlinewidth": 0,
              "ticks": ""
             }
            },
            "type": "scatter3d"
           }
          ],
          "scattercarpet": [
           {
            "marker": {
             "colorbar": {
              "outlinewidth": 0,
              "ticks": ""
             }
            },
            "type": "scattercarpet"
           }
          ],
          "scattergeo": [
           {
            "marker": {
             "colorbar": {
              "outlinewidth": 0,
              "ticks": ""
             }
            },
            "type": "scattergeo"
           }
          ],
          "scattergl": [
           {
            "marker": {
             "colorbar": {
              "outlinewidth": 0,
              "ticks": ""
             }
            },
            "type": "scattergl"
           }
          ],
          "scattermapbox": [
           {
            "marker": {
             "colorbar": {
              "outlinewidth": 0,
              "ticks": ""
             }
            },
            "type": "scattermapbox"
           }
          ],
          "scatterpolar": [
           {
            "marker": {
             "colorbar": {
              "outlinewidth": 0,
              "ticks": ""
             }
            },
            "type": "scatterpolar"
           }
          ],
          "scatterpolargl": [
           {
            "marker": {
             "colorbar": {
              "outlinewidth": 0,
              "ticks": ""
             }
            },
            "type": "scatterpolargl"
           }
          ],
          "scatterternary": [
           {
            "marker": {
             "colorbar": {
              "outlinewidth": 0,
              "ticks": ""
             }
            },
            "type": "scatterternary"
           }
          ],
          "surface": [
           {
            "colorbar": {
             "outlinewidth": 0,
             "ticks": ""
            },
            "colorscale": [
             [
              0,
              "#0d0887"
             ],
             [
              0.1111111111111111,
              "#46039f"
             ],
             [
              0.2222222222222222,
              "#7201a8"
             ],
             [
              0.3333333333333333,
              "#9c179e"
             ],
             [
              0.4444444444444444,
              "#bd3786"
             ],
             [
              0.5555555555555556,
              "#d8576b"
             ],
             [
              0.6666666666666666,
              "#ed7953"
             ],
             [
              0.7777777777777778,
              "#fb9f3a"
             ],
             [
              0.8888888888888888,
              "#fdca26"
             ],
             [
              1,
              "#f0f921"
             ]
            ],
            "type": "surface"
           }
          ],
          "table": [
           {
            "cells": {
             "fill": {
              "color": "#EBF0F8"
             },
             "line": {
              "color": "white"
             }
            },
            "header": {
             "fill": {
              "color": "#C8D4E3"
             },
             "line": {
              "color": "white"
             }
            },
            "type": "table"
           }
          ]
         },
         "layout": {
          "annotationdefaults": {
           "arrowcolor": "#2a3f5f",
           "arrowhead": 0,
           "arrowwidth": 1
          },
          "coloraxis": {
           "colorbar": {
            "outlinewidth": 0,
            "ticks": ""
           }
          },
          "colorscale": {
           "diverging": [
            [
             0,
             "#8e0152"
            ],
            [
             0.1,
             "#c51b7d"
            ],
            [
             0.2,
             "#de77ae"
            ],
            [
             0.3,
             "#f1b6da"
            ],
            [
             0.4,
             "#fde0ef"
            ],
            [
             0.5,
             "#f7f7f7"
            ],
            [
             0.6,
             "#e6f5d0"
            ],
            [
             0.7,
             "#b8e186"
            ],
            [
             0.8,
             "#7fbc41"
            ],
            [
             0.9,
             "#4d9221"
            ],
            [
             1,
             "#276419"
            ]
           ],
           "sequential": [
            [
             0,
             "#0d0887"
            ],
            [
             0.1111111111111111,
             "#46039f"
            ],
            [
             0.2222222222222222,
             "#7201a8"
            ],
            [
             0.3333333333333333,
             "#9c179e"
            ],
            [
             0.4444444444444444,
             "#bd3786"
            ],
            [
             0.5555555555555556,
             "#d8576b"
            ],
            [
             0.6666666666666666,
             "#ed7953"
            ],
            [
             0.7777777777777778,
             "#fb9f3a"
            ],
            [
             0.8888888888888888,
             "#fdca26"
            ],
            [
             1,
             "#f0f921"
            ]
           ],
           "sequentialminus": [
            [
             0,
             "#0d0887"
            ],
            [
             0.1111111111111111,
             "#46039f"
            ],
            [
             0.2222222222222222,
             "#7201a8"
            ],
            [
             0.3333333333333333,
             "#9c179e"
            ],
            [
             0.4444444444444444,
             "#bd3786"
            ],
            [
             0.5555555555555556,
             "#d8576b"
            ],
            [
             0.6666666666666666,
             "#ed7953"
            ],
            [
             0.7777777777777778,
             "#fb9f3a"
            ],
            [
             0.8888888888888888,
             "#fdca26"
            ],
            [
             1,
             "#f0f921"
            ]
           ]
          },
          "colorway": [
           "#636efa",
           "#EF553B",
           "#00cc96",
           "#ab63fa",
           "#FFA15A",
           "#19d3f3",
           "#FF6692",
           "#B6E880",
           "#FF97FF",
           "#FECB52"
          ],
          "font": {
           "color": "#2a3f5f"
          },
          "geo": {
           "bgcolor": "white",
           "lakecolor": "white",
           "landcolor": "#E5ECF6",
           "showlakes": true,
           "showland": true,
           "subunitcolor": "white"
          },
          "hoverlabel": {
           "align": "left"
          },
          "hovermode": "closest",
          "mapbox": {
           "style": "light"
          },
          "paper_bgcolor": "white",
          "plot_bgcolor": "#E5ECF6",
          "polar": {
           "angularaxis": {
            "gridcolor": "white",
            "linecolor": "white",
            "ticks": ""
           },
           "bgcolor": "#E5ECF6",
           "radialaxis": {
            "gridcolor": "white",
            "linecolor": "white",
            "ticks": ""
           }
          },
          "scene": {
           "xaxis": {
            "backgroundcolor": "#E5ECF6",
            "gridcolor": "white",
            "gridwidth": 2,
            "linecolor": "white",
            "showbackground": true,
            "ticks": "",
            "zerolinecolor": "white"
           },
           "yaxis": {
            "backgroundcolor": "#E5ECF6",
            "gridcolor": "white",
            "gridwidth": 2,
            "linecolor": "white",
            "showbackground": true,
            "ticks": "",
            "zerolinecolor": "white"
           },
           "zaxis": {
            "backgroundcolor": "#E5ECF6",
            "gridcolor": "white",
            "gridwidth": 2,
            "linecolor": "white",
            "showbackground": true,
            "ticks": "",
            "zerolinecolor": "white"
           }
          },
          "shapedefaults": {
           "line": {
            "color": "#2a3f5f"
           }
          },
          "ternary": {
           "aaxis": {
            "gridcolor": "white",
            "linecolor": "white",
            "ticks": ""
           },
           "baxis": {
            "gridcolor": "white",
            "linecolor": "white",
            "ticks": ""
           },
           "bgcolor": "#E5ECF6",
           "caxis": {
            "gridcolor": "white",
            "linecolor": "white",
            "ticks": ""
           }
          },
          "title": {
           "x": 0.05
          },
          "xaxis": {
           "automargin": true,
           "gridcolor": "white",
           "linecolor": "white",
           "ticks": "",
           "title": {
            "standoff": 15
           },
           "zerolinecolor": "white",
           "zerolinewidth": 2
          },
          "yaxis": {
           "automargin": true,
           "gridcolor": "white",
           "linecolor": "white",
           "ticks": "",
           "title": {
            "standoff": 15
           },
           "zerolinecolor": "white",
           "zerolinewidth": 2
          }
         }
        },
        "title": {
         "font": {
          "family": "San-Serif",
          "size": 15
         },
         "text": " <b> Political violence & protest events in Sudan (2010 - Dec 2024) <b>"
        },
        "width": 1000,
        "xaxis": {
         "anchor": "y",
         "domain": [
          0,
          1
         ],
         "dtick": 1,
         "tick0": 1,
         "tickangle": 0,
         "tickmode": "linear",
         "title": {
          "text": "year"
         }
        },
        "yaxis": {
         "anchor": "x",
         "domain": [
          0,
          1
         ],
         "title": {
          "text": "Number of Events"
         }
        }
       }
      },
      "text/html": [
       "<div>                            <div id=\"d30f2515-1269-431d-8754-97cda8c67b92\" class=\"plotly-graph-div\" style=\"height:600px; width:1000px;\"></div>            <script type=\"text/javascript\">                require([\"plotly\"], function(Plotly) {                    window.PLOTLYENV=window.PLOTLYENV || {};                                    if (document.getElementById(\"d30f2515-1269-431d-8754-97cda8c67b92\")) {                    Plotly.newPlot(                        \"d30f2515-1269-431d-8754-97cda8c67b92\",                        [{\"alignmentgroup\": \"True\", \"hovertemplate\": \"<b>Event Type=Protests<br>year=%{x}<br>Number of Events=%{y}<extra></extra>\", \"legendgroup\": \"Protests\", \"marker\": {\"color\": \"#636efa\"}, \"name\": \"Protests\", \"offsetgroup\": \"Protests\", \"orientation\": \"v\", \"showlegend\": true, \"textposition\": \"auto\", \"type\": \"bar\", \"x\": [2004, 2005, 2006, 2007, 2008, 2009, 2010, 2011, 2012, 2013, 2014, 2015, 2016, 2017, 2018, 2019, 2020, 2021, 2022, 2023, 2024], \"xaxis\": \"x\", \"y\": [3, 3, 1, 1, 2, 3, 14, 40, 116, 129, 221, 158, 193, 176, 170, 1121, 543, 843, 1804, 575, 92], \"yaxis\": \"y\"}, {\"alignmentgroup\": \"True\", \"hovertemplate\": \"<b>Event Type=Riots<br>year=%{x}<br>Number of Events=%{y}<extra></extra>\", \"legendgroup\": \"Riots\", \"marker\": {\"color\": \"#EF553B\"}, \"name\": \"Riots\", \"offsetgroup\": \"Riots\", \"orientation\": \"v\", \"showlegend\": true, \"textposition\": \"auto\", \"type\": \"bar\", \"x\": [2004, 2005, 2006, 2007, 2008, 2009, 2010, 2011, 2012, 2013, 2014, 2015, 2016, 2017, 2018, 2019, 2020, 2021, 2022, 2023, 2024], \"xaxis\": \"x\", \"y\": [4, 16, 10, 0, 11, 14, 5, 10, 29, 41, 52, 43, 64, 48, 71, 92, 111, 128, 84, 64, 33], \"yaxis\": \"y\"}, {\"alignmentgroup\": \"True\", \"hovertemplate\": \"<b>Event Type=Violence against civilians<br>year=%{x}<br>Number of Events=%{y}<extra></extra>\", \"legendgroup\": \"Violence against civilians\", \"marker\": {\"color\": \"#00cc96\"}, \"name\": \"Violence against civilians\", \"offsetgroup\": \"Violence against civilians\", \"orientation\": \"v\", \"showlegend\": true, \"textposition\": \"auto\", \"type\": \"bar\", \"x\": [2004, 2005, 2006, 2007, 2008, 2009, 2010, 2011, 2012, 2013, 2014, 2015, 2016, 2017, 2018, 2019, 2020, 2021, 2022, 2023, 2024], \"xaxis\": \"x\", \"y\": [139, 122, 74, 46, 70, 91, 43, 89, 241, 519, 636, 837, 821, 803, 599, 537, 643, 827, 811, 715, 480], \"yaxis\": \"y\"}, {\"alignmentgroup\": \"True\", \"hovertemplate\": \"<b>Event Type=Battles<br>year=%{x}<br>Number of Events=%{y}<extra></extra>\", \"legendgroup\": \"Battles\", \"marker\": {\"color\": \"#ab63fa\"}, \"name\": \"Battles\", \"offsetgroup\": \"Battles\", \"orientation\": \"v\", \"showlegend\": true, \"textposition\": \"auto\", \"type\": \"bar\", \"x\": [2004, 2005, 2006, 2007, 2008, 2009, 2010, 2011, 2012, 2013, 2014, 2015, 2016, 2017, 2018, 2019, 2020, 2021, 2022, 2023, 2024], \"xaxis\": \"x\", \"y\": [108, 75, 49, 43, 128, 129, 114, 138, 226, 429, 768, 708, 694, 748, 588, 264, 517, 485, 475, 2291, 1415], \"yaxis\": \"y\"}, {\"alignmentgroup\": \"True\", \"hovertemplate\": \"<b>Event Type=Strategic developments<br>year=%{x}<br>Number of Events=%{y}<extra></extra>\", \"legendgroup\": \"Strategic developments\", \"marker\": {\"color\": \"#FFA15A\"}, \"name\": \"Strategic developments\", \"offsetgroup\": \"Strategic developments\", \"orientation\": \"v\", \"showlegend\": true, \"textposition\": \"auto\", \"type\": \"bar\", \"x\": [2004, 2005, 2006, 2007, 2008, 2009, 2010, 2011, 2012, 2013, 2014, 2015, 2016, 2017, 2018, 2019, 2020, 2021, 2022, 2023, 2024], \"xaxis\": \"x\", \"y\": [15, 7, 9, 6, 18, 6, 7, 13, 51, 73, 175, 62, 142, 174, 138, 71, 46, 108, 218, 832, 880], \"yaxis\": \"y\"}],                        {\"barmode\": \"relative\", \"height\": 600, \"legend\": {\"title\": {\"text\": \"<b>Event Type\"}, \"tracegroupgap\": 0}, \"template\": {\"data\": {\"bar\": [{\"error_x\": {\"color\": \"#2a3f5f\"}, \"error_y\": {\"color\": \"#2a3f5f\"}, \"marker\": {\"line\": {\"color\": \"#E5ECF6\", \"width\": 0.5}}, \"type\": \"bar\"}], \"barpolar\": [{\"marker\": {\"line\": {\"color\": \"#E5ECF6\", \"width\": 0.5}}, \"type\": \"barpolar\"}], \"carpet\": [{\"aaxis\": {\"endlinecolor\": \"#2a3f5f\", \"gridcolor\": \"white\", \"linecolor\": \"white\", \"minorgridcolor\": \"white\", \"startlinecolor\": \"#2a3f5f\"}, \"baxis\": {\"endlinecolor\": \"#2a3f5f\", \"gridcolor\": \"white\", \"linecolor\": \"white\", \"minorgridcolor\": \"white\", \"startlinecolor\": \"#2a3f5f\"}, \"type\": \"carpet\"}], \"choropleth\": [{\"colorbar\": {\"outlinewidth\": 0, \"ticks\": \"\"}, \"type\": \"choropleth\"}], \"contour\": [{\"colorbar\": {\"outlinewidth\": 0, \"ticks\": \"\"}, \"colorscale\": [[0.0, \"#0d0887\"], [0.1111111111111111, \"#46039f\"], [0.2222222222222222, \"#7201a8\"], [0.3333333333333333, \"#9c179e\"], [0.4444444444444444, \"#bd3786\"], [0.5555555555555556, \"#d8576b\"], [0.6666666666666666, \"#ed7953\"], [0.7777777777777778, \"#fb9f3a\"], [0.8888888888888888, \"#fdca26\"], [1.0, \"#f0f921\"]], \"type\": \"contour\"}], \"contourcarpet\": [{\"colorbar\": {\"outlinewidth\": 0, \"ticks\": \"\"}, \"type\": \"contourcarpet\"}], \"heatmap\": [{\"colorbar\": {\"outlinewidth\": 0, \"ticks\": \"\"}, \"colorscale\": [[0.0, \"#0d0887\"], [0.1111111111111111, \"#46039f\"], [0.2222222222222222, \"#7201a8\"], [0.3333333333333333, \"#9c179e\"], [0.4444444444444444, \"#bd3786\"], [0.5555555555555556, \"#d8576b\"], [0.6666666666666666, \"#ed7953\"], [0.7777777777777778, \"#fb9f3a\"], [0.8888888888888888, \"#fdca26\"], [1.0, \"#f0f921\"]], \"type\": \"heatmap\"}], \"heatmapgl\": [{\"colorbar\": {\"outlinewidth\": 0, \"ticks\": \"\"}, \"colorscale\": [[0.0, \"#0d0887\"], [0.1111111111111111, \"#46039f\"], [0.2222222222222222, \"#7201a8\"], [0.3333333333333333, \"#9c179e\"], [0.4444444444444444, \"#bd3786\"], [0.5555555555555556, \"#d8576b\"], [0.6666666666666666, \"#ed7953\"], [0.7777777777777778, \"#fb9f3a\"], [0.8888888888888888, \"#fdca26\"], [1.0, \"#f0f921\"]], \"type\": \"heatmapgl\"}], \"histogram\": [{\"marker\": {\"colorbar\": {\"outlinewidth\": 0, \"ticks\": \"\"}}, \"type\": \"histogram\"}], \"histogram2d\": [{\"colorbar\": {\"outlinewidth\": 0, \"ticks\": \"\"}, \"colorscale\": [[0.0, \"#0d0887\"], [0.1111111111111111, \"#46039f\"], [0.2222222222222222, \"#7201a8\"], [0.3333333333333333, \"#9c179e\"], [0.4444444444444444, \"#bd3786\"], [0.5555555555555556, \"#d8576b\"], [0.6666666666666666, \"#ed7953\"], [0.7777777777777778, \"#fb9f3a\"], [0.8888888888888888, \"#fdca26\"], [1.0, \"#f0f921\"]], \"type\": \"histogram2d\"}], \"histogram2dcontour\": [{\"colorbar\": {\"outlinewidth\": 0, \"ticks\": \"\"}, \"colorscale\": [[0.0, \"#0d0887\"], [0.1111111111111111, \"#46039f\"], [0.2222222222222222, \"#7201a8\"], [0.3333333333333333, \"#9c179e\"], [0.4444444444444444, \"#bd3786\"], [0.5555555555555556, \"#d8576b\"], [0.6666666666666666, \"#ed7953\"], [0.7777777777777778, \"#fb9f3a\"], [0.8888888888888888, \"#fdca26\"], [1.0, \"#f0f921\"]], \"type\": \"histogram2dcontour\"}], \"mesh3d\": [{\"colorbar\": {\"outlinewidth\": 0, \"ticks\": \"\"}, \"type\": \"mesh3d\"}], \"parcoords\": [{\"line\": {\"colorbar\": {\"outlinewidth\": 0, \"ticks\": \"\"}}, \"type\": \"parcoords\"}], \"pie\": [{\"automargin\": true, \"type\": \"pie\"}], \"scatter\": [{\"marker\": {\"colorbar\": {\"outlinewidth\": 0, \"ticks\": \"\"}}, \"type\": \"scatter\"}], \"scatter3d\": [{\"line\": {\"colorbar\": {\"outlinewidth\": 0, \"ticks\": \"\"}}, \"marker\": {\"colorbar\": {\"outlinewidth\": 0, \"ticks\": \"\"}}, \"type\": \"scatter3d\"}], \"scattercarpet\": [{\"marker\": {\"colorbar\": {\"outlinewidth\": 0, \"ticks\": \"\"}}, \"type\": \"scattercarpet\"}], \"scattergeo\": [{\"marker\": {\"colorbar\": {\"outlinewidth\": 0, \"ticks\": \"\"}}, \"type\": \"scattergeo\"}], \"scattergl\": [{\"marker\": {\"colorbar\": {\"outlinewidth\": 0, \"ticks\": \"\"}}, \"type\": \"scattergl\"}], \"scattermapbox\": [{\"marker\": {\"colorbar\": {\"outlinewidth\": 0, \"ticks\": \"\"}}, \"type\": \"scattermapbox\"}], \"scatterpolar\": [{\"marker\": {\"colorbar\": {\"outlinewidth\": 0, \"ticks\": \"\"}}, \"type\": \"scatterpolar\"}], \"scatterpolargl\": [{\"marker\": {\"colorbar\": {\"outlinewidth\": 0, \"ticks\": \"\"}}, \"type\": \"scatterpolargl\"}], \"scatterternary\": [{\"marker\": {\"colorbar\": {\"outlinewidth\": 0, \"ticks\": \"\"}}, \"type\": \"scatterternary\"}], \"surface\": [{\"colorbar\": {\"outlinewidth\": 0, \"ticks\": \"\"}, \"colorscale\": [[0.0, \"#0d0887\"], [0.1111111111111111, \"#46039f\"], [0.2222222222222222, \"#7201a8\"], [0.3333333333333333, \"#9c179e\"], [0.4444444444444444, \"#bd3786\"], [0.5555555555555556, \"#d8576b\"], [0.6666666666666666, \"#ed7953\"], [0.7777777777777778, \"#fb9f3a\"], [0.8888888888888888, \"#fdca26\"], [1.0, \"#f0f921\"]], \"type\": \"surface\"}], \"table\": [{\"cells\": {\"fill\": {\"color\": \"#EBF0F8\"}, \"line\": {\"color\": \"white\"}}, \"header\": {\"fill\": {\"color\": \"#C8D4E3\"}, \"line\": {\"color\": \"white\"}}, \"type\": \"table\"}]}, \"layout\": {\"annotationdefaults\": {\"arrowcolor\": \"#2a3f5f\", \"arrowhead\": 0, \"arrowwidth\": 1}, \"coloraxis\": {\"colorbar\": {\"outlinewidth\": 0, \"ticks\": \"\"}}, \"colorscale\": {\"diverging\": [[0, \"#8e0152\"], [0.1, \"#c51b7d\"], [0.2, \"#de77ae\"], [0.3, \"#f1b6da\"], [0.4, \"#fde0ef\"], [0.5, \"#f7f7f7\"], [0.6, \"#e6f5d0\"], [0.7, \"#b8e186\"], [0.8, \"#7fbc41\"], [0.9, \"#4d9221\"], [1, \"#276419\"]], \"sequential\": [[0.0, \"#0d0887\"], [0.1111111111111111, \"#46039f\"], [0.2222222222222222, \"#7201a8\"], [0.3333333333333333, \"#9c179e\"], [0.4444444444444444, \"#bd3786\"], [0.5555555555555556, \"#d8576b\"], [0.6666666666666666, \"#ed7953\"], [0.7777777777777778, \"#fb9f3a\"], [0.8888888888888888, \"#fdca26\"], [1.0, \"#f0f921\"]], \"sequentialminus\": [[0.0, \"#0d0887\"], [0.1111111111111111, \"#46039f\"], [0.2222222222222222, \"#7201a8\"], [0.3333333333333333, \"#9c179e\"], [0.4444444444444444, \"#bd3786\"], [0.5555555555555556, \"#d8576b\"], [0.6666666666666666, \"#ed7953\"], [0.7777777777777778, \"#fb9f3a\"], [0.8888888888888888, \"#fdca26\"], [1.0, \"#f0f921\"]]}, \"colorway\": [\"#636efa\", \"#EF553B\", \"#00cc96\", \"#ab63fa\", \"#FFA15A\", \"#19d3f3\", \"#FF6692\", \"#B6E880\", \"#FF97FF\", \"#FECB52\"], \"font\": {\"color\": \"#2a3f5f\"}, \"geo\": {\"bgcolor\": \"white\", \"lakecolor\": \"white\", \"landcolor\": \"#E5ECF6\", \"showlakes\": true, \"showland\": true, \"subunitcolor\": \"white\"}, \"hoverlabel\": {\"align\": \"left\"}, \"hovermode\": \"closest\", \"mapbox\": {\"style\": \"light\"}, \"paper_bgcolor\": \"white\", \"plot_bgcolor\": \"#E5ECF6\", \"polar\": {\"angularaxis\": {\"gridcolor\": \"white\", \"linecolor\": \"white\", \"ticks\": \"\"}, \"bgcolor\": \"#E5ECF6\", \"radialaxis\": {\"gridcolor\": \"white\", \"linecolor\": \"white\", \"ticks\": \"\"}}, \"scene\": {\"xaxis\": {\"backgroundcolor\": \"#E5ECF6\", \"gridcolor\": \"white\", \"gridwidth\": 2, \"linecolor\": \"white\", \"showbackground\": true, \"ticks\": \"\", \"zerolinecolor\": \"white\"}, \"yaxis\": {\"backgroundcolor\": \"#E5ECF6\", \"gridcolor\": \"white\", \"gridwidth\": 2, \"linecolor\": \"white\", \"showbackground\": true, \"ticks\": \"\", \"zerolinecolor\": \"white\"}, \"zaxis\": {\"backgroundcolor\": \"#E5ECF6\", \"gridcolor\": \"white\", \"gridwidth\": 2, \"linecolor\": \"white\", \"showbackground\": true, \"ticks\": \"\", \"zerolinecolor\": \"white\"}}, \"shapedefaults\": {\"line\": {\"color\": \"#2a3f5f\"}}, \"ternary\": {\"aaxis\": {\"gridcolor\": \"white\", \"linecolor\": \"white\", \"ticks\": \"\"}, \"baxis\": {\"gridcolor\": \"white\", \"linecolor\": \"white\", \"ticks\": \"\"}, \"bgcolor\": \"#E5ECF6\", \"caxis\": {\"gridcolor\": \"white\", \"linecolor\": \"white\", \"ticks\": \"\"}}, \"title\": {\"x\": 0.05}, \"xaxis\": {\"automargin\": true, \"gridcolor\": \"white\", \"linecolor\": \"white\", \"ticks\": \"\", \"title\": {\"standoff\": 15}, \"zerolinecolor\": \"white\", \"zerolinewidth\": 2}, \"yaxis\": {\"automargin\": true, \"gridcolor\": \"white\", \"linecolor\": \"white\", \"ticks\": \"\", \"title\": {\"standoff\": 15}, \"zerolinecolor\": \"white\", \"zerolinewidth\": 2}}}, \"title\": {\"font\": {\"family\": \"San-Serif\", \"size\": 15}, \"text\": \" <b> Political violence & protest events in Sudan (2010 - Dec 2024) <b>\"}, \"width\": 1000, \"xaxis\": {\"anchor\": \"y\", \"domain\": [0.0, 1.0], \"dtick\": 1, \"tick0\": 1, \"tickangle\": 0, \"tickmode\": \"linear\", \"title\": {\"text\": \"year\"}}, \"yaxis\": {\"anchor\": \"x\", \"domain\": [0.0, 1.0], \"title\": {\"text\": \"Number of Events\"}}},                        {\"responsive\": true}                    ).then(function(){\n",
       "                            \n",
       "var gd = document.getElementById('d30f2515-1269-431d-8754-97cda8c67b92');\n",
       "var x = new MutationObserver(function (mutations, observer) {{\n",
       "        var display = window.getComputedStyle(gd).display;\n",
       "        if (!display || display === 'none') {{\n",
       "            console.log([gd, 'removed!']);\n",
       "            Plotly.purge(gd);\n",
       "            observer.disconnect();\n",
       "        }}\n",
       "}});\n",
       "\n",
       "// Listen for the removal of the full notebook cells\n",
       "var notebookContainer = gd.closest('#notebook-container');\n",
       "if (notebookContainer) {{\n",
       "    x.observe(notebookContainer, {childList: true});\n",
       "}}\n",
       "\n",
       "// Listen for the clearing of the current output cell\n",
       "var outputEl = gd.closest('.output');\n",
       "if (outputEl) {{\n",
       "    x.observe(outputEl, {childList: true});\n",
       "}}\n",
       "\n",
       "                        })                };                });            </script>        </div>"
      ]
     },
     "metadata": {},
     "output_type": "display_data"
    }
   ],
   "source": [
    "#Analysing conflicts from 2004 to 2024\n",
    "df_2=df_2[df_2[\"year\"]>2003]\n",
    "\n",
    "year_event = pd.crosstab(df_2.year,df.event_type).reset_index()\n",
    "\n",
    "fig = px.bar(year_event, x=\"year\", \n",
    "             y=[\"Protests\",\"Riots\",\"Violence against civilians\",\"Battles\",\"Strategic developments\"],\n",
    "             title=\" <b> Political violence & protest events in Sudan (2010 - Dec 2024) <b>\",\n",
    "             labels={'value':'Number of Events','variable':'<b>Event Type'} ,\n",
    "            width=1000, # Width of map\n",
    "            height=600\n",
    "            )\n",
    "fig.update_layout(\n",
    "    # barmode='group',  # comment this line to see stacked bar\n",
    "    titlefont={'color':None, 'size': 15, 'family': 'San-Serif'},\n",
    "    xaxis_tickangle=0,\n",
    "    xaxis = dict(\n",
    "        tickmode = 'linear',\n",
    "        tick0 = 1,\n",
    "        dtick = 1\n",
    "    )\n",
    ")\n",
    "\n",
    "fig.show()"
   ]
  },
  {
   "cell_type": "markdown",
   "metadata": {},
   "source": [
    "**5: Univariate  Analysis**"
   ]
  },
  {
   "cell_type": "markdown",
   "metadata": {},
   "source": [
    "Number of violent incidents in Sudan have been on the rise since 2004!"
   ]
  },
  {
   "cell_type": "code",
   "execution_count": 55,
   "metadata": {},
   "outputs": [
    {
     "data": {
      "image/png": "[encoded data removed]",
      "text/plain": [
       "<Figure size 720x432 with 1 Axes>"
      ]
     },
     "metadata": {
      "needs_background": "light"
     },
     "output_type": "display_data"
    },
    {
     "name": "stdout",
     "output_type": "stream",
     "text": [
      "    year  fatalities  number_of_incidents\n",
      "0   1997       26820                 3141\n",
      "1   1998       70713                 4421\n",
      "2   1999      161840                 4758\n",
      "3   2000       23841                 4116\n",
      "4   2001       26993                 3557\n",
      "5   2002       28565                 4209\n",
      "6   2003       21346                 3654\n",
      "7   2004       19907                 3098\n",
      "8   2005        8120                 2869\n",
      "9   2006        8040                 2710\n",
      "10  2007        9904                 3838\n",
      "11  2008       11681                 5026\n",
      "12  2009       15438                 3826\n",
      "13  2010       12367                 4395\n",
      "14  2011       20763                 8121\n",
      "15  2012       18389                 9751\n",
      "16  2013       30273                14219\n",
      "17  2014       40354                16577\n",
      "18  2015       37334                16998\n",
      "19  2016       32180                17318\n",
      "20  2017       31608                17655\n",
      "21  2018       29391                20232\n",
      "22  2019       31198                26628\n",
      "23  2020       41376                33911\n",
      "24  2021       48545                36440\n",
      "25  2022       53067                38451\n",
      "26  2023       63273                43273\n",
      "27  2024       60572                44101\n"
     ]
    }
   ],
   "source": [
    "# Convert the 'event_date' column to datetime format\n",
    "df['event_date'] = pd.to_datetime(df['event_date'])\n",
    "\n",
    "# Extract the year from the 'event_date' column\n",
    "df['year'] = df['event_date'].dt.year\n",
    "\n",
    "# Group the data by year and sum the 'fatalities' and count the number of incidents\n",
    "annual_data = df.groupby('year').agg({'fatalities': 'sum', 'event_date': 'count'}).reset_index()\n",
    "annual_data.rename(columns={'event_date': 'number_of_incidents'}, inplace=True)\n",
    "\n",
    "# Create a scatter plot with a regression line to investigate the correlation\n",
    "plt.figure(figsize=(10, 6))\n",
    "sns.regplot(x='number_of_incidents', y='fatalities', data=annual_data, scatter_kws={'s': 50}, line_kws={'color': 'red'})\n",
    "plt.xlabel('Number of Incidents')\n",
    "plt.ylabel('Number of Fatalities')\n",
    "plt.title('Correlation between Frequency of Political Violence Events and Number of Fatalities in Sudan')\n",
    "plt.grid(True)\n",
    "plt.tight_layout()\n",
    "\n",
    "# Save the plot as an image file\n",
    "plt.savefig('correlation_incidents_fatalities.png')\n",
    "\n",
    "# Show the plot\n",
    "plt.show()\n",
    "\n",
    "# Display the DataFrame\n",
    "print(annual_data)"
   ]
  },
  {
   "cell_type": "code",
   "execution_count": 56,
   "metadata": {},
   "outputs": [
    {
     "data": {
      "image/png": "[encoded data removed]",
      "text/plain": [
       "<Figure size 1008x504 with 1 Axes>"
      ]
     },
     "metadata": {
      "needs_background": "light"
     },
     "output_type": "display_data"
    }
   ],
   "source": [
    "# Univariate Analysis: Line Plot for Trends Over Time\n",
    "plt.figure(figsize=(14, 7))\n",
    "sns.lineplot(x='year', y='fatalities', data=annual_data, label='Fatalities', marker='o', color='red')\n",
    "sns.lineplot(x='year', y='number_of_incidents', data=annual_data, label='Number of Incidents', marker='o', color='blue')\n",
    "plt.title(\"Trends in Sudan Fatalities and Incidents Over Time (1997-2024)\", fontsize=16)\n",
    "plt.xlabel(\"Year\", fontsize=12)\n",
    "plt.ylabel(\"Count\", fontsize=12)\n",
    "plt.legend(title=\"Metrics\", fontsize=10)\n",
    "plt.grid(True, linestyle='--', alpha=0.7)\n",
    "plt.xticks(rotation=45)\n",
    "plt.tight_layout()\n",
    "plt.show()"
   ]
  },
  {
   "cell_type": "code",
   "execution_count": 58,
   "metadata": {},
   "outputs": [
    {
     "data": {
      "image/png": "[encoded data removed]",
      "text/plain": [
       "<Figure size 1008x432 with 2 Axes>"
      ]
     },
     "metadata": {
      "needs_background": "light"
     },
     "output_type": "display_data"
    }
   ],
   "source": [
    "# Plot histograms for fatalities and number of incidents\n",
    "plt.figure(figsize=(14, 6))\n",
    "\n",
    "# Histogram for Fatalities\n",
    "plt.subplot(1, 2, 1)\n",
    "plt.hist(annual_data['fatalities'], bins=15, color='red', edgecolor='black', alpha=0.7)\n",
    "plt.title(\"Distribution of Fatalities\", fontsize=14)\n",
    "plt.xlabel(\"Fatalities\", fontsize=12)\n",
    "plt.ylabel(\"Frequency\", fontsize=12)\n",
    "plt.grid(axis='y', linestyle='--', alpha=0.7)\n",
    "\n",
    "# Histogram for Number of Incidents\n",
    "plt.subplot(1, 2, 2)\n",
    "plt.hist(annual_data['number_of_incidents'], bins=15, color='blue', edgecolor='black', alpha=0.7)\n",
    "plt.title(\"Distribution of Number of Incidents\", fontsize=14)\n",
    "plt.xlabel(\"Number of Incidents\", fontsize=12)\n",
    "plt.ylabel(\"Frequency\", fontsize=12)\n",
    "plt.grid(axis='y', linestyle='--', alpha=0.7)\n",
    "\n",
    "plt.tight_layout()\n",
    "plt.show()"
   ]
  },
  {
   "cell_type": "code",
   "execution_count": 67,
   "metadata": {},
   "outputs": [
    {
     "name": "stdout",
     "output_type": "stream",
     "text": [
      "    fatalities  number_of_incidents\n",
      "0        26820                 3141\n",
      "1        70713                 4421\n",
      "2       161840                 4758\n",
      "3        23841                 4116\n",
      "4        26993                 3557\n",
      "5        28565                 4209\n",
      "6        21346                 3654\n",
      "7        19907                 3098\n",
      "8         8120                 2869\n",
      "9         8040                 2710\n",
      "10        9904                 3838\n",
      "11       11681                 5026\n",
      "12       15438                 3826\n",
      "13       12367                 4395\n",
      "14       20763                 8121\n",
      "15       18389                 9751\n",
      "16       30273                14219\n",
      "17       40354                16577\n",
      "18       37334                16998\n",
      "19       32180                17318\n",
      "20       31608                17655\n",
      "21       29391                20232\n",
      "22       31198                26628\n",
      "23       41376                33911\n",
      "24       48545                36440\n",
      "25       53067                38451\n",
      "26       63273                43273\n",
      "27       60572                44101\n"
     ]
    }
   ],
   "source": [
    "# Create a new DataFrame with columns containing: fatalities, number_of_incidents\n",
    "new_df = annual_data[['fatalities', 'number_of_incidents']].reset_index(drop=True)\n",
    "\n",
    "# Display the new DataFrame\n",
    "print(new_df)"
   ]
  },
  {
   "cell_type": "code",
   "execution_count": 60,
   "metadata": {},
   "outputs": [
    {
     "data": {
      "image/png": "[encoded data removed]",
      "text/plain": [
       "<Figure size 720x432 with 1 Axes>"
      ]
     },
     "metadata": {
      "needs_background": "light"
     },
     "output_type": "display_data"
    },
    {
     "name": "stdout",
     "output_type": "stream",
     "text": [
      "    fatalities  number_of_incidents\n",
      "0        26820                 3141\n",
      "1        70713                 4421\n",
      "2       161840                 4758\n",
      "3        23841                 4116\n",
      "4        26993                 3557\n",
      "5        28565                 4209\n",
      "6        21346                 3654\n",
      "7        19907                 3098\n",
      "8         8120                 2869\n",
      "9         8040                 2710\n",
      "10        9904                 3838\n",
      "11       11681                 5026\n",
      "12       15438                 3826\n",
      "13       12367                 4395\n",
      "14       20763                 8121\n",
      "15       18389                 9751\n",
      "16       30273                14219\n",
      "17       40354                16577\n",
      "18       37334                16998\n",
      "19       32180                17318\n",
      "20       31608                17655\n",
      "21       29391                20232\n",
      "22       31198                26628\n",
      "23       41376                33911\n",
      "24       48545                36440\n",
      "25       53067                38451\n",
      "26       63273                43273\n",
      "27       60572                44101\n"
     ]
    }
   ],
   "source": [
    "# Create a new DataFrame with columns containing: fatalities, number_of_incidents\n",
    "new_df = annual_data[['fatalities', 'number_of_incidents']].reset_index(drop=True)\n",
    "\n",
    "# Create a scatter plot with a regression line to investigate the correlation\n",
    "plt.figure(figsize=(10, 6))\n",
    "sns.regplot(x='number_of_incidents', y='fatalities', data=new_df, scatter_kws={'s': 50}, line_kws={'color': 'red'})\n",
    "plt.xlabel('Number of Incidents')\n",
    "plt.ylabel('Number of Fatalities')\n",
    "plt.title('Correlation between Frequency of Political Violence Events and Number of Fatalities in Sudan')\n",
    "plt.grid(True)\n",
    "plt.tight_layout()\n",
    "\n",
    "# Show the plot\n",
    "plt.show()\n",
    "\n",
    "# Display the DataFrame\n",
    "print(new_df)"
   ]
  },
  {
   "cell_type": "markdown",
   "metadata": {},
   "source": [
    "\n",
    "\n",
    "**5: Multivariate Analysis**"
   ]
  },
  {
   "cell_type": "code",
   "execution_count": 61,
   "metadata": {},
   "outputs": [
    {
     "data": {
      "text/html": [
       "<div>\n",
       "<style scoped>\n",
       "    .dataframe tbody tr th:only-of-type {\n",
       "        vertical-align: middle;\n",
       "    }\n",
       "\n",
       "    .dataframe tbody tr th {\n",
       "        vertical-align: top;\n",
       "    }\n",
       "\n",
       "    .dataframe thead th {\n",
       "        text-align: right;\n",
       "    }\n",
       "</style>\n",
       "<table border=\"1\" class=\"dataframe\">\n",
       "  <thead>\n",
       "    <tr style=\"text-align: right;\">\n",
       "      <th></th>\n",
       "      <th>year</th>\n",
       "      <th>time_precision</th>\n",
       "      <th>iso</th>\n",
       "      <th>latitude</th>\n",
       "      <th>longitude</th>\n",
       "      <th>geo_precision</th>\n",
       "      <th>fatalities</th>\n",
       "      <th>timestamp</th>\n",
       "    </tr>\n",
       "  </thead>\n",
       "  <tbody>\n",
       "    <tr>\n",
       "      <th>year</th>\n",
       "      <td>1.000000</td>\n",
       "      <td>-0.050513</td>\n",
       "      <td>0.052214</td>\n",
       "      <td>0.242973</td>\n",
       "      <td>0.284568</td>\n",
       "      <td>-0.112340</td>\n",
       "      <td>-0.135153</td>\n",
       "      <td>0.692977</td>\n",
       "    </tr>\n",
       "    <tr>\n",
       "      <th>time_precision</th>\n",
       "      <td>-0.050513</td>\n",
       "      <td>1.000000</td>\n",
       "      <td>-0.012884</td>\n",
       "      <td>-0.167011</td>\n",
       "      <td>-0.012207</td>\n",
       "      <td>0.144842</td>\n",
       "      <td>0.005543</td>\n",
       "      <td>-0.058306</td>\n",
       "    </tr>\n",
       "    <tr>\n",
       "      <th>iso</th>\n",
       "      <td>0.052214</td>\n",
       "      <td>-0.012884</td>\n",
       "      <td>1.000000</td>\n",
       "      <td>0.089017</td>\n",
       "      <td>0.037073</td>\n",
       "      <td>-0.040948</td>\n",
       "      <td>0.003055</td>\n",
       "      <td>0.028996</td>\n",
       "    </tr>\n",
       "    <tr>\n",
       "      <th>latitude</th>\n",
       "      <td>0.242973</td>\n",
       "      <td>-0.167011</td>\n",
       "      <td>0.089017</td>\n",
       "      <td>1.000000</td>\n",
       "      <td>0.044606</td>\n",
       "      <td>-0.233243</td>\n",
       "      <td>-0.061983</td>\n",
       "      <td>0.331674</td>\n",
       "    </tr>\n",
       "    <tr>\n",
       "      <th>longitude</th>\n",
       "      <td>0.284568</td>\n",
       "      <td>-0.012207</td>\n",
       "      <td>0.037073</td>\n",
       "      <td>0.044606</td>\n",
       "      <td>1.000000</td>\n",
       "      <td>-0.119295</td>\n",
       "      <td>-0.036191</td>\n",
       "      <td>0.365096</td>\n",
       "    </tr>\n",
       "    <tr>\n",
       "      <th>geo_precision</th>\n",
       "      <td>-0.112340</td>\n",
       "      <td>0.144842</td>\n",
       "      <td>-0.040948</td>\n",
       "      <td>-0.233243</td>\n",
       "      <td>-0.119295</td>\n",
       "      <td>1.000000</td>\n",
       "      <td>0.021321</td>\n",
       "      <td>-0.168756</td>\n",
       "    </tr>\n",
       "    <tr>\n",
       "      <th>fatalities</th>\n",
       "      <td>-0.135153</td>\n",
       "      <td>0.005543</td>\n",
       "      <td>0.003055</td>\n",
       "      <td>-0.061983</td>\n",
       "      <td>-0.036191</td>\n",
       "      <td>0.021321</td>\n",
       "      <td>1.000000</td>\n",
       "      <td>-0.058811</td>\n",
       "    </tr>\n",
       "    <tr>\n",
       "      <th>timestamp</th>\n",
       "      <td>0.692977</td>\n",
       "      <td>-0.058306</td>\n",
       "      <td>0.028996</td>\n",
       "      <td>0.331674</td>\n",
       "      <td>0.365096</td>\n",
       "      <td>-0.168756</td>\n",
       "      <td>-0.058811</td>\n",
       "      <td>1.000000</td>\n",
       "    </tr>\n",
       "  </tbody>\n",
       "</table>\n",
       "</div>"
      ],
      "text/plain": [
       "                    year  time_precision       iso  latitude  longitude  \\\n",
       "year            1.000000       -0.050513  0.052214  0.242973   0.284568   \n",
       "time_precision -0.050513        1.000000 -0.012884 -0.167011  -0.012207   \n",
       "iso             0.052214       -0.012884  1.000000  0.089017   0.037073   \n",
       "latitude        0.242973       -0.167011  0.089017  1.000000   0.044606   \n",
       "longitude       0.284568       -0.012207  0.037073  0.044606   1.000000   \n",
       "geo_precision  -0.112340        0.144842 -0.040948 -0.233243  -0.119295   \n",
       "fatalities     -0.135153        0.005543  0.003055 -0.061983  -0.036191   \n",
       "timestamp       0.692977       -0.058306  0.028996  0.331674   0.365096   \n",
       "\n",
       "                geo_precision  fatalities  timestamp  \n",
       "year                -0.112340   -0.135153   0.692977  \n",
       "time_precision       0.144842    0.005543  -0.058306  \n",
       "iso                 -0.040948    0.003055   0.028996  \n",
       "latitude            -0.233243   -0.061983   0.331674  \n",
       "longitude           -0.119295   -0.036191   0.365096  \n",
       "geo_precision        1.000000    0.021321  -0.168756  \n",
       "fatalities           0.021321    1.000000  -0.058811  \n",
       "timestamp           -0.168756   -0.058811   1.000000  "
      ]
     },
     "execution_count": 61,
     "metadata": {},
     "output_type": "execute_result"
    }
   ],
   "source": [
    "correlation = df_2.corr()\n",
    "correlation"
   ]
  },
  {
   "cell_type": "code",
   "execution_count": 62,
   "metadata": {},
   "outputs": [
    {
     "data": {
      "text/plain": [
       "<AxesSubplot:>"
      ]
     },
     "execution_count": 62,
     "metadata": {},
     "output_type": "execute_result"
    },
    {
     "data": {
      "image/png": "[encoded data removed]",
      "text/plain": [
       "<Figure size 864x504 with 2 Axes>"
      ]
     },
     "metadata": {
      "needs_background": "light"
     },
     "output_type": "display_data"
    }
   ],
   "source": [
    "#### Visualizing correlation\n",
    "\n",
    "plt.figure(figsize=(12,7))\n",
    "\n",
    "sns.heatmap(correlation,annot=True,cmap='crest')"
   ]
  },
  {
   "cell_type": "markdown",
   "metadata": {},
   "source": [
    "_There is almost a weak correlation between variables_.\n",
    "\n",
    "_Only Iso and latitude have strong correlation_."
   ]
  },
  {
   "cell_type": "markdown",
   "metadata": {},
   "source": [
    "**6: Statistical modelling and forecasting**"
   ]
  },
  {
   "cell_type": "code",
   "execution_count": 81,
   "metadata": {},
   "outputs": [
    {
     "data": {
      "text/html": [
       "<div>\n",
       "<style scoped>\n",
       "    .dataframe tbody tr th:only-of-type {\n",
       "        vertical-align: middle;\n",
       "    }\n",
       "\n",
       "    .dataframe tbody tr th {\n",
       "        vertical-align: top;\n",
       "    }\n",
       "\n",
       "    .dataframe thead th {\n",
       "        text-align: right;\n",
       "    }\n",
       "</style>\n",
       "<table border=\"1\" class=\"dataframe\">\n",
       "  <thead>\n",
       "    <tr style=\"text-align: right;\">\n",
       "      <th></th>\n",
       "      <th>year</th>\n",
       "      <th>fatalities</th>\n",
       "      <th>number_of_incidents</th>\n",
       "    </tr>\n",
       "  </thead>\n",
       "  <tbody>\n",
       "    <tr>\n",
       "      <th>0</th>\n",
       "      <td>1997</td>\n",
       "      <td>26820</td>\n",
       "      <td>3141</td>\n",
       "    </tr>\n",
       "    <tr>\n",
       "      <th>1</th>\n",
       "      <td>1998</td>\n",
       "      <td>70713</td>\n",
       "      <td>4421</td>\n",
       "    </tr>\n",
       "    <tr>\n",
       "      <th>2</th>\n",
       "      <td>1999</td>\n",
       "      <td>161840</td>\n",
       "      <td>4758</td>\n",
       "    </tr>\n",
       "    <tr>\n",
       "      <th>3</th>\n",
       "      <td>2000</td>\n",
       "      <td>23841</td>\n",
       "      <td>4116</td>\n",
       "    </tr>\n",
       "    <tr>\n",
       "      <th>4</th>\n",
       "      <td>2001</td>\n",
       "      <td>26993</td>\n",
       "      <td>3557</td>\n",
       "    </tr>\n",
       "    <tr>\n",
       "      <th>5</th>\n",
       "      <td>2002</td>\n",
       "      <td>28565</td>\n",
       "      <td>4209</td>\n",
       "    </tr>\n",
       "    <tr>\n",
       "      <th>6</th>\n",
       "      <td>2003</td>\n",
       "      <td>21346</td>\n",
       "      <td>3654</td>\n",
       "    </tr>\n",
       "    <tr>\n",
       "      <th>7</th>\n",
       "      <td>2004</td>\n",
       "      <td>19907</td>\n",
       "      <td>3098</td>\n",
       "    </tr>\n",
       "    <tr>\n",
       "      <th>8</th>\n",
       "      <td>2005</td>\n",
       "      <td>8120</td>\n",
       "      <td>2869</td>\n",
       "    </tr>\n",
       "    <tr>\n",
       "      <th>9</th>\n",
       "      <td>2006</td>\n",
       "      <td>8040</td>\n",
       "      <td>2710</td>\n",
       "    </tr>\n",
       "    <tr>\n",
       "      <th>10</th>\n",
       "      <td>2007</td>\n",
       "      <td>9904</td>\n",
       "      <td>3838</td>\n",
       "    </tr>\n",
       "    <tr>\n",
       "      <th>11</th>\n",
       "      <td>2008</td>\n",
       "      <td>11681</td>\n",
       "      <td>5026</td>\n",
       "    </tr>\n",
       "    <tr>\n",
       "      <th>12</th>\n",
       "      <td>2009</td>\n",
       "      <td>15438</td>\n",
       "      <td>3826</td>\n",
       "    </tr>\n",
       "    <tr>\n",
       "      <th>13</th>\n",
       "      <td>2010</td>\n",
       "      <td>12367</td>\n",
       "      <td>4395</td>\n",
       "    </tr>\n",
       "    <tr>\n",
       "      <th>14</th>\n",
       "      <td>2011</td>\n",
       "      <td>20763</td>\n",
       "      <td>8121</td>\n",
       "    </tr>\n",
       "    <tr>\n",
       "      <th>15</th>\n",
       "      <td>2012</td>\n",
       "      <td>18389</td>\n",
       "      <td>9751</td>\n",
       "    </tr>\n",
       "    <tr>\n",
       "      <th>16</th>\n",
       "      <td>2013</td>\n",
       "      <td>30273</td>\n",
       "      <td>14219</td>\n",
       "    </tr>\n",
       "    <tr>\n",
       "      <th>17</th>\n",
       "      <td>2014</td>\n",
       "      <td>40354</td>\n",
       "      <td>16577</td>\n",
       "    </tr>\n",
       "    <tr>\n",
       "      <th>18</th>\n",
       "      <td>2015</td>\n",
       "      <td>37334</td>\n",
       "      <td>16998</td>\n",
       "    </tr>\n",
       "    <tr>\n",
       "      <th>19</th>\n",
       "      <td>2016</td>\n",
       "      <td>32180</td>\n",
       "      <td>17318</td>\n",
       "    </tr>\n",
       "    <tr>\n",
       "      <th>20</th>\n",
       "      <td>2017</td>\n",
       "      <td>31608</td>\n",
       "      <td>17655</td>\n",
       "    </tr>\n",
       "    <tr>\n",
       "      <th>21</th>\n",
       "      <td>2018</td>\n",
       "      <td>29391</td>\n",
       "      <td>20232</td>\n",
       "    </tr>\n",
       "    <tr>\n",
       "      <th>22</th>\n",
       "      <td>2019</td>\n",
       "      <td>31198</td>\n",
       "      <td>26628</td>\n",
       "    </tr>\n",
       "    <tr>\n",
       "      <th>23</th>\n",
       "      <td>2020</td>\n",
       "      <td>41376</td>\n",
       "      <td>33911</td>\n",
       "    </tr>\n",
       "    <tr>\n",
       "      <th>24</th>\n",
       "      <td>2021</td>\n",
       "      <td>48545</td>\n",
       "      <td>36440</td>\n",
       "    </tr>\n",
       "    <tr>\n",
       "      <th>25</th>\n",
       "      <td>2022</td>\n",
       "      <td>53067</td>\n",
       "      <td>38451</td>\n",
       "    </tr>\n",
       "    <tr>\n",
       "      <th>26</th>\n",
       "      <td>2023</td>\n",
       "      <td>63273</td>\n",
       "      <td>43273</td>\n",
       "    </tr>\n",
       "    <tr>\n",
       "      <th>27</th>\n",
       "      <td>2024</td>\n",
       "      <td>60572</td>\n",
       "      <td>44101</td>\n",
       "    </tr>\n",
       "  </tbody>\n",
       "</table>\n",
       "</div>"
      ],
      "text/plain": [
       "    year  fatalities  number_of_incidents\n",
       "0   1997       26820                 3141\n",
       "1   1998       70713                 4421\n",
       "2   1999      161840                 4758\n",
       "3   2000       23841                 4116\n",
       "4   2001       26993                 3557\n",
       "5   2002       28565                 4209\n",
       "6   2003       21346                 3654\n",
       "7   2004       19907                 3098\n",
       "8   2005        8120                 2869\n",
       "9   2006        8040                 2710\n",
       "10  2007        9904                 3838\n",
       "11  2008       11681                 5026\n",
       "12  2009       15438                 3826\n",
       "13  2010       12367                 4395\n",
       "14  2011       20763                 8121\n",
       "15  2012       18389                 9751\n",
       "16  2013       30273                14219\n",
       "17  2014       40354                16577\n",
       "18  2015       37334                16998\n",
       "19  2016       32180                17318\n",
       "20  2017       31608                17655\n",
       "21  2018       29391                20232\n",
       "22  2019       31198                26628\n",
       "23  2020       41376                33911\n",
       "24  2021       48545                36440\n",
       "25  2022       53067                38451\n",
       "26  2023       63273                43273\n",
       "27  2024       60572                44101"
      ]
     },
     "execution_count": 81,
     "metadata": {},
     "output_type": "execute_result"
    }
   ],
   "source": [
    "#From annual data let's try to predict the future fatalities and number_of_incidents\n",
    "annual_data"
   ]
  },
  {
   "cell_type": "code",
   "execution_count": 92,
   "metadata": {},
   "outputs": [
    {
     "data": {
      "text/plain": [
       "0      3141\n",
       "1      4421\n",
       "2      4758\n",
       "3      4116\n",
       "4      3557\n",
       "5      4209\n",
       "6      3654\n",
       "7      3098\n",
       "8      2869\n",
       "9      2710\n",
       "10     3838\n",
       "11     5026\n",
       "12     3826\n",
       "13     4395\n",
       "14     8121\n",
       "15     9751\n",
       "16    14219\n",
       "17    16577\n",
       "18    16998\n",
       "19    17318\n",
       "20    17655\n",
       "21    20232\n",
       "22    26628\n",
       "23    33911\n",
       "24    36440\n",
       "25    38451\n",
       "26    43273\n",
       "27    44101\n",
       "Name: number_of_incidents, dtype: int64"
      ]
     },
     "execution_count": 92,
     "metadata": {},
     "output_type": "execute_result"
    }
   ],
   "source": [
    "y = annual_data['fatalities']\n",
    "x = annual_data['number_of_incidents']\n",
    "x"
   ]
  },
  {
   "cell_type": "code",
   "execution_count": 95,
   "metadata": {},
   "outputs": [
    {
     "data": {
      "text/plain": [
       "<AxesSubplot:xlabel='fatalities', ylabel='Density'>"
      ]
     },
     "execution_count": 95,
     "metadata": {},
     "output_type": "execute_result"
    },
    {
     "data": {
      "image/png": "[encoded data removed]",
      "text/plain": [
       "<Figure size 432x288 with 1 Axes>"
      ]
     },
     "metadata": {},
     "output_type": "display_data"
    }
   ],
   "source": [
    "sns.kdeplot(x=annual_data[\"fatalities\"])"
   ]
  },
  {
   "cell_type": "code",
   "execution_count": 100,
   "metadata": {},
   "outputs": [
    {
     "data": {
      "text/plain": [
       "<AxesSubplot:xlabel='number_of_incidents', ylabel='Density'>"
      ]
     },
     "execution_count": 100,
     "metadata": {},
     "output_type": "execute_result"
    },
    {
     "data": {
      "image/png": "[encoded data removed]",
      "text/plain": [
       "<Figure size 432x288 with 1 Axes>"
      ]
     },
     "metadata": {},
     "output_type": "display_data"
    }
   ],
   "source": [
    "sns.kdeplot(x=annual_data[\"number_of_incidents\"])"
   ]
  },
  {
   "cell_type": "markdown",
   "metadata": {},
   "source": [
    "## Statsmodel test"
   ]
  },
  {
   "cell_type": "code",
   "execution_count": 103,
   "metadata": {},
   "outputs": [
    {
     "name": "stdout",
     "output_type": "stream",
     "text": [
      "                            OLS Regression Results                            \n",
      "==============================================================================\n",
      "Dep. Variable:             fatalities   R-squared:                       0.082\n",
      "Model:                            OLS   Adj. R-squared:                  0.047\n",
      "Method:                 Least Squares   F-statistic:                     2.336\n",
      "Date:                Tue, 17 Dec 2024   Prob (F-statistic):              0.138\n",
      "Time:                        14:02:19   Log-Likelihood:                -326.61\n",
      "No. Observations:                  28   AIC:                             657.2\n",
      "Df Residuals:                      26   BIC:                             659.9\n",
      "Df Model:                           1                                         \n",
      "Covariance Type:            nonrobust                                         \n",
      "=======================================================================================\n",
      "                          coef    std err          t      P>|t|      [0.025      0.975]\n",
      "---------------------------------------------------------------------------------------\n",
      "const                2.618e+04   8052.517      3.251      0.003    9628.799    4.27e+04\n",
      "number_of_incidents     0.6313      0.413      1.529      0.138      -0.218       1.480\n",
      "==============================================================================\n",
      "Omnibus:                       53.570   Durbin-Watson:                   1.337\n",
      "Prob(Omnibus):                  0.000   Jarque-Bera (JB):              322.554\n",
      "Skew:                           3.784   Prob(JB):                     9.08e-71\n",
      "Kurtosis:                      17.805   Cond. No.                     2.84e+04\n",
      "==============================================================================\n",
      "\n",
      "Notes:\n",
      "[1] Standard Errors assume that the covariance matrix of the errors is correctly specified.\n",
      "[2] The condition number is large, 2.84e+04. This might indicate that there are\n",
      "strong multicollinearity or other numerical problems.\n"
     ]
    }
   ],
   "source": [
    "import statsmodels.api as sm\n",
    "\n",
    "y = annual_data['fatalities']\n",
    "x = annual_data['number_of_incidents']\n",
    "\n",
    "model = sm.OLS(y, sm.add_constant(x))\n",
    "results = model.fit()\n",
    "\n",
    "print(results.summary())"
   ]
  },
  {
   "cell_type": "markdown",
   "metadata": {},
   "source": [
    "_The model explains a small portion of the variance in fatalities and is not statistically significant._\n",
    "\n",
    "_The coefficient for number_of_incidents is not significant, suggesting that it may not be a strong predictor of fatalities._\n",
    "\n",
    "_Additionally, the diagnostics indicate potential issues with normality and autocorrelation in the residuals._"
   ]
  },
  {
   "cell_type": "code",
   "execution_count": 106,
   "metadata": {},
   "outputs": [
    {
     "data": {
      "text/plain": [
       "14103.855123759698"
      ]
     },
     "execution_count": 106,
     "metadata": {},
     "output_type": "execute_result"
    }
   ],
   "source": [
    "#Calculating error_based Metrics\n",
    "\n",
    "from sklearn.metrics import mean_absolute_error\n",
    "\n",
    "y_pred = results.predict(sm.add_constant(x))\n",
    "mean_absolute_error(y, y_pred)"
   ]
  },
  {
   "cell_type": "code",
   "execution_count": null,
   "metadata": {},
   "outputs": [],
   "source": []
  }
 ],
 "metadata": {
  "kernelspec": {
   "display_name": "base",
   "language": "python",
   "name": "python3"
  },
  "language_info": {
   "codemirror_mode": {
    "name": "ipython",
    "version": 3
   },
   "file_extension": ".py",
   "mimetype": "text/x-python",
   "name": "python",
   "nbconvert_exporter": "python",
   "pygments_lexer": "ipython3",
   "version": "3.11.7"
  }
 },
 "nbformat": 4,
 "nbformat_minor": 4
}
